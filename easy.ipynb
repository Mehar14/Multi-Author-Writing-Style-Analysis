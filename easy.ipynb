{
  "nbformat": 4,
  "nbformat_minor": 0,
  "metadata": {
    "colab": {
      "provenance": [],
      "gpuType": "T4"
    },
    "kernelspec": {
      "name": "python3",
      "display_name": "Python 3"
    },
    "language_info": {
      "name": "python"
    },
    "accelerator": "GPU",
    "widgets": {
      "application/vnd.jupyter.widget-state+json": {
        "46069e90b43e4b9d82080b22f53604e2": {
          "model_module": "@jupyter-widgets/controls",
          "model_name": "HBoxModel",
          "model_module_version": "1.5.0",
          "state": {
            "_dom_classes": [],
            "_model_module": "@jupyter-widgets/controls",
            "_model_module_version": "1.5.0",
            "_model_name": "HBoxModel",
            "_view_count": null,
            "_view_module": "@jupyter-widgets/controls",
            "_view_module_version": "1.5.0",
            "_view_name": "HBoxView",
            "box_style": "",
            "children": [
              "IPY_MODEL_ec29d10d9b7e4cdbb3f3f99442bcd106",
              "IPY_MODEL_e1273bc633624da08bb3899bf80618c2",
              "IPY_MODEL_28dec07fff7842829770efc82d653d33"
            ],
            "layout": "IPY_MODEL_dd29f9077147446283c7ec8d4d14e4ae"
          }
        },
        "ec29d10d9b7e4cdbb3f3f99442bcd106": {
          "model_module": "@jupyter-widgets/controls",
          "model_name": "HTMLModel",
          "model_module_version": "1.5.0",
          "state": {
            "_dom_classes": [],
            "_model_module": "@jupyter-widgets/controls",
            "_model_module_version": "1.5.0",
            "_model_name": "HTMLModel",
            "_view_count": null,
            "_view_module": "@jupyter-widgets/controls",
            "_view_module_version": "1.5.0",
            "_view_name": "HTMLView",
            "description": "",
            "description_tooltip": null,
            "layout": "IPY_MODEL_b704c011b4d842d7878b22ad160c71f3",
            "placeholder": "​",
            "style": "IPY_MODEL_5825514ac37f4cb4bab199a6e1a92813",
            "value": "config.json: 100%"
          }
        },
        "e1273bc633624da08bb3899bf80618c2": {
          "model_module": "@jupyter-widgets/controls",
          "model_name": "FloatProgressModel",
          "model_module_version": "1.5.0",
          "state": {
            "_dom_classes": [],
            "_model_module": "@jupyter-widgets/controls",
            "_model_module_version": "1.5.0",
            "_model_name": "FloatProgressModel",
            "_view_count": null,
            "_view_module": "@jupyter-widgets/controls",
            "_view_module_version": "1.5.0",
            "_view_name": "ProgressView",
            "bar_style": "success",
            "description": "",
            "description_tooltip": null,
            "layout": "IPY_MODEL_8abfd80a91904058a2bd326ad7991839",
            "max": 481,
            "min": 0,
            "orientation": "horizontal",
            "style": "IPY_MODEL_68afd9a3d330445596832fde2098dfe0",
            "value": 481
          }
        },
        "28dec07fff7842829770efc82d653d33": {
          "model_module": "@jupyter-widgets/controls",
          "model_name": "HTMLModel",
          "model_module_version": "1.5.0",
          "state": {
            "_dom_classes": [],
            "_model_module": "@jupyter-widgets/controls",
            "_model_module_version": "1.5.0",
            "_model_name": "HTMLModel",
            "_view_count": null,
            "_view_module": "@jupyter-widgets/controls",
            "_view_module_version": "1.5.0",
            "_view_name": "HTMLView",
            "description": "",
            "description_tooltip": null,
            "layout": "IPY_MODEL_566da3c765c54f4c870ac5f51257cd2f",
            "placeholder": "​",
            "style": "IPY_MODEL_03cba643a2b640f0bcb39e15c7750475",
            "value": " 481/481 [00:00&lt;00:00, 9.16kB/s]"
          }
        },
        "dd29f9077147446283c7ec8d4d14e4ae": {
          "model_module": "@jupyter-widgets/base",
          "model_name": "LayoutModel",
          "model_module_version": "1.2.0",
          "state": {
            "_model_module": "@jupyter-widgets/base",
            "_model_module_version": "1.2.0",
            "_model_name": "LayoutModel",
            "_view_count": null,
            "_view_module": "@jupyter-widgets/base",
            "_view_module_version": "1.2.0",
            "_view_name": "LayoutView",
            "align_content": null,
            "align_items": null,
            "align_self": null,
            "border": null,
            "bottom": null,
            "display": null,
            "flex": null,
            "flex_flow": null,
            "grid_area": null,
            "grid_auto_columns": null,
            "grid_auto_flow": null,
            "grid_auto_rows": null,
            "grid_column": null,
            "grid_gap": null,
            "grid_row": null,
            "grid_template_areas": null,
            "grid_template_columns": null,
            "grid_template_rows": null,
            "height": null,
            "justify_content": null,
            "justify_items": null,
            "left": null,
            "margin": null,
            "max_height": null,
            "max_width": null,
            "min_height": null,
            "min_width": null,
            "object_fit": null,
            "object_position": null,
            "order": null,
            "overflow": null,
            "overflow_x": null,
            "overflow_y": null,
            "padding": null,
            "right": null,
            "top": null,
            "visibility": null,
            "width": null
          }
        },
        "b704c011b4d842d7878b22ad160c71f3": {
          "model_module": "@jupyter-widgets/base",
          "model_name": "LayoutModel",
          "model_module_version": "1.2.0",
          "state": {
            "_model_module": "@jupyter-widgets/base",
            "_model_module_version": "1.2.0",
            "_model_name": "LayoutModel",
            "_view_count": null,
            "_view_module": "@jupyter-widgets/base",
            "_view_module_version": "1.2.0",
            "_view_name": "LayoutView",
            "align_content": null,
            "align_items": null,
            "align_self": null,
            "border": null,
            "bottom": null,
            "display": null,
            "flex": null,
            "flex_flow": null,
            "grid_area": null,
            "grid_auto_columns": null,
            "grid_auto_flow": null,
            "grid_auto_rows": null,
            "grid_column": null,
            "grid_gap": null,
            "grid_row": null,
            "grid_template_areas": null,
            "grid_template_columns": null,
            "grid_template_rows": null,
            "height": null,
            "justify_content": null,
            "justify_items": null,
            "left": null,
            "margin": null,
            "max_height": null,
            "max_width": null,
            "min_height": null,
            "min_width": null,
            "object_fit": null,
            "object_position": null,
            "order": null,
            "overflow": null,
            "overflow_x": null,
            "overflow_y": null,
            "padding": null,
            "right": null,
            "top": null,
            "visibility": null,
            "width": null
          }
        },
        "5825514ac37f4cb4bab199a6e1a92813": {
          "model_module": "@jupyter-widgets/controls",
          "model_name": "DescriptionStyleModel",
          "model_module_version": "1.5.0",
          "state": {
            "_model_module": "@jupyter-widgets/controls",
            "_model_module_version": "1.5.0",
            "_model_name": "DescriptionStyleModel",
            "_view_count": null,
            "_view_module": "@jupyter-widgets/base",
            "_view_module_version": "1.2.0",
            "_view_name": "StyleView",
            "description_width": ""
          }
        },
        "8abfd80a91904058a2bd326ad7991839": {
          "model_module": "@jupyter-widgets/base",
          "model_name": "LayoutModel",
          "model_module_version": "1.2.0",
          "state": {
            "_model_module": "@jupyter-widgets/base",
            "_model_module_version": "1.2.0",
            "_model_name": "LayoutModel",
            "_view_count": null,
            "_view_module": "@jupyter-widgets/base",
            "_view_module_version": "1.2.0",
            "_view_name": "LayoutView",
            "align_content": null,
            "align_items": null,
            "align_self": null,
            "border": null,
            "bottom": null,
            "display": null,
            "flex": null,
            "flex_flow": null,
            "grid_area": null,
            "grid_auto_columns": null,
            "grid_auto_flow": null,
            "grid_auto_rows": null,
            "grid_column": null,
            "grid_gap": null,
            "grid_row": null,
            "grid_template_areas": null,
            "grid_template_columns": null,
            "grid_template_rows": null,
            "height": null,
            "justify_content": null,
            "justify_items": null,
            "left": null,
            "margin": null,
            "max_height": null,
            "max_width": null,
            "min_height": null,
            "min_width": null,
            "object_fit": null,
            "object_position": null,
            "order": null,
            "overflow": null,
            "overflow_x": null,
            "overflow_y": null,
            "padding": null,
            "right": null,
            "top": null,
            "visibility": null,
            "width": null
          }
        },
        "68afd9a3d330445596832fde2098dfe0": {
          "model_module": "@jupyter-widgets/controls",
          "model_name": "ProgressStyleModel",
          "model_module_version": "1.5.0",
          "state": {
            "_model_module": "@jupyter-widgets/controls",
            "_model_module_version": "1.5.0",
            "_model_name": "ProgressStyleModel",
            "_view_count": null,
            "_view_module": "@jupyter-widgets/base",
            "_view_module_version": "1.2.0",
            "_view_name": "StyleView",
            "bar_color": null,
            "description_width": ""
          }
        },
        "566da3c765c54f4c870ac5f51257cd2f": {
          "model_module": "@jupyter-widgets/base",
          "model_name": "LayoutModel",
          "model_module_version": "1.2.0",
          "state": {
            "_model_module": "@jupyter-widgets/base",
            "_model_module_version": "1.2.0",
            "_model_name": "LayoutModel",
            "_view_count": null,
            "_view_module": "@jupyter-widgets/base",
            "_view_module_version": "1.2.0",
            "_view_name": "LayoutView",
            "align_content": null,
            "align_items": null,
            "align_self": null,
            "border": null,
            "bottom": null,
            "display": null,
            "flex": null,
            "flex_flow": null,
            "grid_area": null,
            "grid_auto_columns": null,
            "grid_auto_flow": null,
            "grid_auto_rows": null,
            "grid_column": null,
            "grid_gap": null,
            "grid_row": null,
            "grid_template_areas": null,
            "grid_template_columns": null,
            "grid_template_rows": null,
            "height": null,
            "justify_content": null,
            "justify_items": null,
            "left": null,
            "margin": null,
            "max_height": null,
            "max_width": null,
            "min_height": null,
            "min_width": null,
            "object_fit": null,
            "object_position": null,
            "order": null,
            "overflow": null,
            "overflow_x": null,
            "overflow_y": null,
            "padding": null,
            "right": null,
            "top": null,
            "visibility": null,
            "width": null
          }
        },
        "03cba643a2b640f0bcb39e15c7750475": {
          "model_module": "@jupyter-widgets/controls",
          "model_name": "DescriptionStyleModel",
          "model_module_version": "1.5.0",
          "state": {
            "_model_module": "@jupyter-widgets/controls",
            "_model_module_version": "1.5.0",
            "_model_name": "DescriptionStyleModel",
            "_view_count": null,
            "_view_module": "@jupyter-widgets/base",
            "_view_module_version": "1.2.0",
            "_view_name": "StyleView",
            "description_width": ""
          }
        },
        "7456abdbc36e4a9e89bc795557ffb551": {
          "model_module": "@jupyter-widgets/controls",
          "model_name": "HBoxModel",
          "model_module_version": "1.5.0",
          "state": {
            "_dom_classes": [],
            "_model_module": "@jupyter-widgets/controls",
            "_model_module_version": "1.5.0",
            "_model_name": "HBoxModel",
            "_view_count": null,
            "_view_module": "@jupyter-widgets/controls",
            "_view_module_version": "1.5.0",
            "_view_name": "HBoxView",
            "box_style": "",
            "children": [
              "IPY_MODEL_ee2514d593ca4206813697f1b8f057a2",
              "IPY_MODEL_1c201894d6b64e678b788b9c0ba5d6d2",
              "IPY_MODEL_6185900920454051b03971ea382c9be2"
            ],
            "layout": "IPY_MODEL_d49666efab844c3792aeb297ff156356"
          }
        },
        "ee2514d593ca4206813697f1b8f057a2": {
          "model_module": "@jupyter-widgets/controls",
          "model_name": "HTMLModel",
          "model_module_version": "1.5.0",
          "state": {
            "_dom_classes": [],
            "_model_module": "@jupyter-widgets/controls",
            "_model_module_version": "1.5.0",
            "_model_name": "HTMLModel",
            "_view_count": null,
            "_view_module": "@jupyter-widgets/controls",
            "_view_module_version": "1.5.0",
            "_view_name": "HTMLView",
            "description": "",
            "description_tooltip": null,
            "layout": "IPY_MODEL_891306bd1c5347fa88a5fe9c4dc6a18c",
            "placeholder": "​",
            "style": "IPY_MODEL_5454c56a4a034545bf3221d0064c1204",
            "value": "model.safetensors: 100%"
          }
        },
        "1c201894d6b64e678b788b9c0ba5d6d2": {
          "model_module": "@jupyter-widgets/controls",
          "model_name": "FloatProgressModel",
          "model_module_version": "1.5.0",
          "state": {
            "_dom_classes": [],
            "_model_module": "@jupyter-widgets/controls",
            "_model_module_version": "1.5.0",
            "_model_name": "FloatProgressModel",
            "_view_count": null,
            "_view_module": "@jupyter-widgets/controls",
            "_view_module_version": "1.5.0",
            "_view_name": "ProgressView",
            "bar_style": "success",
            "description": "",
            "description_tooltip": null,
            "layout": "IPY_MODEL_b77693b291f54a2f9835ba8b075e683a",
            "max": 498818054,
            "min": 0,
            "orientation": "horizontal",
            "style": "IPY_MODEL_9de7afa32f0f45c18e22c214fdda9b60",
            "value": 498818054
          }
        },
        "6185900920454051b03971ea382c9be2": {
          "model_module": "@jupyter-widgets/controls",
          "model_name": "HTMLModel",
          "model_module_version": "1.5.0",
          "state": {
            "_dom_classes": [],
            "_model_module": "@jupyter-widgets/controls",
            "_model_module_version": "1.5.0",
            "_model_name": "HTMLModel",
            "_view_count": null,
            "_view_module": "@jupyter-widgets/controls",
            "_view_module_version": "1.5.0",
            "_view_name": "HTMLView",
            "description": "",
            "description_tooltip": null,
            "layout": "IPY_MODEL_8698df17ab874eb4bac0d9cbcaa9132d",
            "placeholder": "​",
            "style": "IPY_MODEL_b1ba0cb3e53949ada1c7080c2326de3c",
            "value": " 499M/499M [00:08&lt;00:00, 62.5MB/s]"
          }
        },
        "d49666efab844c3792aeb297ff156356": {
          "model_module": "@jupyter-widgets/base",
          "model_name": "LayoutModel",
          "model_module_version": "1.2.0",
          "state": {
            "_model_module": "@jupyter-widgets/base",
            "_model_module_version": "1.2.0",
            "_model_name": "LayoutModel",
            "_view_count": null,
            "_view_module": "@jupyter-widgets/base",
            "_view_module_version": "1.2.0",
            "_view_name": "LayoutView",
            "align_content": null,
            "align_items": null,
            "align_self": null,
            "border": null,
            "bottom": null,
            "display": null,
            "flex": null,
            "flex_flow": null,
            "grid_area": null,
            "grid_auto_columns": null,
            "grid_auto_flow": null,
            "grid_auto_rows": null,
            "grid_column": null,
            "grid_gap": null,
            "grid_row": null,
            "grid_template_areas": null,
            "grid_template_columns": null,
            "grid_template_rows": null,
            "height": null,
            "justify_content": null,
            "justify_items": null,
            "left": null,
            "margin": null,
            "max_height": null,
            "max_width": null,
            "min_height": null,
            "min_width": null,
            "object_fit": null,
            "object_position": null,
            "order": null,
            "overflow": null,
            "overflow_x": null,
            "overflow_y": null,
            "padding": null,
            "right": null,
            "top": null,
            "visibility": null,
            "width": null
          }
        },
        "891306bd1c5347fa88a5fe9c4dc6a18c": {
          "model_module": "@jupyter-widgets/base",
          "model_name": "LayoutModel",
          "model_module_version": "1.2.0",
          "state": {
            "_model_module": "@jupyter-widgets/base",
            "_model_module_version": "1.2.0",
            "_model_name": "LayoutModel",
            "_view_count": null,
            "_view_module": "@jupyter-widgets/base",
            "_view_module_version": "1.2.0",
            "_view_name": "LayoutView",
            "align_content": null,
            "align_items": null,
            "align_self": null,
            "border": null,
            "bottom": null,
            "display": null,
            "flex": null,
            "flex_flow": null,
            "grid_area": null,
            "grid_auto_columns": null,
            "grid_auto_flow": null,
            "grid_auto_rows": null,
            "grid_column": null,
            "grid_gap": null,
            "grid_row": null,
            "grid_template_areas": null,
            "grid_template_columns": null,
            "grid_template_rows": null,
            "height": null,
            "justify_content": null,
            "justify_items": null,
            "left": null,
            "margin": null,
            "max_height": null,
            "max_width": null,
            "min_height": null,
            "min_width": null,
            "object_fit": null,
            "object_position": null,
            "order": null,
            "overflow": null,
            "overflow_x": null,
            "overflow_y": null,
            "padding": null,
            "right": null,
            "top": null,
            "visibility": null,
            "width": null
          }
        },
        "5454c56a4a034545bf3221d0064c1204": {
          "model_module": "@jupyter-widgets/controls",
          "model_name": "DescriptionStyleModel",
          "model_module_version": "1.5.0",
          "state": {
            "_model_module": "@jupyter-widgets/controls",
            "_model_module_version": "1.5.0",
            "_model_name": "DescriptionStyleModel",
            "_view_count": null,
            "_view_module": "@jupyter-widgets/base",
            "_view_module_version": "1.2.0",
            "_view_name": "StyleView",
            "description_width": ""
          }
        },
        "b77693b291f54a2f9835ba8b075e683a": {
          "model_module": "@jupyter-widgets/base",
          "model_name": "LayoutModel",
          "model_module_version": "1.2.0",
          "state": {
            "_model_module": "@jupyter-widgets/base",
            "_model_module_version": "1.2.0",
            "_model_name": "LayoutModel",
            "_view_count": null,
            "_view_module": "@jupyter-widgets/base",
            "_view_module_version": "1.2.0",
            "_view_name": "LayoutView",
            "align_content": null,
            "align_items": null,
            "align_self": null,
            "border": null,
            "bottom": null,
            "display": null,
            "flex": null,
            "flex_flow": null,
            "grid_area": null,
            "grid_auto_columns": null,
            "grid_auto_flow": null,
            "grid_auto_rows": null,
            "grid_column": null,
            "grid_gap": null,
            "grid_row": null,
            "grid_template_areas": null,
            "grid_template_columns": null,
            "grid_template_rows": null,
            "height": null,
            "justify_content": null,
            "justify_items": null,
            "left": null,
            "margin": null,
            "max_height": null,
            "max_width": null,
            "min_height": null,
            "min_width": null,
            "object_fit": null,
            "object_position": null,
            "order": null,
            "overflow": null,
            "overflow_x": null,
            "overflow_y": null,
            "padding": null,
            "right": null,
            "top": null,
            "visibility": null,
            "width": null
          }
        },
        "9de7afa32f0f45c18e22c214fdda9b60": {
          "model_module": "@jupyter-widgets/controls",
          "model_name": "ProgressStyleModel",
          "model_module_version": "1.5.0",
          "state": {
            "_model_module": "@jupyter-widgets/controls",
            "_model_module_version": "1.5.0",
            "_model_name": "ProgressStyleModel",
            "_view_count": null,
            "_view_module": "@jupyter-widgets/base",
            "_view_module_version": "1.2.0",
            "_view_name": "StyleView",
            "bar_color": null,
            "description_width": ""
          }
        },
        "8698df17ab874eb4bac0d9cbcaa9132d": {
          "model_module": "@jupyter-widgets/base",
          "model_name": "LayoutModel",
          "model_module_version": "1.2.0",
          "state": {
            "_model_module": "@jupyter-widgets/base",
            "_model_module_version": "1.2.0",
            "_model_name": "LayoutModel",
            "_view_count": null,
            "_view_module": "@jupyter-widgets/base",
            "_view_module_version": "1.2.0",
            "_view_name": "LayoutView",
            "align_content": null,
            "align_items": null,
            "align_self": null,
            "border": null,
            "bottom": null,
            "display": null,
            "flex": null,
            "flex_flow": null,
            "grid_area": null,
            "grid_auto_columns": null,
            "grid_auto_flow": null,
            "grid_auto_rows": null,
            "grid_column": null,
            "grid_gap": null,
            "grid_row": null,
            "grid_template_areas": null,
            "grid_template_columns": null,
            "grid_template_rows": null,
            "height": null,
            "justify_content": null,
            "justify_items": null,
            "left": null,
            "margin": null,
            "max_height": null,
            "max_width": null,
            "min_height": null,
            "min_width": null,
            "object_fit": null,
            "object_position": null,
            "order": null,
            "overflow": null,
            "overflow_x": null,
            "overflow_y": null,
            "padding": null,
            "right": null,
            "top": null,
            "visibility": null,
            "width": null
          }
        },
        "b1ba0cb3e53949ada1c7080c2326de3c": {
          "model_module": "@jupyter-widgets/controls",
          "model_name": "DescriptionStyleModel",
          "model_module_version": "1.5.0",
          "state": {
            "_model_module": "@jupyter-widgets/controls",
            "_model_module_version": "1.5.0",
            "_model_name": "DescriptionStyleModel",
            "_view_count": null,
            "_view_module": "@jupyter-widgets/base",
            "_view_module_version": "1.2.0",
            "_view_name": "StyleView",
            "description_width": ""
          }
        }
      }
    }
  },
  "cells": [
    {
      "cell_type": "code",
      "execution_count": 2,
      "metadata": {
        "colab": {
          "base_uri": "https://localhost:8080/"
        },
        "id": "gP-o6PdedU-g",
        "outputId": "5e8995d2-eeb9-4ea0-a42f-82ee788c0e93"
      },
      "outputs": [
        {
          "output_type": "stream",
          "name": "stdout",
          "text": [
            "Mounted at /content/drive\n"
          ]
        }
      ],
      "source": [
        "from google.colab import drive\n",
        "import zipfile\n",
        "import os\n",
        "\n",
        "# Mount Google Drive\n",
        "drive.mount('/content/drive')\n"
      ]
    },
    {
      "cell_type": "code",
      "source": [
        "# Define paths to zip file and extraction location\n",
        "zip_file_path = '/content/drive/MyDrive/easy.zip'  # Replace with your zip file path\n",
        "extract_path = '/content/input_folder'\n",
        "\n",
        "# Extract the zip file\n",
        "with zipfile.ZipFile(zip_file_path, 'r') as zip_ref:\n",
        "    zip_ref.extractall(extract_path)\n",
        "\n",
        "print(\"Files extracted to:\", extract_path)"
      ],
      "metadata": {
        "colab": {
          "base_uri": "https://localhost:8080/"
        },
        "id": "crThmnDPdYi-",
        "outputId": "0ac52195-b636-4898-daba-8e0b9b83809e"
      },
      "execution_count": 4,
      "outputs": [
        {
          "output_type": "stream",
          "name": "stdout",
          "text": [
            "Files extracted to: /content/input_folder\n"
          ]
        }
      ]
    },
    {
      "cell_type": "code",
      "source": [
        "validation_path = '/content/input_folder/easy/validation'\n",
        "print(os.listdir(validation_path))"
      ],
      "metadata": {
        "colab": {
          "base_uri": "https://localhost:8080/"
        },
        "id": "w7q5dUFPeQs2",
        "outputId": "c496508b-878a-45b6-ef05-ad9fb0672541"
      },
      "execution_count": 6,
      "outputs": [
        {
          "output_type": "stream",
          "name": "stdout",
          "text": [
            "['problem-120.txt', 'truth-problem-678.json', 'truth-problem-713.json', 'problem-230.txt', 'problem-550.txt', 'truth-problem-779.json', 'problem-388.txt', 'problem-224.txt', 'problem-809.txt', 'problem-735.txt', 'truth-problem-706.json', 'problem-786.txt', 'truth-problem-815.json', 'problem-107.txt', 'truth-problem-477.json', 'problem-826.txt', 'problem-553.txt', 'truth-problem-374.json', 'truth-problem-16.json', 'truth-problem-87.json', 'truth-problem-268.json', 'problem-563.txt', 'problem-777.txt', 'problem-286.txt', 'problem-862.txt', 'truth-problem-128.json', 'truth-problem-250.json', 'truth-problem-843.json', 'truth-problem-693.json', 'truth-problem-497.json', 'truth-problem-327.json', 'truth-problem-401.json', 'truth-problem-33.json', 'problem-895.txt', 'truth-problem-39.json', 'problem-35.txt', 'problem-213.txt', 'truth-problem-827.json', 'problem-813.txt', 'problem-390.txt', 'problem-274.txt', 'problem-593.txt', 'problem-353.txt', 'truth-problem-734.json', 'problem-784.txt', 'problem-239.txt', 'problem-159.txt', 'truth-problem-310.json', 'problem-192.txt', 'truth-problem-76.json', 'problem-462.txt', 'truth-problem-672.json', 'truth-problem-531.json', 'truth-problem-775.json', 'truth-problem-620.json', 'problem-382.txt', 'truth-problem-721.json', 'truth-problem-3.json', 'problem-790.txt', 'truth-problem-849.json', 'truth-problem-306.json', 'problem-22.txt', 'truth-problem-520.json', 'truth-problem-490.json', 'truth-problem-14.json', 'truth-problem-150.json', 'problem-899.txt', 'problem-173.txt', 'truth-problem-162.json', 'truth-problem-425.json', 'truth-problem-533.json', 'problem-440.txt', 'truth-problem-538.json', 'problem-266.txt', 'truth-problem-781.json', 'problem-838.txt', 'problem-140.txt', 'truth-problem-900.json', 'problem-880.txt', 'problem-858.txt', 'problem-407.txt', 'truth-problem-207.json', 'problem-709.txt', 'problem-707.txt', 'problem-453.txt', 'truth-problem-146.json', 'truth-problem-153.json', 'problem-504.txt', 'problem-514.txt', 'truth-problem-582.json', 'truth-problem-369.json', 'truth-problem-103.json', 'truth-problem-461.json', 'truth-problem-341.json', 'truth-problem-375.json', 'truth-problem-460.json', 'truth-problem-126.json', 'truth-problem-844.json', 'problem-679.txt', 'truth-problem-470.json', 'problem-542.txt', 'problem-646.txt', 'problem-299.txt', 'problem-184.txt', 'truth-problem-142.json', 'truth-problem-699.json', 'truth-problem-893.json', 'problem-8.txt', 'problem-653.txt', 'truth-problem-632.json', 'problem-651.txt', 'truth-problem-880.json', 'truth-problem-55.json', 'truth-problem-44.json', 'problem-457.txt', 'problem-406.txt', 'problem-891.txt', 'truth-problem-339.json', 'problem-328.txt', 'truth-problem-6.json', 'problem-433.txt', 'truth-problem-773.json', 'truth-problem-177.json', 'problem-781.txt', 'problem-79.txt', 'problem-231.txt', 'problem-276.txt', 'problem-435.txt', 'problem-726.txt', 'truth-problem-870.json', 'truth-problem-511.json', 'problem-164.txt', 'problem-62.txt', 'problem-74.txt', 'truth-problem-240.json', 'problem-93.txt', 'truth-problem-814.json', 'problem-754.txt', 'problem-775.txt', 'truth-problem-508.json', 'problem-335.txt', 'problem-361.txt', 'problem-738.txt', 'problem-290.txt', 'truth-problem-342.json', 'problem-471.txt', 'truth-problem-61.json', 'problem-429.txt', 'truth-problem-443.json', 'truth-problem-625.json', 'truth-problem-81.json', 'problem-643.txt', 'problem-207.txt', 'truth-problem-340.json', 'truth-problem-320.json', 'truth-problem-855.json', 'problem-112.txt', 'truth-problem-261.json', 'truth-problem-370.json', 'problem-773.txt', 'problem-811.txt', 'truth-problem-879.json', 'truth-problem-135.json', 'truth-problem-892.json', 'problem-89.txt', 'problem-688.txt', 'truth-problem-301.json', 'truth-problem-577.json', 'truth-problem-167.json', 'problem-97.txt', 'truth-problem-738.json', 'truth-problem-13.json', 'problem-244.txt', 'problem-331.txt', 'problem-147.txt', 'truth-problem-132.json', 'problem-221.txt', 'truth-problem-658.json', 'problem-896.txt', 'problem-349.txt', 'problem-626.txt', 'problem-860.txt', 'truth-problem-191.json', 'truth-problem-105.json', 'truth-problem-298.json', 'truth-problem-212.json', 'problem-122.txt', 'problem-476.txt', 'problem-152.txt', 'problem-591.txt', 'truth-problem-864.json', 'truth-problem-780.json', 'problem-408.txt', 'truth-problem-624.json', 'truth-problem-172.json', 'problem-41.txt', 'problem-336.txt', 'truth-problem-618.json', 'truth-problem-851.json', 'truth-problem-21.json', 'problem-283.txt', 'problem-503.txt', 'problem-241.txt', 'problem-294.txt', 'truth-problem-198.json', 'problem-393.txt', 'problem-697.txt', 'truth-problem-110.json', 'problem-367.txt', 'problem-800.txt', 'truth-problem-372.json', 'truth-problem-11.json', 'problem-121.txt', 'problem-585.txt', 'truth-problem-716.json', 'truth-problem-669.json', 'truth-problem-486.json', 'truth-problem-439.json', 'problem-196.txt', 'problem-706.txt', 'truth-problem-190.json', 'truth-problem-608.json', 'problem-559.txt', 'truth-problem-769.json', 'problem-225.txt', 'truth-problem-271.json', 'problem-536.txt', 'truth-problem-830.json', 'problem-455.txt', 'truth-problem-433.json', 'problem-622.txt', 'problem-830.txt', 'problem-881.txt', 'truth-problem-668.json', 'truth-problem-109.json', 'truth-problem-152.json', 'problem-836.txt', 'problem-613.txt', 'truth-problem-544.json', 'problem-307.txt', 'problem-607.txt', 'truth-problem-371.json', 'truth-problem-441.json', 'truth-problem-394.json', 'truth-problem-144.json', 'problem-778.txt', 'problem-256.txt', 'truth-problem-833.json', 'truth-problem-388.json', 'problem-491.txt', 'problem-404.txt', 'truth-problem-337.json', 'truth-problem-462.json', 'truth-problem-302.json', 'problem-519.txt', 'problem-316.txt', 'truth-problem-846.json', 'problem-554.txt', 'truth-problem-197.json', 'truth-problem-262.json', 'truth-problem-464.json', 'problem-229.txt', 'truth-problem-418.json', 'problem-339.txt', 'truth-problem-243.json', 'truth-problem-452.json', 'problem-669.txt', 'problem-825.txt', 'problem-660.txt', 'truth-problem-228.json', 'problem-835.txt', 'truth-problem-785.json', 'problem-83.txt', 'truth-problem-242.json', 'problem-76.txt', 'problem-73.txt', 'problem-42.txt', 'problem-601.txt', 'problem-103.txt', 'problem-693.txt', 'truth-problem-768.json', 'problem-887.txt', 'truth-problem-89.json', 'problem-139.txt', 'truth-problem-325.json', 'problem-833.txt', 'problem-136.txt', 'truth-problem-93.json', 'problem-744.txt', 'truth-problem-578.json', 'problem-51.txt', 'truth-problem-863.json', 'truth-problem-551.json', 'problem-797.txt', 'truth-problem-79.json', 'truth-problem-90.json', 'problem-38.txt', 'truth-problem-194.json', 'problem-90.txt', 'problem-215.txt', 'truth-problem-380.json', 'problem-397.txt', 'problem-655.txt', 'truth-problem-677.json', 'truth-problem-211.json', 'problem-315.txt', 'problem-466.txt', 'problem-794.txt', 'problem-267.txt', 'problem-742.txt', 'truth-problem-421.json', 'truth-problem-408.json', 'truth-problem-776.json', 'problem-659.txt', 'truth-problem-512.json', 'problem-385.txt', 'truth-problem-423.json', 'truth-problem-860.json', 'problem-437.txt', 'problem-898.txt', 'problem-746.txt', 'truth-problem-454.json', 'problem-356.txt', 'problem-717.txt', 'truth-problem-238.json', 'truth-problem-759.json', 'problem-78.txt', 'truth-problem-38.json', 'truth-problem-821.json', 'truth-problem-723.json', 'truth-problem-580.json', 'problem-80.txt', 'problem-565.txt', 'truth-problem-279.json', 'problem-632.txt', 'truth-problem-86.json', 'problem-614.txt', 'problem-725.txt', 'truth-problem-234.json', 'problem-77.txt', 'problem-3.txt', 'truth-problem-737.json', 'truth-problem-57.json', 'truth-problem-463.json', 'truth-problem-747.json', 'truth-problem-592.json', 'problem-343.txt', 'truth-problem-810.json', 'truth-problem-75.json', 'truth-problem-285.json', 'truth-problem-195.json', 'problem-15.txt', 'problem-760.txt', 'problem-442.txt', 'truth-problem-740.json', 'problem-445.txt', 'problem-302.txt', 'truth-problem-7.json', 'problem-483.txt', 'problem-634.txt', 'problem-113.txt', 'truth-problem-715.json', 'truth-problem-680.json', 'problem-639.txt', 'truth-problem-20.json', 'problem-703.txt', 'truth-problem-156.json', 'truth-problem-547.json', 'truth-problem-803.json', 'truth-problem-414.json', 'problem-105.txt', 'truth-problem-307.json', 'problem-582.txt', 'truth-problem-42.json', 'problem-70.txt', 'problem-572.txt', 'problem-258.txt', 'problem-424.txt', 'truth-problem-173.json', 'problem-577.txt', 'problem-604.txt', 'truth-problem-347.json', 'problem-765.txt', 'problem-72.txt', 'truth-problem-767.json', 'truth-problem-635.json', 'truth-problem-467.json', 'truth-problem-407.json', 'truth-problem-763.json', 'truth-problem-318.json', 'truth-problem-297.json', 'problem-538.txt', 'problem-477.txt', 'truth-problem-698.json', 'problem-138.txt', 'truth-problem-663.json', 'truth-problem-572.json', 'truth-problem-640.json', 'problem-398.txt', 'problem-758.txt', 'problem-200.txt', 'truth-problem-526.json', 'truth-problem-495.json', 'truth-problem-813.json', 'problem-386.txt', 'truth-problem-550.json', 'problem-774.txt', 'problem-210.txt', 'problem-780.txt', 'problem-561.txt', 'truth-problem-314.json', 'truth-problem-447.json', 'truth-problem-513.json', 'truth-problem-807.json', 'truth-problem-141.json', 'problem-592.txt', 'truth-problem-72.json', 'truth-problem-379.json', 'problem-284.txt', 'truth-problem-446.json', 'problem-9.txt', 'problem-865.txt', 'truth-problem-403.json', 'problem-318.txt', 'truth-problem-157.json', 'truth-problem-174.json', 'truth-problem-125.json', 'problem-464.txt', 'problem-562.txt', 'problem-358.txt', 'problem-608.txt', 'truth-problem-889.json', 'problem-350.txt', 'problem-81.txt', 'truth-problem-104.json', 'problem-530.txt', 'problem-5.txt', 'problem-729.txt', 'problem-148.txt', 'truth-problem-549.json', 'problem-282.txt', 'problem-804.txt', 'problem-759.txt', 'problem-564.txt', 'truth-problem-627.json', 'truth-problem-525.json', 'truth-problem-385.json', 'truth-problem-555.json', 'truth-problem-615.json', 'problem-458.txt', 'problem-178.txt', 'problem-623.txt', 'problem-518.txt', 'problem-31.txt', 'truth-problem-287.json', 'problem-345.txt', 'truth-problem-521.json', 'problem-551.txt', 'truth-problem-709.json', 'truth-problem-641.json', 'truth-problem-312.json', 'truth-problem-797.json', 'truth-problem-164.json', 'problem-325.txt', 'problem-347.txt', 'problem-218.txt', 'problem-235.txt', 'truth-problem-704.json', 'problem-745.txt', 'problem-234.txt', 'truth-problem-189.json', 'problem-557.txt', 'problem-788.txt', 'problem-176.txt', 'truth-problem-208.json', 'problem-581.txt', 'truth-problem-108.json', 'truth-problem-123.json', 'problem-872.txt', 'problem-257.txt', 'problem-434.txt', 'truth-problem-812.json', 'problem-871.txt', 'truth-problem-344.json', 'truth-problem-65.json', 'truth-problem-60.json', 'problem-479.txt', 'problem-289.txt', 'problem-807.txt', 'truth-problem-166.json', 'truth-problem-510.json', 'truth-problem-718.json', 'problem-39.txt', 'problem-484.txt', 'problem-884.txt', 'truth-problem-34.json', 'problem-261.txt', 'truth-problem-599.json', 'problem-658.txt', 'truth-problem-37.json', 'problem-145.txt', 'problem-489.txt', 'problem-233.txt', 'problem-170.txt', 'truth-problem-777.json', 'problem-50.txt', 'problem-379.txt', 'problem-190.txt', 'truth-problem-836.json', 'problem-497.txt', 'truth-problem-783.json', 'problem-401.txt', 'problem-228.txt', 'truth-problem-17.json', 'truth-problem-897.json', 'problem-49.txt', 'truth-problem-751.json', 'problem-427.txt', 'problem-723.txt', 'truth-problem-720.json', 'truth-problem-566.json', 'truth-problem-244.json', 'truth-problem-186.json', 'truth-problem-584.json', 'truth-problem-386.json', 'truth-problem-645.json', 'problem-1.txt', 'truth-problem-368.json', 'problem-535.txt', 'problem-728.txt', 'truth-problem-49.json', 'truth-problem-62.json', 'truth-problem-853.json', 'truth-problem-552.json', 'problem-19.txt', 'truth-problem-644.json', 'problem-682.txt', 'truth-problem-249.json', 'problem-65.txt', 'truth-problem-366.json', 'truth-problem-181.json', 'truth-problem-882.json', 'truth-problem-398.json', 'truth-problem-681.json', 'truth-problem-743.json', 'truth-problem-466.json', 'problem-767.txt', 'problem-219.txt', 'truth-problem-390.json', 'problem-841.txt', 'truth-problem-97.json', 'truth-problem-831.json', 'problem-421.txt', 'truth-problem-264.json', 'truth-problem-898.json', 'truth-problem-854.json', 'problem-352.txt', 'problem-848.txt', 'truth-problem-237.json', 'truth-problem-161.json', 'truth-problem-675.json', 'problem-273.txt', 'truth-problem-399.json', 'truth-problem-367.json', 'problem-248.txt', 'truth-problem-682.json', 'problem-329.txt', 'truth-problem-848.json', 'truth-problem-136.json', 'problem-808.txt', 'truth-problem-753.json', 'problem-399.txt', 'truth-problem-303.json', 'truth-problem-489.json', 'truth-problem-602.json', 'truth-problem-872.json', 'truth-problem-402.json', 'truth-problem-360.json', 'problem-523.txt', 'truth-problem-528.json', 'truth-problem-193.json', 'truth-problem-322.json', 'problem-736.txt', 'problem-451.txt', 'truth-problem-761.json', 'truth-problem-416.json', 'truth-problem-565.json', 'problem-338.txt', 'problem-153.txt', 'problem-771.txt', 'problem-851.txt', 'problem-492.txt', 'truth-problem-305.json', 'truth-problem-256.json', 'truth-problem-722.json', 'problem-571.txt', 'problem-552.txt', 'problem-88.txt', 'problem-544.txt', 'problem-889.txt', 'problem-279.txt', 'problem-46.txt', 'truth-problem-343.json', 'truth-problem-396.json', 'truth-problem-170.json', 'truth-problem-349.json', 'problem-712.txt', 'problem-456.txt', 'problem-600.txt', 'problem-640.txt', 'truth-problem-92.json', 'problem-232.txt', 'problem-583.txt', 'truth-problem-884.json', 'problem-602.txt', 'problem-341.txt', 'problem-533.txt', 'problem-507.txt', 'problem-529.txt', 'truth-problem-430.json', 'problem-420.txt', 'problem-894.txt', 'truth-problem-652.json', 'truth-problem-59.json', 'truth-problem-845.json', 'truth-problem-532.json', 'problem-545.txt', 'truth-problem-874.json', 'truth-problem-554.json', 'truth-problem-391.json', 'problem-832.txt', 'problem-14.txt', 'truth-problem-291.json', 'problem-546.txt', 'truth-problem-574.json', 'problem-459.txt', 'problem-377.txt', 'problem-666.txt', 'problem-885.txt', 'problem-815.txt', 'truth-problem-151.json', 'problem-297.txt', 'truth-problem-116.json', 'problem-156.txt', 'truth-problem-438.json', 'problem-185.txt', 'problem-101.txt', 'problem-508.txt', 'truth-problem-1.json', 'problem-66.txt', 'truth-problem-451.json', 'problem-631.txt', 'problem-816.txt', 'problem-293.txt', 'truth-problem-782.json', 'problem-124.txt', 'truth-problem-280.json', 'problem-410.txt', 'problem-579.txt', 'truth-problem-442.json', 'truth-problem-18.json', 'truth-problem-543.json', 'problem-87.txt', 'truth-problem-48.json', 'problem-560.txt', 'truth-problem-459.json', 'truth-problem-248.json', 'truth-problem-496.json', 'truth-problem-397.json', 'problem-146.txt', 'truth-problem-364.json', 'problem-167.txt', 'problem-681.txt', 'problem-381.txt', 'truth-problem-168.json', 'problem-603.txt', 'problem-86.txt', 'truth-problem-206.json', 'problem-443.txt', 'problem-694.txt', 'problem-394.txt', 'truth-problem-666.json', 'problem-789.txt', 'truth-problem-468.json', 'truth-problem-432.json', 'truth-problem-866.json', 'problem-348.txt', 'truth-problem-333.json', 'problem-637.txt', 'problem-722.txt', 'problem-543.txt', 'truth-problem-155.json', 'problem-755.txt', 'truth-problem-588.json', 'problem-522.txt', 'truth-problem-612.json', 'problem-208.txt', 'problem-892.txt', 'problem-413.txt', 'truth-problem-336.json', 'truth-problem-687.json', 'problem-222.txt', 'problem-710.txt', 'truth-problem-834.json', 'problem-776.txt', 'problem-452.txt', 'problem-84.txt', 'truth-problem-52.json', 'truth-problem-837.json', 'problem-847.txt', 'problem-756.txt', 'truth-problem-227.json', 'problem-391.txt', 'problem-40.txt', 'problem-342.txt', 'truth-problem-856.json', 'truth-problem-201.json', 'problem-587.txt', 'truth-problem-252.json', 'problem-708.txt', 'problem-125.txt', 'problem-354.txt', 'problem-366.txt', 'problem-730.txt', 'problem-322.txt', 'truth-problem-610.json', 'truth-problem-54.json', 'problem-179.txt', 'problem-423.txt', 'problem-447.txt', 'problem-45.txt', 'problem-663.txt', 'truth-problem-323.json', 'problem-520.txt', 'problem-242.txt', 'truth-problem-356.json', 'problem-36.txt', 'problem-217.txt', 'truth-problem-117.json', 'truth-problem-778.json', 'truth-problem-739.json', 'truth-problem-203.json', 'truth-problem-51.json', 'problem-569.txt', 'problem-131.txt', 'problem-249.txt', 'truth-problem-829.json', 'truth-problem-294.json', 'problem-469.txt', 'truth-problem-613.json', 'truth-problem-84.json', 'problem-683.txt', 'truth-problem-91.json', 'truth-problem-688.json', 'problem-7.txt', 'truth-problem-112.json', 'problem-212.txt', 'problem-795.txt', 'truth-problem-417.json', 'problem-415.txt', 'problem-734.txt', 'problem-157.txt', 'truth-problem-628.json', 'problem-684.txt', 'problem-473.txt', 'problem-305.txt', 'truth-problem-130.json', 'problem-363.txt', 'problem-721.txt', 'problem-150.txt', 'problem-238.txt', 'problem-878.txt', 'truth-problem-634.json', 'truth-problem-700.json', 'problem-374.txt', 'problem-264.txt', 'problem-521.txt', 'truth-problem-594.json', 'problem-130.txt', 'truth-problem-561.json', 'truth-problem-647.json', 'problem-650.txt', 'problem-123.txt', 'problem-360.txt', 'truth-problem-113.json', 'problem-327.txt', 'problem-575.txt', 'problem-629.txt', 'truth-problem-66.json', 'problem-161.txt', 'problem-617.txt', 'problem-499.txt', 'problem-699.txt', 'truth-problem-5.json', 'truth-problem-598.json', 'truth-problem-633.json', 'truth-problem-358.json', 'problem-516.txt', 'problem-531.txt', 'problem-71.txt', 'truth-problem-24.json', 'truth-problem-825.json', 'problem-576.txt', 'problem-33.txt', 'truth-problem-795.json', 'problem-194.txt', 'problem-645.txt', 'truth-problem-350.json', 'problem-439.txt', 'problem-142.txt', 'problem-275.txt', 'truth-problem-289.json', 'truth-problem-558.json', 'truth-problem-501.json', 'truth-problem-685.json', 'problem-34.txt', 'problem-574.txt', 'truth-problem-667.json', 'problem-861.txt', 'truth-problem-222.json', 'truth-problem-881.json', 'truth-problem-405.json', 'problem-460.txt', 'problem-621.txt', 'problem-762.txt', 'truth-problem-36.json', 'truth-problem-505.json', 'truth-problem-560.json', 'truth-problem-802.json', 'problem-114.txt', 'problem-47.txt', 'problem-32.txt', 'truth-problem-654.json', 'problem-60.txt', 'truth-problem-609.json', 'truth-problem-657.json', 'problem-206.txt', 'problem-63.txt', 'problem-402.txt', 'problem-151.txt', 'problem-665.txt', 'truth-problem-478.json', 'truth-problem-475.json', 'truth-problem-2.json', 'truth-problem-600.json', 'truth-problem-539.json', 'truth-problem-886.json', 'truth-problem-419.json', 'truth-problem-509.json', 'truth-problem-316.json', 'problem-265.txt', 'problem-549.txt', 'truth-problem-873.json', 'truth-problem-332.json', 'truth-problem-518.json', 'problem-312.txt', 'problem-203.txt', 'truth-problem-121.json', 'problem-685.txt', 'truth-problem-788.json', 'problem-450.txt', 'truth-problem-359.json', 'truth-problem-292.json', 'problem-198.txt', 'truth-problem-346.json', 'truth-problem-214.json', 'problem-165.txt', 'problem-839.txt', 'problem-567.txt', 'problem-715.txt', 'truth-problem-67.json', 'truth-problem-686.json', 'problem-111.txt', 'problem-537.txt', 'problem-308.txt', 'truth-problem-502.json', 'truth-problem-415.json', 'truth-problem-124.json', 'problem-834.txt', 'problem-270.txt', 'problem-718.txt', 'truth-problem-660.json', 'problem-869.txt', 'truth-problem-515.json', 'truth-problem-471.json', 'problem-701.txt', 'truth-problem-160.json', 'problem-661.txt', 'truth-problem-74.json', 'problem-676.txt', 'truth-problem-541.json', 'truth-problem-838.json', 'problem-24.txt', 'problem-769.txt', 'problem-109.txt', 'problem-323.txt', 'truth-problem-571.json', 'problem-867.txt', 'truth-problem-774.json', 'problem-594.txt', 'problem-253.txt', 'problem-432.txt', 'problem-160.txt', 'problem-541.txt', 'problem-493.txt', 'problem-69.txt', 'problem-657.txt', 'truth-problem-176.json', 'problem-177.txt', 'problem-317.txt', 'problem-269.txt', 'problem-337.txt', 'truth-problem-799.json', 'truth-problem-586.json', 'truth-problem-750.json', 'problem-417.txt', 'problem-18.txt', 'truth-problem-295.json', 'truth-problem-434.json', 'truth-problem-226.json', 'truth-problem-23.json', 'truth-problem-805.json', 'problem-310.txt', 'problem-578.txt', 'problem-843.txt', 'problem-403.txt', 'problem-380.txt', 'truth-problem-449.json', 'problem-743.txt', 'truth-problem-254.json', 'truth-problem-137.json', 'problem-126.txt', 'truth-problem-412.json', 'truth-problem-530.json', 'problem-796.txt', 'truth-problem-661.json', 'truth-problem-890.json', 'truth-problem-275.json', 'problem-648.txt', 'problem-704.txt', 'truth-problem-94.json', 'problem-428.txt', 'problem-23.txt', 'problem-528.txt', 'problem-496.txt', 'truth-problem-670.json', 'problem-419.txt', 'problem-309.txt', 'problem-828.txt', 'truth-problem-4.json', 'truth-problem-213.json', 'truth-problem-772.json', 'problem-304.txt', 'truth-problem-317.json', 'problem-506.txt', 'problem-534.txt', 'truth-problem-29.json', 'problem-716.txt', 'problem-227.txt', 'truth-problem-674.json', 'truth-problem-85.json', 'truth-problem-540.json', 'truth-problem-784.json', 'problem-844.txt', 'truth-problem-185.json', 'problem-155.txt', 'problem-673.txt', 'problem-510.txt', 'truth-problem-642.json', 'truth-problem-382.json', 'problem-254.txt', 'truth-problem-899.json', 'problem-96.txt', 'truth-problem-474.json', 'truth-problem-619.json', 'problem-822.txt', 'truth-problem-139.json', 'problem-364.txt', 'truth-problem-731.json', 'problem-724.txt', 'problem-799.txt', 'truth-problem-885.json', 'truth-problem-527.json', 'truth-problem-188.json', 'truth-problem-719.json', 'problem-698.txt', 'truth-problem-816.json', 'truth-problem-424.json', 'problem-127.txt', 'problem-517.txt', 'truth-problem-878.json', 'truth-problem-745.json', 'truth-problem-883.json', 'truth-problem-800.json', 'truth-problem-622.json', 'truth-problem-877.json', 'truth-problem-392.json', 'problem-691.txt', 'problem-732.txt', 'truth-problem-862.json', 'problem-314.txt', 'truth-problem-429.json', 'truth-problem-607.json', 'truth-problem-798.json', 'problem-29.txt', 'truth-problem-643.json', 'truth-problem-793.json', 'truth-problem-484.json', 'problem-779.txt', 'problem-181.txt', 'problem-829.txt', 'truth-problem-180.json', 'truth-problem-115.json', 'truth-problem-450.json', 'truth-problem-107.json', 'truth-problem-708.json', 'problem-855.txt', 'problem-351.txt', 'problem-820.txt', 'truth-problem-573.json', 'problem-426.txt', 'truth-problem-199.json', 'truth-problem-794.json', 'truth-problem-352.json', 'problem-720.txt', 'truth-problem-235.json', 'truth-problem-321.json', 'problem-169.txt', 'truth-problem-809.json', 'truth-problem-270.json', 'problem-132.txt', 'truth-problem-760.json', 'problem-211.txt', 'problem-864.txt', 'truth-problem-192.json', 'truth-problem-896.json', 'truth-problem-221.json', 'truth-problem-129.json', 'problem-702.txt', 'problem-656.txt', 'truth-problem-296.json', 'problem-405.txt', 'truth-problem-736.json', 'problem-373.txt', 'problem-144.txt', 'truth-problem-725.json', 'problem-134.txt', 'truth-problem-545.json', 'truth-problem-404.json', 'truth-problem-847.json', 'problem-449.txt', 'problem-4.txt', 'problem-287.txt', 'problem-750.txt', 'truth-problem-727.json', 'truth-problem-217.json', 'problem-868.txt', 'problem-298.txt', 'truth-problem-503.json', 'truth-problem-182.json', 'truth-problem-653.json', 'truth-problem-494.json', 'truth-problem-604.json', 'problem-612.txt', 'problem-236.txt', 'truth-problem-32.json', 'truth-problem-134.json', 'problem-798.txt', 'problem-259.txt', 'problem-375.txt', 'problem-874.txt', 'problem-344.txt', 'truth-problem-184.json', 'truth-problem-284.json', 'truth-problem-56.json', 'problem-827.txt', 'truth-problem-58.json', 'truth-problem-276.json', 'truth-problem-381.json', 'problem-625.txt', 'problem-94.txt', 'problem-580.txt', 'truth-problem-479.json', 'problem-761.txt', 'truth-problem-409.json', 'truth-problem-78.json', 'problem-624.txt', 'truth-problem-365.json', 'truth-problem-362.json', 'truth-problem-159.json', 'problem-263.txt', 'problem-877.txt', 'truth-problem-95.json', 'problem-888.txt', 'truth-problem-684.json', 'problem-92.txt', 'truth-problem-483.json', 'problem-714.txt', 'problem-58.txt', 'problem-384.txt', 'truth-problem-804.json', 'problem-486.txt', 'problem-568.txt', 'truth-problem-169.json', 'truth-problem-701.json', 'problem-766.txt', 'truth-problem-823.json', 'problem-64.txt', 'truth-problem-293.json', 'truth-problem-47.json', 'problem-475.txt', 'problem-108.txt', 'truth-problem-603.json', 'truth-problem-12.json', 'truth-problem-631.json', 'problem-524.txt', 'truth-problem-519.json', 'problem-268.txt', 'problem-313.txt', 'truth-problem-867.json', 'problem-500.txt', 'truth-problem-204.json', 'truth-problem-869.json', 'truth-problem-752.json', 'truth-problem-576.json', 'problem-719.txt', 'problem-324.txt', 'problem-689.txt', 'truth-problem-605.json', 'truth-problem-253.json', 'problem-365.txt', 'truth-problem-77.json', 'truth-problem-523.json', 'truth-problem-273.json', 'truth-problem-377.json', 'problem-596.txt', 'problem-334.txt', 'truth-problem-500.json', 'truth-problem-492.json', 'truth-problem-453.json', 'problem-436.txt', 'truth-problem-567.json', 'problem-271.txt', 'problem-250.txt', 'problem-168.txt', 'problem-288.txt', 'truth-problem-473.json', 'problem-802.txt', 'truth-problem-10.json', 'truth-problem-649.json', 'problem-183.txt', 'problem-876.txt', 'truth-problem-835.json', 'truth-problem-702.json', 'truth-problem-697.json', 'problem-295.txt', 'problem-370.txt', 'truth-problem-493.json', 'truth-problem-22.json', 'truth-problem-376.json', 'truth-problem-717.json', 'truth-problem-99.json', 'truth-problem-522.json', 'problem-133.txt', 'problem-20.txt', 'problem-129.txt', 'problem-668.txt', 'truth-problem-70.json', 'truth-problem-119.json', 'truth-problem-345.json', 'truth-problem-801.json', 'problem-52.txt', 'truth-problem-705.json', 'truth-problem-145.json', 'truth-problem-290.json', 'truth-problem-575.json', 'problem-748.txt', 'problem-850.txt', 'truth-problem-557.json', 'problem-584.txt', 'problem-555.txt', 'problem-480.txt', 'problem-199.txt', 'problem-237.txt', 'truth-problem-444.json', 'truth-problem-858.json', 'problem-17.txt', 'truth-problem-351.json', 'problem-652.txt', 'problem-16.txt', 'problem-490.txt', 'problem-149.txt', 'truth-problem-400.json', 'truth-problem-283.json', 'problem-695.txt', 'problem-400.txt', 'truth-problem-596.json', 'problem-463.txt', 'truth-problem-163.json', 'problem-277.txt', 'problem-487.txt', 'problem-882.txt', 'problem-387.txt', 'truth-problem-562.json', 'problem-556.txt', 'problem-362.txt', 'problem-678.txt', 'truth-problem-127.json', 'problem-893.txt', 'problem-635.txt', 'truth-problem-839.json', 'truth-problem-811.json', 'truth-problem-239.json', 'problem-770.txt', 'truth-problem-361.json', 'problem-100.txt', 'problem-547.txt', 'problem-763.txt', 'problem-879.txt', 'problem-615.txt', 'truth-problem-28.json', 'truth-problem-219.json', 'problem-768.txt', 'problem-783.txt', 'truth-problem-329.json', 'problem-845.txt', 'truth-problem-229.json', 'problem-749.txt', 'truth-problem-353.json', 'problem-243.txt', 'truth-problem-742.json', 'truth-problem-383.json', 'problem-638.txt', 'problem-44.txt', 'truth-problem-617.json', 'truth-problem-69.json', 'truth-problem-465.json', 'problem-696.txt', 'truth-problem-257.json', 'problem-392.txt', 'problem-137.txt', 'problem-355.txt', 'truth-problem-656.json', 'problem-566.txt', 'truth-problem-131.json', 'truth-problem-278.json', 'problem-12.txt', 'truth-problem-101.json', 'truth-problem-771.json', 'truth-problem-724.json', 'truth-problem-748.json', 'truth-problem-30.json', 'truth-problem-499.json', 'problem-395.txt', 'problem-866.txt', 'truth-problem-326.json', 'truth-problem-488.json', 'problem-26.txt', 'problem-48.txt', 'problem-251.txt', 'truth-problem-504.json', 'problem-414.txt', 'problem-59.txt', 'problem-191.txt', 'problem-644.txt', 'problem-620.txt', 'truth-problem-732.json', 'problem-220.txt', 'problem-636.txt', 'problem-174.txt', 'problem-733.txt', 'problem-272.txt', 'truth-problem-232.json', 'problem-686.txt', 'truth-problem-247.json', 'problem-444.txt', 'problem-57.txt', 'truth-problem-328.json', 'problem-171.txt', 'problem-187.txt', 'truth-problem-102.json', 'problem-369.txt', 'problem-118.txt', 'truth-problem-209.json', 'truth-problem-82.json', 'problem-85.txt', 'truth-problem-741.json', 'truth-problem-259.json', 'truth-problem-595.json', 'problem-764.txt', 'truth-problem-865.json', 'problem-498.txt', 'problem-311.txt', 'truth-problem-319.json', 'truth-problem-728.json', 'truth-problem-651.json', 'truth-problem-894.json', 'problem-494.txt', 'problem-616.txt', 'truth-problem-255.json', 'truth-problem-786.json', 'problem-163.txt', 'problem-281.txt', 'problem-737.txt', 'problem-687.txt', 'truth-problem-187.json', 'problem-128.txt', 'truth-problem-646.json', 'truth-problem-120.json', 'truth-problem-266.json', 'truth-problem-435.json', 'problem-205.txt', 'problem-291.txt', 'problem-532.txt', 'truth-problem-764.json', 'truth-problem-820.json', 'problem-182.txt', 'truth-problem-147.json', 'problem-526.txt', 'problem-558.txt', 'truth-problem-41.json', 'problem-216.txt', 'truth-problem-331.json', 'truth-problem-758.json', 'problem-465.txt', 'truth-problem-665.json', 'truth-problem-267.json', 'truth-problem-570.json', 'truth-problem-330.json', 'problem-197.txt', 'problem-195.txt', 'truth-problem-626.json', 'truth-problem-587.json', 'truth-problem-630.json', 'problem-812.txt', 'truth-problem-335.json', 'problem-595.txt', 'problem-609.txt', 'problem-527.txt', 'truth-problem-648.json', 'truth-problem-233.json', 'truth-problem-859.json', 'truth-problem-427.json', 'problem-368.txt', 'truth-problem-143.json', 'problem-202.txt', 'problem-674.txt', 'problem-425.txt', 'problem-326.txt', 'truth-problem-210.json', 'truth-problem-315.json', 'problem-757.txt', 'truth-problem-68.json', 'truth-problem-348.json', 'truth-problem-679.json', 'problem-357.txt', 'truth-problem-200.json', 'problem-883.txt', 'truth-problem-395.json', 'problem-589.txt', 'truth-problem-563.json', 'problem-10.txt', 'problem-863.txt', 'problem-857.txt', 'problem-98.txt', 'problem-772.txt', 'truth-problem-524.json', 'problem-416.txt', 'truth-problem-564.json', 'truth-problem-338.json', 'truth-problem-695.json', 'problem-630.txt', 'problem-598.txt', 'problem-873.txt', 'truth-problem-746.json', 'problem-376.txt', 'problem-700.txt', 'truth-problem-196.json', 'problem-246.txt', 'truth-problem-19.json', 'truth-problem-277.json', 'truth-problem-15.json', 'truth-problem-514.json', 'truth-problem-183.json', 'problem-37.txt', 'problem-505.txt', 'problem-247.txt', 'truth-problem-517.json', 'problem-782.txt', 'problem-618.txt', 'truth-problem-224.json', 'truth-problem-696.json', 'problem-739.txt', 'problem-667.txt', 'problem-11.txt', 'problem-280.txt', 'truth-problem-861.json', 'truth-problem-636.json', 'problem-814.txt', 'truth-problem-875.json', 'truth-problem-730.json', 'problem-117.txt', 'problem-245.txt', 'truth-problem-9.json', 'truth-problem-148.json', 'truth-problem-537.json', 'problem-154.txt', 'truth-problem-175.json', 'truth-problem-791.json', 'problem-474.txt', 'truth-problem-616.json', 'problem-186.txt', 'problem-525.txt', 'truth-problem-154.json', 'problem-548.txt', 'problem-662.txt', 'truth-problem-220.json', 'problem-95.txt', 'problem-389.txt', 'problem-856.txt', 'truth-problem-357.json', 'problem-204.txt', 'problem-262.txt', 'problem-53.txt', 'problem-478.txt', 'truth-problem-230.json', 'problem-482.txt', 'problem-56.txt', 'problem-2.txt', 'truth-problem-420.json', 'truth-problem-165.json', 'problem-255.txt', 'truth-problem-876.json', 'truth-problem-45.json', 'truth-problem-334.json', 'truth-problem-363.json', 'problem-805.txt', 'problem-467.txt', 'truth-problem-480.json', 'truth-problem-158.json', 'problem-731.txt', 'truth-problem-806.json', 'truth-problem-311.json', 'truth-problem-31.json', 'truth-problem-840.json', 'problem-747.txt', 'truth-problem-355.json', 'problem-859.txt', 'truth-problem-455.json', 'problem-102.txt', 'truth-problem-659.json', 'truth-problem-548.json', 'truth-problem-790.json', 'problem-115.txt', 'truth-problem-487.json', 'problem-502.txt', 'truth-problem-263.json', 'truth-problem-559.json', 'problem-842.txt', 'truth-problem-535.json', 'truth-problem-852.json', 'truth-problem-611.json', 'truth-problem-749.json', 'truth-problem-288.json', 'truth-problem-476.json', 'truth-problem-428.json', 'problem-511.txt', 'problem-611.txt', 'problem-30.txt', 'problem-619.txt', 'problem-840.txt', 'truth-problem-71.json', 'problem-340.txt', 'problem-821.txt', 'truth-problem-63.json', 'problem-359.txt', 'truth-problem-542.json', 'truth-problem-274.json', 'truth-problem-676.json', 'problem-82.txt', 'problem-785.txt', 'problem-209.txt', 'problem-330.txt', 'problem-711.txt', 'truth-problem-529.json', 'truth-problem-437.json', 'truth-problem-53.json', 'problem-188.txt', 'problem-817.txt', 'problem-642.txt', 'truth-problem-623.json', 'truth-problem-787.json', 'truth-problem-491.json', 'truth-problem-98.json', 'truth-problem-313.json', 'truth-problem-241.json', 'truth-problem-824.json', 'problem-75.txt', 'truth-problem-733.json', 'truth-problem-485.json', 'truth-problem-662.json', 'problem-819.txt', 'problem-654.txt', 'truth-problem-64.json', 'truth-problem-735.json', 'truth-problem-406.json', 'problem-831.txt', 'problem-441.txt', 'truth-problem-35.json', 'truth-problem-472.json', 'problem-472.txt', 'problem-649.txt', 'truth-problem-585.json', 'truth-problem-597.json', 'truth-problem-387.json', 'problem-605.txt', 'truth-problem-671.json', 'problem-628.txt', 'problem-671.txt', 'truth-problem-309.json', 'truth-problem-817.json', 'truth-problem-568.json', 'problem-278.txt', 'problem-509.txt', 'truth-problem-593.json', 'truth-problem-638.json', 'problem-333.txt', 'truth-problem-891.json', 'truth-problem-828.json', 'problem-481.txt', 'truth-problem-178.json', 'truth-problem-384.json', 'truth-problem-536.json', 'problem-787.txt', 'truth-problem-589.json', 'truth-problem-888.json', 'truth-problem-766.json', 'truth-problem-711.json', 'problem-573.txt', 'problem-675.txt', 'problem-606.txt', 'problem-28.txt', 'problem-803.txt', 'problem-540.txt', 'truth-problem-808.json', 'problem-180.txt', 'truth-problem-744.json', 'problem-791.txt', 'problem-890.txt', 'truth-problem-762.json', 'truth-problem-714.json', 'truth-problem-88.json', 'truth-problem-481.json', 'truth-problem-590.json', 'truth-problem-25.json', 'truth-problem-354.json', 'problem-488.txt', 'problem-13.txt', 'truth-problem-621.json', 'problem-539.txt', 'truth-problem-122.json', 'problem-223.txt', 'problem-25.txt', 'truth-problem-272.json', 'problem-172.txt', 'problem-588.txt', 'problem-68.txt', 'problem-495.txt', 'problem-793.txt', 'truth-problem-282.json', 'truth-problem-422.json', 'problem-306.txt', 'truth-problem-553.json', 'problem-418.txt', 'problem-837.txt', 'problem-897.txt', 'truth-problem-729.json', 'problem-166.txt', 'truth-problem-106.json', 'problem-110.txt', 'problem-201.txt', 'truth-problem-857.json', 'problem-680.txt', 'truth-problem-579.json', 'truth-problem-469.json', 'truth-problem-581.json', 'truth-problem-251.json', 'problem-143.txt', 'problem-438.txt', 'truth-problem-871.json', 'problem-590.txt', 'problem-468.txt', 'problem-713.txt', 'problem-55.txt', 'truth-problem-569.json', 'problem-319.txt', 'problem-753.txt', 'truth-problem-819.json', 'problem-300.txt', 'problem-54.txt', 'problem-852.txt', 'truth-problem-80.json', 'problem-801.txt', 'problem-512.txt', 'truth-problem-205.json', 'truth-problem-202.json', 'truth-problem-895.json', 'truth-problem-456.json', 'problem-116.txt', 'problem-875.txt', 'problem-792.txt', 'problem-846.txt', 'problem-27.txt', 'truth-problem-100.json', 'truth-problem-868.json', 'problem-430.txt', 'truth-problem-822.json', 'truth-problem-440.json', 'problem-664.txt', 'truth-problem-431.json', 'problem-849.txt', 'truth-problem-223.json', 'truth-problem-236.json', 'truth-problem-690.json', 'problem-818.txt', 'truth-problem-46.json', 'truth-problem-50.json', 'truth-problem-436.json', 'problem-647.txt', 'problem-513.txt', 'truth-problem-140.json', 'problem-672.txt', 'truth-problem-826.json', 'problem-292.txt', 'truth-problem-149.json', 'truth-problem-83.json', 'truth-problem-673.json', 'truth-problem-304.json', 'problem-705.txt', 'problem-104.txt', 'problem-870.txt', 'truth-problem-426.json', 'truth-problem-299.json', 'problem-641.txt', 'truth-problem-754.json', 'truth-problem-96.json', 'truth-problem-842.json', 'truth-problem-507.json', 'truth-problem-308.json', 'truth-problem-73.json', 'truth-problem-26.json', 'truth-problem-546.json', 'problem-135.txt', 'problem-515.txt', 'problem-627.txt', 'truth-problem-216.json', 'problem-854.txt', 'problem-285.txt', 'problem-586.txt', 'truth-problem-111.json', 'problem-446.txt', 'truth-problem-601.json', 'truth-problem-245.json', 'truth-problem-755.json', 'truth-problem-40.json', 'truth-problem-138.json', 'truth-problem-215.json', 'problem-372.txt', 'truth-problem-757.json', 'truth-problem-8.json', 'truth-problem-818.json', 'truth-problem-887.json', 'truth-problem-726.json', 'problem-431.txt', 'problem-21.txt', 'problem-193.txt', 'problem-741.txt', 'truth-problem-712.json', 'problem-409.txt', 'problem-43.txt', 'truth-problem-27.json', 'truth-problem-707.json', 'truth-problem-457.json', 'problem-633.txt', 'truth-problem-265.json', 'truth-problem-378.json', 'truth-problem-792.json', 'problem-448.txt', 'problem-303.txt', 'problem-692.txt', 'problem-378.txt', 'problem-106.txt', 'problem-6.txt', 'problem-383.txt', 'problem-727.txt', 'problem-61.txt', 'problem-570.txt', 'problem-470.txt', 'truth-problem-498.json', 'truth-problem-410.json', 'truth-problem-482.json', 'truth-problem-789.json', 'truth-problem-694.json', 'problem-158.txt', 'truth-problem-639.json', 'truth-problem-411.json', 'truth-problem-664.json', 'truth-problem-114.json', 'truth-problem-692.json', 'truth-problem-118.json', 'truth-problem-534.json', 'truth-problem-506.json', 'truth-problem-458.json', 'problem-226.txt', 'problem-454.txt', 'truth-problem-393.json', 'truth-problem-606.json', 'problem-175.txt', 'problem-485.txt', 'problem-461.txt', 'truth-problem-218.json', 'problem-853.txt', 'problem-396.txt', 'problem-599.txt', 'problem-332.txt', 'truth-problem-258.json', 'problem-740.txt', 'truth-problem-703.json', 'truth-problem-260.json', 'problem-189.txt', 'truth-problem-591.json', 'truth-problem-286.json', 'truth-problem-171.json', 'truth-problem-179.json', 'truth-problem-300.json', 'problem-119.txt', 'truth-problem-389.json', 'problem-900.txt', 'problem-823.txt', 'truth-problem-133.json', 'problem-321.txt', 'truth-problem-373.json', 'problem-886.txt', 'truth-problem-689.json', 'truth-problem-691.json', 'truth-problem-841.json', 'truth-problem-683.json', 'truth-problem-832.json', 'problem-752.txt', 'problem-371.txt', 'problem-301.txt', 'problem-91.txt', 'problem-422.txt', 'truth-problem-231.json', 'truth-problem-516.json', 'problem-501.txt', 'truth-problem-770.json', 'problem-320.txt', 'problem-214.txt', 'truth-problem-765.json', 'problem-824.txt', 'truth-problem-43.json', 'problem-411.txt', 'problem-99.txt', 'problem-751.txt', 'problem-260.txt', 'truth-problem-246.json', 'truth-problem-650.json', 'problem-141.txt', 'truth-problem-445.json', 'problem-240.txt', 'problem-677.txt', 'truth-problem-637.json', 'problem-252.txt', 'problem-162.txt', 'truth-problem-655.json', 'truth-problem-629.json', 'problem-670.txt', 'truth-problem-583.json', 'problem-610.txt', 'problem-346.txt', 'problem-806.txt', 'truth-problem-225.json', 'problem-597.txt', 'truth-problem-710.json', 'problem-690.txt', 'truth-problem-796.json', 'problem-412.txt', 'truth-problem-850.json', 'truth-problem-448.json', 'truth-problem-281.json', 'problem-67.txt', 'truth-problem-413.json', 'truth-problem-614.json', 'truth-problem-269.json', 'truth-problem-556.json', 'problem-810.txt', 'truth-problem-324.json', 'truth-problem-756.json', 'problem-296.txt']\n"
          ]
        }
      ]
    },
    {
      "cell_type": "code",
      "source": [
        "import os\n",
        "import json\n",
        "import pandas as pd\n",
        "from sklearn.model_selection import train_test_split\n",
        "\n",
        "# Define paths for training and validation datasets\n",
        "val_text_path = '/content/input_folder/easy/validation'\n",
        "\n",
        "def load_data(text_path):\n",
        "    data = []\n",
        "    truth_data = []\n",
        "\n",
        "    for file in os.listdir(text_path):\n",
        "        if file.endswith(\".txt\"):\n",
        "            problem_number = file.split('-')[1].split('.')[0]  # Extract the problem number\n",
        "            with open(os.path.join(text_path, file), 'r', encoding='utf-8') as f:\n",
        "                paragraphs = f.read().split('\\n\\n')  # Assuming paragraphs are separated by a double newline\n",
        "\n",
        "            with open(os.path.join(text_path, f'truth-problem-{problem_number}.json'), 'r', encoding='utf-8') as f:\n",
        "                truth = json.load(f)\n",
        "\n",
        "            data.append(paragraphs)\n",
        "            truth_data.append(truth)\n",
        "\n",
        "    return data, truth_data\n",
        "\n",
        "# Load valing data\n",
        "val_data, val_truths = load_data(val_text_path)"
      ],
      "metadata": {
        "id": "cqm6HzrIeaXS"
      },
      "execution_count": 7,
      "outputs": []
    },
    {
      "cell_type": "code",
      "source": [
        "# Function to generate paragraph pairs and labels\n",
        "def generate_paragraph_pairs(paragraphs, truth_changes):\n",
        "    pairs = []\n",
        "    labels = []\n",
        "    # Check lengths of paragraphs and truth_changes\n",
        "    if len(paragraphs) - 1 != len(truth_changes):\n",
        "        truth_changes.append(0)\n",
        "        truth_changes.append(0)\n",
        "        truth_changes.append(0)\n",
        "\n",
        "    # Generate pairs from consecutive paragraphs\n",
        "    for i in range(len(paragraphs) - 1):\n",
        "        p1 = paragraphs[i]\n",
        "        p2 = paragraphs[i + 1]\n",
        "        change = truth_changes[i]\n",
        "        # Create paragraph pairs\n",
        "        pairs.append((p1, p2))\n",
        "        labels.append(change)\n",
        "\n",
        "    return pairs, labels\n",
        "\n",
        "all_pairs = []\n",
        "all_labels = []\n",
        "paragraphs = []\n",
        "for i, (data, truth) in enumerate(zip(val_data, val_truths)):\n",
        "    paragraphs = [para.split('\\n') for para in data]\n",
        "    pairs, labels = generate_paragraph_pairs(paragraphs[0], val_truths[i][\"changes\"])\n",
        "    all_pairs.extend(pairs)\n",
        "    all_labels.extend(labels)\n",
        "\n",
        "\n",
        "print(len(all_pairs))\n",
        "print(len(all_labels))\n"
      ],
      "metadata": {
        "colab": {
          "base_uri": "https://localhost:8080/"
        },
        "id": "uyjGufSrep-3",
        "outputId": "41f38bcc-07fb-4681-ebf8-5859574b2e62"
      },
      "execution_count": 8,
      "outputs": [
        {
          "output_type": "stream",
          "name": "stdout",
          "text": [
            "2471\n",
            "2471\n"
          ]
        }
      ]
    },
    {
      "cell_type": "code",
      "source": [
        "!pip install peft"
      ],
      "metadata": {
        "colab": {
          "base_uri": "https://localhost:8080/"
        },
        "id": "YEV4l8YDfGhU",
        "outputId": "0474b330-b689-425f-c4a2-78e4db60ce16"
      },
      "execution_count": 9,
      "outputs": [
        {
          "output_type": "stream",
          "name": "stdout",
          "text": [
            "Requirement already satisfied: peft in /usr/local/lib/python3.10/dist-packages (0.13.2)\n",
            "Requirement already satisfied: numpy>=1.17 in /usr/local/lib/python3.10/dist-packages (from peft) (1.26.4)\n",
            "Requirement already satisfied: packaging>=20.0 in /usr/local/lib/python3.10/dist-packages (from peft) (24.2)\n",
            "Requirement already satisfied: psutil in /usr/local/lib/python3.10/dist-packages (from peft) (5.9.5)\n",
            "Requirement already satisfied: pyyaml in /usr/local/lib/python3.10/dist-packages (from peft) (6.0.2)\n",
            "Requirement already satisfied: torch>=1.13.0 in /usr/local/lib/python3.10/dist-packages (from peft) (2.5.1+cu121)\n",
            "Requirement already satisfied: transformers in /usr/local/lib/python3.10/dist-packages (from peft) (4.46.2)\n",
            "Requirement already satisfied: tqdm in /usr/local/lib/python3.10/dist-packages (from peft) (4.66.6)\n",
            "Requirement already satisfied: accelerate>=0.21.0 in /usr/local/lib/python3.10/dist-packages (from peft) (1.1.1)\n",
            "Requirement already satisfied: safetensors in /usr/local/lib/python3.10/dist-packages (from peft) (0.4.5)\n",
            "Requirement already satisfied: huggingface-hub>=0.17.0 in /usr/local/lib/python3.10/dist-packages (from peft) (0.26.2)\n",
            "Requirement already satisfied: filelock in /usr/local/lib/python3.10/dist-packages (from huggingface-hub>=0.17.0->peft) (3.16.1)\n",
            "Requirement already satisfied: fsspec>=2023.5.0 in /usr/local/lib/python3.10/dist-packages (from huggingface-hub>=0.17.0->peft) (2024.10.0)\n",
            "Requirement already satisfied: requests in /usr/local/lib/python3.10/dist-packages (from huggingface-hub>=0.17.0->peft) (2.32.3)\n",
            "Requirement already satisfied: typing-extensions>=3.7.4.3 in /usr/local/lib/python3.10/dist-packages (from huggingface-hub>=0.17.0->peft) (4.12.2)\n",
            "Requirement already satisfied: networkx in /usr/local/lib/python3.10/dist-packages (from torch>=1.13.0->peft) (3.4.2)\n",
            "Requirement already satisfied: jinja2 in /usr/local/lib/python3.10/dist-packages (from torch>=1.13.0->peft) (3.1.4)\n",
            "Requirement already satisfied: sympy==1.13.1 in /usr/local/lib/python3.10/dist-packages (from torch>=1.13.0->peft) (1.13.1)\n",
            "Requirement already satisfied: mpmath<1.4,>=1.1.0 in /usr/local/lib/python3.10/dist-packages (from sympy==1.13.1->torch>=1.13.0->peft) (1.3.0)\n",
            "Requirement already satisfied: regex!=2019.12.17 in /usr/local/lib/python3.10/dist-packages (from transformers->peft) (2024.9.11)\n",
            "Requirement already satisfied: tokenizers<0.21,>=0.20 in /usr/local/lib/python3.10/dist-packages (from transformers->peft) (0.20.3)\n",
            "Requirement already satisfied: MarkupSafe>=2.0 in /usr/local/lib/python3.10/dist-packages (from jinja2->torch>=1.13.0->peft) (3.0.2)\n",
            "Requirement already satisfied: charset-normalizer<4,>=2 in /usr/local/lib/python3.10/dist-packages (from requests->huggingface-hub>=0.17.0->peft) (3.4.0)\n",
            "Requirement already satisfied: idna<4,>=2.5 in /usr/local/lib/python3.10/dist-packages (from requests->huggingface-hub>=0.17.0->peft) (3.10)\n",
            "Requirement already satisfied: urllib3<3,>=1.21.1 in /usr/local/lib/python3.10/dist-packages (from requests->huggingface-hub>=0.17.0->peft) (2.2.3)\n",
            "Requirement already satisfied: certifi>=2017.4.17 in /usr/local/lib/python3.10/dist-packages (from requests->huggingface-hub>=0.17.0->peft) (2024.8.30)\n"
          ]
        }
      ]
    },
    {
      "cell_type": "code",
      "source": [
        "import zipfile\n",
        "from transformers import AutoTokenizer, AutoModelForSequenceClassification\n",
        "from peft import PeftModel\n",
        "\n",
        "# Unzip the model\n",
        "zip_path = \"/content/lora_fine_tuned_model.zip\"  # Path to your zip file\n",
        "extract_path = \"/content/lora_fine_tuned_model/lora_fine_tuned_model\"  # Directory to extract the files\n",
        "\n",
        "with zipfile.ZipFile(zip_path, 'r') as zip_ref:\n",
        "    zip_ref.extractall(extract_path)\n",
        "\n",
        "# Load the tokenizer and model\n",
        "tokenizer = AutoTokenizer.from_pretrained(extract_path)\n",
        "base_model = AutoModelForSequenceClassification.from_pretrained(\"roberta-base\", num_labels=2)\n",
        "model = PeftModel.from_pretrained(base_model, extract_path)\n"
      ],
      "metadata": {
        "colab": {
          "base_uri": "https://localhost:8080/",
          "height": 240,
          "referenced_widgets": [
            "46069e90b43e4b9d82080b22f53604e2",
            "ec29d10d9b7e4cdbb3f3f99442bcd106",
            "e1273bc633624da08bb3899bf80618c2",
            "28dec07fff7842829770efc82d653d33",
            "dd29f9077147446283c7ec8d4d14e4ae",
            "b704c011b4d842d7878b22ad160c71f3",
            "5825514ac37f4cb4bab199a6e1a92813",
            "8abfd80a91904058a2bd326ad7991839",
            "68afd9a3d330445596832fde2098dfe0",
            "566da3c765c54f4c870ac5f51257cd2f",
            "03cba643a2b640f0bcb39e15c7750475",
            "7456abdbc36e4a9e89bc795557ffb551",
            "ee2514d593ca4206813697f1b8f057a2",
            "1c201894d6b64e678b788b9c0ba5d6d2",
            "6185900920454051b03971ea382c9be2",
            "d49666efab844c3792aeb297ff156356",
            "891306bd1c5347fa88a5fe9c4dc6a18c",
            "5454c56a4a034545bf3221d0064c1204",
            "b77693b291f54a2f9835ba8b075e683a",
            "9de7afa32f0f45c18e22c214fdda9b60",
            "8698df17ab874eb4bac0d9cbcaa9132d",
            "b1ba0cb3e53949ada1c7080c2326de3c"
          ]
        },
        "id": "ch1TzM5qexl5",
        "outputId": "00af00c6-aae4-4e95-b00f-fde74cbbf2f9"
      },
      "execution_count": 12,
      "outputs": [
        {
          "output_type": "stream",
          "name": "stderr",
          "text": [
            "/usr/local/lib/python3.10/dist-packages/huggingface_hub/utils/_auth.py:94: UserWarning: \n",
            "The secret `HF_TOKEN` does not exist in your Colab secrets.\n",
            "To authenticate with the Hugging Face Hub, create a token in your settings tab (https://huggingface.co/settings/tokens), set it as secret in your Google Colab and restart your session.\n",
            "You will be able to reuse this secret in all of your notebooks.\n",
            "Please note that authentication is recommended but still optional to access public models or datasets.\n",
            "  warnings.warn(\n"
          ]
        },
        {
          "output_type": "display_data",
          "data": {
            "text/plain": [
              "config.json:   0%|          | 0.00/481 [00:00<?, ?B/s]"
            ],
            "application/vnd.jupyter.widget-view+json": {
              "version_major": 2,
              "version_minor": 0,
              "model_id": "46069e90b43e4b9d82080b22f53604e2"
            }
          },
          "metadata": {}
        },
        {
          "output_type": "display_data",
          "data": {
            "text/plain": [
              "model.safetensors:   0%|          | 0.00/499M [00:00<?, ?B/s]"
            ],
            "application/vnd.jupyter.widget-view+json": {
              "version_major": 2,
              "version_minor": 0,
              "model_id": "7456abdbc36e4a9e89bc795557ffb551"
            }
          },
          "metadata": {}
        },
        {
          "output_type": "stream",
          "name": "stderr",
          "text": [
            "Some weights of RobertaForSequenceClassification were not initialized from the model checkpoint at roberta-base and are newly initialized: ['classifier.dense.bias', 'classifier.dense.weight', 'classifier.out_proj.bias', 'classifier.out_proj.weight']\n",
            "You should probably TRAIN this model on a down-stream task to be able to use it for predictions and inference.\n"
          ]
        }
      ]
    },
    {
      "cell_type": "code",
      "source": [
        "def tokenize_paragraph_pairs(paragraph_pairs, tokenizer):\n",
        "    # Tokenize pairs of paragraphs\n",
        "    tokenized_data = tokenizer(\n",
        "        [f\"{p1} [SEP] {p2}\" for p1, p2 in paragraph_pairs],\n",
        "        truncation=True,\n",
        "        padding=\"max_length\",  # Ensure fixed input size\n",
        "        return_tensors=\"pt\",   # Return PyTorch tensors\n",
        "    )\n",
        "    return tokenized_data"
      ],
      "metadata": {
        "id": "QZ4S-YMOgDTa"
      },
      "execution_count": 13,
      "outputs": []
    },
    {
      "cell_type": "code",
      "source": [
        "from torch.utils.data import Dataset\n",
        "import torch # Import torch\n",
        "\n",
        "class ParagraphPairDataset(Dataset):\n",
        "    def __init__(self, paragraph_pairs, labels, tokenizer):\n",
        "        # Tokenize the paragraph pairs\n",
        "        tokenized_data = tokenize_paragraph_pairs(paragraph_pairs, tokenizer)\n",
        "        self.input_ids = tokenized_data[\"input_ids\"]\n",
        "        self.attention_mask = tokenized_data.get(\"attention_mask\", None)  # Optional\n",
        "        # Convert labels to tensors\n",
        "        self.labels = torch.tensor(labels, dtype=torch.long)  # For classification tasks\n",
        "\n",
        "    def __len__(self):\n",
        "        return len(self.labels)\n",
        "\n",
        "    def __getitem__(self, idx):\n",
        "        data = {\n",
        "            \"input_ids\": self.input_ids[idx],\n",
        "            \"labels\": self.labels[idx],\n",
        "        }\n",
        "        # Include attention_mask if it exists\n",
        "        if self.attention_mask is not None:\n",
        "            data[\"attention_mask\"] = self.attention_mask[idx]\n",
        "        return data\n"
      ],
      "metadata": {
        "id": "NA4pEIq_iigB"
      },
      "execution_count": 14,
      "outputs": []
    },
    {
      "cell_type": "code",
      "source": [
        "dataset = ParagraphPairDataset(all_pairs, all_labels, tokenizer)"
      ],
      "metadata": {
        "id": "bsWn8oigilsG"
      },
      "execution_count": 15,
      "outputs": []
    },
    {
      "cell_type": "code",
      "source": [
        "from transformers import Trainer\n",
        "\n",
        "predictions = Trainer(model=model).predict(dataset)"
      ],
      "metadata": {
        "colab": {
          "base_uri": "https://localhost:8080/",
          "height": 245
        },
        "id": "keRbIgqNirhE",
        "outputId": "acc250d5-3706-4e4c-a257-18120b877bd1"
      },
      "execution_count": 24,
      "outputs": [
        {
          "output_type": "display_data",
          "data": {
            "text/plain": [
              "<IPython.core.display.HTML object>"
            ],
            "text/html": []
          },
          "metadata": {}
        },
        {
          "output_type": "stream",
          "name": "stderr",
          "text": [
            "\u001b[34m\u001b[1mwandb\u001b[0m: \u001b[33mWARNING\u001b[0m The `run_name` is currently set to the same value as `TrainingArguments.output_dir`. If this was not intended, please specify a different run name by setting the `TrainingArguments.run_name` parameter.\n",
            "\u001b[34m\u001b[1mwandb\u001b[0m: Using wandb-core as the SDK backend.  Please refer to https://wandb.me/wandb-core for more information.\n"
          ]
        },
        {
          "output_type": "display_data",
          "data": {
            "text/plain": [
              "<IPython.core.display.Javascript object>"
            ],
            "application/javascript": [
              "\n",
              "        window._wandbApiKey = new Promise((resolve, reject) => {\n",
              "            function loadScript(url) {\n",
              "            return new Promise(function(resolve, reject) {\n",
              "                let newScript = document.createElement(\"script\");\n",
              "                newScript.onerror = reject;\n",
              "                newScript.onload = resolve;\n",
              "                document.body.appendChild(newScript);\n",
              "                newScript.src = url;\n",
              "            });\n",
              "            }\n",
              "            loadScript(\"https://cdn.jsdelivr.net/npm/postmate/build/postmate.min.js\").then(() => {\n",
              "            const iframe = document.createElement('iframe')\n",
              "            iframe.style.cssText = \"width:0;height:0;border:none\"\n",
              "            document.body.appendChild(iframe)\n",
              "            const handshake = new Postmate({\n",
              "                container: iframe,\n",
              "                url: 'https://wandb.ai/authorize'\n",
              "            });\n",
              "            const timeout = setTimeout(() => reject(\"Couldn't auto authenticate\"), 5000)\n",
              "            handshake.then(function(child) {\n",
              "                child.on('authorize', data => {\n",
              "                    clearTimeout(timeout)\n",
              "                    resolve(data)\n",
              "                });\n",
              "            });\n",
              "            })\n",
              "        });\n",
              "    "
            ]
          },
          "metadata": {}
        },
        {
          "output_type": "stream",
          "name": "stderr",
          "text": [
            "\u001b[34m\u001b[1mwandb\u001b[0m: Logging into wandb.ai. (Learn how to deploy a W&B server locally: https://wandb.me/wandb-server)\n",
            "\u001b[34m\u001b[1mwandb\u001b[0m: You can find your API key in your browser here: https://wandb.ai/authorize\n",
            "wandb: Paste an API key from your profile and hit enter, or press ctrl+c to quit:"
          ]
        },
        {
          "name": "stdout",
          "output_type": "stream",
          "text": [
            " ··········\n"
          ]
        },
        {
          "output_type": "stream",
          "name": "stderr",
          "text": [
            "\u001b[34m\u001b[1mwandb\u001b[0m: Appending key for api.wandb.ai to your netrc file: /root/.netrc\n"
          ]
        },
        {
          "output_type": "display_data",
          "data": {
            "text/plain": [
              "<IPython.core.display.HTML object>"
            ],
            "text/html": [
              "Tracking run with wandb version 0.18.7"
            ]
          },
          "metadata": {}
        },
        {
          "output_type": "display_data",
          "data": {
            "text/plain": [
              "<IPython.core.display.HTML object>"
            ],
            "text/html": [
              "Run data is saved locally in <code>/content/wandb/run-20241122_123703-koq1pdmt</code>"
            ]
          },
          "metadata": {}
        },
        {
          "output_type": "display_data",
          "data": {
            "text/plain": [
              "<IPython.core.display.HTML object>"
            ],
            "text/html": [
              "Syncing run <strong><a href='https://wandb.ai/mmanal-bscs21seecs-nust/huggingface/runs/koq1pdmt' target=\"_blank\">tmp_trainer</a></strong> to <a href='https://wandb.ai/mmanal-bscs21seecs-nust/huggingface' target=\"_blank\">Weights & Biases</a> (<a href='https://wandb.me/developer-guide' target=\"_blank\">docs</a>)<br/>"
            ]
          },
          "metadata": {}
        },
        {
          "output_type": "display_data",
          "data": {
            "text/plain": [
              "<IPython.core.display.HTML object>"
            ],
            "text/html": [
              " View project at <a href='https://wandb.ai/mmanal-bscs21seecs-nust/huggingface' target=\"_blank\">https://wandb.ai/mmanal-bscs21seecs-nust/huggingface</a>"
            ]
          },
          "metadata": {}
        },
        {
          "output_type": "display_data",
          "data": {
            "text/plain": [
              "<IPython.core.display.HTML object>"
            ],
            "text/html": [
              " View run at <a href='https://wandb.ai/mmanal-bscs21seecs-nust/huggingface/runs/koq1pdmt' target=\"_blank\">https://wandb.ai/mmanal-bscs21seecs-nust/huggingface/runs/koq1pdmt</a>"
            ]
          },
          "metadata": {}
        }
      ]
    },
    {
      "cell_type": "code",
      "source": [
        "import numpy as np\n",
        "\n",
        "# Convert logits to predicted classes\n",
        "predicted_classes = np.argmax(predictions.predictions, axis=1)\n",
        "\n",
        "# Extract true labels\n",
        "true_labels = predictions.label_ids\n"
      ],
      "metadata": {
        "id": "um3MtA1mjYv7"
      },
      "execution_count": 25,
      "outputs": []
    },
    {
      "cell_type": "code",
      "source": [
        "from sklearn.metrics import f1_score\n",
        "\n",
        "# Calculate F1 score\n",
        "f1 = f1_score(true_labels, predicted_classes, average=\"weighted\")  # Use \"micro\" or \"macro\" as needed\n",
        "print(f\"F1 Score: {f1:.4f}\")\n"
      ],
      "metadata": {
        "colab": {
          "base_uri": "https://localhost:8080/"
        },
        "id": "djw80JX64PGX",
        "outputId": "7a0ea36b-9186-45ff-d0f8-00440427e5e6"
      },
      "execution_count": 26,
      "outputs": [
        {
          "output_type": "stream",
          "name": "stdout",
          "text": [
            "F1 Score: 0.9302\n"
          ]
        }
      ]
    },
    {
      "cell_type": "code",
      "source": [],
      "metadata": {
        "id": "uOnHtYJs4RWe"
      },
      "execution_count": null,
      "outputs": []
    }
  ]
}