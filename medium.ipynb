{
  "nbformat": 4,
  "nbformat_minor": 0,
  "metadata": {
    "colab": {
      "provenance": [],
      "gpuType": "T4"
    },
    "kernelspec": {
      "name": "python3",
      "display_name": "Python 3"
    },
    "language_info": {
      "name": "python"
    },
    "accelerator": "GPU",
    "widgets": {
      "application/vnd.jupyter.widget-state+json": {
        "d31f074157984ae08961455e83241983": {
          "model_module": "@jupyter-widgets/controls",
          "model_name": "HBoxModel",
          "model_module_version": "1.5.0",
          "state": {
            "_dom_classes": [],
            "_model_module": "@jupyter-widgets/controls",
            "_model_module_version": "1.5.0",
            "_model_name": "HBoxModel",
            "_view_count": null,
            "_view_module": "@jupyter-widgets/controls",
            "_view_module_version": "1.5.0",
            "_view_name": "HBoxView",
            "box_style": "",
            "children": [
              "IPY_MODEL_3f1e409721a44ca6b9d6a5d36ffbcaca",
              "IPY_MODEL_fde313d7b906478fb89c3da03d62e5eb",
              "IPY_MODEL_6570f77cf9e34cc29f0aa7ff5794a808"
            ],
            "layout": "IPY_MODEL_d8cba2ccbbb1499ab0baa281f62ce4fa"
          }
        },
        "3f1e409721a44ca6b9d6a5d36ffbcaca": {
          "model_module": "@jupyter-widgets/controls",
          "model_name": "HTMLModel",
          "model_module_version": "1.5.0",
          "state": {
            "_dom_classes": [],
            "_model_module": "@jupyter-widgets/controls",
            "_model_module_version": "1.5.0",
            "_model_name": "HTMLModel",
            "_view_count": null,
            "_view_module": "@jupyter-widgets/controls",
            "_view_module_version": "1.5.0",
            "_view_name": "HTMLView",
            "description": "",
            "description_tooltip": null,
            "layout": "IPY_MODEL_b70d0f04828841cea5c5459e8bf440e3",
            "placeholder": "​",
            "style": "IPY_MODEL_3aff6b97fc65442ba00f86573928164c",
            "value": "config.json: 100%"
          }
        },
        "fde313d7b906478fb89c3da03d62e5eb": {
          "model_module": "@jupyter-widgets/controls",
          "model_name": "FloatProgressModel",
          "model_module_version": "1.5.0",
          "state": {
            "_dom_classes": [],
            "_model_module": "@jupyter-widgets/controls",
            "_model_module_version": "1.5.0",
            "_model_name": "FloatProgressModel",
            "_view_count": null,
            "_view_module": "@jupyter-widgets/controls",
            "_view_module_version": "1.5.0",
            "_view_name": "ProgressView",
            "bar_style": "success",
            "description": "",
            "description_tooltip": null,
            "layout": "IPY_MODEL_47b04d8aa4e548b489bcf42b7191dcc5",
            "max": 481,
            "min": 0,
            "orientation": "horizontal",
            "style": "IPY_MODEL_55e043ee5a8348bea5ff590000f6fb61",
            "value": 481
          }
        },
        "6570f77cf9e34cc29f0aa7ff5794a808": {
          "model_module": "@jupyter-widgets/controls",
          "model_name": "HTMLModel",
          "model_module_version": "1.5.0",
          "state": {
            "_dom_classes": [],
            "_model_module": "@jupyter-widgets/controls",
            "_model_module_version": "1.5.0",
            "_model_name": "HTMLModel",
            "_view_count": null,
            "_view_module": "@jupyter-widgets/controls",
            "_view_module_version": "1.5.0",
            "_view_name": "HTMLView",
            "description": "",
            "description_tooltip": null,
            "layout": "IPY_MODEL_62877742a80e4f1b87993652793541da",
            "placeholder": "​",
            "style": "IPY_MODEL_e754a28dafdc42caa7a88a55bf3fa163",
            "value": " 481/481 [00:00&lt;00:00, 35.4kB/s]"
          }
        },
        "d8cba2ccbbb1499ab0baa281f62ce4fa": {
          "model_module": "@jupyter-widgets/base",
          "model_name": "LayoutModel",
          "model_module_version": "1.2.0",
          "state": {
            "_model_module": "@jupyter-widgets/base",
            "_model_module_version": "1.2.0",
            "_model_name": "LayoutModel",
            "_view_count": null,
            "_view_module": "@jupyter-widgets/base",
            "_view_module_version": "1.2.0",
            "_view_name": "LayoutView",
            "align_content": null,
            "align_items": null,
            "align_self": null,
            "border": null,
            "bottom": null,
            "display": null,
            "flex": null,
            "flex_flow": null,
            "grid_area": null,
            "grid_auto_columns": null,
            "grid_auto_flow": null,
            "grid_auto_rows": null,
            "grid_column": null,
            "grid_gap": null,
            "grid_row": null,
            "grid_template_areas": null,
            "grid_template_columns": null,
            "grid_template_rows": null,
            "height": null,
            "justify_content": null,
            "justify_items": null,
            "left": null,
            "margin": null,
            "max_height": null,
            "max_width": null,
            "min_height": null,
            "min_width": null,
            "object_fit": null,
            "object_position": null,
            "order": null,
            "overflow": null,
            "overflow_x": null,
            "overflow_y": null,
            "padding": null,
            "right": null,
            "top": null,
            "visibility": null,
            "width": null
          }
        },
        "b70d0f04828841cea5c5459e8bf440e3": {
          "model_module": "@jupyter-widgets/base",
          "model_name": "LayoutModel",
          "model_module_version": "1.2.0",
          "state": {
            "_model_module": "@jupyter-widgets/base",
            "_model_module_version": "1.2.0",
            "_model_name": "LayoutModel",
            "_view_count": null,
            "_view_module": "@jupyter-widgets/base",
            "_view_module_version": "1.2.0",
            "_view_name": "LayoutView",
            "align_content": null,
            "align_items": null,
            "align_self": null,
            "border": null,
            "bottom": null,
            "display": null,
            "flex": null,
            "flex_flow": null,
            "grid_area": null,
            "grid_auto_columns": null,
            "grid_auto_flow": null,
            "grid_auto_rows": null,
            "grid_column": null,
            "grid_gap": null,
            "grid_row": null,
            "grid_template_areas": null,
            "grid_template_columns": null,
            "grid_template_rows": null,
            "height": null,
            "justify_content": null,
            "justify_items": null,
            "left": null,
            "margin": null,
            "max_height": null,
            "max_width": null,
            "min_height": null,
            "min_width": null,
            "object_fit": null,
            "object_position": null,
            "order": null,
            "overflow": null,
            "overflow_x": null,
            "overflow_y": null,
            "padding": null,
            "right": null,
            "top": null,
            "visibility": null,
            "width": null
          }
        },
        "3aff6b97fc65442ba00f86573928164c": {
          "model_module": "@jupyter-widgets/controls",
          "model_name": "DescriptionStyleModel",
          "model_module_version": "1.5.0",
          "state": {
            "_model_module": "@jupyter-widgets/controls",
            "_model_module_version": "1.5.0",
            "_model_name": "DescriptionStyleModel",
            "_view_count": null,
            "_view_module": "@jupyter-widgets/base",
            "_view_module_version": "1.2.0",
            "_view_name": "StyleView",
            "description_width": ""
          }
        },
        "47b04d8aa4e548b489bcf42b7191dcc5": {
          "model_module": "@jupyter-widgets/base",
          "model_name": "LayoutModel",
          "model_module_version": "1.2.0",
          "state": {
            "_model_module": "@jupyter-widgets/base",
            "_model_module_version": "1.2.0",
            "_model_name": "LayoutModel",
            "_view_count": null,
            "_view_module": "@jupyter-widgets/base",
            "_view_module_version": "1.2.0",
            "_view_name": "LayoutView",
            "align_content": null,
            "align_items": null,
            "align_self": null,
            "border": null,
            "bottom": null,
            "display": null,
            "flex": null,
            "flex_flow": null,
            "grid_area": null,
            "grid_auto_columns": null,
            "grid_auto_flow": null,
            "grid_auto_rows": null,
            "grid_column": null,
            "grid_gap": null,
            "grid_row": null,
            "grid_template_areas": null,
            "grid_template_columns": null,
            "grid_template_rows": null,
            "height": null,
            "justify_content": null,
            "justify_items": null,
            "left": null,
            "margin": null,
            "max_height": null,
            "max_width": null,
            "min_height": null,
            "min_width": null,
            "object_fit": null,
            "object_position": null,
            "order": null,
            "overflow": null,
            "overflow_x": null,
            "overflow_y": null,
            "padding": null,
            "right": null,
            "top": null,
            "visibility": null,
            "width": null
          }
        },
        "55e043ee5a8348bea5ff590000f6fb61": {
          "model_module": "@jupyter-widgets/controls",
          "model_name": "ProgressStyleModel",
          "model_module_version": "1.5.0",
          "state": {
            "_model_module": "@jupyter-widgets/controls",
            "_model_module_version": "1.5.0",
            "_model_name": "ProgressStyleModel",
            "_view_count": null,
            "_view_module": "@jupyter-widgets/base",
            "_view_module_version": "1.2.0",
            "_view_name": "StyleView",
            "bar_color": null,
            "description_width": ""
          }
        },
        "62877742a80e4f1b87993652793541da": {
          "model_module": "@jupyter-widgets/base",
          "model_name": "LayoutModel",
          "model_module_version": "1.2.0",
          "state": {
            "_model_module": "@jupyter-widgets/base",
            "_model_module_version": "1.2.0",
            "_model_name": "LayoutModel",
            "_view_count": null,
            "_view_module": "@jupyter-widgets/base",
            "_view_module_version": "1.2.0",
            "_view_name": "LayoutView",
            "align_content": null,
            "align_items": null,
            "align_self": null,
            "border": null,
            "bottom": null,
            "display": null,
            "flex": null,
            "flex_flow": null,
            "grid_area": null,
            "grid_auto_columns": null,
            "grid_auto_flow": null,
            "grid_auto_rows": null,
            "grid_column": null,
            "grid_gap": null,
            "grid_row": null,
            "grid_template_areas": null,
            "grid_template_columns": null,
            "grid_template_rows": null,
            "height": null,
            "justify_content": null,
            "justify_items": null,
            "left": null,
            "margin": null,
            "max_height": null,
            "max_width": null,
            "min_height": null,
            "min_width": null,
            "object_fit": null,
            "object_position": null,
            "order": null,
            "overflow": null,
            "overflow_x": null,
            "overflow_y": null,
            "padding": null,
            "right": null,
            "top": null,
            "visibility": null,
            "width": null
          }
        },
        "e754a28dafdc42caa7a88a55bf3fa163": {
          "model_module": "@jupyter-widgets/controls",
          "model_name": "DescriptionStyleModel",
          "model_module_version": "1.5.0",
          "state": {
            "_model_module": "@jupyter-widgets/controls",
            "_model_module_version": "1.5.0",
            "_model_name": "DescriptionStyleModel",
            "_view_count": null,
            "_view_module": "@jupyter-widgets/base",
            "_view_module_version": "1.2.0",
            "_view_name": "StyleView",
            "description_width": ""
          }
        },
        "c0579c09a0e944cb85a5dfcbf4882b87": {
          "model_module": "@jupyter-widgets/controls",
          "model_name": "HBoxModel",
          "model_module_version": "1.5.0",
          "state": {
            "_dom_classes": [],
            "_model_module": "@jupyter-widgets/controls",
            "_model_module_version": "1.5.0",
            "_model_name": "HBoxModel",
            "_view_count": null,
            "_view_module": "@jupyter-widgets/controls",
            "_view_module_version": "1.5.0",
            "_view_name": "HBoxView",
            "box_style": "",
            "children": [
              "IPY_MODEL_2482203185364f73bb1d6246422d6794",
              "IPY_MODEL_ae9b9ab8ed45411f8dccb231c6531294",
              "IPY_MODEL_bd83ad4ba7384888b05c47ec227744f5"
            ],
            "layout": "IPY_MODEL_bcba88312231435e9c53e6e2dff17bab"
          }
        },
        "2482203185364f73bb1d6246422d6794": {
          "model_module": "@jupyter-widgets/controls",
          "model_name": "HTMLModel",
          "model_module_version": "1.5.0",
          "state": {
            "_dom_classes": [],
            "_model_module": "@jupyter-widgets/controls",
            "_model_module_version": "1.5.0",
            "_model_name": "HTMLModel",
            "_view_count": null,
            "_view_module": "@jupyter-widgets/controls",
            "_view_module_version": "1.5.0",
            "_view_name": "HTMLView",
            "description": "",
            "description_tooltip": null,
            "layout": "IPY_MODEL_842bd002064a4f6d8c3d902039528c17",
            "placeholder": "​",
            "style": "IPY_MODEL_026e6e904212401bbe26bb7c90484fe3",
            "value": "model.safetensors: 100%"
          }
        },
        "ae9b9ab8ed45411f8dccb231c6531294": {
          "model_module": "@jupyter-widgets/controls",
          "model_name": "FloatProgressModel",
          "model_module_version": "1.5.0",
          "state": {
            "_dom_classes": [],
            "_model_module": "@jupyter-widgets/controls",
            "_model_module_version": "1.5.0",
            "_model_name": "FloatProgressModel",
            "_view_count": null,
            "_view_module": "@jupyter-widgets/controls",
            "_view_module_version": "1.5.0",
            "_view_name": "ProgressView",
            "bar_style": "success",
            "description": "",
            "description_tooltip": null,
            "layout": "IPY_MODEL_2fca6d976e82471b83e637998a63a4a0",
            "max": 498818054,
            "min": 0,
            "orientation": "horizontal",
            "style": "IPY_MODEL_4f9d67c4a798495e8c2af58a70f72d6e",
            "value": 498818054
          }
        },
        "bd83ad4ba7384888b05c47ec227744f5": {
          "model_module": "@jupyter-widgets/controls",
          "model_name": "HTMLModel",
          "model_module_version": "1.5.0",
          "state": {
            "_dom_classes": [],
            "_model_module": "@jupyter-widgets/controls",
            "_model_module_version": "1.5.0",
            "_model_name": "HTMLModel",
            "_view_count": null,
            "_view_module": "@jupyter-widgets/controls",
            "_view_module_version": "1.5.0",
            "_view_name": "HTMLView",
            "description": "",
            "description_tooltip": null,
            "layout": "IPY_MODEL_a7ba61188e644f7397256ab089948ded",
            "placeholder": "​",
            "style": "IPY_MODEL_8ca63a83f038481a81127decc4ff4b1e",
            "value": " 499M/499M [00:07&lt;00:00, 214MB/s]"
          }
        },
        "bcba88312231435e9c53e6e2dff17bab": {
          "model_module": "@jupyter-widgets/base",
          "model_name": "LayoutModel",
          "model_module_version": "1.2.0",
          "state": {
            "_model_module": "@jupyter-widgets/base",
            "_model_module_version": "1.2.0",
            "_model_name": "LayoutModel",
            "_view_count": null,
            "_view_module": "@jupyter-widgets/base",
            "_view_module_version": "1.2.0",
            "_view_name": "LayoutView",
            "align_content": null,
            "align_items": null,
            "align_self": null,
            "border": null,
            "bottom": null,
            "display": null,
            "flex": null,
            "flex_flow": null,
            "grid_area": null,
            "grid_auto_columns": null,
            "grid_auto_flow": null,
            "grid_auto_rows": null,
            "grid_column": null,
            "grid_gap": null,
            "grid_row": null,
            "grid_template_areas": null,
            "grid_template_columns": null,
            "grid_template_rows": null,
            "height": null,
            "justify_content": null,
            "justify_items": null,
            "left": null,
            "margin": null,
            "max_height": null,
            "max_width": null,
            "min_height": null,
            "min_width": null,
            "object_fit": null,
            "object_position": null,
            "order": null,
            "overflow": null,
            "overflow_x": null,
            "overflow_y": null,
            "padding": null,
            "right": null,
            "top": null,
            "visibility": null,
            "width": null
          }
        },
        "842bd002064a4f6d8c3d902039528c17": {
          "model_module": "@jupyter-widgets/base",
          "model_name": "LayoutModel",
          "model_module_version": "1.2.0",
          "state": {
            "_model_module": "@jupyter-widgets/base",
            "_model_module_version": "1.2.0",
            "_model_name": "LayoutModel",
            "_view_count": null,
            "_view_module": "@jupyter-widgets/base",
            "_view_module_version": "1.2.0",
            "_view_name": "LayoutView",
            "align_content": null,
            "align_items": null,
            "align_self": null,
            "border": null,
            "bottom": null,
            "display": null,
            "flex": null,
            "flex_flow": null,
            "grid_area": null,
            "grid_auto_columns": null,
            "grid_auto_flow": null,
            "grid_auto_rows": null,
            "grid_column": null,
            "grid_gap": null,
            "grid_row": null,
            "grid_template_areas": null,
            "grid_template_columns": null,
            "grid_template_rows": null,
            "height": null,
            "justify_content": null,
            "justify_items": null,
            "left": null,
            "margin": null,
            "max_height": null,
            "max_width": null,
            "min_height": null,
            "min_width": null,
            "object_fit": null,
            "object_position": null,
            "order": null,
            "overflow": null,
            "overflow_x": null,
            "overflow_y": null,
            "padding": null,
            "right": null,
            "top": null,
            "visibility": null,
            "width": null
          }
        },
        "026e6e904212401bbe26bb7c90484fe3": {
          "model_module": "@jupyter-widgets/controls",
          "model_name": "DescriptionStyleModel",
          "model_module_version": "1.5.0",
          "state": {
            "_model_module": "@jupyter-widgets/controls",
            "_model_module_version": "1.5.0",
            "_model_name": "DescriptionStyleModel",
            "_view_count": null,
            "_view_module": "@jupyter-widgets/base",
            "_view_module_version": "1.2.0",
            "_view_name": "StyleView",
            "description_width": ""
          }
        },
        "2fca6d976e82471b83e637998a63a4a0": {
          "model_module": "@jupyter-widgets/base",
          "model_name": "LayoutModel",
          "model_module_version": "1.2.0",
          "state": {
            "_model_module": "@jupyter-widgets/base",
            "_model_module_version": "1.2.0",
            "_model_name": "LayoutModel",
            "_view_count": null,
            "_view_module": "@jupyter-widgets/base",
            "_view_module_version": "1.2.0",
            "_view_name": "LayoutView",
            "align_content": null,
            "align_items": null,
            "align_self": null,
            "border": null,
            "bottom": null,
            "display": null,
            "flex": null,
            "flex_flow": null,
            "grid_area": null,
            "grid_auto_columns": null,
            "grid_auto_flow": null,
            "grid_auto_rows": null,
            "grid_column": null,
            "grid_gap": null,
            "grid_row": null,
            "grid_template_areas": null,
            "grid_template_columns": null,
            "grid_template_rows": null,
            "height": null,
            "justify_content": null,
            "justify_items": null,
            "left": null,
            "margin": null,
            "max_height": null,
            "max_width": null,
            "min_height": null,
            "min_width": null,
            "object_fit": null,
            "object_position": null,
            "order": null,
            "overflow": null,
            "overflow_x": null,
            "overflow_y": null,
            "padding": null,
            "right": null,
            "top": null,
            "visibility": null,
            "width": null
          }
        },
        "4f9d67c4a798495e8c2af58a70f72d6e": {
          "model_module": "@jupyter-widgets/controls",
          "model_name": "ProgressStyleModel",
          "model_module_version": "1.5.0",
          "state": {
            "_model_module": "@jupyter-widgets/controls",
            "_model_module_version": "1.5.0",
            "_model_name": "ProgressStyleModel",
            "_view_count": null,
            "_view_module": "@jupyter-widgets/base",
            "_view_module_version": "1.2.0",
            "_view_name": "StyleView",
            "bar_color": null,
            "description_width": ""
          }
        },
        "a7ba61188e644f7397256ab089948ded": {
          "model_module": "@jupyter-widgets/base",
          "model_name": "LayoutModel",
          "model_module_version": "1.2.0",
          "state": {
            "_model_module": "@jupyter-widgets/base",
            "_model_module_version": "1.2.0",
            "_model_name": "LayoutModel",
            "_view_count": null,
            "_view_module": "@jupyter-widgets/base",
            "_view_module_version": "1.2.0",
            "_view_name": "LayoutView",
            "align_content": null,
            "align_items": null,
            "align_self": null,
            "border": null,
            "bottom": null,
            "display": null,
            "flex": null,
            "flex_flow": null,
            "grid_area": null,
            "grid_auto_columns": null,
            "grid_auto_flow": null,
            "grid_auto_rows": null,
            "grid_column": null,
            "grid_gap": null,
            "grid_row": null,
            "grid_template_areas": null,
            "grid_template_columns": null,
            "grid_template_rows": null,
            "height": null,
            "justify_content": null,
            "justify_items": null,
            "left": null,
            "margin": null,
            "max_height": null,
            "max_width": null,
            "min_height": null,
            "min_width": null,
            "object_fit": null,
            "object_position": null,
            "order": null,
            "overflow": null,
            "overflow_x": null,
            "overflow_y": null,
            "padding": null,
            "right": null,
            "top": null,
            "visibility": null,
            "width": null
          }
        },
        "8ca63a83f038481a81127decc4ff4b1e": {
          "model_module": "@jupyter-widgets/controls",
          "model_name": "DescriptionStyleModel",
          "model_module_version": "1.5.0",
          "state": {
            "_model_module": "@jupyter-widgets/controls",
            "_model_module_version": "1.5.0",
            "_model_name": "DescriptionStyleModel",
            "_view_count": null,
            "_view_module": "@jupyter-widgets/base",
            "_view_module_version": "1.2.0",
            "_view_name": "StyleView",
            "description_width": ""
          }
        },
        "f724f7345d5e4ce492928ffd20ab5558": {
          "model_module": "@jupyter-widgets/controls",
          "model_name": "HBoxModel",
          "model_module_version": "1.5.0",
          "state": {
            "_dom_classes": [],
            "_model_module": "@jupyter-widgets/controls",
            "_model_module_version": "1.5.0",
            "_model_name": "HBoxModel",
            "_view_count": null,
            "_view_module": "@jupyter-widgets/controls",
            "_view_module_version": "1.5.0",
            "_view_name": "HBoxView",
            "box_style": "",
            "children": [
              "IPY_MODEL_48f7d3873a624c0c8d815bdd7b286d52",
              "IPY_MODEL_40633276ea164857860e5938f1cccb15",
              "IPY_MODEL_424070ec6f9348cb83d597757d764fa7"
            ],
            "layout": "IPY_MODEL_57ca504febe040a5b91e867b7a095253"
          }
        },
        "48f7d3873a624c0c8d815bdd7b286d52": {
          "model_module": "@jupyter-widgets/controls",
          "model_name": "HTMLModel",
          "model_module_version": "1.5.0",
          "state": {
            "_dom_classes": [],
            "_model_module": "@jupyter-widgets/controls",
            "_model_module_version": "1.5.0",
            "_model_name": "HTMLModel",
            "_view_count": null,
            "_view_module": "@jupyter-widgets/controls",
            "_view_module_version": "1.5.0",
            "_view_name": "HTMLView",
            "description": "",
            "description_tooltip": null,
            "layout": "IPY_MODEL_2876ef97a87f4d5b83838af80a956108",
            "placeholder": "​",
            "style": "IPY_MODEL_13c614c6265b46df9b4163fde5b49c2a",
            "value": "tokenizer_config.json: 100%"
          }
        },
        "40633276ea164857860e5938f1cccb15": {
          "model_module": "@jupyter-widgets/controls",
          "model_name": "FloatProgressModel",
          "model_module_version": "1.5.0",
          "state": {
            "_dom_classes": [],
            "_model_module": "@jupyter-widgets/controls",
            "_model_module_version": "1.5.0",
            "_model_name": "FloatProgressModel",
            "_view_count": null,
            "_view_module": "@jupyter-widgets/controls",
            "_view_module_version": "1.5.0",
            "_view_name": "ProgressView",
            "bar_style": "success",
            "description": "",
            "description_tooltip": null,
            "layout": "IPY_MODEL_1249b583c9b647319c07674751d50577",
            "max": 25,
            "min": 0,
            "orientation": "horizontal",
            "style": "IPY_MODEL_189bb859447047188fd2cc4ec857791f",
            "value": 25
          }
        },
        "424070ec6f9348cb83d597757d764fa7": {
          "model_module": "@jupyter-widgets/controls",
          "model_name": "HTMLModel",
          "model_module_version": "1.5.0",
          "state": {
            "_dom_classes": [],
            "_model_module": "@jupyter-widgets/controls",
            "_model_module_version": "1.5.0",
            "_model_name": "HTMLModel",
            "_view_count": null,
            "_view_module": "@jupyter-widgets/controls",
            "_view_module_version": "1.5.0",
            "_view_name": "HTMLView",
            "description": "",
            "description_tooltip": null,
            "layout": "IPY_MODEL_69a302d0d4344f4fa2de29909f011a1b",
            "placeholder": "​",
            "style": "IPY_MODEL_39abf9aba91b4822a48db9efa8c32e2b",
            "value": " 25.0/25.0 [00:00&lt;00:00, 1.70kB/s]"
          }
        },
        "57ca504febe040a5b91e867b7a095253": {
          "model_module": "@jupyter-widgets/base",
          "model_name": "LayoutModel",
          "model_module_version": "1.2.0",
          "state": {
            "_model_module": "@jupyter-widgets/base",
            "_model_module_version": "1.2.0",
            "_model_name": "LayoutModel",
            "_view_count": null,
            "_view_module": "@jupyter-widgets/base",
            "_view_module_version": "1.2.0",
            "_view_name": "LayoutView",
            "align_content": null,
            "align_items": null,
            "align_self": null,
            "border": null,
            "bottom": null,
            "display": null,
            "flex": null,
            "flex_flow": null,
            "grid_area": null,
            "grid_auto_columns": null,
            "grid_auto_flow": null,
            "grid_auto_rows": null,
            "grid_column": null,
            "grid_gap": null,
            "grid_row": null,
            "grid_template_areas": null,
            "grid_template_columns": null,
            "grid_template_rows": null,
            "height": null,
            "justify_content": null,
            "justify_items": null,
            "left": null,
            "margin": null,
            "max_height": null,
            "max_width": null,
            "min_height": null,
            "min_width": null,
            "object_fit": null,
            "object_position": null,
            "order": null,
            "overflow": null,
            "overflow_x": null,
            "overflow_y": null,
            "padding": null,
            "right": null,
            "top": null,
            "visibility": null,
            "width": null
          }
        },
        "2876ef97a87f4d5b83838af80a956108": {
          "model_module": "@jupyter-widgets/base",
          "model_name": "LayoutModel",
          "model_module_version": "1.2.0",
          "state": {
            "_model_module": "@jupyter-widgets/base",
            "_model_module_version": "1.2.0",
            "_model_name": "LayoutModel",
            "_view_count": null,
            "_view_module": "@jupyter-widgets/base",
            "_view_module_version": "1.2.0",
            "_view_name": "LayoutView",
            "align_content": null,
            "align_items": null,
            "align_self": null,
            "border": null,
            "bottom": null,
            "display": null,
            "flex": null,
            "flex_flow": null,
            "grid_area": null,
            "grid_auto_columns": null,
            "grid_auto_flow": null,
            "grid_auto_rows": null,
            "grid_column": null,
            "grid_gap": null,
            "grid_row": null,
            "grid_template_areas": null,
            "grid_template_columns": null,
            "grid_template_rows": null,
            "height": null,
            "justify_content": null,
            "justify_items": null,
            "left": null,
            "margin": null,
            "max_height": null,
            "max_width": null,
            "min_height": null,
            "min_width": null,
            "object_fit": null,
            "object_position": null,
            "order": null,
            "overflow": null,
            "overflow_x": null,
            "overflow_y": null,
            "padding": null,
            "right": null,
            "top": null,
            "visibility": null,
            "width": null
          }
        },
        "13c614c6265b46df9b4163fde5b49c2a": {
          "model_module": "@jupyter-widgets/controls",
          "model_name": "DescriptionStyleModel",
          "model_module_version": "1.5.0",
          "state": {
            "_model_module": "@jupyter-widgets/controls",
            "_model_module_version": "1.5.0",
            "_model_name": "DescriptionStyleModel",
            "_view_count": null,
            "_view_module": "@jupyter-widgets/base",
            "_view_module_version": "1.2.0",
            "_view_name": "StyleView",
            "description_width": ""
          }
        },
        "1249b583c9b647319c07674751d50577": {
          "model_module": "@jupyter-widgets/base",
          "model_name": "LayoutModel",
          "model_module_version": "1.2.0",
          "state": {
            "_model_module": "@jupyter-widgets/base",
            "_model_module_version": "1.2.0",
            "_model_name": "LayoutModel",
            "_view_count": null,
            "_view_module": "@jupyter-widgets/base",
            "_view_module_version": "1.2.0",
            "_view_name": "LayoutView",
            "align_content": null,
            "align_items": null,
            "align_self": null,
            "border": null,
            "bottom": null,
            "display": null,
            "flex": null,
            "flex_flow": null,
            "grid_area": null,
            "grid_auto_columns": null,
            "grid_auto_flow": null,
            "grid_auto_rows": null,
            "grid_column": null,
            "grid_gap": null,
            "grid_row": null,
            "grid_template_areas": null,
            "grid_template_columns": null,
            "grid_template_rows": null,
            "height": null,
            "justify_content": null,
            "justify_items": null,
            "left": null,
            "margin": null,
            "max_height": null,
            "max_width": null,
            "min_height": null,
            "min_width": null,
            "object_fit": null,
            "object_position": null,
            "order": null,
            "overflow": null,
            "overflow_x": null,
            "overflow_y": null,
            "padding": null,
            "right": null,
            "top": null,
            "visibility": null,
            "width": null
          }
        },
        "189bb859447047188fd2cc4ec857791f": {
          "model_module": "@jupyter-widgets/controls",
          "model_name": "ProgressStyleModel",
          "model_module_version": "1.5.0",
          "state": {
            "_model_module": "@jupyter-widgets/controls",
            "_model_module_version": "1.5.0",
            "_model_name": "ProgressStyleModel",
            "_view_count": null,
            "_view_module": "@jupyter-widgets/base",
            "_view_module_version": "1.2.0",
            "_view_name": "StyleView",
            "bar_color": null,
            "description_width": ""
          }
        },
        "69a302d0d4344f4fa2de29909f011a1b": {
          "model_module": "@jupyter-widgets/base",
          "model_name": "LayoutModel",
          "model_module_version": "1.2.0",
          "state": {
            "_model_module": "@jupyter-widgets/base",
            "_model_module_version": "1.2.0",
            "_model_name": "LayoutModel",
            "_view_count": null,
            "_view_module": "@jupyter-widgets/base",
            "_view_module_version": "1.2.0",
            "_view_name": "LayoutView",
            "align_content": null,
            "align_items": null,
            "align_self": null,
            "border": null,
            "bottom": null,
            "display": null,
            "flex": null,
            "flex_flow": null,
            "grid_area": null,
            "grid_auto_columns": null,
            "grid_auto_flow": null,
            "grid_auto_rows": null,
            "grid_column": null,
            "grid_gap": null,
            "grid_row": null,
            "grid_template_areas": null,
            "grid_template_columns": null,
            "grid_template_rows": null,
            "height": null,
            "justify_content": null,
            "justify_items": null,
            "left": null,
            "margin": null,
            "max_height": null,
            "max_width": null,
            "min_height": null,
            "min_width": null,
            "object_fit": null,
            "object_position": null,
            "order": null,
            "overflow": null,
            "overflow_x": null,
            "overflow_y": null,
            "padding": null,
            "right": null,
            "top": null,
            "visibility": null,
            "width": null
          }
        },
        "39abf9aba91b4822a48db9efa8c32e2b": {
          "model_module": "@jupyter-widgets/controls",
          "model_name": "DescriptionStyleModel",
          "model_module_version": "1.5.0",
          "state": {
            "_model_module": "@jupyter-widgets/controls",
            "_model_module_version": "1.5.0",
            "_model_name": "DescriptionStyleModel",
            "_view_count": null,
            "_view_module": "@jupyter-widgets/base",
            "_view_module_version": "1.2.0",
            "_view_name": "StyleView",
            "description_width": ""
          }
        },
        "6a75f797e81048899831b54eb347ae1d": {
          "model_module": "@jupyter-widgets/controls",
          "model_name": "HBoxModel",
          "model_module_version": "1.5.0",
          "state": {
            "_dom_classes": [],
            "_model_module": "@jupyter-widgets/controls",
            "_model_module_version": "1.5.0",
            "_model_name": "HBoxModel",
            "_view_count": null,
            "_view_module": "@jupyter-widgets/controls",
            "_view_module_version": "1.5.0",
            "_view_name": "HBoxView",
            "box_style": "",
            "children": [
              "IPY_MODEL_9b36f39f690643ba92cd81210e4d77a3",
              "IPY_MODEL_e948fc3c4ce845b0a4105a1fa3582e48",
              "IPY_MODEL_7f49359f4f2e4492be9b97f1f09793bc"
            ],
            "layout": "IPY_MODEL_e58b2c87e9ee4838b442855c36fce939"
          }
        },
        "9b36f39f690643ba92cd81210e4d77a3": {
          "model_module": "@jupyter-widgets/controls",
          "model_name": "HTMLModel",
          "model_module_version": "1.5.0",
          "state": {
            "_dom_classes": [],
            "_model_module": "@jupyter-widgets/controls",
            "_model_module_version": "1.5.0",
            "_model_name": "HTMLModel",
            "_view_count": null,
            "_view_module": "@jupyter-widgets/controls",
            "_view_module_version": "1.5.0",
            "_view_name": "HTMLView",
            "description": "",
            "description_tooltip": null,
            "layout": "IPY_MODEL_161ea135cb9a4cf4b7a2352980fb417d",
            "placeholder": "​",
            "style": "IPY_MODEL_b5047bfa21ad4fab9d2db1191428ffb3",
            "value": "vocab.json: 100%"
          }
        },
        "e948fc3c4ce845b0a4105a1fa3582e48": {
          "model_module": "@jupyter-widgets/controls",
          "model_name": "FloatProgressModel",
          "model_module_version": "1.5.0",
          "state": {
            "_dom_classes": [],
            "_model_module": "@jupyter-widgets/controls",
            "_model_module_version": "1.5.0",
            "_model_name": "FloatProgressModel",
            "_view_count": null,
            "_view_module": "@jupyter-widgets/controls",
            "_view_module_version": "1.5.0",
            "_view_name": "ProgressView",
            "bar_style": "success",
            "description": "",
            "description_tooltip": null,
            "layout": "IPY_MODEL_89ee7e80f8ed4ddbaff96926dcd879a3",
            "max": 898823,
            "min": 0,
            "orientation": "horizontal",
            "style": "IPY_MODEL_35eeebb1c60342d499c23511a9fbd1b8",
            "value": 898823
          }
        },
        "7f49359f4f2e4492be9b97f1f09793bc": {
          "model_module": "@jupyter-widgets/controls",
          "model_name": "HTMLModel",
          "model_module_version": "1.5.0",
          "state": {
            "_dom_classes": [],
            "_model_module": "@jupyter-widgets/controls",
            "_model_module_version": "1.5.0",
            "_model_name": "HTMLModel",
            "_view_count": null,
            "_view_module": "@jupyter-widgets/controls",
            "_view_module_version": "1.5.0",
            "_view_name": "HTMLView",
            "description": "",
            "description_tooltip": null,
            "layout": "IPY_MODEL_29cd533f3a5a4b6e82c422d0ba09d52b",
            "placeholder": "​",
            "style": "IPY_MODEL_aa9e3e2c98fa4f5ba9ee523b412cc8d6",
            "value": " 899k/899k [00:00&lt;00:00, 8.92MB/s]"
          }
        },
        "e58b2c87e9ee4838b442855c36fce939": {
          "model_module": "@jupyter-widgets/base",
          "model_name": "LayoutModel",
          "model_module_version": "1.2.0",
          "state": {
            "_model_module": "@jupyter-widgets/base",
            "_model_module_version": "1.2.0",
            "_model_name": "LayoutModel",
            "_view_count": null,
            "_view_module": "@jupyter-widgets/base",
            "_view_module_version": "1.2.0",
            "_view_name": "LayoutView",
            "align_content": null,
            "align_items": null,
            "align_self": null,
            "border": null,
            "bottom": null,
            "display": null,
            "flex": null,
            "flex_flow": null,
            "grid_area": null,
            "grid_auto_columns": null,
            "grid_auto_flow": null,
            "grid_auto_rows": null,
            "grid_column": null,
            "grid_gap": null,
            "grid_row": null,
            "grid_template_areas": null,
            "grid_template_columns": null,
            "grid_template_rows": null,
            "height": null,
            "justify_content": null,
            "justify_items": null,
            "left": null,
            "margin": null,
            "max_height": null,
            "max_width": null,
            "min_height": null,
            "min_width": null,
            "object_fit": null,
            "object_position": null,
            "order": null,
            "overflow": null,
            "overflow_x": null,
            "overflow_y": null,
            "padding": null,
            "right": null,
            "top": null,
            "visibility": null,
            "width": null
          }
        },
        "161ea135cb9a4cf4b7a2352980fb417d": {
          "model_module": "@jupyter-widgets/base",
          "model_name": "LayoutModel",
          "model_module_version": "1.2.0",
          "state": {
            "_model_module": "@jupyter-widgets/base",
            "_model_module_version": "1.2.0",
            "_model_name": "LayoutModel",
            "_view_count": null,
            "_view_module": "@jupyter-widgets/base",
            "_view_module_version": "1.2.0",
            "_view_name": "LayoutView",
            "align_content": null,
            "align_items": null,
            "align_self": null,
            "border": null,
            "bottom": null,
            "display": null,
            "flex": null,
            "flex_flow": null,
            "grid_area": null,
            "grid_auto_columns": null,
            "grid_auto_flow": null,
            "grid_auto_rows": null,
            "grid_column": null,
            "grid_gap": null,
            "grid_row": null,
            "grid_template_areas": null,
            "grid_template_columns": null,
            "grid_template_rows": null,
            "height": null,
            "justify_content": null,
            "justify_items": null,
            "left": null,
            "margin": null,
            "max_height": null,
            "max_width": null,
            "min_height": null,
            "min_width": null,
            "object_fit": null,
            "object_position": null,
            "order": null,
            "overflow": null,
            "overflow_x": null,
            "overflow_y": null,
            "padding": null,
            "right": null,
            "top": null,
            "visibility": null,
            "width": null
          }
        },
        "b5047bfa21ad4fab9d2db1191428ffb3": {
          "model_module": "@jupyter-widgets/controls",
          "model_name": "DescriptionStyleModel",
          "model_module_version": "1.5.0",
          "state": {
            "_model_module": "@jupyter-widgets/controls",
            "_model_module_version": "1.5.0",
            "_model_name": "DescriptionStyleModel",
            "_view_count": null,
            "_view_module": "@jupyter-widgets/base",
            "_view_module_version": "1.2.0",
            "_view_name": "StyleView",
            "description_width": ""
          }
        },
        "89ee7e80f8ed4ddbaff96926dcd879a3": {
          "model_module": "@jupyter-widgets/base",
          "model_name": "LayoutModel",
          "model_module_version": "1.2.0",
          "state": {
            "_model_module": "@jupyter-widgets/base",
            "_model_module_version": "1.2.0",
            "_model_name": "LayoutModel",
            "_view_count": null,
            "_view_module": "@jupyter-widgets/base",
            "_view_module_version": "1.2.0",
            "_view_name": "LayoutView",
            "align_content": null,
            "align_items": null,
            "align_self": null,
            "border": null,
            "bottom": null,
            "display": null,
            "flex": null,
            "flex_flow": null,
            "grid_area": null,
            "grid_auto_columns": null,
            "grid_auto_flow": null,
            "grid_auto_rows": null,
            "grid_column": null,
            "grid_gap": null,
            "grid_row": null,
            "grid_template_areas": null,
            "grid_template_columns": null,
            "grid_template_rows": null,
            "height": null,
            "justify_content": null,
            "justify_items": null,
            "left": null,
            "margin": null,
            "max_height": null,
            "max_width": null,
            "min_height": null,
            "min_width": null,
            "object_fit": null,
            "object_position": null,
            "order": null,
            "overflow": null,
            "overflow_x": null,
            "overflow_y": null,
            "padding": null,
            "right": null,
            "top": null,
            "visibility": null,
            "width": null
          }
        },
        "35eeebb1c60342d499c23511a9fbd1b8": {
          "model_module": "@jupyter-widgets/controls",
          "model_name": "ProgressStyleModel",
          "model_module_version": "1.5.0",
          "state": {
            "_model_module": "@jupyter-widgets/controls",
            "_model_module_version": "1.5.0",
            "_model_name": "ProgressStyleModel",
            "_view_count": null,
            "_view_module": "@jupyter-widgets/base",
            "_view_module_version": "1.2.0",
            "_view_name": "StyleView",
            "bar_color": null,
            "description_width": ""
          }
        },
        "29cd533f3a5a4b6e82c422d0ba09d52b": {
          "model_module": "@jupyter-widgets/base",
          "model_name": "LayoutModel",
          "model_module_version": "1.2.0",
          "state": {
            "_model_module": "@jupyter-widgets/base",
            "_model_module_version": "1.2.0",
            "_model_name": "LayoutModel",
            "_view_count": null,
            "_view_module": "@jupyter-widgets/base",
            "_view_module_version": "1.2.0",
            "_view_name": "LayoutView",
            "align_content": null,
            "align_items": null,
            "align_self": null,
            "border": null,
            "bottom": null,
            "display": null,
            "flex": null,
            "flex_flow": null,
            "grid_area": null,
            "grid_auto_columns": null,
            "grid_auto_flow": null,
            "grid_auto_rows": null,
            "grid_column": null,
            "grid_gap": null,
            "grid_row": null,
            "grid_template_areas": null,
            "grid_template_columns": null,
            "grid_template_rows": null,
            "height": null,
            "justify_content": null,
            "justify_items": null,
            "left": null,
            "margin": null,
            "max_height": null,
            "max_width": null,
            "min_height": null,
            "min_width": null,
            "object_fit": null,
            "object_position": null,
            "order": null,
            "overflow": null,
            "overflow_x": null,
            "overflow_y": null,
            "padding": null,
            "right": null,
            "top": null,
            "visibility": null,
            "width": null
          }
        },
        "aa9e3e2c98fa4f5ba9ee523b412cc8d6": {
          "model_module": "@jupyter-widgets/controls",
          "model_name": "DescriptionStyleModel",
          "model_module_version": "1.5.0",
          "state": {
            "_model_module": "@jupyter-widgets/controls",
            "_model_module_version": "1.5.0",
            "_model_name": "DescriptionStyleModel",
            "_view_count": null,
            "_view_module": "@jupyter-widgets/base",
            "_view_module_version": "1.2.0",
            "_view_name": "StyleView",
            "description_width": ""
          }
        },
        "1361d3c21bf1427eaa22f1abbce615ac": {
          "model_module": "@jupyter-widgets/controls",
          "model_name": "HBoxModel",
          "model_module_version": "1.5.0",
          "state": {
            "_dom_classes": [],
            "_model_module": "@jupyter-widgets/controls",
            "_model_module_version": "1.5.0",
            "_model_name": "HBoxModel",
            "_view_count": null,
            "_view_module": "@jupyter-widgets/controls",
            "_view_module_version": "1.5.0",
            "_view_name": "HBoxView",
            "box_style": "",
            "children": [
              "IPY_MODEL_54f8ba5b15794a2b824f4615da867ec5",
              "IPY_MODEL_c771a29a92694dc6ad2eec987df637ca",
              "IPY_MODEL_7b6dc2d5b5d54d8ab516d0fb4f095d7e"
            ],
            "layout": "IPY_MODEL_a25777a1d3224b8183f1d660aeba63f7"
          }
        },
        "54f8ba5b15794a2b824f4615da867ec5": {
          "model_module": "@jupyter-widgets/controls",
          "model_name": "HTMLModel",
          "model_module_version": "1.5.0",
          "state": {
            "_dom_classes": [],
            "_model_module": "@jupyter-widgets/controls",
            "_model_module_version": "1.5.0",
            "_model_name": "HTMLModel",
            "_view_count": null,
            "_view_module": "@jupyter-widgets/controls",
            "_view_module_version": "1.5.0",
            "_view_name": "HTMLView",
            "description": "",
            "description_tooltip": null,
            "layout": "IPY_MODEL_35f04e3251de4cc9a68732a74a78a3a0",
            "placeholder": "​",
            "style": "IPY_MODEL_5a43b8b845ab465f8a8c8fd31c1d2929",
            "value": "merges.txt: 100%"
          }
        },
        "c771a29a92694dc6ad2eec987df637ca": {
          "model_module": "@jupyter-widgets/controls",
          "model_name": "FloatProgressModel",
          "model_module_version": "1.5.0",
          "state": {
            "_dom_classes": [],
            "_model_module": "@jupyter-widgets/controls",
            "_model_module_version": "1.5.0",
            "_model_name": "FloatProgressModel",
            "_view_count": null,
            "_view_module": "@jupyter-widgets/controls",
            "_view_module_version": "1.5.0",
            "_view_name": "ProgressView",
            "bar_style": "success",
            "description": "",
            "description_tooltip": null,
            "layout": "IPY_MODEL_57536a8019064c3f85abde41a46572a2",
            "max": 456318,
            "min": 0,
            "orientation": "horizontal",
            "style": "IPY_MODEL_2cc91472453c4c33a307efc4145ca9bd",
            "value": 456318
          }
        },
        "7b6dc2d5b5d54d8ab516d0fb4f095d7e": {
          "model_module": "@jupyter-widgets/controls",
          "model_name": "HTMLModel",
          "model_module_version": "1.5.0",
          "state": {
            "_dom_classes": [],
            "_model_module": "@jupyter-widgets/controls",
            "_model_module_version": "1.5.0",
            "_model_name": "HTMLModel",
            "_view_count": null,
            "_view_module": "@jupyter-widgets/controls",
            "_view_module_version": "1.5.0",
            "_view_name": "HTMLView",
            "description": "",
            "description_tooltip": null,
            "layout": "IPY_MODEL_e82109fc2c2949d98ccecb11f247ca3f",
            "placeholder": "​",
            "style": "IPY_MODEL_04cffa49ac2c45218338cb4a94e057d1",
            "value": " 456k/456k [00:00&lt;00:00, 3.75MB/s]"
          }
        },
        "a25777a1d3224b8183f1d660aeba63f7": {
          "model_module": "@jupyter-widgets/base",
          "model_name": "LayoutModel",
          "model_module_version": "1.2.0",
          "state": {
            "_model_module": "@jupyter-widgets/base",
            "_model_module_version": "1.2.0",
            "_model_name": "LayoutModel",
            "_view_count": null,
            "_view_module": "@jupyter-widgets/base",
            "_view_module_version": "1.2.0",
            "_view_name": "LayoutView",
            "align_content": null,
            "align_items": null,
            "align_self": null,
            "border": null,
            "bottom": null,
            "display": null,
            "flex": null,
            "flex_flow": null,
            "grid_area": null,
            "grid_auto_columns": null,
            "grid_auto_flow": null,
            "grid_auto_rows": null,
            "grid_column": null,
            "grid_gap": null,
            "grid_row": null,
            "grid_template_areas": null,
            "grid_template_columns": null,
            "grid_template_rows": null,
            "height": null,
            "justify_content": null,
            "justify_items": null,
            "left": null,
            "margin": null,
            "max_height": null,
            "max_width": null,
            "min_height": null,
            "min_width": null,
            "object_fit": null,
            "object_position": null,
            "order": null,
            "overflow": null,
            "overflow_x": null,
            "overflow_y": null,
            "padding": null,
            "right": null,
            "top": null,
            "visibility": null,
            "width": null
          }
        },
        "35f04e3251de4cc9a68732a74a78a3a0": {
          "model_module": "@jupyter-widgets/base",
          "model_name": "LayoutModel",
          "model_module_version": "1.2.0",
          "state": {
            "_model_module": "@jupyter-widgets/base",
            "_model_module_version": "1.2.0",
            "_model_name": "LayoutModel",
            "_view_count": null,
            "_view_module": "@jupyter-widgets/base",
            "_view_module_version": "1.2.0",
            "_view_name": "LayoutView",
            "align_content": null,
            "align_items": null,
            "align_self": null,
            "border": null,
            "bottom": null,
            "display": null,
            "flex": null,
            "flex_flow": null,
            "grid_area": null,
            "grid_auto_columns": null,
            "grid_auto_flow": null,
            "grid_auto_rows": null,
            "grid_column": null,
            "grid_gap": null,
            "grid_row": null,
            "grid_template_areas": null,
            "grid_template_columns": null,
            "grid_template_rows": null,
            "height": null,
            "justify_content": null,
            "justify_items": null,
            "left": null,
            "margin": null,
            "max_height": null,
            "max_width": null,
            "min_height": null,
            "min_width": null,
            "object_fit": null,
            "object_position": null,
            "order": null,
            "overflow": null,
            "overflow_x": null,
            "overflow_y": null,
            "padding": null,
            "right": null,
            "top": null,
            "visibility": null,
            "width": null
          }
        },
        "5a43b8b845ab465f8a8c8fd31c1d2929": {
          "model_module": "@jupyter-widgets/controls",
          "model_name": "DescriptionStyleModel",
          "model_module_version": "1.5.0",
          "state": {
            "_model_module": "@jupyter-widgets/controls",
            "_model_module_version": "1.5.0",
            "_model_name": "DescriptionStyleModel",
            "_view_count": null,
            "_view_module": "@jupyter-widgets/base",
            "_view_module_version": "1.2.0",
            "_view_name": "StyleView",
            "description_width": ""
          }
        },
        "57536a8019064c3f85abde41a46572a2": {
          "model_module": "@jupyter-widgets/base",
          "model_name": "LayoutModel",
          "model_module_version": "1.2.0",
          "state": {
            "_model_module": "@jupyter-widgets/base",
            "_model_module_version": "1.2.0",
            "_model_name": "LayoutModel",
            "_view_count": null,
            "_view_module": "@jupyter-widgets/base",
            "_view_module_version": "1.2.0",
            "_view_name": "LayoutView",
            "align_content": null,
            "align_items": null,
            "align_self": null,
            "border": null,
            "bottom": null,
            "display": null,
            "flex": null,
            "flex_flow": null,
            "grid_area": null,
            "grid_auto_columns": null,
            "grid_auto_flow": null,
            "grid_auto_rows": null,
            "grid_column": null,
            "grid_gap": null,
            "grid_row": null,
            "grid_template_areas": null,
            "grid_template_columns": null,
            "grid_template_rows": null,
            "height": null,
            "justify_content": null,
            "justify_items": null,
            "left": null,
            "margin": null,
            "max_height": null,
            "max_width": null,
            "min_height": null,
            "min_width": null,
            "object_fit": null,
            "object_position": null,
            "order": null,
            "overflow": null,
            "overflow_x": null,
            "overflow_y": null,
            "padding": null,
            "right": null,
            "top": null,
            "visibility": null,
            "width": null
          }
        },
        "2cc91472453c4c33a307efc4145ca9bd": {
          "model_module": "@jupyter-widgets/controls",
          "model_name": "ProgressStyleModel",
          "model_module_version": "1.5.0",
          "state": {
            "_model_module": "@jupyter-widgets/controls",
            "_model_module_version": "1.5.0",
            "_model_name": "ProgressStyleModel",
            "_view_count": null,
            "_view_module": "@jupyter-widgets/base",
            "_view_module_version": "1.2.0",
            "_view_name": "StyleView",
            "bar_color": null,
            "description_width": ""
          }
        },
        "e82109fc2c2949d98ccecb11f247ca3f": {
          "model_module": "@jupyter-widgets/base",
          "model_name": "LayoutModel",
          "model_module_version": "1.2.0",
          "state": {
            "_model_module": "@jupyter-widgets/base",
            "_model_module_version": "1.2.0",
            "_model_name": "LayoutModel",
            "_view_count": null,
            "_view_module": "@jupyter-widgets/base",
            "_view_module_version": "1.2.0",
            "_view_name": "LayoutView",
            "align_content": null,
            "align_items": null,
            "align_self": null,
            "border": null,
            "bottom": null,
            "display": null,
            "flex": null,
            "flex_flow": null,
            "grid_area": null,
            "grid_auto_columns": null,
            "grid_auto_flow": null,
            "grid_auto_rows": null,
            "grid_column": null,
            "grid_gap": null,
            "grid_row": null,
            "grid_template_areas": null,
            "grid_template_columns": null,
            "grid_template_rows": null,
            "height": null,
            "justify_content": null,
            "justify_items": null,
            "left": null,
            "margin": null,
            "max_height": null,
            "max_width": null,
            "min_height": null,
            "min_width": null,
            "object_fit": null,
            "object_position": null,
            "order": null,
            "overflow": null,
            "overflow_x": null,
            "overflow_y": null,
            "padding": null,
            "right": null,
            "top": null,
            "visibility": null,
            "width": null
          }
        },
        "04cffa49ac2c45218338cb4a94e057d1": {
          "model_module": "@jupyter-widgets/controls",
          "model_name": "DescriptionStyleModel",
          "model_module_version": "1.5.0",
          "state": {
            "_model_module": "@jupyter-widgets/controls",
            "_model_module_version": "1.5.0",
            "_model_name": "DescriptionStyleModel",
            "_view_count": null,
            "_view_module": "@jupyter-widgets/base",
            "_view_module_version": "1.2.0",
            "_view_name": "StyleView",
            "description_width": ""
          }
        },
        "3c69e0e354484e588c34b30cb385c23b": {
          "model_module": "@jupyter-widgets/controls",
          "model_name": "HBoxModel",
          "model_module_version": "1.5.0",
          "state": {
            "_dom_classes": [],
            "_model_module": "@jupyter-widgets/controls",
            "_model_module_version": "1.5.0",
            "_model_name": "HBoxModel",
            "_view_count": null,
            "_view_module": "@jupyter-widgets/controls",
            "_view_module_version": "1.5.0",
            "_view_name": "HBoxView",
            "box_style": "",
            "children": [
              "IPY_MODEL_2849047faeeb4304a35055e846ab0496",
              "IPY_MODEL_cb4c2d557d51472485ecb1896a10ad7c",
              "IPY_MODEL_e39ebae0e0db4c32a7df068e7012ec7a"
            ],
            "layout": "IPY_MODEL_d71842bb6f6d415c92ff65a91f61cb2d"
          }
        },
        "2849047faeeb4304a35055e846ab0496": {
          "model_module": "@jupyter-widgets/controls",
          "model_name": "HTMLModel",
          "model_module_version": "1.5.0",
          "state": {
            "_dom_classes": [],
            "_model_module": "@jupyter-widgets/controls",
            "_model_module_version": "1.5.0",
            "_model_name": "HTMLModel",
            "_view_count": null,
            "_view_module": "@jupyter-widgets/controls",
            "_view_module_version": "1.5.0",
            "_view_name": "HTMLView",
            "description": "",
            "description_tooltip": null,
            "layout": "IPY_MODEL_e0b5102a12ab41208a98c4be4cf15276",
            "placeholder": "​",
            "style": "IPY_MODEL_bd1890fa49ee42f8a98a7b0f18c1df25",
            "value": "tokenizer.json: 100%"
          }
        },
        "cb4c2d557d51472485ecb1896a10ad7c": {
          "model_module": "@jupyter-widgets/controls",
          "model_name": "FloatProgressModel",
          "model_module_version": "1.5.0",
          "state": {
            "_dom_classes": [],
            "_model_module": "@jupyter-widgets/controls",
            "_model_module_version": "1.5.0",
            "_model_name": "FloatProgressModel",
            "_view_count": null,
            "_view_module": "@jupyter-widgets/controls",
            "_view_module_version": "1.5.0",
            "_view_name": "ProgressView",
            "bar_style": "success",
            "description": "",
            "description_tooltip": null,
            "layout": "IPY_MODEL_b320f7f4a75b4a4f860e052d3fec9ca1",
            "max": 1355863,
            "min": 0,
            "orientation": "horizontal",
            "style": "IPY_MODEL_5b453d2add60436da76f015d273f6d29",
            "value": 1355863
          }
        },
        "e39ebae0e0db4c32a7df068e7012ec7a": {
          "model_module": "@jupyter-widgets/controls",
          "model_name": "HTMLModel",
          "model_module_version": "1.5.0",
          "state": {
            "_dom_classes": [],
            "_model_module": "@jupyter-widgets/controls",
            "_model_module_version": "1.5.0",
            "_model_name": "HTMLModel",
            "_view_count": null,
            "_view_module": "@jupyter-widgets/controls",
            "_view_module_version": "1.5.0",
            "_view_name": "HTMLView",
            "description": "",
            "description_tooltip": null,
            "layout": "IPY_MODEL_0fd7526b51de428089ca570470fd61f1",
            "placeholder": "​",
            "style": "IPY_MODEL_c4aa3ad85c924423b8dad20ebeea3de0",
            "value": " 1.36M/1.36M [00:00&lt;00:00, 12.3MB/s]"
          }
        },
        "d71842bb6f6d415c92ff65a91f61cb2d": {
          "model_module": "@jupyter-widgets/base",
          "model_name": "LayoutModel",
          "model_module_version": "1.2.0",
          "state": {
            "_model_module": "@jupyter-widgets/base",
            "_model_module_version": "1.2.0",
            "_model_name": "LayoutModel",
            "_view_count": null,
            "_view_module": "@jupyter-widgets/base",
            "_view_module_version": "1.2.0",
            "_view_name": "LayoutView",
            "align_content": null,
            "align_items": null,
            "align_self": null,
            "border": null,
            "bottom": null,
            "display": null,
            "flex": null,
            "flex_flow": null,
            "grid_area": null,
            "grid_auto_columns": null,
            "grid_auto_flow": null,
            "grid_auto_rows": null,
            "grid_column": null,
            "grid_gap": null,
            "grid_row": null,
            "grid_template_areas": null,
            "grid_template_columns": null,
            "grid_template_rows": null,
            "height": null,
            "justify_content": null,
            "justify_items": null,
            "left": null,
            "margin": null,
            "max_height": null,
            "max_width": null,
            "min_height": null,
            "min_width": null,
            "object_fit": null,
            "object_position": null,
            "order": null,
            "overflow": null,
            "overflow_x": null,
            "overflow_y": null,
            "padding": null,
            "right": null,
            "top": null,
            "visibility": null,
            "width": null
          }
        },
        "e0b5102a12ab41208a98c4be4cf15276": {
          "model_module": "@jupyter-widgets/base",
          "model_name": "LayoutModel",
          "model_module_version": "1.2.0",
          "state": {
            "_model_module": "@jupyter-widgets/base",
            "_model_module_version": "1.2.0",
            "_model_name": "LayoutModel",
            "_view_count": null,
            "_view_module": "@jupyter-widgets/base",
            "_view_module_version": "1.2.0",
            "_view_name": "LayoutView",
            "align_content": null,
            "align_items": null,
            "align_self": null,
            "border": null,
            "bottom": null,
            "display": null,
            "flex": null,
            "flex_flow": null,
            "grid_area": null,
            "grid_auto_columns": null,
            "grid_auto_flow": null,
            "grid_auto_rows": null,
            "grid_column": null,
            "grid_gap": null,
            "grid_row": null,
            "grid_template_areas": null,
            "grid_template_columns": null,
            "grid_template_rows": null,
            "height": null,
            "justify_content": null,
            "justify_items": null,
            "left": null,
            "margin": null,
            "max_height": null,
            "max_width": null,
            "min_height": null,
            "min_width": null,
            "object_fit": null,
            "object_position": null,
            "order": null,
            "overflow": null,
            "overflow_x": null,
            "overflow_y": null,
            "padding": null,
            "right": null,
            "top": null,
            "visibility": null,
            "width": null
          }
        },
        "bd1890fa49ee42f8a98a7b0f18c1df25": {
          "model_module": "@jupyter-widgets/controls",
          "model_name": "DescriptionStyleModel",
          "model_module_version": "1.5.0",
          "state": {
            "_model_module": "@jupyter-widgets/controls",
            "_model_module_version": "1.5.0",
            "_model_name": "DescriptionStyleModel",
            "_view_count": null,
            "_view_module": "@jupyter-widgets/base",
            "_view_module_version": "1.2.0",
            "_view_name": "StyleView",
            "description_width": ""
          }
        },
        "b320f7f4a75b4a4f860e052d3fec9ca1": {
          "model_module": "@jupyter-widgets/base",
          "model_name": "LayoutModel",
          "model_module_version": "1.2.0",
          "state": {
            "_model_module": "@jupyter-widgets/base",
            "_model_module_version": "1.2.0",
            "_model_name": "LayoutModel",
            "_view_count": null,
            "_view_module": "@jupyter-widgets/base",
            "_view_module_version": "1.2.0",
            "_view_name": "LayoutView",
            "align_content": null,
            "align_items": null,
            "align_self": null,
            "border": null,
            "bottom": null,
            "display": null,
            "flex": null,
            "flex_flow": null,
            "grid_area": null,
            "grid_auto_columns": null,
            "grid_auto_flow": null,
            "grid_auto_rows": null,
            "grid_column": null,
            "grid_gap": null,
            "grid_row": null,
            "grid_template_areas": null,
            "grid_template_columns": null,
            "grid_template_rows": null,
            "height": null,
            "justify_content": null,
            "justify_items": null,
            "left": null,
            "margin": null,
            "max_height": null,
            "max_width": null,
            "min_height": null,
            "min_width": null,
            "object_fit": null,
            "object_position": null,
            "order": null,
            "overflow": null,
            "overflow_x": null,
            "overflow_y": null,
            "padding": null,
            "right": null,
            "top": null,
            "visibility": null,
            "width": null
          }
        },
        "5b453d2add60436da76f015d273f6d29": {
          "model_module": "@jupyter-widgets/controls",
          "model_name": "ProgressStyleModel",
          "model_module_version": "1.5.0",
          "state": {
            "_model_module": "@jupyter-widgets/controls",
            "_model_module_version": "1.5.0",
            "_model_name": "ProgressStyleModel",
            "_view_count": null,
            "_view_module": "@jupyter-widgets/base",
            "_view_module_version": "1.2.0",
            "_view_name": "StyleView",
            "bar_color": null,
            "description_width": ""
          }
        },
        "0fd7526b51de428089ca570470fd61f1": {
          "model_module": "@jupyter-widgets/base",
          "model_name": "LayoutModel",
          "model_module_version": "1.2.0",
          "state": {
            "_model_module": "@jupyter-widgets/base",
            "_model_module_version": "1.2.0",
            "_model_name": "LayoutModel",
            "_view_count": null,
            "_view_module": "@jupyter-widgets/base",
            "_view_module_version": "1.2.0",
            "_view_name": "LayoutView",
            "align_content": null,
            "align_items": null,
            "align_self": null,
            "border": null,
            "bottom": null,
            "display": null,
            "flex": null,
            "flex_flow": null,
            "grid_area": null,
            "grid_auto_columns": null,
            "grid_auto_flow": null,
            "grid_auto_rows": null,
            "grid_column": null,
            "grid_gap": null,
            "grid_row": null,
            "grid_template_areas": null,
            "grid_template_columns": null,
            "grid_template_rows": null,
            "height": null,
            "justify_content": null,
            "justify_items": null,
            "left": null,
            "margin": null,
            "max_height": null,
            "max_width": null,
            "min_height": null,
            "min_width": null,
            "object_fit": null,
            "object_position": null,
            "order": null,
            "overflow": null,
            "overflow_x": null,
            "overflow_y": null,
            "padding": null,
            "right": null,
            "top": null,
            "visibility": null,
            "width": null
          }
        },
        "c4aa3ad85c924423b8dad20ebeea3de0": {
          "model_module": "@jupyter-widgets/controls",
          "model_name": "DescriptionStyleModel",
          "model_module_version": "1.5.0",
          "state": {
            "_model_module": "@jupyter-widgets/controls",
            "_model_module_version": "1.5.0",
            "_model_name": "DescriptionStyleModel",
            "_view_count": null,
            "_view_module": "@jupyter-widgets/base",
            "_view_module_version": "1.2.0",
            "_view_name": "StyleView",
            "description_width": ""
          }
        }
      }
    }
  },
  "cells": [
    {
      "cell_type": "code",
      "execution_count": 1,
      "metadata": {
        "colab": {
          "base_uri": "https://localhost:8080/"
        },
        "id": "RuJTmyrjhtEN",
        "outputId": "983a117b-a81d-4215-f4e6-6332a35fcb1c"
      },
      "outputs": [
        {
          "output_type": "stream",
          "name": "stdout",
          "text": [
            "Mounted at /content/drive\n"
          ]
        }
      ],
      "source": [
        "from google.colab import drive\n",
        "import zipfile\n",
        "import os\n",
        "\n",
        "# Mount Google Drive\n",
        "drive.mount('/content/drive')\n"
      ]
    },
    {
      "cell_type": "code",
      "source": [
        "# Define paths to zip file and extraction location\n",
        "zip_file_path = '/content/drive/MyDrive/NLPProject/medium.zip'  # Replace with your zip file path\n",
        "extract_path = '/content/input_folder'\n",
        "\n",
        "# Extract the zip file\n",
        "with zipfile.ZipFile(zip_file_path, 'r') as zip_ref:\n",
        "    zip_ref.extractall(extract_path)\n",
        "\n",
        "print(\"Files extracted to:\", extract_path)"
      ],
      "metadata": {
        "colab": {
          "base_uri": "https://localhost:8080/"
        },
        "id": "6jJWLfYgiYYi",
        "outputId": "ac21cc52-df77-461d-af14-6beda6fc0e86"
      },
      "execution_count": 2,
      "outputs": [
        {
          "output_type": "stream",
          "name": "stdout",
          "text": [
            "Files extracted to: /content/input_folder\n"
          ]
        }
      ]
    },
    {
      "cell_type": "code",
      "source": [
        "train_path = '/content/input_folder/medium/train'\n",
        "validation_path = '/content/input_folder/medium/validation'\n",
        "\n",
        "print(os.listdir(train_path))"
      ],
      "metadata": {
        "colab": {
          "base_uri": "https://localhost:8080/"
        },
        "id": "VTmqMcuuifEW",
        "outputId": "a748859b-5a4d-4721-b386-768d431391c6"
      },
      "execution_count": 3,
      "outputs": [
        {
          "output_type": "stream",
          "name": "stdout",
          "text": [
            "['truth-problem-622.json', 'truth-problem-2267.json', 'truth-problem-607.json', 'problem-2264.txt', 'truth-problem-811.json', 'problem-3083.txt', 'truth-problem-2847.json', 'problem-2363.txt', 'problem-885.txt', 'problem-2508.txt', 'problem-410.txt', 'problem-224.txt', 'problem-2011.txt', 'problem-639.txt', 'problem-222.txt', 'truth-problem-2629.json', 'problem-3570.txt', 'truth-problem-3735.json', 'truth-problem-3281.json', 'problem-1315.txt', 'problem-2343.txt', 'problem-1407.txt', 'truth-problem-1126.json', 'problem-4053.txt', 'problem-1670.txt', 'problem-318.txt', 'truth-problem-112.json', 'problem-2847.txt', 'problem-4009.txt', 'truth-problem-781.json', 'truth-problem-3434.json', 'problem-3911.txt', 'truth-problem-704.json', 'problem-3507.txt', 'truth-problem-739.json', 'truth-problem-1459.json', 'problem-85.txt', 'problem-4093.txt', 'problem-1350.txt', 'problem-2860.txt', 'truth-problem-3014.json', 'truth-problem-3189.json', 'truth-problem-2783.json', 'truth-problem-1132.json', 'problem-1772.txt', 'problem-3722.txt', 'problem-2657.txt', 'problem-3132.txt', 'problem-2496.txt', 'problem-2017.txt', 'problem-1640.txt', 'problem-535.txt', 'problem-3691.txt', 'truth-problem-2911.json', 'problem-3438.txt', 'problem-3019.txt', 'problem-2516.txt', 'problem-430.txt', 'problem-3286.txt', 'problem-942.txt', 'problem-3567.txt', 'truth-problem-2599.json', 'problem-3174.txt', 'truth-problem-1579.json', 'problem-2649.txt', 'truth-problem-3270.json', 'problem-1948.txt', 'truth-problem-2984.json', 'truth-problem-2668.json', 'truth-problem-2547.json', 'truth-problem-3293.json', 'truth-problem-2198.json', 'truth-problem-1786.json', 'truth-problem-4050.json', 'truth-problem-3464.json', 'problem-1750.txt', 'truth-problem-4165.json', 'problem-420.txt', 'truth-problem-2729.json', 'truth-problem-3809.json', 'problem-893.txt', 'truth-problem-2496.json', 'problem-2117.txt', 'truth-problem-3507.json', 'problem-1143.txt', 'problem-2341.txt', 'truth-problem-1823.json', 'problem-162.txt', 'problem-2312.txt', 'problem-721.txt', 'truth-problem-3598.json', 'problem-1470.txt', 'truth-problem-3431.json', 'truth-problem-3867.json', 'truth-problem-756.json', 'truth-problem-1297.json', 'problem-289.txt', 'truth-problem-1971.json', 'problem-2354.txt', 'problem-3703.txt', 'truth-problem-1049.json', 'truth-problem-1090.json', 'problem-673.txt', 'truth-problem-2402.json', 'truth-problem-91.json', 'truth-problem-4046.json', 'problem-1294.txt', 'problem-2950.txt', 'truth-problem-1052.json', 'truth-problem-1802.json', 'truth-problem-3938.json', 'problem-2707.txt', 'problem-774.txt', 'truth-problem-675.json', 'problem-4001.txt', 'truth-problem-432.json', 'truth-problem-984.json', 'problem-3934.txt', 'truth-problem-1867.json', 'truth-problem-1645.json', 'problem-52.txt', 'truth-problem-289.json', 'truth-problem-1015.json', 'problem-3924.txt', 'problem-2018.txt', 'truth-problem-2472.json', 'truth-problem-2681.json', 'problem-3550.txt', 'problem-1849.txt', 'problem-3478.txt', 'problem-2615.txt', 'problem-3312.txt', 'problem-388.txt', 'truth-problem-1550.json', 'truth-problem-1834.json', 'problem-1463.txt', 'problem-435.txt', 'problem-2606.txt', 'problem-2556.txt', 'problem-1823.txt', 'problem-904.txt', 'problem-2892.txt', 'truth-problem-3079.json', 'problem-781.txt', 'problem-2348.txt', 'problem-417.txt', 'truth-problem-2500.json', 'truth-problem-1021.json', 'problem-2584.txt', 'truth-problem-1043.json', 'truth-problem-2673.json', 'problem-1506.txt', 'problem-1797.txt', 'problem-1639.txt', 'truth-problem-1779.json', 'truth-problem-274.json', 'truth-problem-2923.json', 'problem-3634.txt', 'truth-problem-3562.json', 'truth-problem-2259.json', 'problem-423.txt', 'truth-problem-1038.json', 'truth-problem-4007.json', 'truth-problem-3711.json', 'problem-428.txt', 'truth-problem-3305.json', 'problem-3670.txt', 'truth-problem-3187.json', 'truth-problem-1796.json', 'truth-problem-3245.json', 'problem-772.txt', 'problem-1145.txt', 'problem-471.txt', 'truth-problem-3269.json', 'truth-problem-1214.json', 'problem-228.txt', 'truth-problem-1186.json', 'truth-problem-701.json', 'truth-problem-435.json', 'truth-problem-1091.json', 'truth-problem-46.json', 'truth-problem-964.json', 'truth-problem-1889.json', 'truth-problem-2736.json', 'truth-problem-531.json', 'truth-problem-4162.json', 'truth-problem-3195.json', 'truth-problem-1918.json', 'truth-problem-343.json', 'problem-1035.txt', 'problem-64.txt', 'problem-2699.txt', 'problem-1174.txt', 'problem-3692.txt', 'problem-2405.txt', 'problem-2463.txt', 'problem-1094.txt', 'truth-problem-720.json', 'problem-3071.txt', 'problem-636.txt', 'truth-problem-1241.json', 'problem-3349.txt', 'problem-2297.txt', 'problem-3685.txt', 'truth-problem-28.json', 'problem-1438.txt', 'problem-3996.txt', 'truth-problem-2200.json', 'truth-problem-3712.json', 'truth-problem-3190.json', 'truth-problem-3072.json', 'truth-problem-1728.json', 'problem-2941.txt', 'problem-987.txt', 'truth-problem-4128.json', 'problem-2506.txt', 'problem-3592.txt', 'problem-2532.txt', 'truth-problem-3124.json', 'problem-3872.txt', 'problem-1093.txt', 'problem-3240.txt', 'problem-2182.txt', 'truth-problem-221.json', 'problem-2742.txt', 'problem-1863.txt', 'problem-580.txt', 'problem-2896.txt', 'truth-problem-1441.json', 'problem-2404.txt', 'truth-problem-3949.json', 'problem-3561.txt', 'problem-1063.txt', 'problem-3509.txt', 'truth-problem-2506.json', 'problem-1933.txt', 'problem-4161.txt', 'truth-problem-505.json', 'problem-892.txt', 'truth-problem-4185.json', 'problem-1997.txt', 'problem-1011.txt', 'truth-problem-2773.json', 'truth-problem-780.json', 'problem-1976.txt', 'problem-4049.txt', 'problem-576.txt', 'truth-problem-452.json', 'problem-1513.txt', 'truth-problem-3581.json', 'truth-problem-2947.json', 'problem-1284.txt', 'truth-problem-2807.json', 'problem-1364.txt', 'problem-253.txt', 'problem-1485.txt', 'problem-2083.txt', 'problem-2652.txt', 'truth-problem-2372.json', 'problem-1259.txt', 'truth-problem-232.json', 'truth-problem-2676.json', 'truth-problem-3535.json', 'truth-problem-1962.json', 'problem-2914.txt', 'truth-problem-1435.json', 'problem-3781.txt', 'truth-problem-815.json', 'problem-941.txt', 'problem-2331.txt', 'problem-399.txt', 'truth-problem-1843.json', 'problem-3918.txt', 'truth-problem-1252.json', 'problem-982.txt', 'truth-problem-3878.json', 'problem-1219.txt', 'problem-4059.txt', 'problem-3569.txt', 'truth-problem-92.json', 'truth-problem-710.json', 'problem-102.txt', 'problem-845.txt', 'problem-501.txt', 'problem-598.txt', 'truth-problem-3619.json', 'truth-problem-4082.json', 'problem-965.txt', 'truth-problem-2323.json', 'truth-problem-1493.json', 'truth-problem-2157.json', 'truth-problem-1457.json', 'truth-problem-665.json', 'problem-2673.txt', 'problem-3678.txt', 'truth-problem-326.json', 'truth-problem-3637.json', 'truth-problem-1679.json', 'truth-problem-1270.json', 'truth-problem-3438.json', 'truth-problem-3494.json', 'truth-problem-3173.json', 'problem-1814.txt', 'problem-1966.txt', 'problem-1605.txt', 'truth-problem-2700.json', 'problem-3517.txt', 'truth-problem-1346.json', 'problem-3932.txt', 'problem-1049.txt', 'problem-3014.txt', 'truth-problem-3944.json', 'truth-problem-868.json', 'truth-problem-1159.json', 'problem-3946.txt', 'truth-problem-770.json', 'problem-4106.txt', 'problem-3578.txt', 'problem-34.txt', 'problem-2153.txt', 'truth-problem-386.json', 'truth-problem-3911.json', 'truth-problem-2035.json', 'problem-1097.txt', 'problem-145.txt', 'problem-247.txt', 'truth-problem-3731.json', 'problem-3935.txt', 'truth-problem-825.json', 'problem-971.txt', 'truth-problem-4052.json', 'truth-problem-3736.json', 'problem-903.txt', 'truth-problem-2993.json', 'truth-problem-620.json', 'problem-1854.txt', 'truth-problem-3022.json', 'truth-problem-3343.json', 'problem-2770.txt', 'problem-546.txt', 'problem-1461.txt', 'problem-223.txt', 'problem-3028.txt', 'problem-2610.txt', 'problem-2799.txt', 'problem-1367.txt', 'problem-3075.txt', 'truth-problem-397.json', 'truth-problem-525.json', 'problem-3851.txt', 'truth-problem-3168.json', 'problem-3277.txt', 'problem-2951.txt', 'truth-problem-164.json', 'truth-problem-3237.json', 'problem-2378.txt', 'truth-problem-4152.json', 'truth-problem-1842.json', 'problem-4033.txt', 'truth-problem-171.json', 'truth-problem-354.json', 'problem-1371.txt', 'problem-2793.txt', 'truth-problem-3351.json', 'truth-problem-2732.json', 'truth-problem-2258.json', 'truth-problem-3951.json', 'problem-3799.txt', 'truth-problem-968.json', 'truth-problem-2250.json', 'problem-2814.txt', 'problem-4042.txt', 'problem-782.txt', 'truth-problem-3905.json', 'problem-611.txt', 'problem-2658.txt', 'problem-55.txt', 'truth-problem-3614.json', 'truth-problem-4144.json', 'problem-3951.txt', 'truth-problem-2280.json', 'problem-1732.txt', 'truth-problem-1206.json', 'truth-problem-914.json', 'problem-3590.txt', 'problem-645.txt', 'problem-890.txt', 'truth-problem-605.json', 'problem-790.txt', 'problem-3377.txt', 'truth-problem-847.json', 'problem-1179.txt', 'truth-problem-609.json', 'truth-problem-2603.json', 'problem-2736.txt', 'truth-problem-87.json', 'truth-problem-4017.json', 'truth-problem-2058.json', 'truth-problem-63.json', 'truth-problem-721.json', 'problem-139.txt', 'problem-1459.txt', 'truth-problem-775.json', 'problem-134.txt', 'problem-398.txt', 'truth-problem-2663.json', 'truth-problem-3136.json', 'problem-2376.txt', 'truth-problem-676.json', 'problem-1792.txt', 'problem-41.txt', 'truth-problem-1580.json', 'truth-problem-3208.json', 'problem-1273.txt', 'problem-2972.txt', 'problem-1511.txt', 'truth-problem-908.json', 'truth-problem-258.json', 'problem-1440.txt', 'problem-3564.txt', 'problem-3956.txt', 'truth-problem-1695.json', 'problem-3294.txt', 'truth-problem-538.json', 'problem-2866.txt', 'truth-problem-1092.json', 'problem-3038.txt', 'problem-2815.txt', 'problem-4041.txt', 'truth-problem-941.json', 'problem-2085.txt', 'truth-problem-3895.json', 'problem-2659.txt', 'truth-problem-429.json', 'problem-3145.txt', 'problem-3817.txt', 'problem-738.txt', 'problem-1255.txt', 'problem-1586.txt', 'truth-problem-3678.json', 'truth-problem-1957.json', 'problem-457.txt', 'problem-1250.txt', 'truth-problem-1304.json', 'truth-problem-1273.json', 'problem-2230.txt', 'problem-1633.txt', 'truth-problem-3477.json', 'truth-problem-277.json', 'problem-1246.txt', 'truth-problem-1184.json', 'problem-195.txt', 'problem-1652.txt', 'problem-2783.txt', 'truth-problem-1557.json', 'problem-128.txt', 'truth-problem-4157.json', 'truth-problem-1989.json', 'truth-problem-2349.json', 'problem-689.txt', 'truth-problem-2781.json', 'problem-1950.txt', 'problem-1411.txt', 'problem-3661.txt', 'problem-660.txt', 'problem-593.txt', 'problem-2036.txt', 'truth-problem-2306.json', 'problem-2273.txt', 'truth-problem-1982.json', 'truth-problem-729.json', 'truth-problem-3056.json', 'problem-4026.txt', 'truth-problem-2257.json', 'problem-4054.txt', 'truth-problem-2501.json', 'truth-problem-1174.json', 'problem-4175.txt', 'problem-670.txt', 'problem-3735.txt', 'problem-462.txt', 'problem-2857.txt', 'truth-problem-4039.json', 'problem-3897.txt', 'problem-3513.txt', 'truth-problem-943.json', 'truth-problem-375.json', 'problem-3095.txt', 'truth-problem-2180.json', 'truth-problem-97.json', 'problem-2693.txt', 'problem-1865.txt', 'problem-2278.txt', 'truth-problem-3486.json', 'problem-3117.txt', 'truth-problem-1689.json', 'problem-3220.txt', 'problem-2274.txt', 'problem-1460.txt', 'problem-1418.txt', 'problem-2261.txt', 'truth-problem-3748.json', 'problem-330.txt', 'problem-2409.txt', 'truth-problem-2451.json', 'problem-1203.txt', 'problem-3200.txt', 'truth-problem-3203.json', 'truth-problem-153.json', 'problem-1588.txt', 'problem-1941.txt', 'truth-problem-89.json', 'truth-problem-725.json', 'problem-2028.txt', 'problem-714.txt', 'problem-400.txt', 'truth-problem-4011.json', 'truth-problem-1708.json', 'problem-2931.txt', 'problem-2782.txt', 'problem-234.txt', 'problem-176.txt', 'truth-problem-1078.json', 'problem-3080.txt', 'problem-4136.txt', 'truth-problem-1212.json', 'problem-3334.txt', 'truth-problem-3111.json', 'problem-2030.txt', 'problem-2528.txt', 'problem-928.txt', 'problem-3620.txt', 'problem-3655.txt', 'truth-problem-1882.json', 'problem-3524.txt', 'truth-problem-3585.json', 'problem-538.txt', 'problem-2807.txt', 'truth-problem-395.json', 'truth-problem-1376.json', 'problem-4105.txt', 'truth-problem-3747.json', 'truth-problem-1343.json', 'problem-3372.txt', 'problem-3887.txt', 'truth-problem-1627.json', 'problem-568.txt', 'truth-problem-2236.json', 'problem-3741.txt', 'problem-384.txt', 'truth-problem-4196.json', 'problem-927.txt', 'problem-567.txt', 'problem-4103.txt', 'problem-3908.txt', 'truth-problem-180.json', 'problem-2335.txt', 'problem-2646.txt', 'truth-problem-1086.json', 'problem-2787.txt', 'truth-problem-840.json', 'truth-problem-4093.json', 'truth-problem-3624.json', 'truth-problem-2519.json', 'problem-3493.txt', 'problem-4131.txt', 'problem-2129.txt', 'problem-1999.txt', 'problem-3433.txt', 'problem-1472.txt', 'truth-problem-1189.json', 'truth-problem-3211.json', 'truth-problem-3665.json', 'problem-2565.txt', 'truth-problem-8.json', 'problem-3179.txt', 'truth-problem-2118.json', 'problem-2433.txt', 'truth-problem-673.json', 'truth-problem-1749.json', 'truth-problem-1451.json', 'problem-2994.txt', 'problem-466.txt', 'problem-1369.txt', 'truth-problem-3903.json', 'truth-problem-985.json', 'problem-1861.txt', 'truth-problem-1830.json', 'problem-564.txt', 'truth-problem-2967.json', 'problem-2590.txt', 'problem-3166.txt', 'problem-2662.txt', 'problem-3009.txt', 'truth-problem-3107.json', 'truth-problem-742.json', 'truth-problem-1961.json', 'truth-problem-3401.json', 'truth-problem-858.json', 'truth-problem-4174.json', 'problem-3610.txt', 'problem-3228.txt', 'truth-problem-190.json', 'problem-1346.txt', 'problem-271.txt', 'problem-1359.txt', 'truth-problem-2097.json', 'truth-problem-3286.json', 'problem-3777.txt', 'problem-1183.txt', 'truth-problem-768.json', 'truth-problem-3299.json', 'problem-1857.txt', 'truth-problem-3768.json', 'truth-problem-626.json', 'problem-3865.txt', 'truth-problem-1603.json', 'truth-problem-969.json', 'problem-2852.txt', 'problem-4037.txt', 'truth-problem-2791.json', 'truth-problem-888.json', 'problem-1223.txt', 'truth-problem-227.json', 'truth-problem-2517.json', 'truth-problem-3977.json', 'problem-2015.txt', 'truth-problem-2851.json', 'truth-problem-1503.json', 'truth-problem-4183.json', 'problem-1329.txt', 'truth-problem-3697.json', 'truth-problem-2814.json', 'truth-problem-3724.json', 'problem-2384.txt', 'truth-problem-66.json', 'truth-problem-3492.json', 'problem-2935.txt', 'truth-problem-158.json', 'problem-3245.txt', 'problem-4194.txt', 'truth-problem-481.json', 'problem-2355.txt', 'problem-1871.txt', 'problem-959.txt', 'problem-1965.txt', 'problem-2839.txt', 'truth-problem-2033.json', 'problem-914.txt', 'problem-1676.txt', 'problem-2681.txt', 'truth-problem-1618.json', 'truth-problem-3067.json', 'problem-1170.txt', 'truth-problem-2029.json', 'problem-3073.txt', 'truth-problem-921.json', 'problem-1961.txt', 'truth-problem-3517.json', 'truth-problem-3412.json', 'problem-1875.txt', 'problem-2952.txt', 'problem-3491.txt', 'truth-problem-2526.json', 'problem-2158.txt', 'truth-problem-1849.json', 'problem-135.txt', 'truth-problem-1004.json', 'truth-problem-2256.json', 'problem-1467.txt', 'problem-440.txt', 'problem-105.txt', 'problem-1095.txt', 'problem-4178.txt', 'truth-problem-1377.json', 'truth-problem-1813.json', 'truth-problem-183.json', 'truth-problem-3822.json', 'truth-problem-3391.json', 'truth-problem-262.json', 'problem-3674.txt', 'truth-problem-3120.json', 'problem-39.txt', 'truth-problem-3011.json', 'truth-problem-587.json', 'problem-2478.txt', 'truth-problem-1254.json', 'truth-problem-324.json', 'problem-3106.txt', 'problem-653.txt', 'truth-problem-2823.json', 'problem-2515.txt', 'problem-3937.txt', 'truth-problem-3891.json', 'truth-problem-3279.json', 'problem-2133.txt', 'truth-problem-2164.json', 'problem-4135.txt', 'problem-2625.txt', 'truth-problem-3979.json', 'truth-problem-1309.json', 'problem-3640.txt', 'truth-problem-2855.json', 'truth-problem-3750.json', 'problem-713.txt', 'problem-995.txt', 'truth-problem-19.json', 'truth-problem-2953.json', 'truth-problem-339.json', 'truth-problem-590.json', 'truth-problem-2582.json', 'problem-3585.txt', 'problem-2640.txt', 'truth-problem-2714.json', 'truth-problem-2925.json', 'problem-1379.txt', 'truth-problem-3200.json', 'truth-problem-2091.json', 'problem-1413.txt', 'problem-4084.txt', 'truth-problem-3641.json', 'truth-problem-3360.json', 'truth-problem-3110.json', 'problem-3389.txt', 'truth-problem-611.json', 'truth-problem-3114.json', 'problem-2890.txt', 'problem-1262.txt', 'truth-problem-1240.json', 'problem-2775.txt', 'truth-problem-2759.json', 'truth-problem-2467.json', 'problem-219.txt', 'truth-problem-1991.json', 'truth-problem-2878.json', 'truth-problem-2874.json', 'truth-problem-989.json', 'problem-1383.txt', 'problem-1920.txt', 'problem-2410.txt', 'problem-1955.txt', 'truth-problem-1443.json', 'problem-1487.txt', 'truth-problem-3146.json', 'problem-1046.txt', 'truth-problem-130.json', 'truth-problem-3066.json', 'truth-problem-1818.json', 'problem-379.txt', 'problem-3884.txt', 'truth-problem-3869.json', 'problem-115.txt', 'truth-problem-489.json', 'problem-1088.txt', 'truth-problem-957.json', 'problem-858.txt', 'problem-1689.txt', 'problem-3529.txt', 'problem-4012.txt', 'truth-problem-1942.json', 'truth-problem-3691.json', 'truth-problem-3140.json', 'problem-526.txt', 'problem-2307.txt', 'problem-902.txt', 'problem-736.txt', 'truth-problem-3798.json', 'problem-784.txt', 'problem-1789.txt', 'truth-problem-121.json', 'problem-811.txt', 'truth-problem-3726.json', 'problem-1217.txt', 'truth-problem-1994.json', 'problem-1530.txt', 'problem-3149.txt', 'truth-problem-3457.json', 'truth-problem-2966.json', 'problem-3834.txt', 'problem-2113.txt', 'truth-problem-2427.json', 'problem-1645.txt', 'problem-2120.txt', 'truth-problem-3567.json', 'problem-1575.txt', 'problem-932.txt', 'truth-problem-254.json', 'truth-problem-3354.json', 'truth-problem-3421.json', 'problem-2538.txt', 'problem-3452.txt', 'truth-problem-2833.json', 'truth-problem-3969.json', 'truth-problem-1928.json', 'problem-3213.txt', 'truth-problem-2512.json', 'truth-problem-1099.json', 'truth-problem-3458.json', 'problem-1764.txt', 'truth-problem-2750.json', 'problem-2751.txt', 'problem-666.txt', 'truth-problem-2831.json', 'problem-2078.txt', 'truth-problem-3721.json', 'problem-2872.txt', 'problem-7.txt', 'truth-problem-576.json', 'truth-problem-114.json', 'problem-2298.txt', 'truth-problem-2444.json', 'problem-3172.txt', 'truth-problem-3246.json', 'truth-problem-3074.json', 'problem-1910.txt', 'truth-problem-492.json', 'truth-problem-1526.json', 'problem-3955.txt', 'problem-2066.txt', 'truth-problem-1980.json', 'truth-problem-513.json', 'problem-447.txt', 'problem-2.txt', 'truth-problem-3871.json', 'truth-problem-2101.json', 'truth-problem-1554.json', 'truth-problem-2470.json', 'truth-problem-794.json', 'truth-problem-2388.json', 'problem-3248.txt', 'truth-problem-88.json', 'truth-problem-1402.json', 'problem-2520.txt', 'problem-2827.txt', 'truth-problem-3805.json', 'problem-258.txt', 'truth-problem-2406.json', 'truth-problem-885.json', 'truth-problem-3325.json', 'truth-problem-36.json', 'truth-problem-3105.json', 'problem-627.txt', 'problem-4156.txt', 'truth-problem-2446.json', 'problem-3896.txt', 'truth-problem-1367.json', 'truth-problem-1340.json', 'problem-2686.txt', 'problem-3902.txt', 'truth-problem-2192.json', 'problem-2784.txt', 'truth-problem-2689.json', 'truth-problem-2774.json', 'problem-1307.txt', 'truth-problem-398.json', 'truth-problem-3510.json', 'truth-problem-2560.json', 'problem-245.txt', 'truth-problem-1789.json', 'truth-problem-2173.json', 'problem-1336.txt', 'problem-359.txt', 'truth-problem-2074.json', 'truth-problem-4019.json', 'truth-problem-1408.json', 'truth-problem-2552.json', 'problem-83.txt', 'problem-2812.txt', 'truth-problem-677.json', 'problem-1079.txt', 'truth-problem-550.json', 'problem-3467.txt', 'problem-3976.txt', 'truth-problem-2573.json', 'truth-problem-2571.json', 'truth-problem-2806.json', 'truth-problem-122.json', 'truth-problem-58.json', 'truth-problem-126.json', 'problem-3397.txt', 'truth-problem-1042.json', 'truth-problem-3387.json', 'truth-problem-2999.json', 'problem-1058.txt', 'truth-problem-3312.json', 'problem-3750.txt', 'problem-3340.txt', 'truth-problem-1993.json', 'problem-68.txt', 'problem-1881.txt', 'truth-problem-1893.json', 'problem-1272.txt', 'problem-1644.txt', 'truth-problem-2375.json', 'problem-2692.txt', 'problem-2162.txt', 'truth-problem-3329.json', 'truth-problem-4012.json', 'truth-problem-1430.json', 'problem-1001.txt', 'truth-problem-1504.json', 'problem-1122.txt', 'truth-problem-2856.json', 'truth-problem-1924.json', 'truth-problem-4153.json', 'truth-problem-1291.json', 'truth-problem-2369.json', 'problem-1951.txt', 'problem-2329.txt', 'problem-2979.txt', 'problem-4186.txt', 'problem-534.txt', 'truth-problem-4058.json', 'problem-3690.txt', 'truth-problem-2315.json', 'truth-problem-1529.json', 'problem-3701.txt', 'truth-problem-3872.json', 'problem-2844.txt', 'truth-problem-3290.json', 'truth-problem-430.json', 'truth-problem-2997.json', 'problem-3901.txt', 'problem-185.txt', 'truth-problem-2482.json', 'truth-problem-2824.json', 'truth-problem-3201.json', 'problem-314.txt', 'truth-problem-2132.json', 'truth-problem-1742.json', 'problem-1497.txt', 'problem-1265.txt', 'problem-3757.txt', 'problem-312.txt', 'problem-2804.txt', 'truth-problem-1207.json', 'truth-problem-2846.json', 'truth-problem-3406.json', 'problem-3276.txt', 'problem-2495.txt', 'truth-problem-4094.json', 'truth-problem-1224.json', 'problem-1635.txt', 'problem-2345.txt', 'truth-problem-3034.json', 'problem-3654.txt', 'truth-problem-2875.json', 'truth-problem-3945.json', 'truth-problem-694.json', 'truth-problem-2843.json', 'problem-3544.txt', 'problem-2561.txt', 'truth-problem-170.json', 'truth-problem-485.json', 'problem-3459.txt', 'truth-problem-686.json', 'truth-problem-1751.json', 'problem-206.txt', 'truth-problem-2313.json', 'truth-problem-2008.json', 'problem-2920.txt', 'truth-problem-181.json', 'problem-1845.txt', 'truth-problem-4041.json', 'problem-2897.txt', 'problem-3669.txt', 'truth-problem-1368.json', 'problem-1390.txt', 'truth-problem-3662.json', 'truth-problem-2675.json', 'problem-2880.txt', 'problem-2047.txt', 'problem-3058.txt', 'truth-problem-2921.json', 'truth-problem-411.json', 'problem-2034.txt', 'problem-2156.txt', 'truth-problem-2338.json', 'problem-452.txt', 'problem-2965.txt', 'problem-3004.txt', 'problem-285.txt', 'problem-3383.txt', 'truth-problem-1153.json', 'problem-1963.txt', 'truth-problem-1812.json', 'truth-problem-3260.json', 'truth-problem-3664.json', 'truth-problem-389.json', 'truth-problem-259.json', 'problem-998.txt', 'truth-problem-3700.json', 'truth-problem-3019.json', 'truth-problem-2557.json', 'problem-2503.txt', 'truth-problem-3539.json', 'problem-766.txt', 'truth-problem-3460.json', 'problem-646.txt', 'problem-3891.txt', 'problem-4095.txt', 'truth-problem-2566.json', 'problem-789.txt', 'truth-problem-2148.json', 'problem-2233.txt', 'truth-problem-1570.json', 'truth-problem-231.json', 'truth-problem-1259.json', 'truth-problem-2556.json', 'problem-3498.txt', 'problem-2046.txt', 'problem-694.txt', 'problem-1244.txt', 'truth-problem-2672.json', 'problem-1559.txt', 'truth-problem-3213.json', 'truth-problem-1384.json', 'problem-4088.txt', 'truth-problem-2740.json', 'truth-problem-187.json', 'truth-problem-3065.json', 'problem-874.txt', 'truth-problem-705.json', 'problem-3774.txt', 'problem-473.txt', 'truth-problem-1200.json', 'truth-problem-3051.json', 'truth-problem-473.json', 'truth-problem-4010.json', 'truth-problem-3992.json', 'problem-486.txt', 'problem-2061.txt', 'truth-problem-155.json', 'truth-problem-839.json', 'truth-problem-1018.json', 'problem-3444.txt', 'truth-problem-837.json', 'truth-problem-578.json', 'truth-problem-3780.json', 'truth-problem-1608.json', 'problem-2449.txt', 'problem-720.txt', 'truth-problem-1880.json', 'truth-problem-1594.json', 'truth-problem-2793.json', 'truth-problem-996.json', 'problem-2779.txt', 'problem-1310.txt', 'problem-2252.txt', 'truth-problem-4170.json', 'truth-problem-2342.json', 'truth-problem-1715.json', 'truth-problem-418.json', 'problem-2706.txt', 'problem-2397.txt', 'problem-1533.txt', 'problem-1431.txt', 'problem-1164.txt', 'problem-1238.txt', 'problem-3227.txt', 'problem-2498.txt', 'problem-1554.txt', 'problem-1890.txt', 'problem-850.txt', 'truth-problem-2535.json', 'truth-problem-2758.json', 'problem-1656.txt', 'truth-problem-1761.json', 'problem-2623.txt', 'truth-problem-1681.json', 'truth-problem-1739.json', 'problem-3406.txt', 'truth-problem-2940.json', 'truth-problem-951.json', 'truth-problem-4127.json', 'truth-problem-3561.json', 'problem-2173.txt', 'truth-problem-1575.json', 'problem-3098.txt', 'problem-386.txt', 'problem-1888.txt', 'problem-3868.txt', 'truth-problem-4016.json', 'problem-2675.txt', 'truth-problem-1329.json', 'problem-763.txt', 'problem-4002.txt', 'problem-2704.txt', 'problem-2044.txt', 'truth-problem-2654.json', 'problem-507.txt', 'problem-4193.txt', 'problem-1053.txt', 'problem-2709.txt', 'problem-3147.txt', 'truth-problem-1644.json', 'truth-problem-1753.json', 'problem-1303.txt', 'truth-problem-2459.json', 'problem-3930.txt', 'problem-3905.txt', 'truth-problem-732.json', 'truth-problem-4034.json', 'truth-problem-3442.json', 'truth-problem-2601.json', 'truth-problem-2909.json', 'problem-469.txt', 'truth-problem-2489.json', 'truth-problem-2624.json', 'truth-problem-2212.json', 'problem-2877.txt', 'problem-3648.txt', 'problem-2617.txt', 'problem-2207.txt', 'problem-1293.txt', 'truth-problem-4193.json', 'truth-problem-2630.json', 'problem-3114.txt', 'problem-2200.txt', 'problem-1535.txt', 'truth-problem-814.json', 'problem-4073.txt', 'truth-problem-3132.json', 'truth-problem-1316.json', 'problem-2460.txt', 'truth-problem-1688.json', 'problem-4183.txt', 'truth-problem-2931.json', 'problem-1276.txt', 'truth-problem-3266.json', 'truth-problem-113.json', 'problem-1870.txt', 'truth-problem-1964.json', 'truth-problem-2741.json', 'problem-3603.txt', 'problem-2359.txt', 'truth-problem-962.json', 'problem-2166.txt', 'problem-3379.txt', 'problem-3759.txt', 'problem-2487.txt', 'truth-problem-3630.json', 'problem-80.txt', 'truth-problem-404.json', 'truth-problem-2086.json', 'problem-3598.txt', 'truth-problem-1478.json', 'problem-1543.txt', 'truth-problem-2817.json', 'truth-problem-4073.json', 'problem-2762.txt', 'truth-problem-1615.json', 'problem-2976.txt', 'problem-1036.txt', 'problem-2027.txt', 'problem-1038.txt', 'truth-problem-1432.json', 'problem-3782.txt', 'problem-1852.txt', 'truth-problem-1911.json', 'truth-problem-3012.json', 'problem-1347.txt', 'truth-problem-4062.json', 'truth-problem-546.json', 'problem-3727.txt', 'truth-problem-4048.json', 'problem-2971.txt', 'problem-3465.txt', 'truth-problem-4069.json', 'problem-2722.txt', 'problem-1189.txt', 'problem-1220.txt', 'problem-3279.txt', 'problem-863.txt', 'truth-problem-14.json', 'truth-problem-4166.json', 'truth-problem-3776.json', 'problem-1793.txt', 'problem-1733.txt', 'truth-problem-2143.json', 'problem-2050.txt', 'truth-problem-2178.json', 'problem-1801.txt', 'truth-problem-1611.json', 'problem-3492.txt', 'truth-problem-716.json', 'problem-1524.txt', 'truth-problem-2825.json', 'problem-1989.txt', 'truth-problem-3595.json', 'problem-3559.txt', 'truth-problem-3169.json', 'problem-527.txt', 'problem-1663.txt', 'truth-problem-2226.json', 'problem-49.txt', 'truth-problem-3358.json', 'truth-problem-474.json', 'problem-3054.txt', 'truth-problem-2620.json', 'truth-problem-759.json', 'truth-problem-987.json', 'problem-284.txt', 'problem-3208.txt', 'truth-problem-669.json', 'problem-1175.txt', 'truth-problem-3400.json', 'problem-1880.txt', 'problem-235.txt', 'truth-problem-2145.json', 'problem-3705.txt', 'problem-31.txt', 'truth-problem-461.json', 'problem-3405.txt', 'truth-problem-1669.json', 'truth-problem-3501.json', 'truth-problem-3688.json', 'problem-2969.txt', 'problem-822.txt', 'problem-2647.txt', 'truth-problem-3199.json', 'truth-problem-3143.json', 'problem-1960.txt', 'problem-1270.txt', 'truth-problem-1274.json', 'problem-3717.txt', 'problem-1946.txt', 'problem-1435.txt', 'truth-problem-2238.json', 'truth-problem-1496.json', 'truth-problem-3367.json', 'truth-problem-3272.json', 'problem-1592.txt', 'problem-1599.txt', 'truth-problem-3692.json', 'truth-problem-3900.json', 'truth-problem-1331.json', 'truth-problem-2653.json', 'truth-problem-821.json', 'truth-problem-3182.json', 'problem-1339.txt', 'problem-3155.txt', 'truth-problem-793.json', 'truth-problem-2384.json', 'truth-problem-2480.json', 'problem-2723.txt', 'problem-2551.txt', 'truth-problem-1399.json', 'truth-problem-1001.json', 'truth-problem-1172.json', 'truth-problem-2169.json', 'truth-problem-3599.json', 'problem-3376.txt', 'truth-problem-3188.json', 'truth-problem-834.json', 'truth-problem-776.json', 'problem-2834.txt', 'truth-problem-1637.json', 'problem-1208.txt', 'truth-problem-2492.json', 'problem-962.txt', 'truth-problem-3497.json', 'problem-1788.txt', 'problem-3440.txt', 'truth-problem-1705.json', 'problem-3402.txt', 'truth-problem-3436.json', 'truth-problem-1772.json', 'problem-4011.txt', 'problem-3738.txt', 'problem-394.txt', 'truth-problem-134.json', 'truth-problem-2104.json', 'truth-problem-1438.json', 'problem-2334.txt', 'truth-problem-2908.json', 'truth-problem-2488.json', 'truth-problem-1543.json', 'truth-problem-3672.json', 'truth-problem-2992.json', 'truth-problem-1157.json', 'truth-problem-2069.json', 'truth-problem-4028.json', 'truth-problem-376.json', 'problem-2862.txt', 'problem-1239.txt', 'truth-problem-1158.json', 'truth-problem-810.json', 'truth-problem-2049.json', 'truth-problem-3943.json', 'truth-problem-1683.json', 'truth-problem-608.json', 'truth-problem-138.json', 'problem-1710.txt', 'problem-2917.txt', 'problem-3847.txt', 'problem-4032.txt', 'problem-344.txt', 'truth-problem-3698.json', 'problem-706.txt', 'problem-1687.txt', 'problem-1958.txt', 'problem-3425.txt', 'truth-problem-3657.json', 'truth-problem-3404.json', 'truth-problem-2937.json', 'problem-633.txt', 'problem-1987.txt', 'problem-981.txt', 'truth-problem-2023.json', 'problem-3753.txt', 'problem-674.txt', 'truth-problem-248.json', 'truth-problem-1640.json', 'truth-problem-464.json', 'problem-1076.txt', 'problem-2402.txt', 'problem-2946.txt', 'problem-159.txt', 'truth-problem-722.json', 'truth-problem-109.json', 'problem-2271.txt', 'truth-problem-2158.json', 'problem-3261.txt', 'truth-problem-3659.json', 'truth-problem-3762.json', 'truth-problem-45.json', 'problem-2727.txt', 'problem-675.txt', 'truth-problem-869.json', 'truth-problem-2367.json', 'problem-2959.txt', 'problem-3082.txt', 'truth-problem-4027.json', 'problem-2731.txt', 'problem-53.txt', 'problem-306.txt', 'truth-problem-990.json', 'truth-problem-147.json', 'problem-75.txt', 'truth-problem-651.json', 'problem-1477.txt', 'problem-1900.txt', 'problem-472.txt', 'truth-problem-2392.json', 'truth-problem-1400.json', 'problem-2176.txt', 'problem-1787.txt', 'truth-problem-749.json', 'problem-3761.txt', 'problem-2167.txt', 'truth-problem-2041.json', 'truth-problem-4024.json', 'problem-3931.txt', 'problem-4107.txt', 'truth-problem-3734.json', 'truth-problem-1646.json', 'problem-649.txt', 'truth-problem-4066.json', 'truth-problem-1558.json', 'problem-2245.txt', 'problem-510.txt', 'truth-problem-285.json', 'truth-problem-3920.json', 'problem-514.txt', 'problem-3971.txt', 'truth-problem-3928.json', 'problem-2592.txt', 'truth-problem-1372.json', 'problem-2181.txt', 'problem-3390.txt', 'truth-problem-4.json', 'truth-problem-2404.json', 'problem-3945.txt', 'problem-427.txt', 'truth-problem-2332.json', 'problem-2993.txt', 'problem-1808.txt', 'problem-3495.txt', 'truth-problem-1988.json', 'problem-433.txt', 'truth-problem-554.json', 'truth-problem-2123.json', 'problem-2412.txt', 'truth-problem-3828.json', 'problem-1142.txt', 'truth-problem-3633.json', 'problem-2843.txt', 'truth-problem-1973.json', 'problem-1222.txt', 'problem-2522.txt', 'truth-problem-4198.json', 'problem-2764.txt', 'truth-problem-476.json', 'truth-problem-909.json', 'problem-3773.txt', 'problem-454.txt', 'truth-problem-1948.json', 'truth-problem-3328.json', 'truth-problem-807.json', 'problem-3018.txt', 'problem-1728.txt', 'truth-problem-2479.json', 'problem-3429.txt', 'truth-problem-3930.json', 'problem-1498.txt', 'truth-problem-3985.json', 'problem-1573.txt', 'truth-problem-316.json', 'truth-problem-1616.json', 'problem-2747.txt', 'truth-problem-1150.json', 'truth-problem-544.json', 'problem-3436.txt', 'truth-problem-1154.json', 'truth-problem-2190.json', 'problem-2152.txt', 'truth-problem-993.json', 'problem-2596.txt', 'truth-problem-3888.json', 'problem-1395.txt', 'truth-problem-2794.json', 'truth-problem-1734.json', 'truth-problem-3093.json', 'truth-problem-482.json', 'truth-problem-3427.json', 'problem-4196.txt', 'truth-problem-2311.json', 'problem-361.txt', 'truth-problem-3386.json', 'problem-180.txt', 'truth-problem-1452.json', 'truth-problem-356.json', 'truth-problem-3053.json', 'truth-problem-2786.json', 'problem-373.txt', 'truth-problem-2059.json', 'truth-problem-2576.json', 'truth-problem-501.json', 'truth-problem-330.json', 'problem-1211.txt', 'problem-3031.txt', 'problem-1489.txt', 'truth-problem-1225.json', 'truth-problem-2711.json', 'problem-949.txt', 'problem-1120.txt', 'truth-problem-67.json', 'problem-1263.txt', 'problem-3673.txt', 'problem-997.txt', 'problem-986.txt', 'truth-problem-3593.json', 'truth-problem-3690.json', 'problem-2217.txt', 'truth-problem-189.json', 'truth-problem-648.json', 'truth-problem-3346.json', 'problem-1212.txt', 'truth-problem-3964.json', 'problem-3819.txt', 'truth-problem-977.json', 'truth-problem-483.json', 'truth-problem-905.json', 'truth-problem-2712.json', 'problem-4023.txt', 'problem-3505.txt', 'truth-problem-2478.json', 'problem-3096.txt', 'truth-problem-3308.json', 'problem-983.txt', 'problem-3874.txt', 'problem-3437.txt', 'problem-186.txt', 'problem-1503.txt', 'truth-problem-235.json', 'problem-3882.txt', 'problem-3936.txt', 'truth-problem-3409.json', 'problem-2838.txt', 'truth-problem-2798.json', 'truth-problem-3284.json', 'truth-problem-2995.json', 'truth-problem-1396.json', 'problem-4060.txt', 'truth-problem-1013.json', 'problem-2660.txt', 'problem-3684.txt', 'problem-1737.txt', 'problem-1080.txt', 'truth-problem-1057.json', 'truth-problem-975.json', 'truth-problem-1039.json', 'problem-268.txt', 'truth-problem-276.json', 'problem-498.txt', 'truth-problem-3887.json', 'truth-problem-863.json', 'problem-753.txt', 'truth-problem-1945.json', 'truth-problem-1173.json', 'problem-2836.txt', 'truth-problem-2031.json', 'problem-1971.txt', 'problem-3270.txt', 'truth-problem-959.json', 'problem-1677.txt', 'truth-problem-2140.json', 'problem-1717.txt', 'problem-71.txt', 'problem-2502.txt', 'truth-problem-2616.json', 'truth-problem-3542.json', 'problem-3144.txt', 'truth-problem-2887.json', 'problem-3230.txt', 'problem-3600.txt', 'problem-946.txt', 'problem-1401.txt', 'problem-3124.txt', 'problem-1913.txt', 'problem-1627.txt', 'truth-problem-534.json', 'problem-4048.txt', 'truth-problem-865.json', 'truth-problem-1922.json', 'problem-2439.txt', 'problem-2281.txt', 'problem-3814.txt', 'problem-156.txt', 'truth-problem-790.json', 'truth-problem-3389.json', 'truth-problem-3345.json', 'problem-3708.txt', 'truth-problem-3829.json', 'truth-problem-1427.json', 'problem-3006.txt', 'problem-3030.txt', 'problem-1100.txt', 'truth-problem-3526.json', 'truth-problem-1121.json', 'problem-1869.txt', 'truth-problem-1883.json', 'truth-problem-3927.json', 'truth-problem-210.json', 'problem-281.txt', 'problem-2411.txt', 'problem-2519.txt', 'truth-problem-1632.json', 'truth-problem-4180.json', 'problem-4138.txt', 'problem-1446.txt', 'truth-problem-444.json', 'problem-1581.txt', 'problem-3933.txt', 'truth-problem-2111.json', 'truth-problem-829.json', 'problem-937.txt', 'truth-problem-2692.json', 'problem-969.txt', 'problem-3699.txt', 'problem-1762.txt', 'problem-2213.txt', 'problem-3003.txt', 'problem-1761.txt', 'truth-problem-935.json', 'truth-problem-1657.json', 'problem-3697.txt', 'problem-1065.txt', 'truth-problem-2309.json', 'truth-problem-772.json', 'problem-3719.txt', 'problem-1708.txt', 'problem-1716.txt', 'problem-517.txt', 'truth-problem-3954.json', 'problem-2616.txt', 'problem-1949.txt', 'truth-problem-3574.json', 'truth-problem-57.json', 'truth-problem-1770.json', 'truth-problem-1699.json', 'truth-problem-2389.json', 'truth-problem-1392.json', 'problem-740.txt', 'truth-problem-1434.json', 'truth-problem-897.json', 'problem-2526.txt', 'truth-problem-918.json', 'truth-problem-11.json', 'problem-1352.txt', 'truth-problem-2656.json', 'truth-problem-1245.json', 'problem-3616.txt', 'problem-1427.txt', 'problem-3392.txt', 'problem-2900.txt', 'problem-1360.txt', 'problem-2452.txt', 'truth-problem-3287.json', 'problem-3113.txt', 'problem-843.txt', 'problem-3387.txt', 'truth-problem-933.json', 'problem-2808.txt', 'truth-problem-960.json', 'problem-187.txt', 'problem-438.txt', 'truth-problem-475.json', 'truth-problem-20.json', 'problem-3917.txt', 'truth-problem-209.json', 'problem-2104.txt', 'truth-problem-502.json', 'truth-problem-3514.json', 'problem-1765.txt', 'problem-1287.txt', 'problem-104.txt', 'problem-32.txt', 'truth-problem-3059.json', 'truth-problem-1247.json', 'truth-problem-3467.json', 'problem-3985.txt', 'truth-problem-2538.json', 'problem-4152.txt', 'problem-760.txt', 'truth-problem-1996.json', 'truth-problem-1652.json', 'truth-problem-2181.json', 'problem-1628.txt', 'problem-1774.txt', 'problem-877.txt', 'truth-problem-1418.json', 'truth-problem-3770.json', 'problem-1283.txt', 'truth-problem-2154.json', 'problem-2863.txt', 'truth-problem-477.json', 'truth-problem-1264.json', 'truth-problem-2020.json', 'truth-problem-4060.json', 'problem-3650.txt', 'problem-1791.txt', 'problem-378.txt', 'problem-3551.txt', 'truth-problem-3995.json', 'truth-problem-198.json', 'problem-846.txt', 'problem-33.txt', 'problem-4108.txt', 'truth-problem-563.json', 'truth-problem-1088.json', 'truth-problem-819.json', 'truth-problem-2136.json', 'truth-problem-1515.json', 'truth-problem-1791.json', 'problem-3451.txt', 'problem-3929.txt', 'problem-2549.txt', 'problem-3714.txt', 'truth-problem-4124.json', 'problem-2788.txt', 'truth-problem-601.json', 'problem-2634.txt', 'truth-problem-3580.json', 'truth-problem-2300.json', 'problem-2157.txt', 'problem-3468.txt', 'truth-problem-2838.json', 'truth-problem-3550.json', 'truth-problem-2365.json', 'problem-4.txt', 'problem-1160.txt', 'problem-4182.txt', 'problem-4142.txt', 'truth-problem-3569.json', 'problem-2632.txt', 'problem-2773.txt', 'problem-2801.txt', 'problem-1426.txt', 'problem-362.txt', 'truth-problem-1552.json', 'truth-problem-1465.json', 'truth-problem-3196.json', 'problem-3716.txt', 'truth-problem-1164.json', 'problem-996.txt', 'truth-problem-3652.json', 'problem-1247.txt', 'problem-999.txt', 'problem-3470.txt', 'problem-3989.txt', 'problem-3789.txt', 'problem-3068.txt', 'problem-2029.txt', 'truth-problem-2568.json', 'truth-problem-843.json', 'problem-3474.txt', 'truth-problem-663.json', 'problem-1234.txt', 'truth-problem-3675.json', 'truth-problem-1633.json', 'truth-problem-1523.json', 'truth-problem-1103.json', 'truth-problem-350.json', 'problem-1121.txt', 'problem-3289.txt', 'truth-problem-1332.json', 'truth-problem-1456.json', 'problem-2268.txt', 'problem-396.txt', 'truth-problem-3141.json', 'truth-problem-1129.json', 'problem-504.txt', 'truth-problem-680.json', 'truth-problem-3767.json', 'problem-3322.txt', 'problem-177.txt', 'problem-3972.txt', 'truth-problem-2106.json', 'problem-397.txt', 'truth-problem-3175.json', 'truth-problem-649.json', 'truth-problem-2165.json', 'truth-problem-90.json', 'truth-problem-1076.json', 'truth-problem-536.json', 'problem-1111.txt', 'problem-1445.txt', 'truth-problem-645.json', 'truth-problem-2476.json', 'truth-problem-2452.json', 'problem-2049.txt', 'problem-1855.txt', 'truth-problem-456.json', 'problem-244.txt', 'truth-problem-1621.json', 'truth-problem-39.json', 'truth-problem-3706.json', 'problem-3856.txt', 'problem-684.txt', 'problem-3457.txt', 'truth-problem-3902.json', 'truth-problem-3796.json', 'problem-745.txt', 'problem-1646.txt', 'problem-305.txt', 'problem-2677.txt', 'truth-problem-3511.json', 'problem-421.txt', 'problem-188.txt', 'truth-problem-3445.json', 'problem-4128.txt', 'problem-3485.txt', 'truth-problem-927.json', 'truth-problem-2007.json', 'problem-1398.txt', 'truth-problem-3116.json', 'truth-problem-3081.json', 'truth-problem-3300.json', 'problem-3914.txt', 'truth-problem-923.json', 'problem-2337.txt', 'truth-problem-1592.json', 'problem-1738.txt', 'truth-problem-2497.json', 'truth-problem-1081.json', 'problem-3074.txt', 'problem-911.txt', 'problem-2367.txt', 'problem-381.txt', 'problem-2685.txt', 'problem-3977.txt', 'truth-problem-3355.json', 'problem-371.txt', 'problem-520.txt', 'problem-1335.txt', 'truth-problem-340.json', 'problem-2700.txt', 'problem-922.txt', 'problem-2587.txt', 'problem-876.txt', 'truth-problem-641.json', 'truth-problem-3062.json', 'problem-2626.txt', 'problem-3180.txt', 'truth-problem-403.json', 'problem-1840.txt', 'truth-problem-21.json', 'problem-1995.txt', 'problem-2851.txt', 'truth-problem-2968.json', 'truth-problem-3089.json', 'truth-problem-3816.json', 'problem-3605.txt', 'problem-3178.txt', 'truth-problem-3205.json', 'problem-1560.txt', 'problem-2577.txt', 'truth-problem-1673.json', 'truth-problem-797.json', 'problem-1227.txt', 'truth-problem-3800.json', 'truth-problem-3825.json', 'truth-problem-1110.json', 'problem-2328.txt', 'problem-1525.txt', 'problem-1384.txt', 'problem-1786.txt', 'truth-problem-1327.json', 'truth-problem-2727.json', 'truth-problem-394.json', 'truth-problem-2009.json', 'problem-742.txt', 'problem-661.txt', 'truth-problem-1875.json', 'truth-problem-1984.json', 'problem-3880.txt', 'problem-1726.txt', 'problem-1054.txt', 'truth-problem-2377.json', 'truth-problem-702.json', 'truth-problem-300.json', 'truth-problem-1684.json', 'truth-problem-1480.json', 'problem-3925.txt', 'problem-2072.txt', 'truth-problem-4071.json', 'truth-problem-1404.json', 'problem-1304.txt', 'truth-problem-2113.json', 'truth-problem-1950.json', 'problem-2434.txt', 'truth-problem-3259.json', 'truth-problem-358.json', 'truth-problem-1959.json', 'problem-1673.txt', 'truth-problem-104.json', 'truth-problem-2716.json', 'problem-1139.txt', 'truth-problem-3613.json', 'truth-problem-4053.json', 'problem-4077.txt', 'truth-problem-3037.json', 'truth-problem-2122.json', 'truth-problem-3374.json', 'problem-3342.txt', 'problem-3563.txt', 'truth-problem-3649.json', 'problem-3549.txt', 'truth-problem-579.json', 'problem-2785.txt', 'truth-problem-3371.json', 'problem-2057.txt', 'problem-525.txt', 'truth-problem-1703.json', 'problem-254.txt', 'truth-problem-1148.json', 'truth-problem-2431.json', 'problem-1776.txt', 'truth-problem-2896.json', 'truth-problem-1280.json', 'problem-592.txt', 'truth-problem-1317.json', 'problem-816.txt', 'truth-problem-1960.json', 'problem-2116.txt', 'truth-problem-3238.json', 'truth-problem-2602.json', 'problem-3855.txt', 'truth-problem-1856.json', 'truth-problem-3548.json', 'truth-problem-1755.json', 'problem-3552.txt', 'truth-problem-3153.json', 'truth-problem-2149.json', 'truth-problem-1516.json', 'problem-2330.txt', 'truth-problem-1319.json', 'problem-1978.txt', 'truth-problem-2458.json', 'truth-problem-1585.json', 'problem-11.txt', 'truth-problem-1764.json', 'problem-817.txt', 'problem-2664.txt', 'problem-2943.txt', 'truth-problem-1162.json', 'truth-problem-1824.json', 'problem-74.txt', 'truth-problem-1846.json', 'problem-1102.txt', 'problem-364.txt', 'truth-problem-2508.json', 'truth-problem-1687.json', 'problem-1851.txt', 'problem-202.txt', 'truth-problem-3288.json', 'problem-704.txt', 'problem-2744.txt', 'problem-173.txt', 'problem-2366.txt', 'problem-1838.txt', 'problem-3421.txt', 'problem-1843.txt', 'problem-1493.txt', 'problem-1566.txt', 'problem-3192.txt', 'truth-problem-2299.json', 'problem-3412.txt', 'truth-problem-3206.json', 'truth-problem-1020.json', 'problem-2557.txt', 'problem-2591.txt', 'truth-problem-679.json', 'truth-problem-450.json', 'problem-2317.txt', 'truth-problem-3470.json', 'truth-problem-1528.json', 'problem-3101.txt', 'truth-problem-491.json', 'truth-problem-1547.json', 'truth-problem-1724.json', 'truth-problem-2871.json', 'truth-problem-2475.json', 'problem-2381.txt', 'problem-10.txt', 'truth-problem-3309.json', 'truth-problem-2608.json', 'truth-problem-2975.json', 'truth-problem-1904.json', 'truth-problem-672.json', 'problem-1348.txt', 'truth-problem-79.json', 'truth-problem-949.json', 'truth-problem-639.json', 'truth-problem-619.json', 'truth-problem-668.json', 'problem-3037.txt', 'problem-1096.txt', 'truth-problem-493.json', 'problem-276.txt', 'truth-problem-3653.json', 'truth-problem-2405.json', 'truth-problem-388.json', 'truth-problem-1282.json', 'truth-problem-1242.json', 'truth-problem-866.json', 'truth-problem-830.json', 'problem-122.txt', 'problem-2690.txt', 'truth-problem-1502.json', 'truth-problem-2443.json', 'truth-problem-3167.json', 'truth-problem-3449.json', 'truth-problem-3488.json', 'problem-2327.txt', 'problem-664.txt', 'problem-786.txt', 'problem-1985.txt', 'truth-problem-2034.json', 'problem-2399.txt', 'problem-879.txt', 'truth-problem-3941.json', 'truth-problem-2990.json', 'problem-2882.txt', 'problem-324.txt', 'truth-problem-2054.json', 'problem-1215.txt', 'truth-problem-1963.json', 'truth-problem-1232.json', 'truth-problem-107.json', 'truth-problem-2618.json', 'truth-problem-3720.json', 'truth-problem-1794.json', 'problem-89.txt', 'truth-problem-632.json', 'problem-241.txt', 'truth-problem-3502.json', 'truth-problem-3054.json', 'truth-problem-2803.json', 'truth-problem-2770.json', 'problem-1780.txt', 'truth-problem-1100.json', 'problem-2702.txt', 'truth-problem-2510.json', 'problem-1603.txt', 'truth-problem-2289.json', 'problem-3041.txt', 'problem-1267.txt', 'problem-1549.txt', 'truth-problem-1311.json', 'truth-problem-3848.json', 'problem-4068.txt', 'truth-problem-1798.json', 'problem-2809.txt', 'problem-3910.txt', 'truth-problem-453.json', 'truth-problem-2981.json', 'problem-2324.txt', 'problem-809.txt', 'truth-problem-929.json', 'problem-3170.txt', 'truth-problem-2361.json', 'problem-251.txt', 'truth-problem-1576.json', 'truth-problem-1868.json', 'problem-2719.txt', 'problem-1015.txt', 'truth-problem-1239.json', 'truth-problem-471.json', 'truth-problem-733.json', 'problem-4051.txt', 'truth-problem-519.json', 'truth-problem-1425.json', 'problem-1311.txt', 'truth-problem-898.json', 'truth-problem-3687.json', 'problem-2012.txt', 'truth-problem-335.json', 'problem-2253.txt', 'truth-problem-387.json', 'truth-problem-2704.json', 'truth-problem-904.json', 'problem-133.txt', 'truth-problem-1553.json', 'truth-problem-734.json', 'truth-problem-4137.json', 'problem-1279.txt', 'problem-616.txt', 'truth-problem-1851.json', 'problem-1922.txt', 'truth-problem-615.json', 'truth-problem-1421.json', 'truth-problem-3512.json', 'truth-problem-1326.json', 'truth-problem-3003.json', 'problem-2442.txt', 'problem-2701.txt', 'problem-978.txt', 'problem-1945.txt', 'truth-problem-1133.json', 'truth-problem-3439.json', 'problem-1023.txt', 'truth-problem-3852.json', 'truth-problem-447.json', 'truth-problem-1628.json', 'problem-488.txt', 'truth-problem-520.json', 'truth-problem-3447.json', 'problem-2314.txt', 'problem-496.txt', 'problem-511.txt', 'problem-3369.txt', 'truth-problem-2805.json', 'problem-2669.txt', 'problem-3822.txt', 'problem-2792.txt', 'truth-problem-2237.json', 'problem-1763.txt', 'truth-problem-2522.json', 'problem-3363.txt', 'truth-problem-1497.json', 'truth-problem-2371.json', 'problem-1595.txt', 'truth-problem-2077.json', 'problem-2419.txt', 'truth-problem-2859.json', 'problem-2781.txt', 'problem-602.txt', 'truth-problem-1636.json', 'problem-810.txt', 'truth-problem-1490.json', 'truth-problem-3303.json', 'truth-problem-2390.json', 'problem-4020.txt', 'problem-1451.txt', 'truth-problem-372.json', 'problem-703.txt', 'problem-3382.txt', 'problem-3947.txt', 'truth-problem-3149.json', 'problem-3958.txt', 'problem-3154.txt', 'problem-351.txt', 'truth-problem-3765.json', 'problem-3688.txt', 'truth-problem-4110.json', 'truth-problem-273.json', 'problem-3770.txt', 'truth-problem-3594.json', 'truth-problem-3982.json', 'truth-problem-745.json', 'problem-1251.txt', 'problem-1414.txt', 'truth-problem-3873.json', 'truth-problem-306.json', 'problem-939.txt', 'problem-899.txt', 'problem-620.txt', 'truth-problem-280.json', 'truth-problem-1142.json', 'problem-793.txt', 'truth-problem-3525.json', 'truth-problem-848.json', 'truth-problem-4164.json', 'problem-1532.txt', 'truth-problem-4176.json', 'truth-problem-465.json', 'truth-problem-2327.json', 'truth-problem-842.json', 'truth-problem-2755.json', 'problem-2835.txt', 'truth-problem-30.json', 'problem-2076.txt', 'truth-problem-947.json', 'problem-450.txt', 'problem-368.txt', 'truth-problem-1445.json', 'truth-problem-293.json', 'problem-765.txt', 'truth-problem-2305.json', 'truth-problem-1495.json', 'truth-problem-4130.json', 'truth-problem-2494.json', 'problem-1195.txt', 'truth-problem-2182.json', 'problem-980.txt', 'truth-problem-3297.json', 'truth-problem-2695.json', 'problem-1947.txt', 'problem-918.txt', 'problem-2238.txt', 'problem-1277.txt', 'problem-1016.txt', 'truth-problem-2943.json', 'problem-1396.txt', 'problem-3831.txt', 'problem-3595.txt', 'truth-problem-3198.json', 'problem-1454.txt', 'problem-3514.txt', 'problem-612.txt', 'problem-107.txt', 'problem-2187.txt', 'problem-3401.txt', 'truth-problem-2983.json', 'problem-586.txt', 'truth-problem-2295.json', 'truth-problem-3419.json', 'truth-problem-1483.json', 'problem-482.txt', 'truth-problem-1446.json', 'problem-2984.txt', 'truth-problem-2202.json', 'truth-problem-317.json', 'problem-2163.txt', 'problem-2544.txt', 'truth-problem-3695.json', 'problem-1636.txt', 'problem-2888.txt', 'problem-3057.txt', 'truth-problem-662.json', 'problem-3029.txt', 'problem-3374.txt', 'problem-1323.txt', 'problem-1889.txt', 'problem-1826.txt', 'truth-problem-3223.json', 'problem-692.txt', 'problem-2114.txt', 'truth-problem-3551.json', 'truth-problem-953.json', 'truth-problem-3007.json', 'problem-116.txt', 'problem-3246.txt', 'truth-problem-2617.json', 'truth-problem-2683.json', 'truth-problem-2063.json', 'truth-problem-4037.json', 'problem-2332.txt', 'truth-problem-102.json', 'problem-1425.txt', 'truth-problem-3823.json', 'truth-problem-1248.json', 'problem-2986.txt', 'problem-4085.txt', 'problem-686.txt', 'problem-4151.txt', 'truth-problem-1488.json', 'problem-3540.txt', 'problem-2375.txt', 'problem-192.txt', 'problem-910.txt', 'problem-1831.txt', 'truth-problem-3364.json', 'truth-problem-3799.json', 'problem-3449.txt', 'truth-problem-2253.json', 'problem-509.txt', 'truth-problem-1635.json', 'truth-problem-2138.json', 'truth-problem-4195.json', 'problem-3784.txt', 'truth-problem-3333.json', 'problem-3768.txt', 'truth-problem-2828.json', 'problem-1313.txt', 'truth-problem-1486.json', 'problem-1747.txt', 'problem-1830.txt', 'problem-2295.txt', 'truth-problem-219.json', 'truth-problem-715.json', 'truth-problem-1979.json', 'truth-problem-2461.json', 'truth-problem-3221.json', 'problem-1292.txt', 'problem-3711.txt', 'truth-problem-3842.json', 'problem-2287.txt', 'problem-1991.txt', 'truth-problem-3091.json', 'truth-problem-2266.json', 'problem-1147.txt', 'truth-problem-2341.json', 'problem-2385.txt', 'problem-3306.txt', 'truth-problem-2186.json', 'truth-problem-2179.json', 'truth-problem-1757.json', 'truth-problem-47.json', 'truth-problem-3834.json', 'problem-2369.txt', 'problem-3518.txt', 'truth-problem-3277.json', 'truth-problem-417.json', 'problem-2144.txt', 'truth-problem-470.json', 'problem-3319.txt', 'problem-2729.txt', 'truth-problem-323.json', 'truth-problem-2685.json', 'truth-problem-1981.json', 'truth-problem-1838.json', 'truth-problem-3988.json', 'truth-problem-272.json', 'truth-problem-3183.json', 'truth-problem-42.json', 'problem-764.txt', 'truth-problem-861.json', 'truth-problem-1455.json', 'truth-problem-2752.json', 'problem-2998.txt', 'problem-1245.txt', 'problem-3320.txt', 'problem-984.txt', 'truth-problem-3118.json', 'truth-problem-1944.json', 'truth-problem-719.json', 'problem-2904.txt', 'problem-1695.txt', 'truth-problem-4156.json', 'problem-2431.txt', 'problem-3385.txt', 'truth-problem-2108.json', 'problem-1018.txt', 'truth-problem-3673.json', 'problem-3139.txt', 'problem-3337.txt', 'problem-2505.txt', 'truth-problem-242.json', 'truth-problem-270.json', 'truth-problem-2529.json', 'truth-problem-2926.json', 'problem-3494.txt', 'problem-2139.txt', 'problem-1482.txt', 'truth-problem-3722.json', 'problem-2635.txt', 'problem-1720.txt', 'problem-3963.txt', 'problem-240.txt', 'truth-problem-440.json', 'problem-1005.txt', 'truth-problem-4009.json', 'truth-problem-3320.json', 'truth-problem-1545.json', 'truth-problem-1929.json', 'problem-1970.txt', 'problem-2088.txt', 'problem-2279.txt', 'truth-problem-3756.json', 'problem-1101.txt', 'truth-problem-4125.json', 'truth-problem-762.json', 'truth-problem-1061.json', 'problem-3185.txt', 'problem-365.txt', 'truth-problem-2381.json', 'truth-problem-1363.json', 'problem-875.txt', 'truth-problem-900.json', 'truth-problem-1385.json', 'problem-2377.txt', 'problem-1724.txt', 'problem-2067.txt', 'truth-problem-4055.json', 'problem-553.txt', 'problem-1312.txt', 'truth-problem-1721.json', 'truth-problem-3875.json', 'problem-3269.txt', 'problem-1127.txt', 'problem-1455.txt', 'problem-1550.txt', 'problem-1582.txt', 'truth-problem-2214.json', 'truth-problem-2242.json', 'problem-2415.txt', 'problem-3253.txt', 'truth-problem-1574.json', 'problem-1137.txt', 'problem-1606.txt', 'problem-1773.txt', 'problem-2975.txt', 'truth-problem-1725.json', 'truth-problem-1390.json', 'problem-3272.txt', 'problem-2194.txt', 'truth-problem-2322.json', 'truth-problem-2337.json', 'problem-252.txt', 'problem-2924.txt', 'problem-9.txt', 'truth-problem-3156.json', 'truth-problem-2973.json', 'problem-1144.txt', 'problem-3247.txt', 'problem-533.txt', 'truth-problem-1161.json', 'problem-3040.txt', 'problem-2997.txt', 'truth-problem-3443.json', 'problem-1624.txt', 'problem-2571.txt', 'truth-problem-373.json', 'truth-problem-2353.json', 'problem-3186.txt', 'truth-problem-4172.json', 'problem-4043.txt', 'problem-4056.txt', 'problem-56.txt', 'truth-problem-3879.json', 'problem-341.txt', 'truth-problem-31.json', 'truth-problem-1187.json', 'problem-3060.txt', 'problem-5.txt', 'truth-problem-1299.json', 'truth-problem-321.json', 'problem-2396.txt', 'problem-3729.txt', 'problem-114.txt', 'truth-problem-718.json', 'problem-2580.txt', 'truth-problem-3024.json', 'problem-1952.txt', 'truth-problem-3963.json', 'problem-2119.txt', 'problem-938.txt', 'truth-problem-1876.json', 'truth-problem-2949.json', 'problem-3521.txt', 'problem-4147.txt', 'problem-2008.txt', 'truth-problem-487.json', 'truth-problem-3493.json', 'problem-2714.txt', 'problem-1874.txt', 'problem-2137.txt', 'problem-325.txt', 'problem-3862.txt', 'truth-problem-1653.json', 'problem-2582.txt', 'problem-3371.txt', 'problem-3583.txt', 'truth-problem-1037.json', 'truth-problem-1654.json', 'problem-3693.txt', 'truth-problem-1370.json', 'problem-1924.txt', 'problem-1819.txt', 'truth-problem-1417.json', 'truth-problem-3420.json', 'truth-problem-1722.json', 'problem-3015.txt', 'problem-3008.txt', 'truth-problem-3151.json', 'problem-1153.txt', 'problem-2257.txt', 'truth-problem-1369.json', 'truth-problem-3057.json', 'truth-problem-3276.json', 'truth-problem-1208.json', 'truth-problem-2193.json', 'problem-2488.txt', 'truth-problem-1218.json', 'truth-problem-3330.json', 'truth-problem-789.json', 'problem-3656.txt', 'problem-1509.txt', 'truth-problem-1524.json', 'problem-1579.txt', 'truth-problem-599.json', 'problem-3503.txt', 'truth-problem-2412.json', 'truth-problem-3475.json', 'problem-1192.txt', 'truth-problem-3101.json', 'problem-23.txt', 'problem-2886.txt', 'problem-2440.txt', 'truth-problem-2687.json', 'problem-727.txt', 'truth-problem-1024.json', 'truth-problem-2955.json', 'problem-1342.txt', 'truth-problem-1046.json', 'problem-1214.txt', 'problem-539.txt', 'truth-problem-4160.json', 'truth-problem-3274.json', 'problem-1601.txt', 'truth-problem-761.json', 'problem-4064.txt', 'problem-4025.txt', 'problem-2939.txt', 'truth-problem-2354.json', 'problem-3576.txt', 'problem-270.txt', 'truth-problem-795.json', 'problem-403.txt', 'truth-problem-1135.json', 'problem-1387.txt', 'problem-851.txt', 'problem-523.txt', 'truth-problem-1780.json', 'problem-18.txt', 'truth-problem-3487.json', 'problem-1034.txt', 'truth-problem-3155.json', 'truth-problem-1736.json', 'problem-3751.txt', 'truth-problem-1298.json', 'problem-1715.txt', 'truth-problem-16.json', 'truth-problem-85.json', 'problem-2391.txt', 'problem-290.txt', 'truth-problem-1500.json', 'problem-1701.txt', 'truth-problem-3064.json', 'truth-problem-2820.json', 'problem-2481.txt', 'problem-1021.txt', 'truth-problem-2292.json', 'truth-problem-726.json', 'truth-problem-2229.json', 'problem-3663.txt', 'truth-problem-2670.json', 'problem-2316.txt', 'truth-problem-1788.json', 'problem-3687.txt', 'problem-2364.txt', 'truth-problem-73.json', 'truth-problem-1102.json', 'truth-problem-3993.json', 'problem-3050.txt', 'truth-problem-3219.json', 'problem-4004.txt', 'truth-problem-3530.json', 'problem-2741.txt', 'problem-112.txt', 'problem-3763.txt', 'truth-problem-3310.json', 'truth-problem-1471.json', 'truth-problem-2438.json', 'truth-problem-3772.json', 'problem-1667.txt', 'problem-1518.txt', 'truth-problem-3322.json', 'problem-2344.txt', 'truth-problem-427.json', 'truth-problem-351.json', 'truth-problem-604.json', 'problem-51.txt', 'problem-2309.txt', 'problem-477.txt', 'truth-problem-2784.json', 'truth-problem-1171.json', 'problem-1382.txt', 'problem-2023.txt', 'truth-problem-598.json', 'truth-problem-2644.json', 'truth-problem-3942.json', 'truth-problem-4087.json', 'truth-problem-2821.json', 'truth-problem-1613.json', 'truth-problem-1469.json', 'problem-1741.txt', 'problem-3396.txt', 'problem-363.txt', 'truth-problem-2893.json', 'problem-301.txt', 'problem-2068.txt', 'truth-problem-2850.json', 'problem-3143.txt', 'truth-problem-2862.json', 'problem-4022.txt', 'problem-492.txt', 'truth-problem-2633.json', 'truth-problem-223.json', 'truth-problem-2944.json', 'problem-1979.txt', 'truth-problem-83.json', 'truth-problem-40.json', 'truth-problem-2067.json', 'problem-54.txt', 'truth-problem-774.json', 'truth-problem-2094.json', 'truth-problem-199.json', 'truth-problem-678.json', 'problem-1660.txt', 'problem-2445.txt', 'truth-problem-3398.json', 'truth-problem-796.json', 'problem-1600.txt', 'truth-problem-2679.json', 'problem-1713.txt', 'problem-1449.txt', 'problem-2743.txt', 'truth-problem-2291.json', 'truth-problem-699.json', 'truth-problem-4182.json', 'problem-3631.txt', 'problem-848.txt', 'problem-3072.txt', 'truth-problem-3099.json', 'problem-140.txt', 'problem-4132.txt', 'truth-problem-786.json', 'truth-problem-436.json', 'problem-2891.txt', 'problem-2338.txt', 'problem-895.txt', 'problem-2092.txt', 'problem-2420.txt', 'problem-1507.txt', 'truth-problem-2771.json', 'problem-1252.txt', 'truth-problem-3337.json', 'problem-2464.txt', 'truth-problem-214.json', 'truth-problem-1885.json', 'problem-2342.txt', 'problem-3218.txt', 'truth-problem-3009.json', 'truth-problem-2168.json', 'truth-problem-3716.json', 'problem-3211.txt', 'truth-problem-1379.json', 'truth-problem-3258.json', 'truth-problem-3265.json', 'problem-2926.txt', 'problem-3873.txt', 'truth-problem-2387.json', 'problem-1008.txt', 'truth-problem-1036.json', 'problem-392.txt', 'problem-590.txt', 'truth-problem-2206.json', 'problem-255.txt', 'truth-problem-2632.json', 'truth-problem-3207.json', 'problem-542.txt', 'problem-2346.txt', 'truth-problem-1053.json', 'problem-4170.txt', 'problem-1576.txt', 'problem-3628.txt', 'problem-500.txt', 'problem-1803.txt', 'truth-problem-3591.json', 'problem-1758.txt', 'truth-problem-1338.json', 'truth-problem-2017.json', 'truth-problem-4032.json', 'problem-2811.txt', 'truth-problem-2432.json', 'problem-2225.txt', 'truth-problem-946.json', 'problem-4111.txt', 'problem-1553.txt', 'problem-229.txt', 'truth-problem-3882.json', 'problem-3739.txt', 'truth-problem-3147.json', 'truth-problem-3076.json', 'truth-problem-548.json', 'problem-2684.txt', 'problem-2768.txt', 'truth-problem-462.json', 'truth-problem-4003.json', 'truth-problem-3555.json', 'problem-1607.txt', 'problem-3720.txt', 'problem-4164.txt', 'problem-4189.txt', 'truth-problem-3001.json', 'truth-problem-1805.json', 'problem-1697.txt', 'problem-1914.txt', 'problem-405.txt', 'problem-3953.txt', 'truth-problem-3440.json', 'problem-2826.txt', 'truth-problem-2088.json', 'truth-problem-895.json', 'truth-problem-2011.json', 'problem-3206.txt', 'truth-problem-956.json', 'problem-837.txt', 'truth-problem-3924.json', 'problem-1171.txt', 'problem-1664.txt', 'truth-problem-2095.json', 'truth-problem-3913.json', 'truth-problem-2449.json', 'truth-problem-101.json', 'problem-3988.txt', 'truth-problem-1879.json', 'truth-problem-903.json', 'truth-problem-3123.json', 'truth-problem-1915.json', 'truth-problem-3817.json', 'problem-1355.txt', 'truth-problem-3947.json', 'problem-1964.txt', 'problem-1883.txt', 'truth-problem-1861.json', 'problem-1820.txt', 'problem-3309.txt', 'problem-1974.txt', 'problem-3825.txt', 'problem-1625.txt', 'problem-3104.txt', 'problem-4114.txt', 'truth-problem-3821.json', 'truth-problem-4143.json', 'truth-problem-1600.json', 'problem-272.txt', 'problem-1041.txt', 'truth-problem-670.json', 'problem-2395.txt', 'problem-2349.txt', 'problem-3102.txt', 'problem-3907.txt', 'problem-2756.txt', 'problem-3973.txt', 'problem-2436.txt', 'truth-problem-3877.json', 'problem-3912.txt', 'problem-3950.txt', 'problem-1233.txt', 'problem-917.txt', 'problem-1631.txt', 'problem-4187.txt', 'problem-2093.txt', 'problem-589.txt', 'truth-problem-4107.json', 'truth-problem-2604.json', 'truth-problem-2703.json', 'problem-2521.txt', 'truth-problem-3392.json', 'problem-1844.txt', 'truth-problem-1625.json', 'truth-problem-1704.json', 'truth-problem-2433.json', 'truth-problem-2892.json', 'truth-problem-1638.json', 'truth-problem-2832.json', 'truth-problem-4122.json', 'problem-2289.txt', 'problem-3112.txt', 'truth-problem-2840.json', 'problem-2853.txt', 'problem-2493.txt', 'problem-953.txt', 'truth-problem-484.json', 'truth-problem-3804.json', 'truth-problem-441.json', 'problem-2575.txt', 'truth-problem-2066.json', 'problem-1827.txt', 'truth-problem-2587.json', 'problem-1007.txt', 'truth-problem-971.json', 'truth-problem-879.json', 'truth-problem-1489.json', 'problem-1408.txt', 'problem-2203.txt', 'problem-624.txt', 'truth-problem-1923.json', 'problem-1486.txt', 'problem-2426.txt', 'truth-problem-1365.json', 'truth-problem-2747.json', 'truth-problem-3166.json', 'truth-problem-1605.json', 'problem-2140.txt', 'problem-547.txt', 'truth-problem-2380.json', 'problem-3827.txt', 'problem-1565.txt', 'truth-problem-1835.json', 'truth-problem-96.json', 'truth-problem-981.json', 'truth-problem-1538.json', 'problem-367.txt', 'truth-problem-2659.json', 'truth-problem-3971.json', 'problem-901.txt', 'problem-1842.txt', 'problem-1089.txt', 'truth-problem-741.json', 'problem-1544.txt', 'truth-problem-3549.json', 'truth-problem-2665.json', 'truth-problem-1811.json', 'problem-3676.txt', 'problem-1929.txt', 'truth-problem-1514.json', 'truth-problem-1581.json', 'truth-problem-1714.json', 'problem-1116.txt', 'problem-1620.txt', 'problem-3589.txt', 'truth-problem-3854.json', 'problem-1441.txt', 'truth-problem-2271.json', 'truth-problem-1095.json', 'problem-1200.txt', 'problem-2593.txt', 'truth-problem-1759.json', 'problem-802.txt', 'truth-problem-2550.json', 'truth-problem-3638.json', 'truth-problem-638.json', 'problem-785.txt', 'truth-problem-3533.json', 'truth-problem-1178.json', 'problem-2427.txt', 'truth-problem-406.json', 'problem-3217.txt', 'truth-problem-2788.json', 'problem-3815.txt', 'truth-problem-206.json', 'problem-2609.txt', 'problem-1196.txt', 'truth-problem-116.json', 'truth-problem-1257.json', 'truth-problem-1269.json', 'truth-problem-1351.json', 'truth-problem-4116.json', 'truth-problem-1433.json', 'truth-problem-2234.json', 'truth-problem-2702.json', 'problem-3755.txt', 'truth-problem-3060.json', 'truth-problem-4099.json', 'truth-problem-1512.json', 'truth-problem-3495.json', 'truth-problem-267.json', 'problem-1734.txt', 'problem-2368.txt', 'problem-3502.txt', 'problem-2175.txt', 'truth-problem-1106.json', 'problem-1061.txt', 'problem-3898.txt', 'truth-problem-3485.json', 'problem-2041.txt', 'truth-problem-208.json', 'truth-problem-1634.json', 'problem-1519.txt', 'truth-problem-625.json', 'problem-2774.txt', 'truth-problem-2098.json', 'truth-problem-3605.json', 'truth-problem-526.json', 'truth-problem-2103.json', 'problem-548.txt', 'problem-3223.txt', 'problem-478.txt', 'problem-1630.txt', 'truth-problem-3152.json', 'truth-problem-802.json', 'truth-problem-3682.json', 'problem-205.txt', 'problem-1462.txt', 'truth-problem-1035.json', 'problem-2576.txt', 'problem-3992.txt', 'truth-problem-3327.json', 'problem-1899.txt', 'problem-2913.txt', 'problem-2620.txt', 'problem-481.txt', 'truth-problem-998.json', 'problem-1957.txt', 'truth-problem-3794.json', 'problem-2082.txt', 'problem-849.txt', 'truth-problem-3459.json', 'truth-problem-3231.json', 'problem-1261.txt', 'truth-problem-3130.json', 'truth-problem-3332.json', 'problem-2757.txt', 'problem-121.txt', 'problem-3222.txt', 'problem-3046.txt', 'problem-813.txt', 'problem-792.txt', 'problem-1508.txt', 'truth-problem-3264.json', 'truth-problem-3515.json', 'problem-2205.txt', 'problem-3283.txt', 'truth-problem-1325.json', 'problem-2603.txt', 'problem-4050.txt', 'problem-1301.txt', 'problem-2547.txt', 'problem-4062.txt', 'truth-problem-328.json', 'problem-265.txt', 'problem-2840.txt', 'problem-279.txt', 'problem-3307.txt', 'problem-3864.txt', 'problem-2985.txt', 'problem-2024.txt', 'truth-problem-1540.json', 'problem-1430.txt', 'truth-problem-3885.json', 'problem-2909.txt', 'truth-problem-1261.json', 'problem-2529.txt', 'truth-problem-3361.json', 'problem-2740.txt', 'truth-problem-3135.json', 'problem-2759.txt', 'problem-382.txt', 'truth-problem-3966.json', 'truth-problem-2554.json', 'truth-problem-367.json', 'problem-129.txt', 'problem-2586.txt', 'problem-2572.txt', 'problem-2964.txt', 'truth-problem-2614.json', 'truth-problem-3331.json', 'truth-problem-1292.json', 'truth-problem-494.json', 'problem-2259.txt', 'problem-1149.txt', 'truth-problem-1499.json', 'truth-problem-1458.json', 'truth-problem-3909.json', 'truth-problem-3610.json', 'problem-3638.txt', 'problem-167.txt', 'truth-problem-1591.json', 'problem-3581.txt', 'problem-1598.txt', 'problem-3572.txt', 'truth-problem-2383.json', 'truth-problem-2314.json', 'truth-problem-2935.json', 'truth-problem-1341.json', 'problem-581.txt', 'problem-640.txt', 'problem-2767.txt', 'truth-problem-3164.json', 'problem-1129.txt', 'problem-4197.txt', 'problem-2234.txt', 'truth-problem-3030.json', 'truth-problem-3499.json', 'truth-problem-3642.json', 'truth-problem-1839.json', 'truth-problem-784.json', 'truth-problem-3315.json', 'truth-problem-2800.json', 'problem-3461.txt', 'truth-problem-986.json', 'problem-3813.txt', 'problem-2907.txt', 'truth-problem-1795.json', 'truth-problem-4117.json', 'truth-problem-3934.json', 'problem-257.txt', 'problem-2919.txt', 'truth-problem-3210.json', 'truth-problem-3894.json', 'problem-380.txt', 'problem-3259.txt', 'truth-problem-488.json', 'truth-problem-2096.json', 'problem-2228.txt', 'problem-1257.txt', 'problem-884.txt', 'truth-problem-2197.json', 'problem-688.txt', 'problem-682.txt', 'problem-549.txt', 'truth-problem-4187.json', 'problem-2981.txt', 'truth-problem-1000.json', 'problem-3481.txt', 'problem-374.txt', 'truth-problem-3055.json', 'problem-4159.txt', 'problem-1114.txt', 'truth-problem-2216.json', 'problem-212.txt', 'problem-622.txt', 'problem-3351.txt', 'truth-problem-336.json', 'problem-42.txt', 'truth-problem-2044.json', 'truth-problem-4129.json', 'problem-815.txt', 'problem-1779.txt', 'problem-3214.txt', 'problem-260.txt', 'truth-problem-1389.json', 'truth-problem-3463.json', 'truth-problem-1321.json', 'problem-3706.txt', 'truth-problem-3915.json', 'truth-problem-1362.json', 'problem-1180.txt', 'problem-308.txt', 'truth-problem-2205.json', 'truth-problem-1401.json', 'truth-problem-751.json', 'truth-problem-3402.json', 'truth-problem-2561.json', 'problem-1570.txt', 'truth-problem-2231.json', 'truth-problem-117.json', 'truth-problem-1556.json', 'problem-672.txt', 'truth-problem-3840.json', 'problem-3350.txt', 'problem-3378.txt', 'truth-problem-2612.json', 'problem-200.txt', 'truth-problem-3719.json', 'problem-2014.txt', 'truth-problem-353.json', 'truth-problem-362.json', 'problem-4086.txt', 'problem-1237.txt', 'problem-1681.txt', 'truth-problem-3177.json', 'truth-problem-1642.json', 'truth-problem-4079.json', 'problem-2887.txt', 'truth-problem-3999.json', 'problem-264.txt', 'problem-1711.txt', 'problem-3477.txt', 'truth-problem-3262.json', 'problem-1706.txt', 'truth-problem-2276.json', 'problem-573.txt', 'truth-problem-1213.json', 'problem-1867.txt', 'problem-117.txt', 'problem-2100.txt', 'truth-problem-3384.json', 'problem-3183.txt', 'problem-60.txt', 'truth-problem-1082.json', 'truth-problem-216.json', 'truth-problem-1902.json', 'truth-problem-3860.json', 'problem-3783.txt', 'truth-problem-2746.json', 'problem-1816.txt', 'problem-1662.txt', 'problem-92.txt', 'problem-1912.txt', 'problem-3828.txt', 'truth-problem-3035.json', 'problem-599.txt', 'problem-1243.txt', 'problem-322.txt', 'truth-problem-4169.json', 'truth-problem-1908.json', 'problem-1740.txt', 'truth-problem-2400.json', 'truth-problem-3236.json', 'truth-problem-1180.json', 'truth-problem-4114.json', 'truth-problem-849.json', 'problem-329.txt', 'truth-problem-3215.json', 'problem-3463.txt', 'problem-1612.txt', 'problem-3091.txt', 'truth-problem-2463.json', 'truth-problem-3241.json', 'truth-problem-3178.json', 'problem-1406.txt', 'truth-problem-1866.json', 'truth-problem-944.json', 'truth-problem-3372.json', 'truth-problem-3071.json', 'truth-problem-2733.json', 'problem-73.txt', 'truth-problem-3559.json', 'truth-problem-2413.json', 'problem-1081.txt', 'truth-problem-2946.json', 'problem-424.txt', 'problem-29.txt', 'problem-1520.txt', 'truth-problem-3176.json', 'truth-problem-1405.json', 'truth-problem-3777.json', 'truth-problem-1845.json', 'problem-4078.txt', 'truth-problem-1877.json', 'truth-problem-283.json', 'truth-problem-3082.json', 'truth-problem-2598.json', 'problem-832.txt', 'problem-3607.txt', 'truth-problem-1661.json', 'truth-problem-831.json', 'problem-3111.txt', 'truth-problem-3892.json', 'problem-1258.txt', 'truth-problem-1833.json', 'truth-problem-717.json', 'problem-3199.txt', 'problem-695.txt', 'problem-147.txt', 'problem-1898.txt', 'truth-problem-1428.json', 'truth-problem-2217.json', 'problem-2881.txt', 'truth-problem-1290.json', 'problem-1423.txt', 'problem-561.txt', 'problem-2884.txt', 'truth-problem-3670.json', 'truth-problem-3.json', 'truth-problem-565.json', 'problem-38.txt', 'truth-problem-2760.json', 'problem-3136.txt', 'truth-problem-1398.json', 'problem-442.txt', 'problem-2016.txt', 'truth-problem-3170.json', 'problem-1510.txt', 'problem-448.txt', 'problem-1044.txt', 'problem-1209.txt', 'truth-problem-2785.json', 'problem-2595.txt', 'truth-problem-200.json', 'problem-1235.txt', 'problem-944.txt', 'problem-2388.txt', 'truth-problem-2393.json', 'truth-problem-4033.json', 'problem-3366.txt', 'problem-1381.txt', 'truth-problem-3503.json', 'problem-751.txt', 'truth-problem-175.json', 'truth-problem-838.json', 'truth-problem-291.json', 'truth-problem-393.json', 'problem-604.txt', 'truth-problem-1919.json', 'truth-problem-424.json', 'problem-266.txt', 'truth-problem-124.json', 'truth-problem-1967.json', 'truth-problem-1563.json', 'truth-problem-3185.json', 'problem-1281.txt', 'truth-problem-3570.json', 'truth-problem-873.json', 'truth-problem-3000.json', 'truth-problem-2184.json', 'truth-problem-137.json', 'truth-problem-1306.json', 'truth-problem-585.json', 'problem-50.txt', 'truth-problem-4054.json', 'problem-3324.txt', 'truth-problem-3228.json', 'problem-759.txt', 'problem-2956.txt', 'truth-problem-1527.json', 'problem-1746.txt', 'truth-problem-747.json', 'truth-problem-2938.json', 'problem-4145.txt', 'problem-3093.txt', 'truth-problem-1936.json', 'truth-problem-3291.json', 'problem-2818.txt', 'truth-problem-2540.json', 'problem-1685.txt', 'truth-problem-506.json', 'truth-problem-1899.json', 'problem-1416.txt', 'truth-problem-542.json', 'problem-2817.txt', 'problem-728.txt', 'truth-problem-2426.json', 'truth-problem-1690.json', 'truth-problem-2119.json', 'truth-problem-952.json', 'problem-3820.txt', 'truth-problem-948.json', 'truth-problem-738.json', 'truth-problem-1305.json', 'problem-2109.txt', 'problem-1031.txt', 'problem-913.txt', 'problem-1832.txt', 'problem-2356.txt', 'problem-2562.txt', 'problem-2687.txt', 'truth-problem-269.json', 'truth-problem-919.json', 'truth-problem-777.json', 'problem-677.txt', 'truth-problem-2188.json', 'problem-25.txt', 'problem-2555.txt', 'truth-problem-515.json', 'problem-795.txt', 'truth-problem-3158.json', 'truth-problem-1723.json', 'truth-problem-3243.json', 'truth-problem-3897.json', 'truth-problem-3395.json', 'truth-problem-2006.json', 'truth-problem-3617.json', 'truth-problem-308.json', 'problem-2255.txt', 'problem-449.txt', 'problem-3700.txt', 'truth-problem-1914.json', 'truth-problem-846.json', 'truth-problem-3710.json', 'problem-2256.txt', 'truth-problem-533.json', 'truth-problem-150.json', 'truth-problem-1328.json', 'truth-problem-3373.json', 'problem-37.txt', 'problem-3939.txt', 'problem-287.txt', 'truth-problem-4091.json', 'problem-1589.txt', 'problem-336.txt', 'truth-problem-3197.json', 'problem-1918.txt', 'truth-problem-2441.json', 'problem-3689.txt', 'truth-problem-2563.json', 'truth-problem-3600.json', 'problem-859.txt', 'problem-2833.txt', 'problem-2250.txt', 'problem-4141.txt', 'truth-problem-799.json', 'problem-3231.txt', 'problem-807.txt', 'problem-3141.txt', 'truth-problem-2040.json', 'truth-problem-2080.json', 'problem-2480.txt', 'truth-problem-467.json', 'truth-problem-697.json', 'problem-2772.txt', 'problem-1098.txt', 'problem-434.txt', 'truth-problem-4004.json', 'truth-problem-2867.json', 'truth-problem-3707.json', 'truth-problem-1539.json', 'truth-problem-3157.json', 'truth-problem-4031.json', 'problem-3721.txt', 'problem-3084.txt', 'truth-problem-614.json', 'problem-2846.txt', 'truth-problem-2959.json', 'problem-1090.txt', 'problem-2916.txt', 'truth-problem-2970.json', 'truth-problem-582.json', 'truth-problem-1233.json', 'truth-problem-4190.json', 'problem-2269.txt', 'problem-2429.txt', 'problem-1123.txt', 'truth-problem-3917.json', 'problem-608.txt', 'problem-3092.txt', 'truth-problem-2240.json', 'truth-problem-2447.json', 'truth-problem-2032.json', 'problem-1824.txt', 'truth-problem-2373.json', 'problem-1602.txt', 'problem-3447.txt', 'problem-543.txt', 'truth-problem-2016.json', 'problem-2484.txt', 'problem-4098.txt', 'problem-1690.txt', 'problem-1735.txt', 'problem-321.txt', 'problem-3078.txt', 'problem-120.txt', 'truth-problem-3204.json', 'truth-problem-1965.json', 'problem-3188.txt', 'truth-problem-3483.json', 'truth-problem-1958.json', 'truth-problem-218.json', 'problem-1225.txt', 'truth-problem-178.json', 'truth-problem-1058.json', 'truth-problem-1220.json', 'truth-problem-1141.json', 'problem-213.txt', 'truth-problem-322.json', 'problem-226.txt', 'problem-126.txt', 'problem-1003.txt', 'truth-problem-70.json', 'truth-problem-2835.json', 'truth-problem-2763.json', 'problem-974.txt', 'truth-problem-2127.json', 'truth-problem-1383.json', 'truth-problem-1120.json', 'problem-1299.txt', 'truth-problem-3461.json', 'truth-problem-1506.json', 'problem-3724.txt', 'truth-problem-3129.json', 'problem-2325.txt', 'truth-problem-3725.json', 'problem-1836.txt', 'problem-13.txt', 'problem-2081.txt', 'problem-906.txt', 'truth-problem-2594.json', 'problem-3356.txt', 'truth-problem-3540.json', 'truth-problem-2334.json', 'problem-3434.txt', 'truth-problem-2650.json', 'problem-197.txt', 'problem-2619.txt', 'truth-problem-3680.json', 'truth-problem-2468.json', 'truth-problem-1283.json', 'problem-2867.txt', 'problem-820.txt', 'truth-problem-1491.json', 'truth-problem-2460.json', 'problem-2942.txt', 'problem-796.txt', 'truth-problem-1743.json', 'truth-problem-1454.json', 'problem-985.txt', 'truth-problem-1619.json', 'truth-problem-2553.json', 'problem-2579.txt', 'truth-problem-1909.json', 'problem-1597.txt', 'problem-2107.txt', 'truth-problem-1196.json', 'truth-problem-123.json', 'problem-2494.txt', 'problem-94.txt', 'problem-1704.txt', 'problem-775.txt', 'truth-problem-3826.json', 'problem-239.txt', 'truth-problem-1978.json', 'truth-problem-1314.json', 'problem-4074.txt', 'problem-3471.txt', 'problem-799.txt', 'problem-1839.txt', 'problem-2694.txt', 'truth-problem-1886.json', 'problem-3229.txt', 'problem-2365.txt', 'problem-2362.txt', 'problem-1956.txt', 'truth-problem-252.json', 'truth-problem-2055.json', 'problem-204.txt', 'truth-problem-1700.json', 'truth-problem-4145.json', 'problem-3903.txt', 'problem-3354.txt', 'truth-problem-1286.json', 'truth-problem-2057.json', 'truth-problem-1572.json', 'truth-problem-1221.json', 'problem-1778.txt', 'problem-1199.txt', 'problem-4125.txt', 'problem-1290.txt', 'truth-problem-3027.json', 'problem-3787.txt', 'truth-problem-521.json', 'problem-2668.txt', 'truth-problem-265.json', 'problem-3712.txt', 'truth-problem-1182.json', 'truth-problem-2757.json', 'truth-problem-3764.json', 'truth-problem-874.json', 'problem-4055.txt', 'truth-problem-4088.json', 'truth-problem-1711.json', 'problem-1012.txt', 'truth-problem-182.json', 'problem-3733.txt', 'truth-problem-1453.json', 'truth-problem-547.json', 'problem-4116.txt', 'truth-problem-71.json', 'problem-687.txt', 'truth-problem-3754.json', 'truth-problem-3356.json', 'truth-problem-3184.json', 'truth-problem-2792.json', 'problem-2216.txt', 'problem-635.txt', 'problem-2541.txt', 'truth-problem-1937.json', 'truth-problem-2920.json', 'problem-2841.txt', 'truth-problem-3313.json', 'problem-2232.txt', 'truth-problem-1610.json', 'truth-problem-2885.json', 'problem-3175.txt', 'truth-problem-644.json', 'problem-2938.txt', 'truth-problem-1917.json', 'problem-1399.txt', 'problem-441.txt', 'truth-problem-1134.json', 'problem-940.txt', 'truth-problem-33.json', 'truth-problem-2523.json', 'truth-problem-65.json', 'truth-problem-2204.json', 'problem-3525.txt', 'problem-2925.txt', 'truth-problem-3068.json', 'problem-1017.txt', 'problem-1998.txt', 'problem-3645.txt', 'truth-problem-2434.json', 'truth-problem-911.json', 'problem-3359.txt', 'problem-331.txt', 'truth-problem-3607.json', 'truth-problem-3353.json', 'problem-3725.txt', 'problem-490.txt', 'problem-862.txt', 'problem-787.txt', 'problem-221.txt', 'problem-530.txt', 'truth-problem-3142.json', 'truth-problem-3127.json', 'problem-409.txt', 'problem-3756.txt', 'truth-problem-2564.json', 'truth-problem-3757.json', 'truth-problem-682.json', 'problem-3994.txt', 'problem-3203.txt', 'truth-problem-2657.json', 'problem-40.txt', 'problem-81.txt', 'problem-3843.txt', 'truth-problem-2580.json', 'truth-problem-1790.json', 'problem-2893.txt', 'truth-problem-256.json', 'problem-2507.txt', 'truth-problem-3912.json', 'problem-1354.txt', 'problem-3416.txt', 'truth-problem-646.json', 'truth-problem-712.json', 'problem-621.txt', 'truth-problem-413.json', 'truth-problem-3636.json', 'problem-137.txt', 'truth-problem-3612.json', 'truth-problem-1431.json', 'truth-problem-2666.json', 'truth-problem-3005.json', 'problem-3133.txt', 'problem-926.txt', 'problem-1333.txt', 'problem-2573.txt', 'truth-problem-2606.json', 'problem-1526.txt', 'problem-869.txt', 'truth-problem-2435.json', 'problem-730.txt', 'truth-problem-1887.json', 'problem-3225.txt', 'truth-problem-872.json', 'problem-569.txt', 'truth-problem-3889.json', 'truth-problem-1710.json', 'problem-3726.txt', 'truth-problem-1626.json', 'truth-problem-2324.json', 'problem-1825.txt', 'problem-3984.txt', 'truth-problem-2015.json', 'truth-problem-3506.json', 'problem-3062.txt', 'problem-1736.txt', 'truth-problem-3667.json', 'problem-870.txt', 'problem-3021.txt', 'truth-problem-2572.json', 'truth-problem-3565.json', 'problem-3850.txt', 'problem-2543.txt', 'problem-3734.txt', 'truth-problem-3629.json', 'problem-274.txt', 'truth-problem-2779.json', 'problem-3255.txt', 'problem-614.txt', 'truth-problem-1870.json', 'truth-problem-792.json', 'problem-3573.txt', 'truth-problem-580.json', 'truth-problem-2873.json', 'problem-3531.txt', 'problem-970.txt', 'truth-problem-1138.json', 'truth-problem-1012.json', 'problem-408.txt', 'problem-1134.txt', 'problem-1571.txt', 'truth-problem-2954.json', 'problem-4199.txt', 'problem-3571.txt', 'problem-819.txt', 'truth-problem-2596.json', 'problem-669.txt', 'problem-4010.txt', 'truth-problem-3113.json', 'problem-3538.txt', 'problem-3747.txt', 'problem-2098.txt', 'problem-455.txt', 'truth-problem-723.json', 'truth-problem-2962.json', 'problem-437.txt', 'problem-4006.txt', 'truth-problem-4135.json', 'problem-3069.txt', 'truth-problem-1229.json', 'problem-278.txt', 'problem-3794.txt', 'problem-3679.txt', 'truth-problem-2852.json', 'truth-problem-878.json', 'problem-2475.txt', 'problem-1564.txt', 'problem-1409.txt', 'problem-2725.txt', 'truth-problem-2185.json', 'truth-problem-1147.json', 'truth-problem-2410.json', 'truth-problem-2418.json', 'problem-1397.txt', 'problem-1666.txt', 'truth-problem-537.json', 'problem-2398.txt', 'truth-problem-1256.json', 'truth-problem-3252.json', 'truth-problem-1302.json', 'problem-3797.txt', 'problem-1800.txt', 'truth-problem-2499.json', 'truth-problem-3960.json', 'problem-1514.txt', 'truth-problem-4178.json', 'problem-3677.txt', 'truth-problem-991.json', 'truth-problem-2919.json', 'truth-problem-2024.json', 'problem-1866.txt', 'truth-problem-4000.json', 'truth-problem-3352.json', 'truth-problem-2260.json', 'problem-3002.txt', 'problem-3967.txt', 'truth-problem-3267.json', 'truth-problem-3469.json', 'problem-2588.txt', 'problem-804.txt', 'truth-problem-581.json', 'problem-2486.txt', 'problem-2737.txt', 'truth-problem-1017.json', 'problem-3142.txt', 'truth-problem-3465.json', 'problem-1091.txt', 'problem-609.txt', 'problem-2944.txt', 'truth-problem-3980.json', 'problem-1483.txt', 'problem-171.txt', 'problem-3207.txt', 'problem-4169.txt', 'truth-problem-1145.json', 'truth-problem-2502.json', 'problem-2491.txt', 'truth-problem-3016.json', 'truth-problem-1864.json', 'problem-3427.txt', 'truth-problem-3218.json', 'problem-2849.txt', 'problem-861.txt', 'truth-problem-2841.json', 'problem-1643.txt', 'truth-problem-3923.json', 'truth-problem-2079.json', 'truth-problem-3283.json', 'truth-problem-1701.json', 'truth-problem-327.json', 'problem-1321.txt', 'problem-1649.txt', 'truth-problem-1672.json', 'truth-problem-2551.json', 'problem-1062.txt', 'problem-3888.txt', 'problem-2270.txt', 'problem-2032.txt', 'truth-problem-236.json', 'truth-problem-1356.json', 'problem-1197.txt', 'truth-problem-159.json', 'truth-problem-2857.json', 'problem-3121.txt', 'problem-1295.txt', 'problem-2752.txt', 'problem-1894.txt', 'problem-1962.txt', 'problem-2712.txt', 'problem-3780.txt', 'truth-problem-185.json', 'truth-problem-2777.json', 'truth-problem-602.json', 'truth-problem-2265.json', 'problem-2042.txt', 'truth-problem-788.json', 'problem-2624.txt', 'problem-930.txt', 'truth-problem-3775.json', 'problem-3061.txt', 'truth-problem-2562.json', 'problem-2115.txt', 'truth-problem-2605.json', 'truth-problem-2898.json', 'problem-2190.txt', 'problem-3310.txt', 'truth-problem-3729.json', 'truth-problem-1349.json', 'truth-problem-1461.json', 'problem-2086.txt', 'problem-1186.txt', 'problem-1205.txt', 'problem-2371.txt', 'truth-problem-3572.json', 'truth-problem-2972.json', 'problem-445.txt', 'problem-516.txt', 'truth-problem-3861.json', 'problem-1256.txt', 'truth-problem-1836.json', 'problem-2103.txt', 'problem-3730.txt', 'truth-problem-3838.json', 'problem-370.txt', 'problem-825.txt', 'problem-726.txt', 'problem-716.txt', 'problem-2523.txt', 'truth-problem-2437.json', 'problem-2948.txt', 'problem-1934.txt', 'truth-problem-1617.json', 'problem-503.txt', 'problem-2170.txt', 'problem-3812.txt', 'problem-3743.txt', 'problem-3639.txt', 'problem-2570.txt', 'truth-problem-146.json', 'problem-958.txt', 'truth-problem-1285.json', 'problem-493.txt', 'truth-problem-798.json', 'problem-323.txt', 'problem-3635.txt', 'truth-problem-3609.json', 'problem-4200.txt', 'problem-1325.txt', 'problem-3792.txt', 'truth-problem-2543.json', 'problem-2628.txt', 'truth-problem-3718.json', 'truth-problem-1531.json', 'truth-problem-34.json', 'truth-problem-1065.json', 'truth-problem-2936.json', 'truth-problem-382.json', 'truth-problem-1659.json', 'problem-1070.txt', 'truth-problem-1278.json', 'problem-1968.txt', 'truth-problem-573.json', 'problem-108.txt', 'problem-3067.txt', 'problem-256.txt', 'truth-problem-1094.json', 'truth-problem-2507.json', 'problem-3991.txt', 'problem-1822.txt', 'problem-2435.txt', 'truth-problem-628.json', 'truth-problem-827.json', 'truth-problem-173.json', 'problem-718.txt', 'problem-1516.txt', 'problem-2383.txt', 'truth-problem-2331.json', 'problem-3484.txt', 'problem-1086.txt', 'problem-1911.txt', 'problem-3152.txt', 'truth-problem-4192.json', 'problem-2968.txt', 'truth-problem-2134.json', 'truth-problem-1406.json', 'truth-problem-3991.json', 'truth-problem-2994.json', 'truth-problem-3851.json', 'problem-15.txt', 'truth-problem-1467.json', 'problem-1935.txt', 'problem-3798.txt', 'truth-problem-2977.json', 'truth-problem-2330.json', 'problem-2164.txt', 'truth-problem-6.json', 'truth-problem-1921.json', 'truth-problem-572.json', 'problem-1629.txt', 'truth-problem-2233.json', 'truth-problem-1767.json', 'truth-problem-2934.json', 'problem-3118.txt', 'truth-problem-1668.json', 'truth-problem-247.json', 'problem-243.txt', 'truth-problem-1181.json', 'problem-3419.txt', 'truth-problem-2060.json', 'problem-2720.txt', 'problem-2159.txt', 'truth-problem-154.json', 'truth-problem-1023.json', 'problem-3201.txt', 'problem-4021.txt', 'truth-problem-1128.json', 'truth-problem-2532.json', 'truth-problem-1403.json', 'problem-3432.txt', 'problem-973.txt', 'truth-problem-299.json', 'problem-2073.txt', 'truth-problem-2834.json', 'problem-2055.txt', 'problem-1165.txt', 'truth-problem-3845.json', 'truth-problem-2904.json', 'truth-problem-922.json', 'problem-2143.txt', 'problem-1240.txt', 'problem-3672.txt', 'truth-problem-1143.json', 'problem-1073.txt', 'truth-problem-2359.json', 'problem-690.txt', 'truth-problem-1731.json', 'problem-2559.txt', 'problem-2581.txt', 'problem-2276.txt', 'truth-problem-618.json', 'problem-479.txt', 'truth-problem-740.json', 'problem-1135.txt', 'truth-problem-4194.json', 'truth-problem-3689.json', 'problem-338.txt', 'truth-problem-332.json', 'problem-1458.txt', 'truth-problem-2882.json', 'problem-1634.txt', 'problem-2789.txt', 'problem-1521.txt', 'truth-problem-1892.json', 'problem-2980.txt', 'truth-problem-2849.json', 'truth-problem-120.json', 'problem-2778.txt', 'truth-problem-785.json', 'problem-3318.txt', 'problem-1113.txt', 'problem-468.txt', 'truth-problem-3970.json', 'truth-problem-1787.json', 'problem-426.txt', 'problem-1887.txt', 'truth-problem-3541.json', 'problem-2403.txt', 'problem-767.txt', 'truth-problem-2126.json', 'problem-2534.txt', 'problem-2824.txt', 'problem-1916.txt', 'truth-problem-1371.json', 'problem-3858.txt', 'problem-3803.txt', 'problem-657.txt', 'truth-problem-2912.json', 'problem-1712.txt', 'problem-554.txt', 'truth-problem-2830.json', 'truth-problem-301.json', 'problem-1071.txt', 'problem-3649.txt', 'truth-problem-555.json', 'truth-problem-3855.json', 'problem-629.txt', 'problem-282.txt', 'problem-3565.txt', 'truth-problem-1828.json', 'truth-problem-4173.json', 'truth-problem-2708.json', 'problem-1334.txt', 'truth-problem-2769.json', 'truth-problem-2751.json', 'problem-3129.txt', 'problem-1030.txt', 'truth-problem-2462.json', 'truth-problem-1073.json', 'problem-311.txt', 'problem-474.txt', 'truth-problem-4102.json', 'truth-problem-612.json', 'truth-problem-3766.json', 'problem-3280.txt', 'truth-problem-2286.json', 'problem-3344.txt', 'truth-problem-1027.json', 'truth-problem-2087.json', 'truth-problem-4070.json', 'problem-1923.txt', 'truth-problem-3959.json', 'problem-3866.txt', 'problem-3846.txt', 'truth-problem-2084.json', 'truth-problem-266.json', 'truth-problem-3112.json', 'truth-problem-1084.json', 'problem-777.txt', 'truth-problem-2215.json', 'truth-problem-3803.json', 'truth-problem-832.json', 'truth-problem-4080.json', 'problem-3204.txt', 'truth-problem-1211.json', 'truth-problem-2411.json', 'truth-problem-1122.json', 'problem-3801.txt', 'truth-problem-1284.json', 'truth-problem-3628.json', 'truth-problem-835.json', 'problem-3952.txt', 'truth-problem-2187.json', 'problem-2800.txt', 'problem-2283.txt', 'problem-2428.txt', 'problem-865.txt', 'truth-problem-2728.json', 'truth-problem-220.json', 'truth-problem-2409.json', 'problem-873.txt', 'truth-problem-627.json', 'truth-problem-1244.json', 'problem-2172.txt', 'problem-3137.txt', 'problem-1029.txt', 'truth-problem-708.json', 'problem-3841.txt', 'truth-problem-657.json', 'truth-problem-1227.json', 'problem-3754.txt', 'truth-problem-3370.json', 'problem-2186.txt', 'problem-1019.txt', 'truth-problem-3596.json', 'truth-problem-1447.json', 'truth-problem-2246.json', 'truth-problem-3102.json', 'problem-2291.txt', 'problem-70.txt', 'truth-problem-2707.json', 'problem-2299.txt', 'truth-problem-1799.json', 'problem-1973.txt', 'problem-3982.txt', 'problem-2934.txt', 'truth-problem-2014.json', 'truth-problem-1693.json', 'problem-1228.txt', 'problem-3424.txt', 'problem-2141.txt', 'truth-problem-2386.json', 'truth-problem-1533.json', 'truth-problem-2609.json', 'truth-problem-2303.json', 'truth-problem-129.json', 'problem-169.txt', 'truth-problem-2490.json', 'truth-problem-3929.json', 'problem-3420.txt', 'problem-21.txt', 'truth-problem-3088.json', 'truth-problem-3717.json', 'problem-886.txt', 'truth-problem-2745.json', 'truth-problem-889.json', 'problem-2124.txt', 'truth-problem-1378.json', 'problem-3970.txt', 'truth-problem-3096.json', 'truth-problem-196.json', 'problem-1362.txt', 'problem-3999.txt', 'problem-1201.txt', 'problem-2953.txt', 'problem-118.txt', 'problem-2622.txt', 'truth-problem-2320.json', 'problem-3983.txt', 'truth-problem-613.json', 'truth-problem-4025.json', 'problem-3506.txt', 'truth-problem-2002.json', 'problem-678.txt', 'problem-2992.txt', 'truth-problem-69.json', 'problem-2470.txt', 'problem-770.txt', 'truth-problem-3209.json', 'truth-problem-111.json', 'truth-problem-3651.json', 'problem-3824.txt', 'problem-3849.txt', 'truth-problem-165.json', 'truth-problem-2950.json', 'problem-3221.txt', 'truth-problem-1313.json', 'problem-1882.txt', 'problem-45.txt', 'problem-3043.txt', 'problem-1332.txt', 'problem-4165.txt', 'truth-problem-1047.json', 'truth-problem-3217.json', 'problem-2339.txt', 'problem-302.txt', 'problem-2530.txt', 'problem-3974.txt', 'problem-3969.txt', 'truth-problem-3948.json', 'truth-problem-2421.json', 'truth-problem-2836.json', 'truth-problem-368.json', 'truth-problem-870.json', 'problem-1349.txt', 'truth-problem-3348.json', 'truth-problem-3411.json', 'problem-3659.txt', 'problem-1721.txt', 'truth-problem-1010.json', 'problem-3373.txt', 'problem-1476.txt', 'truth-problem-2735.json', 'truth-problem-1869.json', 'problem-4016.txt', 'truth-problem-2120.json', 'problem-1901.txt', 'truth-problem-1601.json', 'truth-problem-3654.json', 'truth-problem-2493.json', 'problem-2358.txt', 'truth-problem-1747.json', 'problem-1110.txt', 'problem-210.txt', 'problem-3410.txt', 'truth-problem-4015.json', 'truth-problem-3793.json', 'problem-855.txt', 'problem-3304.txt', 'truth-problem-486.json', 'truth-problem-1440.json', 'problem-839.txt', 'problem-2288.txt', 'problem-2873.txt', 'problem-1124.txt', 'problem-1207.txt', 'truth-problem-2575.json', 'problem-2552.txt', 'truth-problem-2445.json', 'truth-problem-2592.json', 'problem-1657.txt', 'problem-28.txt', 'truth-problem-3482.json', 'truth-problem-1322.json', 'truth-problem-3853.json', 'problem-2322.txt', 'truth-problem-1935.json', 'truth-problem-930.json', 'truth-problem-1535.json', 'truth-problem-4042.json', 'problem-164.txt', 'problem-2599.txt', 'problem-347.txt', 'truth-problem-1050.json', 'truth-problem-1169.json', 'truth-problem-1519.json', 'problem-1806.txt', 'truth-problem-3588.json', 'truth-problem-52.json', 'problem-3968.txt', 'problem-3707.txt', 'problem-2822.txt', 'truth-problem-3002.json', 'truth-problem-3026.json', 'truth-problem-3841.json', 'truth-problem-3899.json', 'truth-problem-896.json', 'problem-1148.txt', 'problem-2974.txt', 'problem-1050.txt', 'truth-problem-2655.json', 'truth-problem-1925.json', 'problem-2474.txt', 'problem-3876.txt', 'truth-problem-1630.json', 'problem-2407.txt', 'problem-3614.txt', 'truth-problem-2610.json', 'truth-problem-2296.json', 'truth-problem-1745.json', 'problem-291.txt', 'truth-problem-380.json', 'truth-problem-2268.json', 'problem-2135.txt', 'problem-1009.txt', 'problem-2063.txt', 'truth-problem-3990.json', 'truth-problem-2252.json', 'problem-2802.txt', 'truth-problem-1521.json', 'problem-733.txt', 'truth-problem-2151.json', 'truth-problem-3098.json', 'truth-problem-1071.json', 'truth-problem-2114.json', 'problem-84.txt', 'problem-3022.txt', 'truth-problem-2363.json', 'problem-3079.txt', 'truth-problem-508.json', 'problem-3694.txt', 'problem-643.txt', 'problem-3537.txt', 'truth-problem-698.json', 'truth-problem-3061.json', 'truth-problem-166.json', 'truth-problem-24.json', 'truth-problem-4167.json', 'truth-problem-3414.json', 'problem-238.txt', 'truth-problem-3797.json', 'problem-888.txt', 'problem-485.txt', 'problem-1810.txt', 'truth-problem-1170.json', 'truth-problem-1062.json', 'problem-1937.txt', 'problem-3134.txt', 'problem-2569.txt', 'problem-2241.txt', 'problem-1748.txt', 'problem-3881.txt', 'truth-problem-2913.json', 'truth-problem-3382.json', 'truth-problem-1498.json', 'truth-problem-1324.json', 'truth-problem-1733.json', 'truth-problem-3996.json', 'truth-problem-157.json', 'truth-problem-2819.json', 'truth-problem-594.json', 'problem-1693.txt', 'problem-761.txt', 'truth-problem-80.json', 'truth-problem-1439.json', 'truth-problem-2978.json', 'problem-2302.txt', 'truth-problem-1243.json', 'problem-1856.txt', 'problem-402.txt', 'truth-problem-3162.json', 'truth-problem-3684.json', 'problem-3355.txt', 'problem-491.txt', 'truth-problem-3789.json', 'truth-problem-4151.json', 'truth-problem-72.json', 'truth-problem-1185.json', 'truth-problem-855.json', 'problem-1917.txt', 'truth-problem-4064.json', 'problem-1668.txt', 'problem-1319.txt', 'truth-problem-420.json', 'problem-929.txt', 'truth-problem-4197.json', 'truth-problem-1271.json', 'problem-3064.txt', 'problem-125.txt', 'truth-problem-25.json', 'truth-problem-1255.json', 'truth-problem-2941.json', 'problem-19.txt', 'problem-3164.txt', 'truth-problem-2092.json', 'truth-problem-4057.json', 'problem-3032.txt', 'problem-2915.txt', 'truth-problem-3639.json', 'problem-2864.txt', 'problem-1365.txt', 'problem-1.txt', 'problem-2536.txt', 'truth-problem-1238.json', 'problem-1320.txt', 'truth-problem-3106.json', 'truth-problem-2484.json', 'problem-2564.txt', 'problem-3303.txt', 'problem-3184.txt', 'problem-3285.txt', 'truth-problem-4072.json', 'problem-2089.txt', 'truth-problem-2652.json', 'truth-problem-3883.json', 'truth-problem-3623.json', 'problem-3273.txt', 'truth-problem-1848.json', 'truth-problem-1758.json', 'problem-78.txt', 'truth-problem-2141.json', 'truth-problem-1407.json', 'truth-problem-3347.json', 'problem-826.txt', 'truth-problem-2046.json', 'truth-problem-4191.json', 'problem-2854.txt', 'truth-problem-2991.json', 'truth-problem-1210.json', 'problem-1198.txt', 'problem-360.txt', 'problem-3066.txt', 'truth-problem-3150.json', 'truth-problem-1330.json', 'problem-1291.txt', 'truth-problem-853.json', 'truth-problem-3723.json', 'problem-1626.txt', 'truth-problem-2189.json', 'problem-300.txt', 'truth-problem-881.json', 'truth-problem-4186.json', 'problem-4153.txt', 'truth-problem-3326.json', 'problem-3403.txt', 'problem-2101.txt', 'truth-problem-2539.json', 'truth-problem-1719.json', 'truth-problem-241.json', 'problem-3987.txt', 'truth-problem-1112.json', 'truth-problem-3041.json', 'truth-problem-3472.json', 'truth-problem-3603.json', 'truth-problem-2277.json', 'problem-3962.txt', 'truth-problem-18.json', 'problem-2148.txt', 'truth-problem-1985.json', 'problem-647.txt', 'truth-problem-2776.json', 'problem-2921.txt', 'truth-problem-2407.json', 'truth-problem-2719.json', 'truth-problem-2677.json', 'problem-2306.txt', 'problem-3624.txt', 'truth-problem-1508.json', 'truth-problem-1318.json', 'problem-3878.txt', 'problem-208.txt', 'problem-1528.txt', 'truth-problem-1584.json', 'problem-1522.txt', 'problem-113.txt', 'truth-problem-1016.json', 'truth-problem-4074.json', 'problem-3909.txt', 'truth-problem-161.json', 'truth-problem-3524.json', 'problem-1534.txt', 'problem-4096.txt', 'truth-problem-3663.json', 'problem-605.txt', 'problem-3026.txt', 'problem-1417.txt', 'truth-problem-3033.json', 'truth-problem-3738.json', 'truth-problem-179.json', 'truth-problem-3273.json', 'problem-3263.txt', 'problem-444.txt', 'truth-problem-295.json', 'problem-868.txt', 'problem-2501.txt', 'problem-668.txt', 'truth-problem-2565.json', 'problem-2545.txt', 'problem-3.txt', 'problem-1659.txt', 'truth-problem-421.json', 'truth-problem-2590.json', 'truth-problem-3154.json', 'truth-problem-2477.json', 'truth-problem-3976.json', 'truth-problem-303.json', 'problem-1351.txt', 'problem-286.txt', 'truth-problem-4036.json', 'problem-3119.txt', 'problem-2127.txt', 'truth-problem-1387.json', 'problem-1126.txt', 'problem-414.txt', 'problem-3633.txt', 'truth-problem-1064.json', 'problem-446.txt', 'problem-3110.txt', 'problem-3020.txt', 'problem-217.txt', 'problem-3899.txt', 'truth-problem-3686.json', 'problem-801.txt', 'truth-problem-1216.json', 'truth-problem-3294.json', 'problem-771.txt', 'truth-problem-4006.json', 'truth-problem-2932.json', 'problem-3162.txt', 'problem-3428.txt', 'truth-problem-3365.json', 'problem-3916.txt', 'truth-problem-3898.json', 'truth-problem-2880.json', 'problem-3430.txt', 'truth-problem-530.json', 'problem-2305.txt', 'truth-problem-3815.json', 'problem-3479.txt', 'truth-problem-617.json', 'truth-problem-2028.json', 'problem-3252.txt', 'truth-problem-4159.json', 'truth-problem-2796.json', 'problem-3195.txt', 'truth-problem-2503.json', 'truth-problem-311.json', 'truth-problem-2810.json', 'truth-problem-1820.json', 'problem-2479.txt', 'problem-483.txt', 'truth-problem-431.json', 'problem-3205.txt', 'problem-2856.txt', 'problem-2237.txt', 'problem-2513.txt', 'problem-4123.txt', 'problem-2422.txt', 'problem-3388.txt', 'truth-problem-463.json', 'problem-4155.txt', 'truth-problem-1760.json', 'truth-problem-1792.json', 'problem-866.txt', 'truth-problem-1773.json', 'problem-429.txt', 'truth-problem-1277.json', 'problem-3099.txt', 'problem-665.txt', 'problem-3404.txt', 'truth-problem-3222.json', 'truth-problem-932.json', 'truth-problem-2924.json', 'truth-problem-600.json', 'truth-problem-428.json', 'problem-2499.txt', 'truth-problem-937.json', 'problem-2718.txt', 'problem-3675.txt', 'problem-2830.txt', 'truth-problem-3862.json', 'truth-problem-3703.json', 'truth-problem-392.json', 'truth-problem-2352.json', 'truth-problem-2210.json', 'truth-problem-281.json', 'truth-problem-2213.json', 'truth-problem-2196.json', 'problem-2285.txt', 'problem-149.txt', 'problem-2930.txt', 'problem-1229.txt', 'truth-problem-4123.json', 'truth-problem-867.json', 'problem-2563.txt', 'truth-problem-3045.json', 'truth-problem-3415.json', 'problem-699.txt', 'truth-problem-2333.json', 'problem-2728.txt', 'problem-2713.txt', 'problem-1752.txt', 'truth-problem-836.json', 'problem-1926.txt', 'problem-1557.txt', 'truth-problem-3771.json', 'truth-problem-1234.json', 'truth-problem-296.json', 'truth-problem-1913.json', 'problem-1087.txt', 'truth-problem-1532.json', 'truth-problem-2748.json', 'truth-problem-2797.json', 'truth-problem-2726.json', 'problem-2208.txt', 'problem-385.txt', 'problem-2855.txt', 'problem-1337.txt', 'problem-1727.txt', 'problem-867.txt', 'truth-problem-4134.json', 'truth-problem-4118.json', 'problem-20.txt', 'truth-problem-2471.json', 'problem-3439.txt', 'truth-problem-2969.json', 'truth-problem-1118.json', 'truth-problem-3306.json', 'problem-1402.txt', 'truth-problem-1146.json', 'problem-230.txt', 'problem-2150.txt', 'problem-1193.txt', 'problem-3487.txt', 'truth-problem-1059.json', 'truth-problem-4038.json', 'truth-problem-1990.json', 'problem-3805.txt', 'problem-651.txt', 'truth-problem-2698.json', 'problem-2450.txt', 'truth-problem-2003.json', 'truth-problem-4084.json', 'problem-957.txt', 'truth-problem-1083.json', 'problem-2796.txt', 'truth-problem-3452.json', 'truth-problem-3437.json', 'truth-problem-856.json', 'problem-3548.txt', 'truth-problem-1119.json', 'problem-1502.txt', 'problem-3800.txt', 'problem-2247.txt', 'truth-problem-2848.json', 'truth-problem-2417.json', 'problem-1434.txt', 'problem-3619.txt', 'problem-3399.txt', 'problem-3011.txt', 'problem-1623.txt', 'truth-problem-982.json', 'truth-problem-1386.json', 'problem-1286.txt', 'truth-problem-3042.json', 'problem-3980.txt', 'problem-778.txt', 'problem-3023.txt', 'problem-2022.txt', 'truth-problem-1191.json', 'truth-problem-478.json', 'problem-584.txt', 'truth-problem-4051.json', 'truth-problem-2030.json', 'truth-problem-4078.json', 'problem-3530.txt', 'problem-1168.txt', 'truth-problem-1449.json', 'truth-problem-2720.json', 'truth-problem-1357.json', 'truth-problem-3350.json', 'problem-3919.txt', 'truth-problem-1858.json', 'truth-problem-2928.json', 'problem-1694.txt', 'truth-problem-1555.json', 'truth-problem-3807.json', 'problem-2973.txt', 'problem-2745.txt', 'problem-3871.txt', 'problem-91.txt', 'truth-problem-3577.json', 'problem-3453.txt', 'problem-1140.txt', 'truth-problem-2903.json', 'truth-problem-633.json', 'truth-problem-1776.json', 'problem-2138.txt', 'truth-problem-3137.json', 'truth-problem-4040.json', 'truth-problem-133.json', 'problem-1903.txt', 'problem-3418.txt', 'truth-problem-3701.json', 'truth-problem-3498.json', 'problem-921.txt', 'truth-problem-2585.json', 'truth-problem-518.json', 'problem-2961.txt', 'truth-problem-507.json', 'problem-1739.txt', 'truth-problem-457.json', 'truth-problem-188.json', 'truth-problem-2664.json', 'problem-1443.txt', 'truth-problem-4005.json', 'problem-3140.txt', 'problem-2155.txt', 'problem-3108.txt', 'truth-problem-743.json', 'problem-1108.txt', 'truth-problem-1295.json', 'problem-2457.txt', 'truth-problem-3644.json', 'truth-problem-3366.json', 'problem-2716.txt', 'truth-problem-624.json', 'problem-2682.txt', 'truth-problem-1666.json', 'truth-problem-2985.json', 'truth-problem-3121.json', 'problem-4038.txt', 'truth-problem-211.json', 'problem-4040.txt', 'problem-2858.txt', 'truth-problem-1884.json', 'truth-problem-812.json', 'problem-3316.txt', 'truth-problem-1109.json', 'truth-problem-766.json', 'problem-4192.txt', 'truth-problem-3579.json', 'problem-4195.txt', 'problem-3232.txt', 'problem-1092.txt', 'truth-problem-2619.json', 'truth-problem-1685.json', 'problem-199.txt', 'problem-4190.txt', 'truth-problem-2870.json', 'problem-2437.txt', 'problem-563.txt', 'problem-1285.txt', 'truth-problem-1276.json', 'problem-4007.txt', 'problem-4063.txt', 'problem-1930.txt', 'problem-1959.txt', 'truth-problem-318.json', 'truth-problem-2680.json', 'problem-2130.txt', 'problem-2142.txt', 'truth-problem-2395.json', 'problem-3732.txt', 'truth-problem-3508.json', 'truth-problem-2520.json', 'truth-problem-349.json', 'problem-2600.txt', 'truth-problem-3396.json', 'truth-problem-3973.json', 'problem-947.txt', 'problem-2828.txt', 'problem-3776.txt', 'truth-problem-260.json', 'truth-problem-1931.json', 'truth-problem-1315.json', 'truth-problem-1436.json', 'problem-1546.txt', 'problem-3993.txt', 'truth-problem-1448.json', 'problem-3300.txt', 'truth-problem-1623.json', 'problem-3458.txt', 'problem-358.txt', 'problem-1000.txt', 'truth-problem-1151.json', 'problem-4181.txt', 'truth-problem-2965.json', 'truth-problem-302.json', 'truth-problem-3285.json', 'problem-4047.txt', 'problem-2738.txt', 'truth-problem-2128.json', 'truth-problem-2979.json', 'truth-problem-2658.json', 'truth-problem-2183.json', 'problem-743.txt', 'truth-problem-3191.json', 'truth-problem-365.json', 'problem-3109.txt', 'truth-problem-574.json', 'truth-problem-1815.json', 'truth-problem-3936.json', 'truth-problem-3850.json', 'truth-problem-3792.json', 'truth-problem-2039.json', 'problem-829.txt', 'truth-problem-2227.json', 'truth-problem-1727.json', 'truth-problem-569.json', 'problem-2546.txt', 'truth-problem-3104.json', 'problem-1039.txt', 'truth-problem-1756.json', 'problem-1925.txt', 'truth-problem-250.json', 'problem-2128.txt', 'problem-1184.txt', 'truth-problem-3040.json', 'truth-problem-634.json', 'problem-3778.txt', 'problem-1268.txt', 'truth-problem-703.json', 'problem-1757.txt', 'problem-4180.txt', 'problem-1188.txt', 'problem-1784.txt', 'problem-676.txt', 'truth-problem-603.json', 'problem-2750.txt', 'problem-3746.txt', 'problem-2424.txt', 'truth-problem-3761.json', 'problem-1725.txt', 'truth-problem-352.json', 'truth-problem-2854.json', 'truth-problem-2829.json', 'truth-problem-2336.json', 'problem-283.txt', 'problem-3895.txt', 'truth-problem-2420.json', 'truth-problem-3086.json', 'truth-problem-687.json', 'truth-problem-3119.json', 'truth-problem-59.json', 'truth-problem-3214.json', 'problem-1163.txt', 'truth-problem-2345.json', 'truth-problem-48.json', 'problem-99.txt', 'problem-4024.txt', 'problem-2430.txt', 'truth-problem-2416.json', 'truth-problem-4086.json', 'problem-3053.txt', 'problem-3295.txt', 'problem-3762.txt', 'problem-2525.txt', 'problem-3579.txt', 'truth-problem-3751.json', 'truth-problem-1997.json', 'truth-problem-1051.json', 'truth-problem-2884.json', 'problem-346.txt', 'problem-2806.txt', 'truth-problem-62.json', 'problem-2504.txt', 'problem-1967.txt', 'truth-problem-172.json', 'problem-2058.txt', 'truth-problem-2964.json', 'problem-637.txt', 'truth-problem-2544.json', 'problem-2315.txt', 'problem-719.txt', 'truth-problem-5.json', 'problem-2400.txt', 'truth-problem-3282.json', 'truth-problem-769.json', 'problem-1264.txt', 'truth-problem-2070.json', 'truth-problem-192.json', 'truth-problem-1263.json', 'truth-problem-3278.json', 'truth-problem-3683.json', 'problem-881.txt', 'truth-problem-3563.json', 'problem-1527.txt', 'problem-297.txt', 'truth-problem-4021.json', 'truth-problem-320.json', 'problem-1404.txt', 'truth-problem-2958.json', 'truth-problem-2597.json', 'problem-313.txt', 'truth-problem-3749.json', 'problem-2282.txt', 'problem-2511.txt', 'problem-46.txt', 'problem-3234.txt', 'problem-1669.txt', 'problem-1306.txt', 'problem-2074.txt', 'truth-problem-1920.json', 'truth-problem-1784.json', 'truth-problem-674.json', 'problem-3702.txt', 'problem-2845.txt', 'problem-1182.txt', 'truth-problem-857.json', 'problem-2112.txt', 'problem-416.txt', 'problem-3666.txt', 'problem-1594.txt', 'truth-problem-3831.json', 'truth-problem-1983.json', 'truth-problem-132.json', 'problem-3626.txt', 'truth-problem-1080.json', 'problem-2711.txt', 'truth-problem-3031.json', 'problem-1908.txt', 'truth-problem-4022.json', 'problem-1084.txt', 'problem-3861.txt', 'truth-problem-160.json', 'truth-problem-2682.json', 'problem-4120.txt', 'truth-problem-2706.json', 'problem-1356.txt', 'truth-problem-3426.json', 'problem-2645.txt', 'truth-problem-329.json', 'problem-1805.txt', 'problem-1703.txt', 'problem-4045.txt', 'truth-problem-684.json', 'truth-problem-446.json', 'problem-1344.txt', 'problem-3153.txt', 'truth-problem-2858.json', 'truth-problem-3589.json', 'truth-problem-4112.json', 'truth-problem-3790.json', 'truth-problem-828.json', 'problem-1274.txt', 'truth-problem-43.json', 'problem-617.txt', 'problem-2301.txt', 'problem-1494.txt', 'problem-779.txt', 'truth-problem-1028.json', 'truth-problem-1199.json', 'problem-1456.txt', 'truth-problem-3180.json', 'problem-3713.txt', 'problem-853.txt', 'truth-problem-1956.json', 'truth-problem-3910.json', 'problem-1280.txt', 'truth-problem-3983.json', 'problem-3443.txt', 'problem-654.txt', 'truth-problem-2099.json', 'truth-problem-2201.json', 'problem-3646.txt', 'problem-309.txt', 'problem-3844.txt', 'problem-4089.txt', 'problem-1388.txt', 'truth-problem-3896.json', 'truth-problem-3788.json', 'problem-2293.txt', 'problem-4117.txt', 'truth-problem-2176.json', 'truth-problem-2121.json', 'truth-problem-2422.json', 'problem-897.txt', 'truth-problem-145.json', 'truth-problem-4096.json', 'truth-problem-1837.json', 'problem-4099.txt', 'truth-problem-1215.json', 'problem-96.txt', 'truth-problem-1972.json', 'truth-problem-1267.json', 'truth-problem-348.json', 'problem-3795.txt', 'problem-3526.txt', 'truth-problem-3122.json', 'problem-1591.txt', 'truth-problem-2790.json', 'truth-problem-2531.json', 'problem-2733.txt', 'truth-problem-1953.json', 'problem-1637.txt', 'problem-1785.txt', 'truth-problem-1048.json', 'truth-problem-700.json', 'truth-problem-1281.json', 'problem-1442.txt', 'problem-3966.txt', 'problem-2611.txt', 'truth-problem-3611.json', 'problem-1151.txt', 'truth-problem-313.json', 'problem-1529.txt', 'truth-problem-1871.json', 'problem-1341.txt', 'problem-460.txt', 'problem-871.txt', 'problem-3398.txt', 'truth-problem-2509.json', 'problem-1992.txt', 'truth-problem-2203.json', 'problem-1760.txt', 'problem-558.txt', 'truth-problem-3160.json', 'truth-problem-560.json', 'truth-problem-2423.json', 'problem-2051.txt', 'problem-138.txt', 'problem-773.txt', 'problem-2667.txt', 'problem-3237.txt', 'problem-2231.txt', 'problem-3859.txt', 'problem-2875.txt', 'problem-3338.txt', 'problem-1730.txt', 'problem-3292.txt', 'problem-2560.txt', 'problem-334.txt', 'truth-problem-3808.json', 'problem-3744.txt', 'problem-698.txt', 'problem-680.txt', 'truth-problem-3225.json', 'truth-problem-99.json', 'truth-problem-2129.json', 'problem-3957.txt', 'problem-2674.txt', 'problem-2417.txt', 'truth-problem-1075.json', 'problem-422.txt', 'truth-problem-251.json', 'problem-2390.txt', 'truth-problem-1487.json', 'truth-problem-1522.json', 'problem-2621.txt', 'problem-2168.txt', 'truth-problem-621.json', 'problem-2357.txt', 'truth-problem-1729.json', 'truth-problem-2521.json', 'problem-3177.txt', 'truth-problem-2424.json', 'truth-problem-2744.json', 'problem-1709.txt', 'truth-problem-3893.json', 'truth-problem-1352.json', 'truth-problem-203.json', 'problem-6.txt', 'truth-problem-3627.json', 'problem-847.txt', 'problem-1125.txt', 'problem-3740.txt', 'problem-1278.txt', 'problem-63.txt', 'problem-734.txt', 'problem-3212.txt', 'truth-problem-128.json', 'truth-problem-3340.json', 'truth-problem-2473.json', 'truth-problem-1011.json', 'truth-problem-1176.json', 'truth-problem-1599.json', 'problem-2239.txt', 'truth-problem-2710.json', 'problem-1439.txt', 'problem-752.txt', 'truth-problem-1853.json', 'truth-problem-2399.json', 'truth-problem-3254.json', 'problem-3769.txt', 'problem-2527.txt', 'problem-3704.txt', 'truth-problem-584.json', 'problem-3441.txt', 'truth-problem-512.json', 'problem-3998.txt', 'truth-problem-635.json', 'problem-1410.txt', 'truth-problem-709.json', 'problem-1422.txt', 'problem-515.txt', 'truth-problem-3523.json', 'problem-2224.txt', 'truth-problem-883.json', 'truth-problem-1312.json', 'truth-problem-2272.json', 'truth-problem-459.json', 'problem-2243.txt', 'truth-problem-1620.json', 'truth-problem-2440.json', 'problem-1661.txt', 'problem-3586.txt', 'problem-3197.txt', 'problem-4171.txt', 'truth-problem-1260.json', 'problem-2598.txt', 'problem-1897.txt', 'truth-problem-826.json', 'truth-problem-3139.json', 'problem-3215.txt', 'problem-1218.txt', 'problem-3497.txt', 'truth-problem-4095.json', 'truth-problem-3433.json', 'problem-1112.txt', 'truth-problem-2160.json', 'problem-2198.txt', 'truth-problem-3500.json', 'truth-problem-3661.json', 'truth-problem-1045.json', 'problem-3821.txt', 'problem-2696.txt', 'problem-3241.txt', 'problem-1366.txt', 'truth-problem-3248.json', 'truth-problem-3390.json', 'problem-1484.txt', 'problem-2091.txt', 'truth-problem-2996.json', 'truth-problem-876.json', 'truth-problem-3161.json', 'problem-806.txt', 'problem-540.txt', 'problem-747.txt', 'problem-3554.txt', 'problem-3594.txt', 'problem-87.txt', 'truth-problem-3090.json', 'truth-problem-1852.json', 'problem-2670.txt', 'truth-problem-1472.json', 'truth-problem-564.json', 'truth-problem-1995.json', 'problem-4071.txt', 'problem-1722.txt', 'truth-problem-1692.json', 'truth-problem-290.json', 'truth-problem-954.json', 'problem-3380.txt', 'truth-problem-2278.json', 'truth-problem-374.json', 'truth-problem-2939.json', 'problem-990.txt', 'truth-problem-2317.json', 'truth-problem-3446.json', 'truth-problem-143.json', 'problem-631.txt', 'problem-2960.txt', 'problem-4034.txt', 'truth-problem-3471.json', 'problem-3087.txt', 'truth-problem-3836.json', 'truth-problem-255.json', 'problem-3764.txt', 'truth-problem-3416.json', 'truth-problem-3573.json', 'truth-problem-3100.json', 'truth-problem-4105.json', 'problem-3618.txt', 'truth-problem-345.json', 'problem-4184.txt', 'problem-77.txt', 'truth-problem-3578.json', 'problem-3127.txt', 'problem-1707.txt', 'problem-1983.txt', 'problem-744.txt', 'problem-2095.txt', 'problem-333.txt', 'truth-problem-2900.json', 'problem-395.txt', 'problem-2108.txt', 'truth-problem-1831.json', 'problem-4110.txt', 'problem-2151.txt', 'truth-problem-405.json', 'problem-1495.txt', 'truth-problem-4121.json', 'truth-problem-4092.json', 'truth-problem-3824.json', 'problem-377.txt', 'problem-1166.txt', 'truth-problem-1296.json', 'problem-1718.txt', 'truth-problem-1063.json', 'truth-problem-3880.json', 'problem-1617.txt', 'problem-1679.txt', 'truth-problem-4115.json', 'problem-552.txt', 'problem-3446.txt', 'problem-3949.txt', 'truth-problem-3418.json', 'truth-problem-3239.json', 'truth-problem-1127.json', 'truth-problem-2559.json', 'problem-76.txt', 'problem-3163.txt', 'truth-problem-2961.json', 'truth-problem-2864.json', 'truth-problem-2795.json', 'problem-3860.txt', 'problem-2126.txt', 'problem-3599.txt', 'truth-problem-1117.json', 'problem-3482.txt', 'problem-463.txt', 'problem-2651.txt', 'problem-578.txt', 'problem-3587.txt', 'problem-3779.txt', 'problem-933.txt', 'truth-problem-557.json', 'truth-problem-2927.json', 'truth-problem-2646.json', 'problem-1876.txt', 'truth-problem-1977.json', 'problem-3915.txt', 'truth-problem-2739.json', 'truth-problem-3376.json', 'truth-problem-4100.json', 'problem-3146.txt', 'problem-3329.txt', 'truth-problem-1933.json', 'truth-problem-4035.json', 'truth-problem-1079.json', 'truth-problem-371.json', 'problem-4031.txt', 'problem-3150.txt', 'truth-problem-1667.json', 'problem-1394.txt', 'truth-problem-688.json', 'truth-problem-3335.json', 'truth-problem-2152.json', 'problem-269.txt', 'problem-93.txt', 'problem-4121.txt', 'problem-3315.txt', 'truth-problem-3032.json', 'truth-problem-4085.json', 'truth-problem-1748.json', 'truth-problem-1258.json', 'truth-problem-2799.json', 'truth-problem-2239.json', 'problem-1954.txt', 'problem-327.txt', 'truth-problem-3368.json', 'truth-problem-2346.json', 'truth-problem-2082.json', 'truth-problem-2861.json', 'truth-problem-337.json', 'problem-1577.txt', 'problem-3539.txt', 'problem-798.txt', 'problem-2448.txt', 'problem-141.txt', 'truth-problem-3448.json', 'problem-88.txt', 'truth-problem-2883.json', 'truth-problem-2397.json', 'problem-2829.txt', 'truth-problem-1085.json', 'problem-1374.txt', 'truth-problem-2697.json', 'truth-problem-3336.json', 'problem-2079.txt', 'truth-problem-2218.json', 'truth-problem-1593.json', 'truth-problem-1067.json', 'truth-problem-3148.json', 'problem-2805.txt', 'problem-465.txt', 'problem-2869.txt', 'truth-problem-2705.json', 'problem-207.txt', 'truth-problem-862.json', 'problem-3330.txt', 'problem-528.txt', 'truth-problem-1482.json', 'truth-problem-517.json', 'problem-3007.txt', 'problem-3035.txt', 'problem-1751.txt', 'problem-1004.txt', 'truth-problem-2886.json', 'truth-problem-1087.json', 'truth-problem-4029.json', 'problem-3877.txt', 'truth-problem-2076.json', 'problem-2292.txt', 'truth-problem-3560.json', 'truth-problem-3787.json', 'problem-3806.txt', 'truth-problem-707.json', 'problem-1654.txt', 'problem-2319.txt', 'problem-2031.txt', 'problem-1473.txt', 'truth-problem-1781.json', 'problem-3560.txt', 'problem-1641.txt', 'problem-404.txt', 'problem-1013.txt', 'truth-problem-2232.json', 'problem-1275.txt', 'problem-320.txt', 'problem-1596.txt', 'truth-problem-735.json', 'truth-problem-1763.json', 'problem-3125.txt', 'problem-2262.txt', 'truth-problem-2976.json', 'problem-3256.txt', 'problem-2868.txt', 'truth-problem-2448.json', 'truth-problem-2090.json', 'truth-problem-1416.json', 'problem-3662.txt', 'problem-79.txt', 'problem-1993.txt', 'truth-problem-1437.json', 'problem-335.txt', 'truth-problem-3342.json', 'truth-problem-2329.json', 'problem-261.txt', 'problem-2629.txt', 'problem-1895.txt', 'truth-problem-1246.json', 'problem-889.txt', 'truth-problem-3705.json', 'truth-problem-2789.json', 'truth-problem-2133.json', 'truth-problem-575.json', 'problem-1282.txt', 'truth-problem-2064.json', 'truth-problem-803.json', 'truth-problem-3713.json', 'truth-problem-284.json', 'problem-1481.txt', 'problem-110.txt', 'problem-3496.txt', 'problem-2945.txt', 'problem-610.txt', 'truth-problem-3812.json', 'truth-problem-2310.json', 'problem-2459.txt', 'truth-problem-378.json', 'truth-problem-2163.json', 'problem-2406.txt', 'truth-problem-1044.json', 'problem-3632.txt', 'problem-1837.txt', 'truth-problem-442.json', 'problem-1172.txt', 'truth-problem-1511.json', 'problem-3543.txt', 'problem-415.txt', 'truth-problem-931.json', 'truth-problem-3468.json', 'problem-768.txt', 'problem-1491.txt', 'problem-1475.txt', 'problem-3520.txt', 'truth-problem-408.json', 'problem-991.txt', 'truth-problem-2640.json', 'problem-165.txt', 'truth-problem-1777.json', 'problem-3652.txt', 'truth-problem-1609.json', 'problem-2373.txt', 'truth-problem-3818.json', 'problem-2350.txt', 'problem-3664.txt', 'truth-problem-3230.json', 'truth-problem-2222.json', 'problem-1380.txt', 'truth-problem-965.json', 'problem-3808.txt', 'truth-problem-1970.json', 'truth-problem-822.json', 'truth-problem-1549.json', 'truth-problem-136.json', 'problem-4150.txt', 'problem-925.txt', 'problem-3278.txt', 'problem-4067.txt', 'problem-2749.txt', 'problem-2304.txt', 'truth-problem-692.json', 'truth-problem-2370.json', 'problem-1330.txt', 'truth-problem-2584.json', 'truth-problem-3491.json', 'truth-problem-2172.json', 'truth-problem-808.json', 'problem-2937.txt', 'truth-problem-2533.json', 'truth-problem-4168.json', 'problem-418.txt', 'problem-2489.txt', 'problem-3055.txt', 'truth-problem-3553.json', 'truth-problem-415.json', 'problem-1608.txt', 'truth-problem-2588.json', 'problem-1556.txt', 'problem-3804.txt', 'problem-2553.txt', 'truth-problem-916.json', 'problem-1057.txt', 'truth-problem-3676.json', 'truth-problem-1537.json', 'truth-problem-3131.json', 'truth-problem-1968.json', 'truth-problem-359.json', 'problem-1616.txt', 'problem-2912.txt', 'problem-1150.txt', 'problem-1714.txt', 'truth-problem-2542.json', 'problem-650.txt', 'problem-2958.txt', 'truth-problem-2464.json', 'problem-2929.txt', 'truth-problem-1541.json', 'truth-problem-1107.json', 'problem-3361.txt', 'problem-1020.txt', 'truth-problem-2159.json', 'truth-problem-3301.json', 'problem-1907.txt', 'truth-problem-1596.json', 'truth-problem-3874.json', 'problem-823.txt', 'truth-problem-630.json', 'problem-3965.txt', 'problem-2416.txt', 'truth-problem-1179.json', 'truth-problem-2360.json', 'truth-problem-2089.json', 'truth-problem-1586.json', 'problem-3979.txt', 'problem-3890.txt', 'problem-1109.txt', 'problem-2638.txt', 'problem-864.txt', 'problem-1756.txt', 'truth-problem-469.json', 'truth-problem-1602.json', 'problem-366.txt', 'truth-problem-3906.json', 'problem-3857.txt', 'truth-problem-2282.json', 'truth-problem-357.json', 'truth-problem-1308.json', 'problem-1698.txt', 'problem-662.txt', 'truth-problem-3782.json', 'problem-964.txt', 'problem-536.txt', 'problem-4036.txt', 'problem-3045.txt', 'truth-problem-2513.json', 'problem-758.txt', 'truth-problem-1544.json', 'truth-problem-664.json', 'truth-problem-3733.json', 'problem-58.txt', 'truth-problem-3674.json', 'problem-1077.txt', 'problem-2514.txt', 'problem-2903.txt', 'truth-problem-3538.json', 'problem-2605.txt', 'truth-problem-2455.json', 'problem-834.txt', 'truth-problem-3070.json', 'problem-1515.txt', 'truth-problem-1114.json', 'problem-3158.txt', 'truth-problem-666.json', 'truth-problem-736.json', 'truth-problem-1505.json', 'truth-problem-1562.json', 'problem-735.txt', 'problem-132.txt', 'problem-3667.txt', 'truth-problem-3444.json', 'problem-2650.txt', 'truth-problem-1395.json', 'truth-problem-3556.json', 'problem-1767.txt', 'problem-2244.txt', 'truth-problem-3956.json', 'truth-problem-2487.json', 'truth-problem-3516.json', 'truth-problem-549.json', 'truth-problem-3490.json', 'truth-problem-74.json', 'truth-problem-899.json', 'truth-problem-3760.json', 'truth-problem-2425.json', 'problem-3622.txt', 'truth-problem-4047.json', 'problem-566.txt', 'problem-883.txt', 'problem-1632.txt', 'truth-problem-454.json', 'truth-problem-1706.json', 'truth-problem-1825.json', 'problem-3341.txt', 'problem-248.txt', 'truth-problem-3496.json', 'truth-problem-1670.json', 'truth-problem-1906.json', 'problem-2374.txt', 'truth-problem-3504.json', 'problem-3593.txt', 'truth-problem-4059.json', 'truth-problem-1320.json', 'truth-problem-1604.json', 'truth-problem-2124.json', 'truth-problem-3608.json', 'truth-problem-244.json', 'truth-problem-64.json', 'truth-problem-2081.json', 'problem-2021.txt', 'truth-problem-32.json', 'truth-problem-2483.json', 'truth-problem-2537.json', 'problem-1744.txt', 'problem-3258.txt', 'problem-2380.txt', 'truth-problem-3844.json', 'truth-problem-631.json', 'truth-problem-2534.json', 'truth-problem-1814.json', 'problem-3892.txt', 'truth-problem-2379.json', 'problem-201.txt', 'truth-problem-3984.json', 'truth-problem-2056.json', 'truth-problem-60.json', 'problem-3867.txt', 'truth-problem-3632.json', 'truth-problem-1859.json', 'problem-3641.txt', 'problem-458.txt', 'problem-3512.txt', 'truth-problem-640.json', 'problem-3157.txt', 'problem-2223.txt', 'problem-1340.txt', 'problem-1615.txt', 'problem-3375.txt', 'problem-1177.txt', 'problem-2574.txt', 'truth-problem-1144.json', 'truth-problem-4142.json', 'problem-2524.txt', 'truth-problem-4044.json', 'truth-problem-2772.json', 'truth-problem-3708.json', 'problem-3027.txt', 'truth-problem-3375.json', 'truth-problem-1393.json', 'truth-problem-341.json', 'problem-1811.txt', 'problem-2206.txt', 'truth-problem-771.json', 'problem-484.txt', 'problem-3608.txt', 'truth-problem-414.json', 'truth-problem-917.json', 'truth-problem-3432.json', 'problem-3961.txt', 'truth-problem-3863.json', 'truth-problem-1194.json', 'problem-233.txt', 'truth-problem-1077.json', 'problem-2196.txt', 'truth-problem-3484.json', 'problem-3305.txt', 'problem-183.txt', 'problem-101.txt', 'problem-898.txt', 'truth-problem-151.json', 'problem-1117.txt', 'problem-1128.txt', 'problem-2303.txt', 'truth-problem-3251.json', 'problem-1453.txt', 'problem-3922.txt', 'problem-2263.txt', 'problem-4097.txt', 'problem-2901.txt', 'problem-1056.txt', 'problem-160.txt', 'problem-3335.txt', 'truth-problem-1163.json', 'truth-problem-383.json', 'problem-1927.txt', 'truth-problem-3694.json', 'problem-3523.txt', 'problem-4115.txt', 'truth-problem-2073.json', 'truth-problem-4126.json', 'truth-problem-3625.json', 'problem-912.txt', 'problem-3302.txt', 'problem-1675.txt', 'problem-470.txt', 'truth-problem-455.json', 'truth-problem-41.json', 'problem-3290.txt', 'problem-905.txt', 'truth-problem-125.json', 'problem-562.txt', 'truth-problem-1577.json', 'problem-4148.txt', 'truth-problem-806.json', 'truth-problem-1029.json', 'truth-problem-1954.json', 'problem-2444.txt', 'problem-1782.txt', 'problem-2771.txt', 'problem-1683.txt', 'problem-506.txt', 'truth-problem-681.json', 'truth-problem-1123.json', 'truth-problem-3013.json', 'truth-problem-2963.json', 'problem-3617.txt', 'truth-problem-287.json', 'truth-problem-3087.json', 'problem-607.txt', 'truth-problem-1197.json', 'truth-problem-773.json', 'problem-2482.txt', 'truth-problem-2691.json', 'problem-3900.txt', 'truth-problem-586.json', 'truth-problem-205.json', 'truth-problem-261.json', 'truth-problem-1413.json', 'problem-2123.txt', 'problem-950.txt', 'truth-problem-2548.json', 'truth-problem-2888.json', 'truth-problem-3981.json', 'problem-2025.txt', 'problem-181.txt', 'truth-problem-237.json', 'truth-problem-1622.json', 'problem-98.txt', 'problem-3728.txt', 'truth-problem-2511.json', 'problem-601.txt', 'truth-problem-3634.json', 'truth-problem-2208.json', 'truth-problem-2787.json', 'problem-3297.txt', 'truth-problem-1677.json', 'problem-3156.txt', 'truth-problem-2043.json', 'truth-problem-539.json', 'problem-3658.txt', 'truth-problem-2013.json', 'truth-problem-1546.json', 'problem-4065.txt', 'truth-problem-2623.json', 'problem-3216.txt', 'truth-problem-3858.json', 'problem-315.txt', 'truth-problem-2889.json', 'truth-problem-1279.json', 'truth-problem-2053.json', 'problem-3926.txt', 'problem-3034.txt', 'problem-4072.txt', 'problem-3010.txt', 'truth-problem-1582.json', 'problem-3547.txt', 'problem-2726.txt', 'problem-2251.txt', 'truth-problem-4161.json', 'problem-3464.txt', 'problem-193.txt', 'problem-4087.txt', 'problem-1469.txt', 'problem-1047.txt', 'truth-problem-2347.json', 'problem-4017.txt', 'truth-problem-1674.json', 'truth-problem-3247.json', 'problem-3367.txt', 'truth-problem-4068.json', 'problem-1169.txt', 'truth-problem-1774.json', 'problem-3615.txt', 'problem-1296.txt', 'problem-2454.txt', 'truth-problem-10.json', 'truth-problem-3250.json', 'problem-1403.txt', 'problem-1540.txt', 'truth-problem-29.json', 'truth-problem-53.json', 'problem-4134.txt', 'problem-406.txt', 'truth-problem-570.json', 'truth-problem-880.json', 'truth-problem-448.json', 'problem-508.txt', 'truth-problem-2078.json', 'truth-problem-2298.json', 'truth-problem-551.json', 'problem-4179.txt', 'problem-935.txt', 'truth-problem-1589.json', 'problem-1412.txt', 'truth-problem-2170.json', 'truth-problem-1333.json', 'problem-3541.txt', 'truth-problem-3669.json', 'problem-656.txt', 'truth-problem-2860.json', 'truth-problem-2287.json', 'problem-642.txt', 'problem-908.txt', 'problem-3089.txt', 'problem-3239.txt', 'problem-3450.txt', 'truth-problem-3423.json', 'problem-3219.txt', 'problem-3790.txt', 'problem-702.txt', 'truth-problem-3046.json', 'problem-2189.txt', 'truth-problem-3769.json', 'problem-211.txt', 'problem-679.txt', 'problem-2618.txt', 'problem-2192.txt', 'truth-problem-233.json', 'truth-problem-3939.json', 'truth-problem-499.json', 'problem-988.txt', 'truth-problem-3527.json', 'truth-problem-3227.json', 'truth-problem-655.json', 'problem-1271.txt', 'problem-3745.txt', 'truth-problem-3424.json', 'problem-2001.txt', 'truth-problem-1177.json', 'truth-problem-2230.json', 'truth-problem-901.json', 'truth-problem-2037.json', 'truth-problem-2879.json', 'truth-problem-135.json', 'problem-2578.txt', 'problem-2111.txt', 'problem-512.txt', 'problem-644.txt', 'problem-3853.txt', 'truth-problem-1236.json', 'truth-problem-650.json', 'truth-problem-1484.json', 'problem-2386.txt', 'problem-3943.txt', 'truth-problem-1342.json', 'truth-problem-2414.json', 'problem-172.txt', 'problem-2188.txt', 'truth-problem-2194.json', 'problem-2661.txt', 'truth-problem-400.json', 'problem-352.txt', 'problem-1864.txt', 'truth-problem-2430.json', 'truth-problem-78.json', 'problem-1572.txt', 'problem-854.txt', 'problem-655.txt', 'truth-problem-3742.json', 'truth-problem-319.json', 'problem-2202.txt', 'problem-2899.txt', 'truth-problem-4101.json', 'truth-problem-1916.json', 'truth-problem-2916.json', 'problem-166.txt', 'problem-4163.txt', 'truth-problem-1641.json', 'problem-1405.txt', 'truth-problem-1294.json', 'truth-problem-2722.json', 'problem-945.txt', 'problem-4019.txt', 'problem-1896.txt', 'problem-2641.txt', 'truth-problem-2279.json', 'problem-827.txt', 'truth-problem-3304.json', 'problem-288.txt', 'problem-1536.txt', 'problem-1860.txt', 'problem-1542.txt', 'problem-1940.txt', 'truth-problem-275.json', 'truth-problem-3006.json', 'problem-3260.txt', 'truth-problem-3972.json', 'truth-problem-3998.json', 'truth-problem-1726.json', 'truth-problem-2897.json', 'truth-problem-1223.json', 'problem-232.txt', 'problem-3414.txt', 'problem-2554.txt', 'truth-problem-3763.json', 'truth-problem-3967.json', 'truth-problem-1375.json', 'truth-problem-3810.json', 'truth-problem-1093.json', 'problem-737.txt', 'problem-3196.txt', 'truth-problem-292.json', 'problem-3001.txt', 'problem-1798.txt', 'problem-152.txt', 'truth-problem-3435.json', 'truth-problem-2922.json', 'truth-problem-3095.json', 'truth-problem-2577.json', 'truth-problem-3480.json', 'problem-1375.txt', 'problem-2753.txt', 'problem-2810.txt', 'problem-3301.txt', 'truth-problem-3668.json', 'problem-3504.txt', 'problem-1115.txt', 'problem-1358.txt', 'problem-3796.txt', 'problem-3343.txt', 'truth-problem-2545.json', 'truth-problem-385.json', 'problem-131.txt', 'problem-2026.txt', 'problem-2209.txt', 'truth-problem-3886.json', 'problem-3584.txt', 'truth-problem-597.json', 'problem-545.txt', 'problem-1828.txt', 'problem-296.txt', 'truth-problem-994.json', 'truth-problem-2863.json', 'truth-problem-3584.json', 'truth-problem-2890.json', 'truth-problem-360.json', 'truth-problem-3961.json', 'truth-problem-4002.json', 'problem-3749.txt', 'truth-problem-902.json', 'truth-problem-1140.json', 'problem-3986.txt', 'problem-2739.txt', 'truth-problem-2881.json', 'truth-problem-3048.json', 'problem-2730.txt', 'truth-problem-2651.json', 'problem-3171.txt', 'truth-problem-2083.json', 'problem-3168.txt', 'problem-648.txt', 'problem-1969.txt', 'truth-problem-2348.json', 'truth-problem-2600.json', 'problem-2174.txt', 'problem-3445.txt', 'problem-345.txt', 'problem-494.txt', 'truth-problem-2339.json', 'truth-problem-263.json', 'problem-66.txt', 'problem-3039.txt', 'problem-65.txt', 'problem-340.txt', 'problem-3637.txt', 'problem-3456.txt', 'problem-4144.txt', 'truth-problem-2263.json', 'truth-problem-3338.json', 'problem-355.txt', 'truth-problem-2731.json', 'truth-problem-2495.json', 'problem-2636.txt', 'truth-problem-527.json', 'truth-problem-1910.json', 'problem-3116.txt', 'truth-problem-752.json', 'problem-2408.txt', 'truth-problem-3451.json', 'problem-2038.txt', 'truth-problem-2515.json', 'problem-717.txt', 'truth-problem-1473.json', 'truth-problem-3380.json', 'problem-353.txt', 'problem-1647.txt', 'truth-problem-2693.json', 'truth-problem-1817.json', 'truth-problem-2001.json', 'truth-problem-4154.json', 'problem-467.txt', 'truth-problem-2518.json', 'truth-problem-2131.json', 'problem-2418.txt', 'problem-1099.txt', 'truth-problem-2010.json', 'problem-62.txt', 'truth-problem-1797.json', 'problem-3680.txt', 'truth-problem-1578.json', 'problem-2005.txt', 'problem-3830.txt', 'truth-problem-390.json', 'truth-problem-1536.json', 'truth-problem-2690.json', 'problem-1156.txt', 'problem-2229.txt', 'problem-2469.txt', 'truth-problem-2567.json', 'truth-problem-3513.json', 'truth-problem-3244.json', 'truth-problem-3702.json', 'truth-problem-2767.json', 'truth-problem-2146.json', 'truth-problem-2130.json', 'problem-3107.txt', 'problem-1790.txt', 'problem-3148.txt', 'problem-502.txt', 'truth-problem-3602.json', 'problem-3393.txt', 'problem-3889.txt', 'truth-problem-970.json', 'truth-problem-3314.json', 'truth-problem-2027.json', 'problem-2758.txt', 'truth-problem-1429.json', 'truth-problem-297.json', 'problem-1672.txt', 'problem-724.txt', 'problem-2630.txt', 'truth-problem-907.json', 'truth-problem-3363.json', 'truth-problem-851.json', 'problem-3357.txt', 'truth-problem-3846.json', 'problem-2197.txt', 'truth-problem-2694.json', 'truth-problem-396.json', 'problem-2382.txt', 'problem-4092.txt', 'truth-problem-3618.json', 'problem-3442.txt', 'problem-3574.txt', 'problem-739.txt', 'problem-754.txt', 'problem-2821.txt', 'truth-problem-654.json', 'truth-problem-592.json', 'truth-problem-1268.json', 'problem-2134.txt', 'problem-1437.txt', 'truth-problem-238.json', 'truth-problem-177.json', 'problem-196.txt', 'truth-problem-2481.json', 'problem-354.txt', 'problem-3202.txt', 'truth-problem-364.json', 'truth-problem-3552.json', 'truth-problem-7.json', 'problem-475.txt', 'problem-3460.txt', 'truth-problem-3997.json', 'problem-2265.txt', 'problem-3842.txt', 'truth-problem-500.json', 'truth-problem-498.json', 'problem-4126.txt', 'truth-problem-514.json', 'truth-problem-1373.json', 'truth-problem-2357.json', 'problem-860.txt', 'truth-problem-1987.json', 'problem-1891.txt', 'problem-275.txt', 'problem-2949.txt', 'truth-problem-466.json', 'problem-3629.txt', 'truth-problem-2866.json', 'truth-problem-139.json', 'truth-problem-2869.json', 'problem-3346.txt', 'problem-2490.txt', 'truth-problem-1130.json', 'problem-3555.txt', 'truth-problem-68.json', 'problem-3265.txt', 'problem-600.txt', 'truth-problem-2403.json', 'problem-1795.txt', 'truth-problem-2093.json', 'truth-problem-3709.json', 'problem-497.txt', 'truth-problem-1485.json', 'truth-problem-167.json', 'truth-problem-2116.json', 'problem-1162.txt', 'truth-problem-758.json', 'problem-1083.txt', 'truth-problem-2340.json', 'truth-problem-2530.json', 'truth-problem-2905.json', 'problem-2695.txt', 'problem-1766.txt', 'truth-problem-976.json', 'truth-problem-2607.json', 'problem-3601.txt', 'problem-3845.txt', 'problem-72.txt', 'truth-problem-1998.json', 'problem-4008.txt', 'problem-3785.txt', 'truth-problem-1750.json', 'problem-1343.txt', 'problem-1885.txt', 'truth-problem-309.json', 'problem-3591.txt', 'truth-problem-3163.json', 'problem-1609.txt', 'truth-problem-1595.json', 'truth-problem-3319.json', 'truth-problem-234.json', 'problem-339.txt', 'truth-problem-1364.json', 'truth-problem-3571.json', 'problem-3086.txt', 'problem-4173.txt', 'truth-problem-2899.json', 'truth-problem-2004.json', 'truth-problem-2780.json', 'problem-2379.txt', 'truth-problem-1289.json', 'problem-2483.txt', 'truth-problem-3791.json', 'problem-2296.txt', 'truth-problem-2709.json', 'truth-problem-660.json', 'problem-319.txt', 'problem-2393.txt', 'problem-1028.txt', 'problem-1370.txt', 'problem-1103.txt', 'problem-4130.txt', 'truth-problem-1697.json', 'truth-problem-3543.json', 'problem-2885.txt', 'problem-521.txt', 'truth-problem-1712.json', 'truth-problem-2251.json', 'problem-425.txt', 'problem-2054.txt', 'truth-problem-1111.json', 'truth-problem-2715.json', 'problem-3317.txt', 'problem-2894.txt', 'problem-1858.txt', 'problem-2604.txt', 'truth-problem-841.json', 'problem-828.txt', 'problem-1783.txt', 'truth-problem-1165.json', 'problem-3775.txt', 'truth-problem-2915.json', 'problem-2540.txt', 'problem-4046.txt', 'problem-559.txt', 'truth-problem-1778.json', 'problem-146.txt', 'problem-1457.txt', 'truth-problem-1718.json', 'problem-725.txt', 'problem-2831.txt', 'truth-problem-503.json', 'problem-1173.txt', 'truth-problem-2818.json', 'truth-problem-623.json', 'problem-2441.txt', 'problem-3625.txt', 'problem-1517.txt', 'truth-problem-2989.json', 'problem-249.txt', 'truth-problem-3931.json', 'problem-3920.txt', 'problem-1804.txt', 'problem-1254.txt', 'problem-1010.txt', 'problem-3486.txt', 'problem-4082.txt', 'problem-2122.txt', 'truth-problem-813.json', 'truth-problem-887.json', 'problem-2387.txt', 'problem-3715.txt', 'problem-596.txt', 'problem-894.txt', 'truth-problem-1262.json', 'truth-problem-2498.json', 'problem-907.txt', 'truth-problem-425.json', 'problem-250.txt', 'truth-problem-2713.json', 'truth-problem-3413.json', 'problem-1167.txt', 'truth-problem-2439.json', 'truth-problem-3339.json', 'problem-3875.txt', 'problem-1569.txt', 'truth-problem-593.json', 'problem-923.txt', 'problem-1613.txt', 'problem-755.txt', 'truth-problem-552.json', 'truth-problem-2297.json', 'problem-632.txt', 'truth-problem-2364.json', 'problem-575.txt', 'problem-1288.txt', 'truth-problem-3240.json', 'problem-2654.txt', 'truth-problem-3832.json', 'problem-1622.txt', 'truth-problem-1895.json', 'problem-872.txt', 'problem-154.txt', 'truth-problem-1881.json', 'problem-2898.txt', 'problem-4014.txt', 'truth-problem-4030.json', 'problem-3838.txt', 'truth-problem-3795.json', 'problem-3906.txt', 'truth-problem-3298.json', 'problem-1769.txt', 'problem-2277.txt', 'truth-problem-2247.json', 'problem-1932.txt', 'truth-problem-243.json', 'truth-problem-2914.json', 'truth-problem-1253.json', 'problem-2683.txt', 'truth-problem-82.json', 'truth-problem-2895.json', 'problem-1328.txt', 'truth-problem-3778.json', 'truth-problem-3753.json', 'problem-1812.txt', 'problem-2171.txt', 'problem-1648.txt', 'problem-3723.txt', 'problem-4160.txt', 'problem-821.txt', 'problem-3264.txt', 'problem-1345.txt', 'problem-709.txt', 'truth-problem-3069.json', 'truth-problem-2527.json', 'truth-problem-3307.json', 'problem-3065.txt', 'truth-problem-4163.json', 'truth-problem-1098.json', 'truth-problem-1806.json', 'truth-problem-2072.json', 'truth-problem-366.json', 'truth-problem-966.json', 'problem-2165.txt', 'truth-problem-2613.json', 'problem-3534.txt', 'truth-problem-3650.json', 'problem-2883.txt', 'truth-problem-2125.json', 'problem-3169.txt', 'truth-problem-1807.json', 'truth-problem-148.json', 'truth-problem-2005.json', 'truth-problem-2811.json', 'truth-problem-1680.json', 'truth-problem-4067.json', 'problem-2308.txt', 'problem-383.txt', 'truth-problem-1056.json', 'problem-955.txt', 'truth-problem-1359.json', 'problem-697.txt', 'problem-2094.txt', 'problem-1568.txt', 'problem-2446.txt', 'problem-3370.txt', 'problem-4139.txt', 'problem-1206.txt', 'truth-problem-1517.json', 'truth-problem-1821.json', 'problem-3159.txt', 'truth-problem-1468.json', 'problem-3975.txt', 'truth-problem-783.json', 'truth-problem-926.json', 'truth-problem-816.json', 'truth-problem-1565.json', 'truth-problem-3171.json', 'problem-2218.txt', 'problem-551.txt', 'truth-problem-2456.json', 'truth-problem-2636.json', 'problem-4191.txt', 'truth-problem-3576.json', 'problem-3077.txt', 'problem-1152.txt', 'truth-problem-4179.json', 'truth-problem-3645.json', 'problem-3811.txt', 'truth-problem-264.json', 'truth-problem-1115.json', 'truth-problem-3952.json', 'truth-problem-4136.json', 'problem-1939.txt', 'truth-problem-3268.json', 'truth-problem-824.json', 'truth-problem-3138.json', 'problem-1224.txt', 'problem-2871.txt', 'problem-1429.txt', 'problem-4069.txt', 'problem-3187.txt', 'problem-2991.txt', 'problem-1755.txt', 'truth-problem-3476.json', 'truth-problem-2304.json', 'problem-179.txt', 'problem-1363.txt', 'problem-12.txt', 'truth-problem-2782.json', 'truth-problem-3008.json', 'problem-3657.txt', 'truth-problem-3216.json', 'problem-2204.txt', 'truth-problem-61.json', 'truth-problem-13.json', 'problem-487.txt', 'problem-2361.txt', 'truth-problem-4149.json', 'problem-1671.txt', 'truth-problem-76.json', 'problem-436.txt', 'truth-problem-1380.json', 'truth-problem-3728.json', 'problem-3488.txt', 'truth-problem-892.json', 'problem-3448.txt', 'problem-1753.txt', 'problem-1848.txt', 'truth-problem-3296.json', 'truth-problem-2516.json', 'truth-problem-1676.json', 'truth-problem-1501.json', 'problem-3788.txt', 'truth-problem-1139.json', 'problem-628.txt', 'problem-1420.txt', 'truth-problem-84.json', 'problem-2703.txt', 'truth-problem-3193.json', 'problem-1479.txt', 'truth-problem-2396.json', 'problem-3940.txt', 'problem-3854.txt', 'truth-problem-652.json', 'problem-1242.txt', 'problem-2977.txt', 'problem-1447.txt', 'problem-570.txt', 'problem-1428.txt', 'truth-problem-2038.json', 'problem-3333.txt', 'problem-2735.txt', 'truth-problem-1334.json', 'truth-problem-186.json', 'truth-problem-1740.json', 'truth-problem-1782.json', 'problem-1318.txt', 'truth-problem-886.json', 'truth-problem-1912.json', 'problem-4174.txt', 'truth-problem-2634.json', 'truth-problem-342.json', 'problem-2999.txt', 'problem-2983.txt', 'problem-369.txt', 'problem-992.txt', 'problem-812.txt', 'problem-2020.txt', 'problem-3816.txt', 'truth-problem-423.json', 'problem-1796.txt', 'problem-1032.txt', 'problem-4081.txt', 'truth-problem-307.json', 'problem-4198.txt', 'truth-problem-2301.json', 'truth-problem-2626.json', 'truth-problem-439.json', 'truth-problem-3622.json', 'problem-3611.txt', 'problem-2210.txt', 'problem-2220.txt', 'problem-1132.txt', 'truth-problem-1698.json', 'truth-problem-3849.json', 'problem-583.txt', 'truth-problem-3601.json', 'truth-problem-1054.json', 'truth-problem-1564.json', 'problem-4005.txt', 'truth-problem-1854.json', 'truth-problem-3043.json', 'problem-2185.txt', 'problem-2671.txt', 'problem-1025.txt', 'problem-3076.txt', 'truth-problem-809.json', 'truth-problem-3194.json', 'problem-1499.txt', 'truth-problem-653.json', 'problem-3807.txt', 'truth-problem-3744.json', 'truth-problem-1569.json', 'problem-4137.txt', 'problem-451.txt', 'truth-problem-1897.json', 'problem-582.txt', 'truth-problem-2872.json', 'problem-2179.txt', 'problem-1583.txt', 'problem-1981.txt', 'problem-3869.txt', 'problem-3059.txt', 'problem-2995.txt', 'truth-problem-2228.json', 'problem-613.txt', 'problem-3837.txt', 'truth-problem-1222.json', 'problem-1040.txt', 'truth-problem-3454.json', 'truth-problem-1850.json', 'problem-2071.txt', 'problem-4129.txt', 'truth-problem-140.json', 'problem-218.txt', 'truth-problem-410.json', 'truth-problem-3383.json', 'problem-174.txt', 'problem-615.txt', 'truth-problem-2085.json', 'problem-2708.txt', 'problem-3475.txt', 'truth-problem-2525.json', 'truth-problem-3145.json', 'truth-problem-1800.json', 'problem-1161.txt', 'problem-4057.txt', 'problem-1702.txt', 'truth-problem-3094.json', 'truth-problem-588.json', 'truth-problem-1793.json', 'truth-problem-2718.json', 'truth-problem-820.json', 'problem-124.txt', 'problem-2313.txt', 'problem-2780.txt', 'problem-1322.txt', 'truth-problem-3522.json', 'problem-3558.txt', 'problem-1902.txt', 'problem-109.txt', 'problem-2033.txt', 'truth-problem-2394.json', 'problem-375.txt', 'problem-1002.txt', 'truth-problem-2012.json', 'truth-problem-955.json', 'problem-952.txt', 'truth-problem-1040.json', 'truth-problem-3349.json', 'truth-problem-2244.json', 'truth-problem-1559.json', 'problem-2473.txt', 'truth-problem-2611.json', 'problem-2075.txt', 'truth-problem-2756.json', 'truth-problem-3714.json', 'truth-problem-3568.json', 'problem-1846.txt', 'problem-1578.txt', 'problem-4185.txt', 'truth-problem-595.json', 'truth-problem-1822.json', 'truth-problem-1905.json', 'problem-1478.txt', 'problem-1331.txt', 'truth-problem-131.json', 'truth-problem-3784.json', 'problem-2823.txt', 'problem-1357.txt', 'problem-3423.txt', 'truth-problem-3520.json', 'problem-22.txt', 'truth-problem-490.json', 'truth-problem-4111.json', 'problem-522.txt', 'truth-problem-3029.json', 'problem-541.txt', 'problem-731.txt', 'problem-625.txt', 'problem-2003.txt', 'truth-problem-1337.json', 'problem-2947.txt', 'truth-problem-2558.json', 'problem-2512.txt', 'truth-problem-2326.json', 'problem-1226.txt', 'problem-2755.txt', 'truth-problem-4140.json', 'truth-problem-399.json', 'problem-1392.txt', 'problem-3489.txt', 'problem-3176.txt', 'problem-3995.txt', 'problem-158.txt', 'truth-problem-3681.json', 'problem-277.txt', 'truth-problem-381.json', 'problem-833.txt', 'truth-problem-528.json', 'truth-problem-100.json', 'problem-1815.txt', 'problem-3105.txt', 'truth-problem-1124.json', 'problem-299.txt', 'problem-1316.txt', 'truth-problem-2762.json', 'truth-problem-2957.json', 'truth-problem-1116.json', 'problem-2666.txt', 'problem-2614.txt', 'problem-3254.txt', 'problem-560.txt', 'truth-problem-2930.json', 'problem-1691.txt', 'problem-3921.txt', 'problem-2284.txt', 'truth-problem-3925.json', 'truth-problem-2641.json', 'problem-2936.txt', 'problem-453.txt', 'truth-problem-401.json', 'problem-3298.txt', 'truth-problem-1999.json', 'problem-1386.txt', 'truth-problem-509.json', 'truth-problem-3226.json', 'problem-401.txt', 'truth-problem-817.json', 'problem-227.txt', 'problem-35.txt', 'problem-1994.txt', 'problem-4070.txt', 'truth-problem-4043.json', 'truth-problem-480.json', 'truth-problem-1412.json', 'problem-1653.txt', 'problem-2102.txt', 'truth-problem-3212.json', 'truth-problem-1005.json', 'problem-2352.txt', 'truth-problem-1203.json', 'truth-problem-591.json', 'truth-problem-1649.json', 'problem-3710.txt', 'problem-909.txt', 'problem-3120.txt', 'problem-1558.txt', 'problem-1833.txt', 'problem-148.txt', 'truth-problem-2328.json', 'truth-problem-1801.json', 'truth-problem-778.json', 'truth-problem-3532.json', 'problem-722.txt', 'problem-4015.txt', 'truth-problem-2485.json', 'truth-problem-1986.json', 'truth-problem-567.json', 'problem-1305.txt', 'problem-3848.txt', 'problem-194.txt', 'truth-problem-566.json', 'truth-problem-1816.json', 'problem-693.txt', 'problem-2865.txt', 'problem-1699.txt', 'problem-1385.txt', 'truth-problem-3378.json', 'problem-2876.txt', 'truth-problem-938.json', 'problem-2597.txt', 'problem-1665.txt', 'truth-problem-3192.json', 'problem-780.txt', 'truth-problem-1709.json', 'truth-problem-3582.json', 'problem-216.txt', 'problem-2178.txt', 'problem-2954.txt', 'truth-problem-1355.json', 'problem-4091.txt', 'truth-problem-3261.json', 'truth-problem-1662.json', 'truth-problem-1955.json', 'truth-problem-583.json', 'truth-problem-1350.json', 'problem-3660.txt', 'problem-3466.txt', 'problem-1289.txt', 'problem-2922.txt', 'problem-1327.txt', 'problem-3025.txt', 'problem-4146.txt', 'problem-2360.txt', 'problem-127.txt', 'truth-problem-1691.json', 'truth-problem-3441.json', 'truth-problem-1588.json', 'truth-problem-1534.json', 'problem-1545.txt', 'problem-2754.txt', 'truth-problem-51.json', 'truth-problem-3058.json', 'truth-problem-3234.json', 'truth-problem-2853.json', 'truth-problem-2442.json', 'problem-3293.txt', 'truth-problem-103.json', 'problem-432.txt', 'problem-3786.txt', 'truth-problem-2166.json', 'truth-problem-2385.json', 'truth-problem-606.json', 'truth-problem-3989.json', 'truth-problem-3643.json', 'truth-problem-2000.json', 'problem-3005.txt', 'truth-problem-2273.json', 'problem-3511.txt', 'truth-problem-3774.json', 'problem-3904.txt', 'truth-problem-1648.json', 'problem-4124.txt', 'problem-3189.txt', 'problem-191.txt', 'problem-1421.txt', 'problem-1269.txt', 'problem-59.txt', 'truth-problem-3229.json', 'truth-problem-2102.json', 'truth-problem-1335.json', 'truth-problem-2153.json', 'truth-problem-3837.json', 'truth-problem-1768.json', 'truth-problem-163.json', 'problem-3683.txt', 'truth-problem-2283.json', 'truth-problem-647.json', 'problem-1651.txt', 'problem-4028.txt', 'problem-2602.txt', 'problem-3408.txt', 'truth-problem-4199.json', 'problem-2878.txt', 'truth-problem-3289.json', 'problem-3364.txt', 'truth-problem-1097.json', 'problem-163.txt', 'truth-problem-4131.json', 'truth-problem-992.json', 'problem-3767.txt', 'problem-1236.txt', 'truth-problem-3646.json', 'truth-problem-2581.json', 'problem-1059.txt', 'problem-2859.txt', 'problem-2627.txt', 'truth-problem-1414.json', 'truth-problem-1862.json', 'truth-problem-1069.json', 'problem-3606.txt', 'problem-14.txt', 'problem-1759.txt', 'problem-350.txt', 'problem-3435.txt', 'truth-problem-3587.json', 'truth-problem-748.json', 'problem-2280.txt', 'truth-problem-2274.json', 'problem-3623.txt', 'problem-3823.txt', 'truth-problem-1155.json', 'problem-1480.txt', 'problem-3047.txt', 'problem-356.txt', 'truth-problem-1573.json', 'truth-problem-1249.json', 'truth-problem-98.json', 'truth-problem-1542.json', 'problem-1552.txt', 'truth-problem-801.json', 'problem-638.txt', 'problem-1300.txt', 'truth-problem-2696.json', 'truth-problem-616.json', 'truth-problem-1031.json', 'truth-problem-1293.json', 'problem-2214.txt', 'truth-problem-1808.json', 'truth-problem-3847.json', 'problem-328.txt', 'problem-1621.txt', 'problem-2987.txt', 'problem-1376.txt', 'problem-2548.txt', 'truth-problem-3741.json', 'truth-problem-1974.json', 'truth-problem-1927.json', 'truth-problem-3534.json', 'truth-problem-4177.json', 'problem-2248.txt', 'truth-problem-3186.json', 'truth-problem-559.json', 'truth-problem-3044.json', 'truth-problem-1752.json', 'truth-problem-3408.json', 'problem-1611.txt', 'truth-problem-1409.json', 'truth-problem-3109.json', 'problem-2539.txt', 'problem-2392.txt', 'problem-1686.txt', 'problem-3602.txt', 'problem-3181.txt', 'problem-3275.txt', 'problem-2443.txt', 'problem-824.txt', 'problem-3978.txt', 'problem-4003.txt', 'problem-1977.txt', 'problem-975.txt', 'truth-problem-1419.json', 'truth-problem-1275.json', 'problem-1066.txt', 'problem-3527.txt', 'problem-3923.txt', 'problem-3718.txt', 'truth-problem-4090.json', 'problem-307.txt', 'truth-problem-1707.json', 'truth-problem-3648.json', 'truth-problem-642.json', 'problem-1444.txt', 'truth-problem-541.json', 'truth-problem-1525.json', 'problem-2212.txt', 'truth-problem-226.json', 'truth-problem-3018.json', 'problem-1841.txt', 'problem-3409.txt', 'truth-problem-535.json', 'truth-problem-1951.json', 'truth-problem-2725.json', 'truth-problem-314.json', 'problem-2019.txt', 'problem-1249.txt', 'problem-2911.txt', 'truth-problem-2765.json', 'truth-problem-3407.json', 'problem-1604.txt', 'truth-problem-1894.json', 'truth-problem-1307.json', 'truth-problem-2036.json', 'truth-problem-4138.json', 'truth-problem-2737.json', 'truth-problem-4106.json', 'problem-691.txt', 'truth-problem-4175.json', 'truth-problem-1510.json', 'truth-problem-3616.json', 'truth-problem-3097.json', 'problem-348.txt', 'problem-4080.txt', 'truth-problem-1678.json', 'truth-problem-4008.json', 'problem-3251.txt', 'truth-problem-939.json', 'truth-problem-3606.json', 'problem-326.txt', 'truth-problem-3544.json', 'problem-1043.txt', 'problem-1191.txt', 'problem-2177.txt', 'problem-3758.txt', 'truth-problem-4098.json', 'truth-problem-1272.json', 'truth-problem-176.json', 'truth-problem-1567.json', 'truth-problem-2161.json', 'problem-683.txt', 'truth-problem-3868.json', 'problem-3556.txt', 'truth-problem-2270.json', 'truth-problem-3108.json', 'problem-1433.txt', 'problem-3296.txt', 'truth-problem-2801.json', 'problem-887.txt', 'problem-2132.txt', 'truth-problem-2804.json', 'truth-problem-2428.json', 'truth-problem-1891.json', 'problem-1178.txt', 'problem-2923.txt', 'problem-262.txt', 'truth-problem-2982.json', 'truth-problem-4200.json', 'problem-1448.txt', 'problem-2889.txt', 'problem-1548.txt', 'truth-problem-661.json', 'truth-problem-1300.json', 'problem-3582.txt', 'problem-3242.txt', 'problem-1921.txt', 'truth-problem-1251.json', 'truth-problem-728.json', 'truth-problem-2917.json', 'truth-problem-2269.json', 'problem-3384.txt', 'problem-4102.txt', 'problem-746.txt', 'problem-2517.txt', 'problem-3000.txt', 'truth-problem-4077.json', 'truth-problem-522.json', 'truth-problem-2255.json', 'truth-problem-1840.json', 'problem-943.txt', 'truth-problem-2514.json', 'truth-problem-967.json', 'problem-111.txt', 'truth-problem-3752.json', 'problem-2963.txt', 'problem-1770.txt', 'problem-2568.txt', 'truth-problem-202.json', 'problem-2879.txt', 'problem-1138.txt', 'truth-problem-1358.json', 'problem-3644.txt', 'truth-problem-344.json', 'truth-problem-727.json', 'truth-problem-1898.json', 'problem-2633.txt', 'problem-3323.txt', 'truth-problem-3783.json', 'truth-problem-224.json', 'truth-problem-1411.json', 'problem-2748.txt', 'truth-problem-4146.json', 'problem-2698.txt', 'truth-problem-2191.json', 'problem-2353.txt', 'truth-problem-3531.json', 'truth-problem-3047.json', 'truth-problem-2486.json', 'truth-problem-3785.json', 'problem-3386.txt', 'truth-problem-1520.json', 'problem-2009.txt', 'problem-1590.txt', 'problem-464.txt', 'problem-3765.txt', 'problem-2275.txt', 'truth-problem-3479.json', 'truth-problem-3677.json', 'problem-1230.txt', 'truth-problem-3341.json', 'truth-problem-980.json', 'problem-2656.txt', 'problem-1393.txt', 'problem-2010.txt', 'problem-3766.txt', 'truth-problem-2842.json', 'truth-problem-3864.json', 'problem-2118.txt', 'problem-2644.txt', 'truth-problem-44.json', 'truth-problem-1639.json', 'truth-problem-1656.json', 'problem-2786.txt', 'problem-1809.txt', 'truth-problem-1007.json', 'truth-problem-1934.json', 'problem-106.txt', 'problem-701.txt', 'truth-problem-3621.json', 'problem-3627.txt', 'truth-problem-3932.json', 'problem-2970.txt', 'truth-problem-2343.json', 'truth-problem-2356.json', 'problem-597.txt', 'truth-problem-2956.json', 'problem-3182.txt', 'truth-problem-1041.json', 'problem-2007.txt', 'problem-2679.txt', 'problem-3284.txt', 'truth-problem-1068.json', 'problem-2594.txt', 'truth-problem-2075.json', 'truth-problem-2642.json', 'truth-problem-2115.json', 'problem-95.txt', 'problem-574.txt', 'problem-2820.txt', 'truth-problem-1070.json', 'problem-1505.txt', 'truth-problem-1237.json', 'truth-problem-2645.json', 'problem-2777.txt', 'truth-problem-2050.json', 'truth-problem-2368.json', 'problem-797.txt', 'problem-2467.txt', 'problem-707.txt', 'truth-problem-2754.json', 'problem-2421.txt', 'truth-problem-1992.json', 'problem-3562.txt', 'problem-1133.txt', 'truth-problem-3773.json', 'problem-1781.txt', 'problem-1655.txt', 'truth-problem-2910.json', 'problem-3360.txt', 'truth-problem-305.json', 'truth-problem-2980.json', 'problem-1241.txt', 'problem-2816.txt', 'problem-4143.txt', 'problem-2895.txt', 'problem-4090.txt', 'truth-problem-912.json', 'truth-problem-724.json', 'problem-456.txt', 'problem-1051.txt', 'truth-problem-3813.json', 'problem-3013.txt', 'truth-problem-3975.json', 'problem-431.txt', 'truth-problem-3519.json', 'problem-2842.txt', 'problem-2608.txt', 'truth-problem-3092.json', 'truth-problem-105.json', 'problem-1202.txt', 'truth-problem-2100.json', 'problem-3328.txt', 'truth-problem-3830.json', 'problem-1308.txt', 'truth-problem-2555.json', 'truth-problem-765.json', 'problem-170.txt', 'problem-36.txt', 'truth-problem-2627.json', 'truth-problem-4063.json', 'truth-problem-361.json', 'problem-557.txt', 'problem-641.txt', 'truth-problem-1660.json', 'problem-1415.txt', 'truth-problem-4181.json', 'truth-problem-1844.json', 'problem-2215.txt', 'problem-1928.txt', 'truth-problem-782.json', 'problem-4035.txt', 'problem-3604.txt', 'truth-problem-974.json', 'truth-problem-1310.json', 'truth-problem-1969.json', 'truth-problem-3292.json', 'problem-4149.txt', 'truth-problem-1857.json', 'truth-problem-915.json', 'truth-problem-3316.json', 'truth-problem-2669.json', 'problem-2227.txt', 'truth-problem-2162.json', 'truth-problem-194.json', 'truth-problem-893.json', 'problem-190.txt', 'truth-problem-945.json', 'problem-1688.txt', 'problem-4109.txt', 'truth-problem-1381.json', 'problem-3336.txt', 'truth-problem-1397.json', 'problem-3327.txt', 'problem-741.txt', 'problem-3299.txt', 'problem-3126.txt', 'truth-problem-1288.json', 'problem-2401.txt', 'truth-problem-3428.json', 'problem-3709.txt', 'truth-problem-4061.json', 'truth-problem-1474.json', 'truth-problem-3727.json', 'truth-problem-695.json', 'problem-1187.txt', 'problem-298.txt', 'problem-4052.txt', 'truth-problem-279.json', 'problem-332.txt', 'problem-711.txt', 'problem-43.txt', 'truth-problem-2366.json', 'problem-1037.txt', 'truth-problem-755.json', 'truth-problem-1217.json', 'truth-problem-864.json', 'problem-1141.txt', 'problem-3165.txt', 'problem-1886.txt', 'problem-2254.txt', 'problem-495.txt', 'problem-3942.txt', 'truth-problem-1444.json', 'truth-problem-3958.json', 'truth-problem-3994.json', 'problem-3362.txt', 'truth-problem-1769.json', 'truth-problem-1374.json', 'truth-problem-1938.json', 'truth-problem-995.json', 'problem-1614.txt', 'problem-3332.txt', 'problem-934.txt', 'truth-problem-1571.json', 'problem-623.txt', 'truth-problem-278.json', 'truth-problem-3819.json', 'truth-problem-2235.json', 'problem-1878.txt', 'truth-problem-3870.json', 'problem-3752.txt', 'problem-3036.txt', 'problem-961.txt', 'truth-problem-3115.json', 'problem-2040.txt', 'truth-problem-2764.json', 'truth-problem-2536.json', 'problem-2996.txt', 'problem-2193.txt', 'problem-1231.txt', 'problem-2246.txt', 'truth-problem-2643.json', 'truth-problem-4120.json', 'problem-2791.txt', 'problem-2311.txt', 'truth-problem-422.json', 'truth-problem-978.json', 'problem-316.txt', 'truth-problem-1949.json', 'truth-problem-3655.json', 'truth-problem-805.json', 'truth-problem-1008.json', 'truth-problem-207.json', 'problem-588.txt', 'truth-problem-3884.json', 'problem-626.txt', 'problem-44.txt', 'truth-problem-764.json', 'problem-3480.txt', 'problem-1692.txt', 'problem-4076.txt', 'problem-2002.txt', 'problem-4113.txt', 'truth-problem-434.json', 'truth-problem-1746.json', 'problem-2326.txt', 'truth-problem-2415.json', 'problem-4140.txt', 'truth-problem-2312.json', 'problem-2537.txt', 'truth-problem-1696.json', 'problem-1906.txt', 'problem-831.txt', 'problem-3138.txt', 'problem-3476.txt', 'problem-2161.txt', 'problem-3250.txt', 'truth-problem-3743.json', 'problem-2763.txt', 'problem-2438.txt', 'problem-1972.txt', 'problem-1574.txt', 'problem-3122.txt', 'truth-problem-689.json', 'problem-2052.txt', 'problem-1253.txt', 'problem-1027.txt', 'problem-1136.txt', 'truth-problem-1732.json', 'problem-3422.txt', 'problem-246.txt', 'problem-1729.txt', 'truth-problem-333.json', 'truth-problem-791.json', 'problem-3941.txt', 'problem-3737.txt', 'problem-1850.txt', 'problem-1450.txt', 'problem-3130.txt', 'truth-problem-1900.json', 'truth-problem-1026.json', 'problem-2535.txt', 'problem-3161.txt', 'truth-problem-282.json', 'problem-294.txt', 'problem-1068.txt', 'problem-3519.txt', 'problem-3236.txt', 'problem-2492.txt', 'truth-problem-1907.json', 'problem-1131.txt', 'truth-problem-3489.json', 'problem-3042.txt', 'truth-problem-1463.json', 'truth-problem-928.json', 'problem-1638.txt', 'problem-3835.txt', 'problem-2453.txt', 'problem-2832.txt', 'problem-1523.txt', 'problem-1266.txt', 'truth-problem-2264.json', 'truth-problem-1137.json', 'problem-1210.txt', 'truth-problem-1826.json', 'truth-problem-958.json', 'truth-problem-787.json', 'problem-119.txt', 'truth-problem-1783.json', 'problem-936.txt', 'problem-2819.txt', 'truth-problem-1168.json', 'problem-2837.txt', 'problem-343.txt', 'truth-problem-1466.json', 'truth-problem-3025.json', 'truth-problem-1361.json', 'problem-1678.txt', 'problem-143.txt', 'problem-1893.txt', 'truth-problem-1460.json', 'truth-problem-9.json', 'truth-problem-637.json', 'truth-problem-871.json', 'truth-problem-3038.json', 'problem-1082.txt', 'problem-3314.txt', 'truth-problem-3505.json', 'truth-problem-3275.json', 'truth-problem-2429.json', 'truth-problem-4081.json', 'problem-1492.txt', 'truth-problem-3311.json', 'truth-problem-197.json', 'problem-994.txt', 'problem-476.txt', 'truth-problem-1771.json', 'problem-954.txt', 'truth-problem-94.json', 'problem-3103.txt', 'problem-2320.txt', 'problem-3818.txt', 'truth-problem-271.json', 'problem-3368.txt', 'problem-2131.txt', 'problem-2978.txt', 'truth-problem-3321.json', 'problem-2211.txt', 'problem-3193.txt', 'problem-3510.txt', 'truth-problem-472.json', 'problem-1873.txt', 'truth-problem-1655.json', 'truth-problem-310.json', 'truth-problem-3699.json', 'truth-problem-162.json', 'truth-problem-2261.json', 'problem-443.txt', 'truth-problem-3839.json', 'truth-problem-2987.json', 'truth-problem-495.json', 'problem-273.txt', 'truth-problem-2688.json', 'truth-problem-3202.json', 'truth-problem-2678.json', 'problem-3417.txt', 'truth-problem-1464.json', 'truth-problem-141.json', 'problem-630.txt', 'truth-problem-3866.json', 'truth-problem-3857.json', 'truth-problem-1829.json', 'problem-3802.txt', 'problem-1743.txt', 'problem-3455.txt', 'problem-2180.txt', 'truth-problem-3755.json', 'truth-problem-3620.json', 'problem-2226.txt', 'problem-4118.txt', 'truth-problem-3537.json', 'problem-215.txt', 'truth-problem-3174.json', 'truth-problem-3802.json', 'problem-303.txt', 'truth-problem-81.json', 'problem-2648.txt', 'problem-577.txt', 'truth-problem-2436.json', 'problem-3128.txt', 'truth-problem-3117.json', 'problem-8.txt', 'problem-1700.txt', 'truth-problem-3473.json', 'problem-2191.txt', 'problem-2721.txt', 'problem-2989.txt', 'problem-1176.txt', 'truth-problem-3908.json', 'problem-1567.txt', 'truth-problem-3835.json', 'truth-problem-3334.json', 'truth-problem-3696.json', 'problem-2195.txt', 'problem-948.txt', 'truth-problem-1590.json', 'problem-2451.txt', 'truth-problem-988.json', 'problem-4027.txt', 'truth-problem-4013.json', 'problem-2064.txt', 'problem-2982.txt', 'truth-problem-545.json', 'truth-problem-3811.json', 'problem-2861.txt', 'truth-problem-106.json', 'problem-3990.txt', 'problem-659.txt', 'problem-2006.txt', 'truth-problem-1287.json', 'truth-problem-3126.json', 'problem-603.txt', 'truth-problem-2593.json', 'truth-problem-1113.json', 'problem-2323.txt', 'problem-184.txt', 'problem-1818.txt', 'truth-problem-894.json', 'truth-problem-1548.json', 'problem-4172.txt', 'problem-3630.txt', 'truth-problem-2221.json', 'problem-915.txt', 'truth-problem-1561.json', 'problem-3267.txt', 'truth-problem-3417.json', 'truth-problem-2224.json', 'problem-3131.txt', 'truth-problem-4189.json', 'problem-3017.txt', 'truth-problem-2249.json', 'problem-919.txt', 'truth-problem-3021.json', 'problem-1872.txt', 'problem-840.txt', 'problem-2477.txt', 'truth-problem-2808.json', 'problem-3016.txt', 'problem-3167.txt', 'truth-problem-2845.json', 'truth-problem-3344.json', 'problem-2643.txt', 'truth-problem-2647.json', 'problem-3191.txt', 'truth-problem-3592.json', 'truth-problem-3128.json', 'truth-problem-3558.json', 'problem-203.txt', 'truth-problem-1209.json', 'problem-3682.txt', 'problem-579.txt', 'problem-3381.txt', 'truth-problem-331.json', 'problem-1361.txt', 'truth-problem-2578.json', 'truth-problem-760.json', 'problem-2258.txt', 'problem-1105.txt', 'truth-problem-3233.json', 'truth-problem-3010.json', 'problem-2160.txt', 'truth-problem-3918.json', 'problem-3325.txt', 'problem-1424.txt', 'problem-700.txt', 'problem-3287.txt', 'problem-1877.txt', 'truth-problem-1481.json', 'truth-problem-706.json', 'truth-problem-4139.json', 'truth-problem-3397.json', 'truth-problem-1228.json', 'problem-198.txt', 'truth-problem-3144.json', 'truth-problem-23.json', 'problem-3651.txt', 'truth-problem-1926.json', 'truth-problem-338.json', 'truth-problem-3077.json', 'problem-3097.txt', 'problem-3960.txt', 'truth-problem-1810.json', 'truth-problem-144.json', 'problem-3612.txt', 'truth-problem-2062.json', 'problem-1465.txt', 'problem-3736.txt', 'problem-349.txt', 'truth-problem-2595.json', 'truth-problem-3640.json', 'truth-problem-2986.json', 'truth-problem-2918.json', 'truth-problem-3521.json', 'problem-2045.txt', 'problem-1723.txt', 'problem-852.txt', 'truth-problem-1022.json', 'truth-problem-1568.json', 'truth-problem-1863.json', 'truth-problem-1096.json', 'problem-2910.txt', 'truth-problem-1160.json', 'truth-problem-1415.json', 'problem-1551.txt', 'problem-681.txt', 'truth-problem-402.json', 'problem-1204.txt', 'truth-problem-925.json', 'problem-3244.txt', 'truth-problem-2699.json', 'truth-problem-823.json', 'problem-2639.txt', 'truth-problem-3919.json', 'truth-problem-3509.json', 'problem-555.txt', 'truth-problem-3554.json', 'truth-problem-3604.json', 'truth-problem-1671.json', 'problem-1072.txt', 'truth-problem-26.json', 'problem-3760.txt', 'problem-2199.txt', 'truth-problem-3965.json', 'problem-372.txt', 'problem-3508.txt', 'problem-2776.txt', 'problem-3024.txt', 'truth-problem-49.json', 'truth-problem-3232.json', 'problem-2940.txt', 'truth-problem-629.json', 'problem-916.txt', 'truth-problem-1226.json', 'problem-1452.txt', 'problem-856.txt', 'problem-572.txt', 'truth-problem-3715.json', 'problem-1931.txt', 'truth-problem-312.json', 'truth-problem-156.json', 'truth-problem-2207.json', 'truth-problem-2753.json', 'truth-problem-15.json', 'truth-problem-3295.json', 'problem-489.txt', 'problem-151.txt', 'problem-2710.txt', 'truth-problem-2734.json', 'truth-problem-2167.json', 'truth-problem-2749.json', 'truth-problem-2175.json', 'truth-problem-2541.json', 'truth-problem-3671.json', 'truth-problem-2051.json', 'truth-problem-2661.json', 'problem-2688.txt', 'problem-2510.txt', 'truth-problem-3253.json', 'problem-1060.txt', 'truth-problem-3133.json', 'truth-problem-3049.json', 'truth-problem-2528.json', 'truth-problem-2743.json', 'truth-problem-3914.json', 'truth-problem-3546.json', 'problem-3135.txt', 'problem-3647.txt', 'truth-problem-4075.json', 'problem-1802.txt', 'truth-problem-2591.json', 'truth-problem-346.json', 'truth-problem-3456.json', 'truth-problem-659.json', 'truth-problem-3935.json', 'problem-1185.txt', 'problem-1829.txt', 'problem-3742.txt', 'truth-problem-204.json', 'problem-2967.txt', 'problem-2825.txt', 'truth-problem-3004.json', 'truth-problem-460.json', 'problem-3044.txt', 'problem-1216.txt', 'problem-2236.txt', 'truth-problem-2135.json', 'truth-problem-149.json', 'truth-problem-230.json', 'truth-problem-543.json', 'problem-710.txt', 'truth-problem-1156.json', 'truth-problem-86.json', 'problem-3879.txt', 'truth-problem-2876.json', 'truth-problem-2809.json', 'truth-problem-2721.json', 'problem-3568.txt', 'problem-2966.txt', 'problem-1905.txt', 'truth-problem-746.json', 'truth-problem-1643.json', 'problem-2235.txt', 'truth-problem-1479.json', 'problem-3291.txt', 'problem-931.txt', 'problem-2665.txt', 'problem-387.txt', 'truth-problem-1658.json', 'truth-problem-2061.json', 'truth-problem-529.json', 'problem-571.txt', 'problem-1158.txt', 'truth-problem-3615.json', 'problem-788.txt', 'problem-544.txt', 'problem-960.txt', 'problem-136.txt', 'truth-problem-217.json', 'truth-problem-2775.json', 'problem-2689.txt', 'truth-problem-2139.json', 'truth-problem-3017.json', 'problem-3528.txt', 'truth-problem-1266.json', 'problem-2794.txt', 'problem-2908.txt', 'problem-3500.txt', 'truth-problem-524.json', 'problem-2084.txt', 'problem-3090.txt', 'problem-1682.txt', 'problem-1302.txt', 'problem-4168.txt', 'problem-3210.txt', 'problem-2637.txt', 'truth-problem-268.json', 'truth-problem-1089.json', 'truth-problem-3052.json', 'problem-2145.txt', 'truth-problem-3656.json', 'problem-1474.txt', 'truth-problem-763.json', 'truth-problem-2546.json', 'problem-1847.txt', 'problem-2518.txt', 'truth-problem-3986.json', 'problem-3981.txt', 'truth-problem-2147.json', 'truth-problem-2293.json', 'truth-problem-2209.json', 'truth-problem-4056.json', 'truth-problem-2281.json', 'truth-problem-2844.json', 'truth-problem-1230.json', 'truth-problem-2549.json', 'problem-1892.txt', 'problem-1555.txt', 'problem-1904.txt', 'problem-2147.txt', 'truth-problem-377.json', 'problem-2286.txt', 'problem-1834.txt', 'problem-295.txt', 'truth-problem-3586.json', 'truth-problem-1785.json', 'truth-problem-2144.json', 'truth-problem-1033.json', 'problem-1157.txt', 'problem-3365.txt', 'truth-problem-288.json', 'problem-2813.txt', 'problem-803.txt', 'truth-problem-4113.json', 'truth-problem-35.json', 'problem-342.txt', 'problem-2249.txt', 'truth-problem-2110.json', 'truth-problem-3658.json', 'problem-3636.txt', 'truth-problem-1426.json', 'truth-problem-1551.json', 'truth-problem-1108.json', 'problem-1391.txt', 'truth-problem-1188.json', 'problem-565.txt', 'truth-problem-3403.json', 'problem-3542.txt', 'truth-problem-2335.json', 'problem-3056.txt', 'truth-problem-1152.json', 'problem-1936.txt', 'truth-problem-2454.json', 'truth-problem-731.json', 'problem-3522.txt', 'problem-47.txt', 'truth-problem-1360.json', 'truth-problem-4023.json', 'truth-problem-1131.json', 'truth-problem-1775.json', 'truth-problem-683.json', 'truth-problem-3950.json', 'problem-2542.txt', 'truth-problem-1860.json', 'problem-3262.txt', 'problem-976.txt', 'truth-problem-3916.json', 'truth-problem-610.json', 'truth-problem-1873.json', 'truth-problem-1930.json', 'problem-671.txt', 'problem-3557.txt', 'truth-problem-391.json', 'truth-problem-3324.json', 'truth-problem-1055.json', 'problem-3852.txt', 'truth-problem-3978.json', 'truth-problem-3317.json', 'problem-3771.txt', 'problem-1943.txt', 'truth-problem-1420.json', 'truth-problem-942.json', 'truth-problem-2355.json', 'truth-problem-246.json', 'problem-2300.txt', 'problem-2558.txt', 'problem-3553.txt', 'problem-3243.txt', 'problem-838.txt', 'truth-problem-2358.json', 'truth-problem-2662.json', 'problem-304.txt', 'truth-problem-2637.json', 'problem-3151.txt', 'truth-problem-2730.json', 'problem-3964.txt', 'truth-problem-556.json', 'truth-problem-2155.json', 'truth-problem-643.json', 'problem-2932.txt', 'truth-problem-2109.json', 'truth-problem-3422.json', 'truth-problem-2065.json', 'truth-problem-3704.json', 'problem-2146.txt', 'truth-problem-891.json', 'problem-3681.txt', 'truth-problem-510.json', 'truth-problem-767.json', 'problem-2372.txt', 'truth-problem-2933.json', 'problem-712.txt', 'problem-1745.txt', 'problem-389.txt', 'truth-problem-1738.json', 'problem-4104.txt', 'problem-963.txt', 'truth-problem-4018.json', 'problem-1501.txt', 'truth-problem-875.json', 'problem-1794.txt', 'problem-3347.txt', 'problem-2318.txt', 'truth-problem-2285.json', 'problem-4162.txt', 'truth-problem-3876.json', 'truth-problem-2325.json', 'problem-2062.txt', 'problem-1500.txt', 'problem-2222.txt', 'problem-1297.txt', 'truth-problem-3904.json', 'problem-1919.txt', 'problem-17.txt', 'problem-1309.txt', 'truth-problem-3922.json', 'problem-3536.txt', 'problem-3308.txt', 'truth-problem-2621.json', 'truth-problem-2321.json', 'problem-231.txt', 'truth-problem-667.json', 'problem-3226.txt', 'problem-1378.txt', 'truth-problem-3015.json', 'problem-4133.txt', 'truth-problem-1477.json', 'truth-problem-3666.json', 'problem-1106.txt', 'truth-problem-1946.json', 'truth-problem-1202.json', 'truth-problem-1339.json', 'truth-problem-3020.json', 'truth-problem-1847.json', 'truth-problem-999.json', 'truth-problem-2374.json', 'truth-problem-2717.json', 'problem-1466.txt', 'problem-90.txt', 'problem-2850.txt', 'truth-problem-2401.json', 'problem-2183.txt', 'truth-problem-3036.json', 'truth-problem-2648.json', 'truth-problem-2382.json', 'truth-problem-671.json', 'truth-problem-4155.json', 'truth-problem-419.json', 'truth-problem-3103.json', 'truth-problem-3635.json', 'problem-1324.txt', 'truth-problem-1518.json', 'truth-problem-2684.json', 'truth-problem-2022.json', 'problem-439.txt', 'truth-problem-3381.json', 'truth-problem-4104.json', 'problem-2988.txt', 'problem-2266.txt', 'truth-problem-730.json', 'problem-390.txt', 'truth-problem-3039.json', 'problem-2583.txt', 'problem-2294.txt', 'truth-problem-3827.json', 'truth-problem-458.json', 'truth-problem-3547.json', 'problem-3394.txt', 'truth-problem-1344.json', 'truth-problem-249.json', 'problem-317.txt', 'truth-problem-3028.json', 'problem-1807.txt', 'problem-800.txt', 'truth-problem-1002.json', 'problem-776.txt', 'truth-problem-3865.json', 'truth-problem-438.json', 'truth-problem-3566.json', 'truth-problem-3921.json', 'problem-4166.txt', 'problem-2121.txt', 'truth-problem-658.json', 'problem-1146.txt', 'problem-2653.txt', 'problem-652.txt', 'truth-problem-1939.json', 'problem-3321.txt', 'truth-problem-3957.json', 'problem-3190.txt', 'truth-problem-2948.json', 'truth-problem-119.json', 'problem-3353.txt', 'problem-4122.txt', 'problem-1821.txt', 'problem-2340.txt', 'truth-problem-3450.json', 'truth-problem-409.json', 'problem-480.txt', 'truth-problem-93.json', 'truth-problem-3557.json', 'truth-problem-3732.json', 'truth-problem-174.json', 'truth-problem-2199.json', 'truth-problem-3357.json', 'truth-problem-685.json', 'truth-problem-1175.json', 'truth-problem-2419.json', 'truth-problem-3814.json', 'problem-880.txt', 'truth-problem-2974.json', 'problem-2432.txt', 'truth-problem-1614.json', 'problem-4101.txt', 'problem-966.txt', 'truth-problem-3583.json', 'truth-problem-1878.json', 'truth-problem-2839.json', 'truth-problem-511.json', 'problem-3288.txt', 'truth-problem-2225.json', 'truth-problem-3073.json', 'truth-problem-1566.json', 'truth-problem-1976.json', 'truth-problem-1716.json', 'problem-3173.txt', 'problem-2070.txt', 'problem-2221.txt', 'truth-problem-2026.json', 'problem-2533.txt', 'truth-problem-2761.json', 'problem-618.txt', 'problem-732.txt', 'problem-2655.txt', 'truth-problem-2891.json', 'problem-1835.txt', 'problem-161.txt', 'truth-problem-2052.json', 'problem-2990.txt', 'problem-3415.txt', 'problem-524.txt', 'truth-problem-2701.json', 'problem-1853.txt', 'problem-1181.txt', 'truth-problem-2660.json', 'problem-2351.txt', 'problem-1754.txt', 'problem-3257.txt', 'problem-1104.txt', 'problem-1915.txt', 'truth-problem-3165.json', 'truth-problem-369.json', 'problem-2037.txt', 'truth-problem-2628.json', 'truth-problem-2453.json', 'problem-3886.txt', 'truth-problem-3323.json', 'truth-problem-1494.json', 'truth-problem-571.json', 'problem-2957.txt', 'problem-97.txt', 'problem-1593.txt', 'truth-problem-589.json', 'problem-2004.txt', 'truth-problem-3430.json', 'truth-problem-2068.json', 'truth-problem-4148.json', 'truth-problem-997.json', 'problem-2272.txt', 'problem-2149.txt', 'truth-problem-2042.json', 'problem-357.txt', 'truth-problem-38.json', 'truth-problem-1560.json', 'problem-3686.txt', 'problem-4157.txt', 'truth-problem-1382.json', 'truth-problem-4150.json', 'truth-problem-1009.json', 'truth-problem-1470.json', 'truth-problem-1737.json', 'problem-1432.txt', 'problem-1619.txt', 'truth-problem-2929.json', 'problem-2201.txt', 'truth-problem-2901.json', 'problem-3588.txt', 'truth-problem-2615.json', 'truth-problem-2219.json', 'truth-problem-1323.json', 'truth-problem-4026.json', 'truth-problem-3466.json', 'problem-2663.txt', 'problem-3395.txt', 'problem-1942.txt', 'truth-problem-1462.json', 'problem-2447.txt', 'problem-1490.txt', 'problem-4075.txt', 'truth-problem-1803.json', 'problem-3810.txt', 'truth-problem-1190.json', 'truth-problem-2907.json', 'problem-519.txt', 'problem-4000.txt', 'problem-2321.txt', 'problem-2043.txt', 'problem-532.txt', 'truth-problem-1819.json', 'truth-problem-2813.json', 'problem-2370.txt', 'truth-problem-195.json', 'truth-problem-3388.json', 'problem-3653.txt', 'truth-problem-2308.json', 'problem-2090.txt', 'problem-696.txt', 'problem-3331.txt', 'problem-1684.txt', 'problem-3209.txt', 'problem-2056.txt', 'truth-problem-2156.json', 'problem-3051.txt', 'problem-2242.txt', 'truth-problem-2815.json', 'truth-problem-2742.json', 'truth-problem-2952.json', 'problem-3249.txt', 'problem-1026.txt', 'truth-problem-3779.json', 'problem-2097.txt', 'truth-problem-1034.json', 'truth-problem-3410.json', 'problem-459.txt', 'problem-1674.txt', 'truth-problem-4020.json', 'problem-4100.txt', 'truth-problem-2288.json', 'truth-problem-2589.json', 'truth-problem-1940.json', 'problem-878.txt', 'truth-problem-860.json', 'problem-1190.txt', 'problem-4158.txt', 'problem-61.txt', 'problem-2169.txt', 'problem-2589.txt', 'problem-1221.txt', 'truth-problem-2316.json', 'truth-problem-3926.json', 'problem-634.txt', 'problem-3311.txt', 'truth-problem-1193.json', 'problem-2039.txt', 'problem-175.txt', 'truth-problem-2248.json', 'problem-2732.txt', 'problem-1118.txt', 'problem-1749.txt', 'truth-problem-3933.json', 'truth-problem-2302.json', 'truth-problem-1348.json', 'truth-problem-12.json', 'problem-1531.txt', 'problem-3339.txt', 'truth-problem-2150.json', 'problem-1563.txt', 'truth-problem-1353.json', 'problem-2059.txt', 'truth-problem-2469.json', 'truth-problem-2837.json', 'problem-4066.txt', 'truth-problem-1901.json', 'problem-263.txt', 'truth-problem-3425.json', 'truth-problem-468.json', 'problem-3033.txt', 'problem-1377.txt', 'problem-3483.txt', 'truth-problem-2275.json', 'problem-4018.txt', 'problem-4094.txt', 'truth-problem-737.json', 'truth-problem-1006.json', 'problem-182.txt', 'truth-problem-910.json', 'truth-problem-1019.json', 'problem-3391.txt', 'truth-problem-201.json', 'truth-problem-691.json', 'truth-problem-1201.json', 'truth-problem-449.json', 'problem-3235.txt', 'problem-2613.txt', 'truth-problem-3302.json', 'problem-1996.txt', 'truth-problem-532.json', 'truth-problem-2408.json', 'problem-1368.txt', 'problem-1155.txt', 'truth-problem-3084.json', 'problem-1909.txt', 'problem-715.txt', 'problem-2035.txt', 'problem-3515.txt', 'truth-problem-1766.json', 'truth-problem-2048.json', 'problem-24.txt', 'truth-problem-1597.json', 'problem-1130.txt', 'truth-problem-298.json', 'problem-594.txt', 'problem-1464.txt', 'problem-2099.txt', 'problem-150.txt', 'problem-1658.txt', 'truth-problem-4132.json', 'problem-3094.txt', 'truth-problem-3786.json', 'truth-problem-1762.json', 'problem-972.txt', 'problem-1938.txt', 'truth-problem-245.json', 'truth-problem-2474.json', 'problem-836.txt', 'problem-3642.txt', 'truth-problem-433.json', 'problem-513.txt', 'truth-problem-27.json', 'truth-problem-1612.json', 'problem-1213.txt', 'problem-2631.txt', 'problem-1539.txt', 'truth-problem-1735.json', 'problem-1298.txt', 'truth-problem-1713.json', 'problem-2461.txt', 'truth-problem-445.json', 'truth-problem-3647.json', 'problem-2676.txt', 'truth-problem-2768.json', 'truth-problem-859.json', 'problem-3282.txt', 'truth-problem-2378.json', 'truth-problem-3987.json', 'problem-3959.txt', 'problem-1512.txt', 'truth-problem-979.json', 'truth-problem-3660.json', 'truth-problem-2045.json', 'problem-1389.txt', 'problem-2724.txt', 'problem-3499.txt', 'problem-3580.txt', 'truth-problem-497.json', 'problem-791.txt', 'problem-3832.txt', 'truth-problem-3080.json', 'truth-problem-2906.json', 'problem-979.txt', 'problem-3613.txt', 'truth-problem-1366.json', 'truth-problem-1219.json', 'problem-3198.txt', 'truth-problem-3833.json', 'truth-problem-2294.json', 'problem-3532.txt', 'truth-problem-3859.json', 'truth-problem-3518.json', 'problem-1419.txt', 'truth-problem-3528.json', 'truth-problem-228.json', 'truth-problem-818.json', 'problem-155.txt', 'truth-problem-1665.json', 'truth-problem-1966.json', 'problem-2848.txt', 'truth-problem-1952.json', 'truth-problem-1.json', 'problem-2765.txt', 'problem-2458.txt', 'truth-problem-3263.json', 'truth-problem-4001.json', 'problem-2933.txt', 'truth-problem-3385.json', 'problem-3454.txt', 'problem-142.txt', 'truth-problem-845.json', 'truth-problem-690.json', 'truth-problem-1682.json', 'truth-problem-451.json', 'problem-619.txt', 'truth-problem-596.json', 'problem-2240.txt', 'truth-problem-2243.json', 'problem-1680.txt', 'truth-problem-1647.json', 'problem-69.txt', 'problem-2906.txt', 'truth-problem-4097.json', 'problem-2413.txt', 'truth-problem-3740.json', 'problem-830.txt', 'problem-2347.txt', 'truth-problem-577.json', 'truth-problem-22.json', 'problem-1879.txt', 'truth-problem-115.json', 'truth-problem-906.json', 'problem-4119.txt', 'truth-problem-4076.json', 'problem-3575.txt', 'truth-problem-2376.json', 'truth-problem-924.json', 'problem-3566.txt', 'truth-problem-973.json', 'problem-989.txt', 'truth-problem-972.json', 'truth-problem-3362.json', 'truth-problem-1030.json', 'problem-2717.txt', 'truth-problem-3050.json', 'problem-67.txt', 'truth-problem-2362.json', 'truth-problem-1583.json', 'truth-problem-3379.json', 'truth-problem-3907.json', 'truth-problem-2307.json', 'problem-2766.txt', 'truth-problem-1410.json', 'truth-problem-2112.json', 'truth-problem-3280.json', 'truth-problem-3962.json', 'truth-problem-222.json', 'problem-749.txt', 'truth-problem-2318.json', 'problem-729.txt', 'truth-problem-108.json', 'problem-3840.txt', 'problem-3070.txt', 'truth-problem-1587.json', 'truth-problem-191.json', 'problem-2585.txt', 'truth-problem-1074.json', 'problem-805.txt', 'truth-problem-1192.json', 'truth-problem-1631.json', 'truth-problem-636.json', 'problem-220.txt', 'problem-3883.txt', 'truth-problem-1827.json', 'truth-problem-2638.json', 'problem-723.txt', 'truth-problem-416.json', 'problem-1372.txt', 'truth-problem-193.json', 'truth-problem-2671.json', 'truth-problem-2951.json', 'problem-1768.txt', 'truth-problem-1855.json', 'truth-problem-2667.json', 'problem-2797.txt', 'truth-problem-1730.json', 'problem-3345.txt', 'problem-1022.txt', 'truth-problem-95.json', 'problem-3609.txt', 'problem-1696.txt', 'problem-531.txt', 'problem-1159.txt', 'truth-problem-757.json', 'truth-problem-407.json', 'problem-2795.txt', 'truth-problem-4089.json', 'truth-problem-2262.json', 'problem-2080.txt', 'problem-3326.txt', 'problem-1048.txt', 'problem-1537.txt', 'problem-3643.txt', 'problem-3870.txt', 'problem-3238.txt', 'truth-problem-750.json', 'problem-2065.txt', 'problem-16.txt', 'problem-2472.txt', 'truth-problem-3529.json', 'problem-1074.txt', 'truth-problem-37.json', 'problem-86.txt', 'truth-problem-168.json', 'problem-2902.txt', 'problem-1562.txt', 'truth-problem-983.json', 'truth-problem-2802.json', 'truth-problem-4049.json', 'problem-1975.txt', 'truth-problem-443.json', 'problem-968.txt', 'problem-3194.txt', 'truth-problem-370.json', 'truth-problem-412.json', 'problem-1986.txt', 'problem-2497.txt', 'truth-problem-1394.json', 'truth-problem-17.json', 'problem-2462.txt', 'problem-705.txt', 'problem-3431.txt', 'truth-problem-553.json', 'problem-242.txt', 'problem-3052.txt', 'truth-problem-315.json', 'problem-750.txt', 'truth-problem-1804.json', 'truth-problem-2674.json', 'problem-748.txt', 'truth-problem-4108.json', 'truth-problem-2724.json', 'truth-problem-913.json', 'truth-problem-3078.json', 'problem-1052.txt', 'truth-problem-3462.json', 'truth-problem-3881.json', 'truth-problem-3249.json', 'truth-problem-2998.json', 'truth-problem-3075.json', 'problem-310.txt', 'truth-problem-2902.json', 'truth-problem-2391.json', 'problem-4154.txt', 'truth-problem-2107.json', 'truth-problem-1717.json', 'problem-2715.txt', 'problem-1154.txt', 'truth-problem-3399.json', 'problem-1248.txt', 'truth-problem-2220.json', 'truth-problem-3134.json', 'truth-problem-3085.json', 'truth-problem-3575.json', 'problem-1353.txt', 'problem-3863.txt', 'truth-problem-2622.json', 'truth-problem-3685.json', 'truth-problem-2.json', 'truth-problem-1476.json', 'problem-2567.txt', 'problem-924.txt', 'problem-3516.txt', 'truth-problem-844.json', 'truth-problem-2574.json', 'problem-1400.txt', 'problem-3088.txt', 'problem-3836.txt', 'problem-1990.txt', 'problem-1014.txt', 'truth-problem-1947.json', 'truth-problem-334.json', 'problem-280.txt', 'problem-2414.txt', 'truth-problem-1664.json', 'truth-problem-1606.json', 'problem-2531.txt', 'truth-problem-1903.json', 'truth-problem-437.json', 'truth-problem-1629.json', 'problem-900.txt', 'problem-2500.txt', 'truth-problem-2047.json', 'truth-problem-2398.json', 'truth-problem-1890.json', 'problem-2455.txt', 'truth-problem-1509.json', 'truth-problem-2350.json', 'truth-problem-1167.json', 'truth-problem-713.json', 'truth-problem-1475.json', 'truth-problem-3953.json', 'problem-794.txt', 'truth-problem-2019.json', 'truth-problem-516.json', 'problem-1045.txt', 'problem-3490.txt', 'problem-2476.txt', 'problem-103.txt', 'problem-3049.txt', 'problem-3791.txt', 'problem-27.txt', 'truth-problem-286.json', 'problem-1862.txt', 'problem-3731.txt', 'truth-problem-2826.json', 'truth-problem-2816.json', 'problem-1771.txt', 'truth-problem-3801.json', 'truth-problem-3631.json', 'truth-problem-2319.json', 'problem-3400.txt', 'problem-606.txt', 'problem-3473.txt', 'problem-1504.txt', 'truth-problem-2450.json', 'problem-956.txt', 'truth-problem-3745.json', 'problem-293.txt', 'problem-1436.txt', 'truth-problem-3359.json', 'problem-376.txt', 'problem-1642.txt', 'problem-1982.txt', 'truth-problem-4147.json', 'problem-2550.txt', 'problem-505.txt', 'truth-problem-1183.json', 'truth-problem-1675.json', 'problem-667.txt', 'problem-2485.txt', 'truth-problem-3405.json', 'problem-2705.txt', 'problem-587.txt', 'truth-problem-3940.json', 'truth-problem-2971.json', 'truth-problem-50.json', 'problem-57.txt', 'problem-3081.txt', 'truth-problem-1104.json', 'truth-problem-2245.json', 'problem-3160.txt', 'problem-1731.txt', 'problem-3266.txt', 'problem-550.txt', 'problem-2918.txt', 'problem-1067.txt', 'truth-problem-2466.json', 'problem-2290.txt', 'truth-problem-523.json', 'problem-1953.txt', 'problem-857.txt', 'truth-problem-696.json', 'problem-1580.txt', 'problem-3997.txt', 'truth-problem-355.json', 'problem-2465.txt', 'truth-problem-3968.json', 'truth-problem-3023.json', 'problem-2642.txt', 'problem-4044.txt', 'problem-2154.txt', 'truth-problem-4133.json', 'truth-problem-2868.json', 'truth-problem-4158.json', 'problem-3063.txt', 'truth-problem-54.json', 'truth-problem-142.json', 'truth-problem-2988.json', 'truth-problem-3739.json', 'truth-problem-2877.json', 'problem-3671.txt', 'problem-1496.txt', 'problem-461.txt', 'problem-1988.txt', 'problem-2219.txt', 'problem-3913.txt', 'problem-2697.txt', 'problem-1075.txt', 'problem-2087.txt', 'truth-problem-2960.json', 'problem-3597.txt', 'problem-1777.txt', 'problem-2013.txt', 'truth-problem-2649.json', 'problem-3545.txt', 'problem-1232.txt', 'truth-problem-562.json', 'problem-2069.txt', 'truth-problem-1025.json', 'problem-841.txt', 'problem-1078.txt', 'truth-problem-3235.json', 'truth-problem-2865.json', 'truth-problem-1507.json', 'truth-problem-4119.json', 'problem-1373.txt', 'problem-2336.txt', 'problem-977.txt', 'truth-problem-3759.json', 'problem-4188.txt', 'truth-problem-1336.json', 'truth-problem-882.json', 'truth-problem-3394.json', 'truth-problem-1975.json', 'truth-problem-1442.json', 'problem-1547.txt', 'truth-problem-110.json', 'problem-814.txt', 'truth-problem-890.json', 'truth-problem-294.json', 'truth-problem-2812.json', 'problem-1064.txt', 'truth-problem-2822.json', 'problem-2905.txt', 'problem-236.txt', 'problem-556.txt', 'truth-problem-2211.json', 'problem-3271.txt', 'truth-problem-3318.json', 'problem-153.txt', 'truth-problem-3478.json', 'problem-1260.txt', 'problem-2761.txt', 'truth-problem-800.json', 'truth-problem-1720.json', 'truth-problem-3377.json', 'problem-2678.txt', 'problem-3358.txt', 'problem-189.txt', 'truth-problem-3746.json', 'truth-problem-1205.json', 'truth-problem-3429.json', 'problem-48.txt', 'problem-1705.txt', 'problem-3809.txt', 'truth-problem-2738.json', 'problem-3501.txt', 'truth-problem-2827.json', 'truth-problem-2137.json', 'problem-2746.txt', 'truth-problem-3083.json', 'truth-problem-3737.json', 'problem-225.txt', 'problem-757.txt', 'problem-3954.txt', 'truth-problem-77.json', 'truth-problem-1166.json', 'problem-2060.txt', 'truth-problem-1702.json', 'truth-problem-2778.json', 'truth-problem-1105.json', 'truth-problem-2894.json', 'truth-problem-852.json', 'truth-problem-779.json', 'problem-783.txt', 'truth-problem-2491.json', 'truth-problem-1832.json', 'problem-2394.txt', 'problem-3944.txt', 'problem-419.txt', 'problem-3839.txt', 'truth-problem-4045.json', 'problem-993.txt', 'truth-problem-479.json', 'problem-413.txt', 'problem-3772.txt', 'problem-2000.txt', 'truth-problem-3453.json', 'problem-1194.txt', 'truth-problem-213.json', 'truth-problem-1423.json', 'truth-problem-1003.json', 'problem-4112.txt', 'truth-problem-4083.json', 'problem-2927.txt', 'problem-259.txt', 'problem-3596.txt', 'truth-problem-1136.json', 'problem-2803.txt', 'truth-problem-3256.json', 'truth-problem-384.json', 'truth-problem-1686.json', 'truth-problem-127.json', 'problem-3793.txt', 'truth-problem-325.json', 'truth-problem-1014.json', 'problem-1984.txt', 'truth-problem-4141.json', 'truth-problem-963.json', 'problem-178.txt', 'problem-1326.txt', 'truth-problem-1345.json', 'problem-3462.txt', 'problem-1868.txt', 'problem-3696.txt', 'truth-problem-656.json', 'problem-1610.txt', 'truth-problem-1744.json', 'truth-problem-3063.json', 'problem-3748.txt', 'problem-2125.txt', 'problem-3407.txt', 'problem-967.txt', 'truth-problem-2625.json', 'problem-144.txt', 'truth-problem-3955.json', 'problem-2955.txt', 'truth-problem-2942.json', 'problem-1119.txt', 'problem-882.txt', 'problem-1587.txt', 'truth-problem-850.json', 'truth-problem-3890.json', 'problem-1650.txt', 'truth-problem-2171.json', 'truth-problem-4014.json', 'problem-3115.txt', 'problem-4167.txt', 'truth-problem-215.json', 'problem-2566.txt', 'problem-3546.txt', 'truth-problem-3181.json', 'problem-663.txt', 'truth-problem-1301.json', 'problem-2260.txt', 'problem-1817.txt', 'problem-412.txt', 'truth-problem-3393.json', 'truth-problem-2344.json', 'truth-problem-2195.json', 'truth-problem-1101.json', 'truth-problem-3806.json', 'truth-problem-561.json', 'truth-problem-1841.json', 'problem-1488.txt', 'truth-problem-3564.json', 'truth-problem-75.json', 'truth-problem-304.json', 'truth-problem-833.json', 'truth-problem-3536.json', 'truth-problem-229.json', 'problem-896.txt', 'problem-4058.txt', 'truth-problem-2766.json', 'truth-problem-3781.json', 'problem-842.txt', 'truth-problem-754.json', 'problem-2466.txt', 'truth-problem-2117.json', 'truth-problem-1391.json', 'problem-1944.txt', 'problem-1042.txt', 'truth-problem-2631.json', 'problem-2870.txt', 'truth-problem-1060.json', 'problem-2106.txt', 'problem-4039.txt', 'truth-problem-2018.json', 'truth-problem-1865.json', 'problem-1584.txt', 'truth-problem-56.json', 'problem-1799.txt', 'problem-3274.txt', 'problem-2509.txt', 'truth-problem-1250.json', 'problem-537.txt', 'problem-3927.txt', 'truth-problem-753.json', 'truth-problem-2284.json', 'truth-problem-212.json', 'problem-2874.txt', 'truth-problem-1303.json', 'problem-2267.txt', 'truth-problem-4065.json', 'truth-problem-2586.json', 'truth-problem-711.json', 'truth-problem-2351.json', 'problem-835.txt', 'truth-problem-3693.json', 'truth-problem-1422.json', 'problem-920.txt', 'truth-problem-2583.json', 'problem-123.txt', 'problem-100.txt', 'problem-2425.txt', 'problem-529.txt', 'truth-problem-253.json', 'problem-3668.txt', 'problem-1585.txt', 'problem-1024.txt', 'problem-769.txt', 'problem-762.txt', 'truth-problem-1347.json', 'problem-3348.txt', 'truth-problem-2505.json', 'problem-585.txt', 'truth-problem-379.json', 'truth-problem-3271.json', 'truth-problem-3856.json', 'truth-problem-225.json', 'problem-2456.txt', 'truth-problem-558.json', 'problem-2389.txt', 'truth-problem-3474.json', 'problem-1338.txt', 'truth-problem-2635.json', 'problem-2310.txt', 'problem-2691.txt', 'truth-problem-1765.json', 'truth-problem-1694.json', 'problem-1033.txt', 'problem-3426.txt', 'truth-problem-3257.json', 'problem-3123.txt', 'problem-1006.txt', 'truth-problem-1265.json', 'problem-685.txt', 'truth-problem-936.json', 'problem-1884.txt', 'problem-2077.txt', 'truth-problem-2569.json', 'problem-3352.txt', 'truth-problem-1598.json', 'truth-problem-169.json', 'truth-problem-3597.json', 'problem-518.txt', 'problem-3281.txt', 'truth-problem-1072.json', 'truth-problem-1066.json', 'truth-problem-3901.json', 'truth-problem-3481.json', 'problem-756.txt', 'truth-problem-3224.json', 'truth-problem-2254.json', 'truth-problem-1624.json', 'problem-1069.txt', 'truth-problem-1235.json', 'truth-problem-3172.json', 'truth-problem-1388.json', 'problem-3665.txt', 'problem-3829.txt', 'problem-26.txt', 'problem-407.txt', 'problem-4083.txt', 'truth-problem-3843.json', 'truth-problem-2142.json', 'problem-3928.txt', 'problem-1980.txt', 'problem-3698.txt', 'truth-problem-4103.json', 'problem-1085.txt', 'problem-2184.txt', 'problem-82.txt', 'truth-problem-3242.json', 'problem-3233.txt', 'truth-problem-3255.json', 'problem-1541.txt', 'problem-3313.txt', 'problem-209.txt', 'truth-problem-2457.json', 'problem-2053.txt', 'problem-393.txt', 'truth-problem-1450.json', 'truth-problem-1231.json', 'truth-problem-3179.json', 'truth-problem-744.json', 'truth-problem-2290.json', 'problem-1471.txt', 'truth-problem-1888.json', 'truth-problem-693.json', 'truth-problem-1932.json', 'truth-problem-3626.json', 'problem-3894.txt', 'problem-2468.txt', 'problem-3695.txt', 'truth-problem-3220.json', 'truth-problem-3679.json', 'truth-problem-1941.json', 'problem-2760.txt', 'truth-problem-4184.json', 'problem-4029.txt', 'truth-problem-854.json', 'truth-problem-2021.json', 'problem-2096.txt', 'truth-problem-884.json', 'problem-2471.txt', 'problem-844.txt', 'truth-problem-3455.json', 'truth-problem-961.json', 'truth-problem-2723.json', 'problem-2607.txt', 'truth-problem-1149.json', 'problem-3100.txt', 'problem-2048.txt', 'truth-problem-4188.json', 'truth-problem-2524.json', 'truth-problem-2686.json', 'problem-4079.txt', 'problem-1055.txt', 'truth-problem-920.json', 'problem-2423.txt', 'truth-problem-1663.json', 'problem-2962.txt', 'truth-problem-2579.json', 'truth-problem-3946.json', 'problem-808.txt', 'truth-problem-877.json', 'truth-problem-2025.json', 'truth-problem-1741.json', 'problem-3535.txt', 'problem-168.txt', 'truth-problem-240.json', 'problem-2110.txt', 'problem-1468.txt', 'problem-1107.txt', 'problem-130.txt', 'truth-problem-2945.json', 'truth-problem-55.json', 'truth-problem-2639.json', 'truth-problem-4109.json', 'problem-3085.txt', 'truth-problem-3820.json', 'problem-4030.txt', 'truth-problem-1204.json', 'problem-3469.txt', 'truth-problem-504.json', 'truth-problem-1198.json', 'truth-problem-714.json', 'problem-292.txt', 'problem-3048.txt', 'problem-1719.txt', 'problem-391.txt', 'truth-problem-152.json', 'problem-4061.txt', 'truth-problem-2071.json', 'truth-problem-540.json', 'problem-2601.txt', 'truth-problem-3125.json', 'problem-3533.txt', 'truth-problem-1354.json', 'truth-problem-347.json', 'truth-problem-2105.json', 'problem-1561.txt', 'truth-problem-950.json', 'truth-problem-496.json', 'problem-2734.txt', 'problem-3893.txt', 'truth-problem-2570.json', 'problem-891.txt', 'truth-problem-3369.json', 'problem-4127.txt', 'truth-problem-1530.json', 'problem-2136.txt', 'truth-problem-1754.json', 'truth-problem-363.json', 'problem-1813.txt', 'truth-problem-3159.json', 'truth-problem-3545.json', 'problem-951.txt', 'problem-1775.txt', 'truth-problem-1874.json', 'problem-3621.txt', 'problem-2672.txt', 'truth-problem-4171.json', 'problem-3411.txt', 'problem-2928.txt', 'truth-problem-2223.json', 'truth-problem-1492.json', 'truth-problem-2174.json', 'problem-2769.txt', 'truth-problem-1872.json', 'truth-problem-2504.json', 'problem-3268.txt', 'problem-157.txt', 'problem-3885.txt', 'truth-problem-3974.json', 'truth-problem-2465.json', 'problem-214.txt', 'truth-problem-2177.json', 'truth-problem-1896.json', 'problem-1538.txt', 'problem-3012.txt', 'problem-2105.txt', 'truth-problem-1651.json', 'truth-problem-257.json', 'problem-337.txt', 'truth-problem-426.json', 'problem-237.txt', 'truth-problem-118.json', 'truth-problem-3937.json', 'problem-591.txt', 'truth-problem-934.json', 'problem-1618.txt', 'problem-3472.txt', 'truth-problem-2241.json', 'problem-3833.txt', 'problem-4013.txt', 'truth-problem-3590.json', 'problem-818.txt', 'truth-problem-568.json', 'problem-411.txt', 'truth-problem-3730.json', 'truth-problem-804.json', 'truth-problem-1513.json', 'problem-1859.txt', 'problem-3577.txt', 'problem-2798.txt', 'truth-problem-1607.json', 'truth-problem-3758.json', 'problem-2333.txt', 'problem-267.txt', 'truth-problem-1809.json', 'truth-problem-1032.json', 'problem-2612.txt', 'truth-problem-1125.json', 'problem-4176.txt', 'truth-problem-184.json', 'problem-3224.txt', 'problem-499.txt', 'truth-problem-1650.json', 'truth-problem-940.json', 'problem-3413.txt', 'problem-2680.txt', 'problem-658.txt', 'truth-problem-1943.json', 'problem-3826.txt', 'problem-708.txt', 'truth-problem-1424.json', 'problem-3938.txt', 'problem-1317.txt', 'problem-4177.txt', 'truth-problem-239.json', 'problem-1742.txt', 'problem-30.txt', 'problem-2790.txt', 'problem-595.txt', 'problem-1314.txt', 'problem-3948.txt', 'truth-problem-1195.json']\n"
          ]
        }
      ]
    },
    {
      "cell_type": "code",
      "source": [
        "import os\n",
        "import json\n",
        "import pandas as pd\n",
        "from sklearn.model_selection import train_test_split\n",
        "\n",
        "# Define paths for training and validation datasets\n",
        "train_text_path = '/content/input_folder/medium/train'\n",
        "\n",
        "def load_data(text_path):\n",
        "    data = []\n",
        "    truth_data = []\n",
        "\n",
        "    for file in os.listdir(text_path):\n",
        "        if file.endswith(\".txt\"):\n",
        "            problem_number = file.split('-')[1].split('.')[0]  # Extract the problem number\n",
        "            with open(os.path.join(text_path, file), 'r', encoding='utf-8') as f:\n",
        "                paragraphs = f.read().split('\\n\\n')  # Assuming paragraphs are separated by a double newline\n",
        "\n",
        "            with open(os.path.join(text_path, f'truth-problem-{problem_number}.json'), 'r', encoding='utf-8') as f:\n",
        "                truth = json.load(f)\n",
        "\n",
        "            data.append(paragraphs)\n",
        "            truth_data.append(truth)\n",
        "\n",
        "    return data, truth_data\n",
        "\n",
        "# Load training data\n",
        "train_data, train_truths = load_data(train_text_path)"
      ],
      "metadata": {
        "id": "ZDlyUEOuil6n"
      },
      "execution_count": 4,
      "outputs": []
    },
    {
      "cell_type": "code",
      "source": [
        "# Function to generate paragraph pairs and labels\n",
        "def generate_paragraph_pairs(paragraphs, truth_changes):\n",
        "    pairs = []\n",
        "    labels = []\n",
        "    # Check lengths of paragraphs and truth_changes\n",
        "    if len(paragraphs) - 1 != len(truth_changes):\n",
        "        truth_changes.append(0)\n",
        "        truth_changes.append(0)\n",
        "        truth_changes.append(0)\n",
        "\n",
        "    # Generate pairs from consecutive paragraphs\n",
        "    for i in range(len(paragraphs) - 1):\n",
        "        p1 = paragraphs[i]\n",
        "        p2 = paragraphs[i + 1]\n",
        "        change = truth_changes[i]\n",
        "        # Create paragraph pairs\n",
        "        pairs.append((p1, p2))\n",
        "        labels.append(change)\n",
        "\n",
        "    return pairs, labels\n",
        "\n",
        "all_pairs = []\n",
        "all_labels = []\n",
        "paragraphs = []\n",
        "for i, (data, truth) in enumerate(zip(train_data, train_truths)):\n",
        "    paragraphs = [para.split('\\n') for para in data]\n",
        "    pairs, labels = generate_paragraph_pairs(paragraphs[0], train_truths[i][\"changes\"])\n",
        "    all_pairs.extend(pairs)\n",
        "    all_labels.extend(labels)\n",
        "\n",
        "\n",
        "print(len(all_pairs))\n",
        "print(len(all_labels))\n"
      ],
      "metadata": {
        "colab": {
          "base_uri": "https://localhost:8080/"
        },
        "id": "m88xkNrCiqw9",
        "outputId": "2660d63b-b778-4096-db37-39d78e1efa0e"
      },
      "execution_count": 6,
      "outputs": [
        {
          "output_type": "stream",
          "name": "stdout",
          "text": [
            "21919\n",
            "21919\n"
          ]
        }
      ]
    },
    {
      "cell_type": "code",
      "source": [
        "!pip install peft"
      ],
      "metadata": {
        "colab": {
          "base_uri": "https://localhost:8080/"
        },
        "id": "a7_OU4LYiw2E",
        "outputId": "59ad7b0a-2e88-4abb-93bc-8333ff57f30d"
      },
      "execution_count": 7,
      "outputs": [
        {
          "output_type": "stream",
          "name": "stdout",
          "text": [
            "Requirement already satisfied: peft in /usr/local/lib/python3.10/dist-packages (0.13.2)\n",
            "Requirement already satisfied: numpy>=1.17 in /usr/local/lib/python3.10/dist-packages (from peft) (1.26.4)\n",
            "Requirement already satisfied: packaging>=20.0 in /usr/local/lib/python3.10/dist-packages (from peft) (24.2)\n",
            "Requirement already satisfied: psutil in /usr/local/lib/python3.10/dist-packages (from peft) (5.9.5)\n",
            "Requirement already satisfied: pyyaml in /usr/local/lib/python3.10/dist-packages (from peft) (6.0.2)\n",
            "Requirement already satisfied: torch>=1.13.0 in /usr/local/lib/python3.10/dist-packages (from peft) (2.5.1+cu121)\n",
            "Requirement already satisfied: transformers in /usr/local/lib/python3.10/dist-packages (from peft) (4.46.2)\n",
            "Requirement already satisfied: tqdm in /usr/local/lib/python3.10/dist-packages (from peft) (4.66.6)\n",
            "Requirement already satisfied: accelerate>=0.21.0 in /usr/local/lib/python3.10/dist-packages (from peft) (1.1.1)\n",
            "Requirement already satisfied: safetensors in /usr/local/lib/python3.10/dist-packages (from peft) (0.4.5)\n",
            "Requirement already satisfied: huggingface-hub>=0.17.0 in /usr/local/lib/python3.10/dist-packages (from peft) (0.26.2)\n",
            "Requirement already satisfied: filelock in /usr/local/lib/python3.10/dist-packages (from huggingface-hub>=0.17.0->peft) (3.16.1)\n",
            "Requirement already satisfied: fsspec>=2023.5.0 in /usr/local/lib/python3.10/dist-packages (from huggingface-hub>=0.17.0->peft) (2024.10.0)\n",
            "Requirement already satisfied: requests in /usr/local/lib/python3.10/dist-packages (from huggingface-hub>=0.17.0->peft) (2.32.3)\n",
            "Requirement already satisfied: typing-extensions>=3.7.4.3 in /usr/local/lib/python3.10/dist-packages (from huggingface-hub>=0.17.0->peft) (4.12.2)\n",
            "Requirement already satisfied: networkx in /usr/local/lib/python3.10/dist-packages (from torch>=1.13.0->peft) (3.4.2)\n",
            "Requirement already satisfied: jinja2 in /usr/local/lib/python3.10/dist-packages (from torch>=1.13.0->peft) (3.1.4)\n",
            "Requirement already satisfied: sympy==1.13.1 in /usr/local/lib/python3.10/dist-packages (from torch>=1.13.0->peft) (1.13.1)\n",
            "Requirement already satisfied: mpmath<1.4,>=1.1.0 in /usr/local/lib/python3.10/dist-packages (from sympy==1.13.1->torch>=1.13.0->peft) (1.3.0)\n",
            "Requirement already satisfied: regex!=2019.12.17 in /usr/local/lib/python3.10/dist-packages (from transformers->peft) (2024.9.11)\n",
            "Requirement already satisfied: tokenizers<0.21,>=0.20 in /usr/local/lib/python3.10/dist-packages (from transformers->peft) (0.20.3)\n",
            "Requirement already satisfied: MarkupSafe>=2.0 in /usr/local/lib/python3.10/dist-packages (from jinja2->torch>=1.13.0->peft) (3.0.2)\n",
            "Requirement already satisfied: charset-normalizer<4,>=2 in /usr/local/lib/python3.10/dist-packages (from requests->huggingface-hub>=0.17.0->peft) (3.4.0)\n",
            "Requirement already satisfied: idna<4,>=2.5 in /usr/local/lib/python3.10/dist-packages (from requests->huggingface-hub>=0.17.0->peft) (3.10)\n",
            "Requirement already satisfied: urllib3<3,>=1.21.1 in /usr/local/lib/python3.10/dist-packages (from requests->huggingface-hub>=0.17.0->peft) (2.2.3)\n",
            "Requirement already satisfied: certifi>=2017.4.17 in /usr/local/lib/python3.10/dist-packages (from requests->huggingface-hub>=0.17.0->peft) (2024.8.30)\n"
          ]
        }
      ]
    },
    {
      "cell_type": "code",
      "source": [
        "from transformers import AutoModelForSequenceClassification\n",
        "\n",
        "base_model = AutoModelForSequenceClassification.from_pretrained(\"roberta-base\", num_labels=2)"
      ],
      "metadata": {
        "colab": {
          "base_uri": "https://localhost:8080/",
          "height": 237,
          "referenced_widgets": [
            "d31f074157984ae08961455e83241983",
            "3f1e409721a44ca6b9d6a5d36ffbcaca",
            "fde313d7b906478fb89c3da03d62e5eb",
            "6570f77cf9e34cc29f0aa7ff5794a808",
            "d8cba2ccbbb1499ab0baa281f62ce4fa",
            "b70d0f04828841cea5c5459e8bf440e3",
            "3aff6b97fc65442ba00f86573928164c",
            "47b04d8aa4e548b489bcf42b7191dcc5",
            "55e043ee5a8348bea5ff590000f6fb61",
            "62877742a80e4f1b87993652793541da",
            "e754a28dafdc42caa7a88a55bf3fa163",
            "c0579c09a0e944cb85a5dfcbf4882b87",
            "2482203185364f73bb1d6246422d6794",
            "ae9b9ab8ed45411f8dccb231c6531294",
            "bd83ad4ba7384888b05c47ec227744f5",
            "bcba88312231435e9c53e6e2dff17bab",
            "842bd002064a4f6d8c3d902039528c17",
            "026e6e904212401bbe26bb7c90484fe3",
            "2fca6d976e82471b83e637998a63a4a0",
            "4f9d67c4a798495e8c2af58a70f72d6e",
            "a7ba61188e644f7397256ab089948ded",
            "8ca63a83f038481a81127decc4ff4b1e"
          ]
        },
        "id": "Zi-k-1gZjBMf",
        "outputId": "3e18788e-44ab-4b21-8a25-35074da31b51"
      },
      "execution_count": 7,
      "outputs": [
        {
          "output_type": "stream",
          "name": "stderr",
          "text": [
            "/usr/local/lib/python3.10/dist-packages/huggingface_hub/utils/_auth.py:94: UserWarning: \n",
            "The secret `HF_TOKEN` does not exist in your Colab secrets.\n",
            "To authenticate with the Hugging Face Hub, create a token in your settings tab (https://huggingface.co/settings/tokens), set it as secret in your Google Colab and restart your session.\n",
            "You will be able to reuse this secret in all of your notebooks.\n",
            "Please note that authentication is recommended but still optional to access public models or datasets.\n",
            "  warnings.warn(\n"
          ]
        },
        {
          "output_type": "display_data",
          "data": {
            "text/plain": [
              "config.json:   0%|          | 0.00/481 [00:00<?, ?B/s]"
            ],
            "application/vnd.jupyter.widget-view+json": {
              "version_major": 2,
              "version_minor": 0,
              "model_id": "d31f074157984ae08961455e83241983"
            }
          },
          "metadata": {}
        },
        {
          "output_type": "display_data",
          "data": {
            "text/plain": [
              "model.safetensors:   0%|          | 0.00/499M [00:00<?, ?B/s]"
            ],
            "application/vnd.jupyter.widget-view+json": {
              "version_major": 2,
              "version_minor": 0,
              "model_id": "c0579c09a0e944cb85a5dfcbf4882b87"
            }
          },
          "metadata": {}
        },
        {
          "output_type": "stream",
          "name": "stderr",
          "text": [
            "Some weights of RobertaForSequenceClassification were not initialized from the model checkpoint at roberta-base and are newly initialized: ['classifier.dense.bias', 'classifier.dense.weight', 'classifier.out_proj.bias', 'classifier.out_proj.weight']\n",
            "You should probably TRAIN this model on a down-stream task to be able to use it for predictions and inference.\n"
          ]
        }
      ]
    },
    {
      "cell_type": "code",
      "source": [
        "from peft import LoraConfig, get_peft_model\n",
        "\n",
        "# Define LoRA configuration\n",
        "lora_config = LoraConfig(\n",
        "    task_type=\"SEQ_CLS\",       # Task type (Sequence Classification in this case)\n",
        "    r=16,                      # Rank of the LoRA matrices\n",
        "    lora_alpha=32,             # Scaling factor for LoRA\n",
        "    lora_dropout=0.1,          # Dropout applied to LoRA layers\n",
        "    target_modules=[\"query\", \"key\"]  # Apply LoRA to attention layers (e.g., query/key projections)\n",
        ")\n",
        "\n",
        "# Wrap the model with LoRA\n",
        "model = get_peft_model(base_model, lora_config)\n"
      ],
      "metadata": {
        "id": "mfCiUBMVjk88"
      },
      "execution_count": 8,
      "outputs": []
    },
    {
      "cell_type": "code",
      "source": [
        "def tokenize_paragraph_pairs(paragraph_pairs, tokenizer):\n",
        "    # Tokenize pairs of paragraphs\n",
        "    tokenized_data = tokenizer(\n",
        "        [f\"{p1} [SEP] {p2}\" for p1, p2 in paragraph_pairs],\n",
        "        truncation=True,\n",
        "        padding=\"max_length\",  # Ensure fixed input size\n",
        "        return_tensors=\"pt\",   # Return PyTorch tensors\n",
        "    )\n",
        "    return tokenized_data"
      ],
      "metadata": {
        "id": "PGvXh-sQjmX_"
      },
      "execution_count": 9,
      "outputs": []
    },
    {
      "cell_type": "code",
      "source": [
        "from torch.utils.data import Dataset\n",
        "import torch # Import torch\n",
        "\n",
        "class ParagraphPairDataset(Dataset):\n",
        "    def __init__(self, paragraph_pairs, labels, tokenizer):\n",
        "        # Tokenize the paragraph pairs\n",
        "        tokenized_data = tokenize_paragraph_pairs(paragraph_pairs, tokenizer)\n",
        "        self.input_ids = tokenized_data[\"input_ids\"]\n",
        "        self.attention_mask = tokenized_data.get(\"attention_mask\", None)  # Optional\n",
        "        # Convert labels to tensors\n",
        "        self.labels = torch.tensor(labels, dtype=torch.long)  # For classification tasks\n",
        "\n",
        "    def __len__(self):\n",
        "        return len(self.labels)\n",
        "\n",
        "    def __getitem__(self, idx):\n",
        "        data = {\n",
        "            \"input_ids\": self.input_ids[idx],\n",
        "            \"labels\": self.labels[idx],\n",
        "        }\n",
        "        # Include attention_mask if it exists\n",
        "        if self.attention_mask is not None:\n",
        "            data[\"attention_mask\"] = self.attention_mask[idx]\n",
        "        return data\n"
      ],
      "metadata": {
        "id": "r6DKwkkEjqAH"
      },
      "execution_count": 10,
      "outputs": []
    },
    {
      "cell_type": "code",
      "source": [
        "# Initialize tokenizer\n",
        "from transformers import AutoTokenizer\n",
        "tokenizer = AutoTokenizer.from_pretrained(\"roberta-base\")\n",
        "\n",
        "# Create the dataset\n",
        "dataset = ParagraphPairDataset(all_pairs, all_labels, tokenizer)"
      ],
      "metadata": {
        "colab": {
          "base_uri": "https://localhost:8080/",
          "height": 145,
          "referenced_widgets": [
            "f724f7345d5e4ce492928ffd20ab5558",
            "48f7d3873a624c0c8d815bdd7b286d52",
            "40633276ea164857860e5938f1cccb15",
            "424070ec6f9348cb83d597757d764fa7",
            "57ca504febe040a5b91e867b7a095253",
            "2876ef97a87f4d5b83838af80a956108",
            "13c614c6265b46df9b4163fde5b49c2a",
            "1249b583c9b647319c07674751d50577",
            "189bb859447047188fd2cc4ec857791f",
            "69a302d0d4344f4fa2de29909f011a1b",
            "39abf9aba91b4822a48db9efa8c32e2b",
            "6a75f797e81048899831b54eb347ae1d",
            "9b36f39f690643ba92cd81210e4d77a3",
            "e948fc3c4ce845b0a4105a1fa3582e48",
            "7f49359f4f2e4492be9b97f1f09793bc",
            "e58b2c87e9ee4838b442855c36fce939",
            "161ea135cb9a4cf4b7a2352980fb417d",
            "b5047bfa21ad4fab9d2db1191428ffb3",
            "89ee7e80f8ed4ddbaff96926dcd879a3",
            "35eeebb1c60342d499c23511a9fbd1b8",
            "29cd533f3a5a4b6e82c422d0ba09d52b",
            "aa9e3e2c98fa4f5ba9ee523b412cc8d6",
            "1361d3c21bf1427eaa22f1abbce615ac",
            "54f8ba5b15794a2b824f4615da867ec5",
            "c771a29a92694dc6ad2eec987df637ca",
            "7b6dc2d5b5d54d8ab516d0fb4f095d7e",
            "a25777a1d3224b8183f1d660aeba63f7",
            "35f04e3251de4cc9a68732a74a78a3a0",
            "5a43b8b845ab465f8a8c8fd31c1d2929",
            "57536a8019064c3f85abde41a46572a2",
            "2cc91472453c4c33a307efc4145ca9bd",
            "e82109fc2c2949d98ccecb11f247ca3f",
            "04cffa49ac2c45218338cb4a94e057d1",
            "3c69e0e354484e588c34b30cb385c23b",
            "2849047faeeb4304a35055e846ab0496",
            "cb4c2d557d51472485ecb1896a10ad7c",
            "e39ebae0e0db4c32a7df068e7012ec7a",
            "d71842bb6f6d415c92ff65a91f61cb2d",
            "e0b5102a12ab41208a98c4be4cf15276",
            "bd1890fa49ee42f8a98a7b0f18c1df25",
            "b320f7f4a75b4a4f860e052d3fec9ca1",
            "5b453d2add60436da76f015d273f6d29",
            "0fd7526b51de428089ca570470fd61f1",
            "c4aa3ad85c924423b8dad20ebeea3de0"
          ]
        },
        "id": "fv_n3FnejuOQ",
        "outputId": "b6297eca-3c87-4015-fb4e-8e5032a7ba1b"
      },
      "execution_count": 11,
      "outputs": [
        {
          "output_type": "display_data",
          "data": {
            "text/plain": [
              "tokenizer_config.json:   0%|          | 0.00/25.0 [00:00<?, ?B/s]"
            ],
            "application/vnd.jupyter.widget-view+json": {
              "version_major": 2,
              "version_minor": 0,
              "model_id": "f724f7345d5e4ce492928ffd20ab5558"
            }
          },
          "metadata": {}
        },
        {
          "output_type": "display_data",
          "data": {
            "text/plain": [
              "vocab.json:   0%|          | 0.00/899k [00:00<?, ?B/s]"
            ],
            "application/vnd.jupyter.widget-view+json": {
              "version_major": 2,
              "version_minor": 0,
              "model_id": "6a75f797e81048899831b54eb347ae1d"
            }
          },
          "metadata": {}
        },
        {
          "output_type": "display_data",
          "data": {
            "text/plain": [
              "merges.txt:   0%|          | 0.00/456k [00:00<?, ?B/s]"
            ],
            "application/vnd.jupyter.widget-view+json": {
              "version_major": 2,
              "version_minor": 0,
              "model_id": "1361d3c21bf1427eaa22f1abbce615ac"
            }
          },
          "metadata": {}
        },
        {
          "output_type": "display_data",
          "data": {
            "text/plain": [
              "tokenizer.json:   0%|          | 0.00/1.36M [00:00<?, ?B/s]"
            ],
            "application/vnd.jupyter.widget-view+json": {
              "version_major": 2,
              "version_minor": 0,
              "model_id": "3c69e0e354484e588c34b30cb385c23b"
            }
          },
          "metadata": {}
        }
      ]
    },
    {
      "cell_type": "code",
      "source": [
        "# Split into train and evaluation datasets\n",
        "from sklearn.model_selection import train_test_split\n",
        "\n",
        "train_pairs, eval_pairs, train_labels, eval_labels = train_test_split(all_pairs, all_labels, test_size=0.2)\n",
        "train_dataset = ParagraphPairDataset(train_pairs, train_labels, tokenizer)\n",
        "eval_dataset = ParagraphPairDataset(eval_pairs, eval_labels, tokenizer)"
      ],
      "metadata": {
        "id": "JfZGCC3kjzt0"
      },
      "execution_count": 12,
      "outputs": []
    },
    {
      "cell_type": "code",
      "source": [
        "from transformers import Trainer, TrainingArguments\n",
        "\n",
        "# Define training arguments\n",
        "training_args = TrainingArguments(\n",
        "    output_dir=\"./results\",\n",
        "    evaluation_strategy=\"epoch\",\n",
        "    per_device_train_batch_size=8,\n",
        "    per_device_eval_batch_size=8,\n",
        "    num_train_epochs=3,\n",
        "    learning_rate=2e-4,  # Higher learning rate is often used for LoRA\n",
        "    save_steps=500,\n",
        "    save_total_limit=2,\n",
        "    logging_dir=\"./logs\",\n",
        ")\n",
        "\n",
        "# Initialize Trainer\n",
        "trainer = Trainer(\n",
        "    model=model,\n",
        "    args=training_args,\n",
        "    train_dataset=train_dataset,\n",
        "    eval_dataset=eval_dataset,\n",
        "    tokenizer=tokenizer,\n",
        ")\n",
        "\n",
        "# Start training\n",
        "trainer.train()\n"
      ],
      "metadata": {
        "colab": {
          "base_uri": "https://localhost:8080/",
          "height": 494
        },
        "id": "86WjgB0dj25z",
        "outputId": "e535f5c2-37d1-4121-b518-3411da6dbfdf"
      },
      "execution_count": 13,
      "outputs": [
        {
          "output_type": "stream",
          "name": "stderr",
          "text": [
            "/usr/local/lib/python3.10/dist-packages/transformers/training_args.py:1568: FutureWarning: `evaluation_strategy` is deprecated and will be removed in version 4.46 of 🤗 Transformers. Use `eval_strategy` instead\n",
            "  warnings.warn(\n",
            "<ipython-input-13-27a5d657d591>:17: FutureWarning: `tokenizer` is deprecated and will be removed in version 5.0.0 for `Trainer.__init__`. Use `processing_class` instead.\n",
            "  trainer = Trainer(\n",
            "\u001b[34m\u001b[1mwandb\u001b[0m: \u001b[33mWARNING\u001b[0m The `run_name` is currently set to the same value as `TrainingArguments.output_dir`. If this was not intended, please specify a different run name by setting the `TrainingArguments.run_name` parameter.\n",
            "\u001b[34m\u001b[1mwandb\u001b[0m: Using wandb-core as the SDK backend.  Please refer to https://wandb.me/wandb-core for more information.\n"
          ]
        },
        {
          "output_type": "display_data",
          "data": {
            "text/plain": [
              "<IPython.core.display.Javascript object>"
            ],
            "application/javascript": [
              "\n",
              "        window._wandbApiKey = new Promise((resolve, reject) => {\n",
              "            function loadScript(url) {\n",
              "            return new Promise(function(resolve, reject) {\n",
              "                let newScript = document.createElement(\"script\");\n",
              "                newScript.onerror = reject;\n",
              "                newScript.onload = resolve;\n",
              "                document.body.appendChild(newScript);\n",
              "                newScript.src = url;\n",
              "            });\n",
              "            }\n",
              "            loadScript(\"https://cdn.jsdelivr.net/npm/postmate/build/postmate.min.js\").then(() => {\n",
              "            const iframe = document.createElement('iframe')\n",
              "            iframe.style.cssText = \"width:0;height:0;border:none\"\n",
              "            document.body.appendChild(iframe)\n",
              "            const handshake = new Postmate({\n",
              "                container: iframe,\n",
              "                url: 'https://wandb.ai/authorize'\n",
              "            });\n",
              "            const timeout = setTimeout(() => reject(\"Couldn't auto authenticate\"), 5000)\n",
              "            handshake.then(function(child) {\n",
              "                child.on('authorize', data => {\n",
              "                    clearTimeout(timeout)\n",
              "                    resolve(data)\n",
              "                });\n",
              "            });\n",
              "            })\n",
              "        });\n",
              "    "
            ]
          },
          "metadata": {}
        },
        {
          "output_type": "stream",
          "name": "stderr",
          "text": [
            "\u001b[34m\u001b[1mwandb\u001b[0m: Logging into wandb.ai. (Learn how to deploy a W&B server locally: https://wandb.me/wandb-server)\n",
            "\u001b[34m\u001b[1mwandb\u001b[0m: You can find your API key in your browser here: https://wandb.ai/authorize\n",
            "wandb: Paste an API key from your profile and hit enter, or press ctrl+c to quit:"
          ]
        },
        {
          "name": "stdout",
          "output_type": "stream",
          "text": [
            " ··········\n"
          ]
        },
        {
          "output_type": "stream",
          "name": "stderr",
          "text": [
            "\u001b[34m\u001b[1mwandb\u001b[0m: Appending key for api.wandb.ai to your netrc file: /root/.netrc\n"
          ]
        },
        {
          "output_type": "display_data",
          "data": {
            "text/plain": [
              "<IPython.core.display.HTML object>"
            ],
            "text/html": [
              "Tracking run with wandb version 0.18.7"
            ]
          },
          "metadata": {}
        },
        {
          "output_type": "display_data",
          "data": {
            "text/plain": [
              "<IPython.core.display.HTML object>"
            ],
            "text/html": [
              "Run data is saved locally in <code>/content/wandb/run-20241122_103826-7j0jcg08</code>"
            ]
          },
          "metadata": {}
        },
        {
          "output_type": "display_data",
          "data": {
            "text/plain": [
              "<IPython.core.display.HTML object>"
            ],
            "text/html": [
              "Syncing run <strong><a href='https://wandb.ai/meharaliahmed-nust/huggingface/runs/7j0jcg08' target=\"_blank\">./results</a></strong> to <a href='https://wandb.ai/meharaliahmed-nust/huggingface' target=\"_blank\">Weights & Biases</a> (<a href='https://wandb.me/developer-guide' target=\"_blank\">docs</a>)<br/>"
            ]
          },
          "metadata": {}
        },
        {
          "output_type": "display_data",
          "data": {
            "text/plain": [
              "<IPython.core.display.HTML object>"
            ],
            "text/html": [
              " View project at <a href='https://wandb.ai/meharaliahmed-nust/huggingface' target=\"_blank\">https://wandb.ai/meharaliahmed-nust/huggingface</a>"
            ]
          },
          "metadata": {}
        },
        {
          "output_type": "display_data",
          "data": {
            "text/plain": [
              "<IPython.core.display.HTML object>"
            ],
            "text/html": [
              " View run at <a href='https://wandb.ai/meharaliahmed-nust/huggingface/runs/7j0jcg08' target=\"_blank\">https://wandb.ai/meharaliahmed-nust/huggingface/runs/7j0jcg08</a>"
            ]
          },
          "metadata": {}
        },
        {
          "output_type": "display_data",
          "data": {
            "text/plain": [
              "<IPython.core.display.HTML object>"
            ],
            "text/html": [
              "\n",
              "    <div>\n",
              "      \n",
              "      <progress value='6576' max='6576' style='width:300px; height:20px; vertical-align: middle;'></progress>\n",
              "      [6576/6576 1:06:07, Epoch 3/3]\n",
              "    </div>\n",
              "    <table border=\"1\" class=\"dataframe\">\n",
              "  <thead>\n",
              " <tr style=\"text-align: left;\">\n",
              "      <th>Epoch</th>\n",
              "      <th>Training Loss</th>\n",
              "      <th>Validation Loss</th>\n",
              "    </tr>\n",
              "  </thead>\n",
              "  <tbody>\n",
              "    <tr>\n",
              "      <td>1</td>\n",
              "      <td>0.403900</td>\n",
              "      <td>0.376532</td>\n",
              "    </tr>\n",
              "    <tr>\n",
              "      <td>2</td>\n",
              "      <td>0.378300</td>\n",
              "      <td>0.363855</td>\n",
              "    </tr>\n",
              "    <tr>\n",
              "      <td>3</td>\n",
              "      <td>0.357200</td>\n",
              "      <td>0.375156</td>\n",
              "    </tr>\n",
              "  </tbody>\n",
              "</table><p>"
            ]
          },
          "metadata": {}
        },
        {
          "output_type": "execute_result",
          "data": {
            "text/plain": [
              "TrainOutput(global_step=6576, training_loss=0.3996161625623123, metrics={'train_runtime': 4015.1693, 'train_samples_per_second': 13.102, 'train_steps_per_second': 1.638, 'total_flos': 1.403196385941504e+16, 'train_loss': 0.3996161625623123, 'epoch': 3.0})"
            ]
          },
          "metadata": {},
          "execution_count": 13
        }
      ]
    },
    {
      "cell_type": "code",
      "source": [
        "# Save the LoRA model\n",
        "model.save_pretrained(\"./lora_fine_tuned_model_medium\")\n",
        "tokenizer.save_pretrained(\"./lora_fine_tuned_model_medium\")\n",
        "\n",
        "# Zip the model files\n",
        "!zip -r lora_fine_tuned_model_medium.zip ./lora_fine_tuned_model_medium\n",
        "\n",
        "# Download the zip file\n",
        "from google.colab import files\n",
        "files.download(\"lora_fine_tuned_model_medium.zip\")"
      ],
      "metadata": {
        "colab": {
          "base_uri": "https://localhost:8080/",
          "height": 170
        },
        "id": "Zuc0u8Z5rarD",
        "outputId": "787ca368-461a-4b0d-fb43-c46e2e807ae3"
      },
      "execution_count": 14,
      "outputs": [
        {
          "output_type": "stream",
          "name": "stdout",
          "text": [
            "  adding: lora_fine_tuned_model_medium/ (stored 0%)\n",
            "  adding: lora_fine_tuned_model_medium/adapter_config.json (deflated 52%)\n",
            "  adding: lora_fine_tuned_model_medium/tokenizer_config.json (deflated 76%)\n",
            "  adding: lora_fine_tuned_model_medium/vocab.json (deflated 59%)\n",
            "  adding: lora_fine_tuned_model_medium/tokenizer.json (deflated 82%)\n",
            "  adding: lora_fine_tuned_model_medium/special_tokens_map.json (deflated 52%)\n",
            "  adding: lora_fine_tuned_model_medium/adapter_model.safetensors (deflated 7%)\n",
            "  adding: lora_fine_tuned_model_medium/merges.txt (deflated 53%)\n",
            "  adding: lora_fine_tuned_model_medium/README.md (deflated 66%)\n"
          ]
        },
        {
          "output_type": "display_data",
          "data": {
            "text/plain": [
              "<IPython.core.display.Javascript object>"
            ],
            "application/javascript": [
              "\n",
              "    async function download(id, filename, size) {\n",
              "      if (!google.colab.kernel.accessAllowed) {\n",
              "        return;\n",
              "      }\n",
              "      const div = document.createElement('div');\n",
              "      const label = document.createElement('label');\n",
              "      label.textContent = `Downloading \"${filename}\": `;\n",
              "      div.appendChild(label);\n",
              "      const progress = document.createElement('progress');\n",
              "      progress.max = size;\n",
              "      div.appendChild(progress);\n",
              "      document.body.appendChild(div);\n",
              "\n",
              "      const buffers = [];\n",
              "      let downloaded = 0;\n",
              "\n",
              "      const channel = await google.colab.kernel.comms.open(id);\n",
              "      // Send a message to notify the kernel that we're ready.\n",
              "      channel.send({})\n",
              "\n",
              "      for await (const message of channel.messages) {\n",
              "        // Send a message to notify the kernel that we're ready.\n",
              "        channel.send({})\n",
              "        if (message.buffers) {\n",
              "          for (const buffer of message.buffers) {\n",
              "            buffers.push(buffer);\n",
              "            downloaded += buffer.byteLength;\n",
              "            progress.value = downloaded;\n",
              "          }\n",
              "        }\n",
              "      }\n",
              "      const blob = new Blob(buffers, {type: 'application/binary'});\n",
              "      const a = document.createElement('a');\n",
              "      a.href = window.URL.createObjectURL(blob);\n",
              "      a.download = filename;\n",
              "      div.appendChild(a);\n",
              "      a.click();\n",
              "      div.remove();\n",
              "    }\n",
              "  "
            ]
          },
          "metadata": {}
        },
        {
          "output_type": "display_data",
          "data": {
            "text/plain": [
              "<IPython.core.display.Javascript object>"
            ],
            "application/javascript": [
              "download(\"download_e5d031f7-ecb3-4dfb-aa08-66a499f8f7d1\", \"lora_fine_tuned_model_medium.zip\", 5579244)"
            ]
          },
          "metadata": {}
        }
      ]
    },
    {
      "cell_type": "code",
      "source": [
        "test_text_path = '/content/input_folder/medium/validation'\n",
        "\n",
        "test_data, test_truths = load_data(test_text_path)\n"
      ],
      "metadata": {
        "id": "nCuJxE03sftm"
      },
      "execution_count": 15,
      "outputs": []
    },
    {
      "cell_type": "code",
      "source": [
        "test_pairs = []\n",
        "test_labels = []\n",
        "paragraphs = []\n",
        "for i, (data, truth) in enumerate(zip(test_data, test_truths)):\n",
        "    paragraphs = [para.split('\\n') for para in data]\n",
        "    pairs, labels = generate_paragraph_pairs(paragraphs[0], test_truths[i][\"changes\"])\n",
        "    test_pairs.extend(pairs)\n",
        "    test_labels.extend(labels)\n",
        "\n",
        "\n",
        "print(len(test_pairs))\n",
        "print(len(test_labels))"
      ],
      "metadata": {
        "colab": {
          "base_uri": "https://localhost:8080/"
        },
        "id": "05dMyVpQsuwh",
        "outputId": "da64cd92-8612-419d-ae58-18bcf85a2330"
      },
      "execution_count": 16,
      "outputs": [
        {
          "output_type": "stream",
          "name": "stdout",
          "text": [
            "4592\n",
            "4592\n"
          ]
        }
      ]
    },
    {
      "cell_type": "code",
      "source": [
        "# Load the test dataset\n",
        "test_dataset = ParagraphPairDataset(test_pairs, test_labels, tokenizer)\n",
        "\n",
        "# Use the Trainer's predict method to get predictions\n",
        "predictions = trainer.predict(test_dataset)\n",
        "\n"
      ],
      "metadata": {
        "colab": {
          "base_uri": "https://localhost:8080/",
          "height": 17
        },
        "id": "xW-KqHBCsx5G",
        "outputId": "ea61d163-8fca-41d7-f627-7072d3a881e0"
      },
      "execution_count": 17,
      "outputs": [
        {
          "output_type": "display_data",
          "data": {
            "text/plain": [
              "<IPython.core.display.HTML object>"
            ],
            "text/html": []
          },
          "metadata": {}
        }
      ]
    },
    {
      "cell_type": "code",
      "source": [
        "import numpy as np\n",
        "\n",
        "# Convert logits to predicted classes\n",
        "predicted_classes = np.argmax(predictions.predictions, axis=1)\n",
        "\n",
        "# Extract true labels\n",
        "true_labels = predictions.label_ids\n"
      ],
      "metadata": {
        "id": "e9w2PDF6s4hm"
      },
      "execution_count": 18,
      "outputs": []
    },
    {
      "cell_type": "code",
      "source": [
        "from sklearn.metrics import f1_score\n",
        "\n",
        "# Calculate F1 score\n",
        "f1 = f1_score(true_labels, predicted_classes, average=\"weighted\")  # Use \"micro\" or \"macro\" as needed\n",
        "print(f\"F1 Score: {f1:.4f}\")\n"
      ],
      "metadata": {
        "colab": {
          "base_uri": "https://localhost:8080/"
        },
        "id": "bZmIFGe-s6xo",
        "outputId": "cf052a66-95d3-4ac0-a6d4-19427daad180"
      },
      "execution_count": 19,
      "outputs": [
        {
          "output_type": "stream",
          "name": "stdout",
          "text": [
            "F1 Score: 0.8205\n"
          ]
        }
      ]
    }
  ]
}